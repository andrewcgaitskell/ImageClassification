{
 "cells": [
  {
   "cell_type": "code",
   "execution_count": 1,
   "id": "8ebd4028",
   "metadata": {},
   "outputs": [],
   "source": [
    "import sane\n",
    "import numpy\n",
    "from PIL import Image"
   ]
  },
  {
   "cell_type": "code",
   "execution_count": 2,
   "id": "933b1c17",
   "metadata": {},
   "outputs": [
    {
     "name": "stdout",
     "output_type": "stream",
     "text": [
      "20220630091015405143\n"
     ]
    }
   ],
   "source": [
    "from datetime import datetime\n",
    "my_date = datetime.now()\n",
    "print(my_date.strftime('%Y%m%d%H%M%S%f%z'))"
   ]
  },
  {
   "cell_type": "code",
   "execution_count": 3,
   "id": "f44a7063",
   "metadata": {},
   "outputs": [],
   "source": [
    "import os\n",
    "cwd = os.getcwd()"
   ]
  },
  {
   "cell_type": "code",
   "execution_count": 4,
   "id": "337ab41c",
   "metadata": {},
   "outputs": [],
   "source": [
    "\n",
    "#\n",
    "# Change these for 16bit / grayscale scans\n",
    "#\n",
    "depth = 16\n",
    "mode = 'Gray'\n",
    "\n",
    "#\n",
    "# Initialize sane\n",
    "#\n",
    "#ver = sane.init()\n",
    "#print('SANE version:', ver)\n",
    "\n",
    "#\n",
    "# Get devices\n",
    "#\n",
    "#devices = sane.get_devices()\n",
    "#print('Available devices:', devices)\n"
   ]
  },
  {
   "cell_type": "code",
   "execution_count": 5,
   "id": "64030ad5",
   "metadata": {},
   "outputs": [],
   "source": [
    "sane.init()\n",
    "devices = sane.get_devices()\n",
    "dev =  sane.open(devices[0][0])"
   ]
  },
  {
   "cell_type": "code",
   "execution_count": 6,
   "id": "a830eff7",
   "metadata": {},
   "outputs": [],
   "source": [
    "#\n",
    "# Set some options\n",
    "#\n",
    "params = dev.get_parameters()\n",
    "try:\n",
    "    dev.depth = depth\n",
    "except:\n",
    "    print('Cannot set depth, defaulting to %d' % params[3])\n",
    "\n",
    "try:\n",
    "    dev.mode = mode\n",
    "except:\n",
    "    print('Cannot set mode, defaulting to %s' % params[0])\n",
    "\n",
    "try:\n",
    "    dev.br_x = 320.\n",
    "    dev.br_y = 240.\n",
    "except:\n",
    "    print('Cannot set scan area, using default')\n",
    "    \n",
    "try:\n",
    "    dev.resolution = 300\n",
    "except:\n",
    "    print('Cannot set resolution')\n",
    "\n",
    "try:\n",
    "    dev.multifeed_detection =  'Stop'\n",
    "except:\n",
    "    print('Cannot set multifeed_detection')\n",
    "    "
   ]
  },
  {
   "cell_type": "code",
   "execution_count": 7,
   "id": "29f3b232",
   "metadata": {},
   "outputs": [],
   "source": [
    "iterator = dev.multi_scan()\n",
    "while True:\n",
    "    try:\n",
    "        image = iterator.__next__()\n",
    "        folder = cwd\n",
    "        my_date = datetime.now()\n",
    "        filename = my_date.strftime('%Y%m%d%H%M%S%f%z')\n",
    "        fullpath = folder + '/' + filename + '.png'\n",
    "        image.save(fullpath)\n",
    "    except:\n",
    "        break"
   ]
  },
  {
   "cell_type": "code",
   "execution_count": 8,
   "id": "ab913c17",
   "metadata": {},
   "outputs": [],
   "source": [
    "dev.cancel()\n",
    "dev.close()\n",
    "sane.exit()"
   ]
  }
 ],
 "metadata": {
  "kernelspec": {
   "display_name": "Python 3",
   "language": "python",
   "name": "python3"
  },
  "language_info": {
   "codemirror_mode": {
    "name": "ipython",
    "version": 3
   },
   "file_extension": ".py",
   "mimetype": "text/x-python",
   "name": "python",
   "nbconvert_exporter": "python",
   "pygments_lexer": "ipython3",
   "version": "3.8.10"
  }
 },
 "nbformat": 4,
 "nbformat_minor": 5
}
