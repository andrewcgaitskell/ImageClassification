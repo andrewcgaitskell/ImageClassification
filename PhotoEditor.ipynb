{
 "cells": [
  {
   "cell_type": "code",
   "execution_count": 1,
   "metadata": {
    "id": "fsbYNqUr7NmU"
   },
   "outputs": [],
   "source": [
    "from exif import Image"
   ]
  },
  {
   "cell_type": "code",
   "execution_count": 2,
   "metadata": {},
   "outputs": [],
   "source": [
    "import os"
   ]
  },
  {
   "cell_type": "code",
   "execution_count": 4,
   "metadata": {},
   "outputs": [
    {
     "name": "stdout",
     "output_type": "stream",
     "text": [
      "/home/andrewcgaitskell/Documents/Code\n"
     ]
    }
   ],
   "source": [
    "d = os.getcwd()\n",
    "print(d)"
   ]
  },
  {
   "cell_type": "code",
   "execution_count": 6,
   "metadata": {
    "id": "3_m2Iix97WMK"
   },
   "outputs": [],
   "source": [
    "with open('/home/andrewcgaitskell/Documents/Code/Images/DiceYDominoes/1/P1020934.jpeg', 'rb') as image_file:\n",
    "  my_image = Image(image_file)"
   ]
  },
  {
   "cell_type": "code",
   "execution_count": 7,
   "metadata": {
    "colab": {
     "base_uri": "https://localhost:8080/"
    },
    "id": "ySSMDAhj7WO6",
    "outputId": "fdf04d30-0704-44fe-d78b-6cc386635ad0"
   },
   "outputs": [
    {
     "data": {
      "text/plain": [
       "True"
      ]
     },
     "execution_count": 7,
     "metadata": {},
     "output_type": "execute_result"
    }
   ],
   "source": [
    " my_image.has_exif"
   ]
  },
  {
   "cell_type": "code",
   "execution_count": 8,
   "metadata": {
    "id": "c3t3BqeY75uR"
   },
   "outputs": [],
   "source": [
    "listofattributes = my_image.list_all()"
   ]
  },
  {
   "cell_type": "code",
   "execution_count": 9,
   "metadata": {
    "colab": {
     "base_uri": "https://localhost:8080/"
    },
    "id": "b1MV3fSl8Zyq",
    "outputId": "079ac69f-6ec5-4479-d64c-35ccf50e9f07"
   },
   "outputs": [
    {
     "name": "stdout",
     "output_type": "stream",
     "text": [
      "make\n",
      "Panasonic\n",
      "model\n",
      "DMC-FZ45\n",
      "orientation\n",
      "Orientation.TOP_LEFT\n",
      "x_resolution\n",
      "180.0\n",
      "y_resolution\n",
      "180.0\n",
      "resolution_unit\n",
      "ResolutionUnit.INCHES\n",
      "software\n",
      "Ver.1.0  \n",
      "datetime\n",
      "2021:05:21 12:15:47\n",
      "y_and_c_positioning\n",
      "2\n",
      "_exif_ifd_pointer\n",
      "636\n",
      "compression\n",
      "6\n",
      "jpeg_interchange_format\n",
      "11764\n",
      "jpeg_interchange_format_length\n",
      "2193\n",
      "exposure_time\n",
      "0.016666666666666666\n",
      "f_number\n",
      "2.8\n",
      "exposure_program\n",
      "ExposureProgram.NORMAL_PROGRAM\n",
      "photographic_sensitivity\n",
      "400\n",
      "sensitivity_type\n",
      "1\n",
      "exif_version\n",
      "0230\n",
      "datetime_original\n",
      "2021:05:21 12:15:47\n",
      "datetime_digitized\n",
      "2021:05:21 12:15:47\n",
      "components_configuration\n",
      "Not available\n",
      "compressed_bits_per_pixel\n",
      "4.0\n",
      "exposure_bias_value\n",
      "0.0\n",
      "max_aperture_value\n",
      "3.0\n",
      "metering_mode\n",
      "MeteringMode.PATTERN\n",
      "light_source\n",
      "LightSource.UNKNOWN\n",
      "flash\n",
      "Flash(flash_fired=False, flash_return=FlashReturn.NO_STROBE_RETURN_DETECTION_FUNCTION, flash_mode=FlashMode.COMPULSORY_FLASH_SUPPRESSION, flash_function_not_present=False, red_eye_reduction_supported=False, reserved=0)\n",
      "focal_length\n",
      "4.5\n",
      "maker_note\n",
      "Not available\n",
      "flashpix_version\n",
      "Not available\n",
      "color_space\n",
      "ColorSpace.SRGB\n",
      "pixel_x_dimension\n",
      "4320\n",
      "pixel_y_dimension\n",
      "3240\n",
      "_interoperability_ifd_Pointer\n",
      "Not available\n",
      "sensing_method\n",
      "SensingMethod.ONE_CHIP_COLOR_AREA_SENSOR\n",
      "file_source\n",
      "Not available\n",
      "scene_type\n",
      "Not available\n",
      "custom_rendered\n",
      "0\n",
      "exposure_mode\n",
      "ExposureMode.AUTO_EXPOSURE\n",
      "white_balance\n",
      "WhiteBalance.AUTO\n",
      "digital_zoom_ratio\n",
      "0.0\n",
      "focal_length_in_35mm_film\n",
      "25\n",
      "scene_capture_type\n",
      "SceneCaptureType.STANDARD\n",
      "gain_control\n",
      "2\n",
      "contrast\n",
      "0\n",
      "saturation\n",
      "Saturation.NORMAL\n",
      "sharpness\n",
      "Sharpness.NORMAL\n"
     ]
    }
   ],
   "source": [
    "for x in listofattributes:\n",
    "  print(x)\n",
    "  try:\n",
    "    print(my_image[x])\n",
    "  except:\n",
    "    print(\"Not available\")\n"
   ]
  },
  {
   "cell_type": "code",
   "execution_count": 11,
   "metadata": {
    "id": "cd0luit69ng8"
   },
   "outputs": [],
   "source": [
    "import exif\n",
    "import cv2 ## pip install opencv-python\n",
    "import numpy as np"
   ]
  },
  {
   "cell_type": "markdown",
   "metadata": {
    "colab": {
     "base_uri": "https://localhost:8080/"
    },
    "id": "oZvR9x2z9Vqv",
    "outputId": "ae60017d-aa6e-4526-92ed-3b0f2862ee08"
   },
   "source": [
    "# Create a random 2D array within range [0 255]\n",
    "## image = (np.random.rand(800, 1200) * 255).astype(np.uint8)\n",
    "image = my_image\n",
    "\n",
    "# decode to the appropriate format\n",
    "# jpg -> compressed with information loss)\n",
    "status, image_jpg_coded = cv2.imencode('.jpg', image)\n",
    "print('successful jpg encoding: %s' % status)\n",
    "# tif -> no compression, no information loss\n",
    "status, image_tif_coded = cv2.imencode('.jpg', image)\n",
    "print('successful tif encoding: %s' % status)\n",
    "\n",
    "# to a byte string\n",
    "image_jpg_coded_bytes = image_jpg_coded.tobytes()\n",
    "image_tif_coded_bytes = image_tif_coded.tobytes()\n",
    "\n",
    "# using the exif format to add information\n",
    "exif_jpg = exif.Image(image_jpg_coded_bytes)\n",
    "exif_tif = exif.Image(image_tif_coded_bytes)\n",
    "\n",
    "# providing some information\n",
    "user_comment = \"random image\"\n",
    "software = \"created in python with numpy\"\n",
    "author = \"Rune Monzel\"\n",
    "\n",
    "# adding information to exif files:\n",
    "exif_jpg[\"software\"] = exif_tif[\"software\"] = software\n",
    "exif_jpg[\"user_comment\"] = exif_tif[\"user_comment\"] = user_comment\n",
    "\n",
    "# show existing tags\n",
    "print(exif_jpg.list_all())\n",
    "\n",
    "# save image\n",
    "with open(r'/home/andrewcgaitskell/Documents/Code/Images/Edited/P1020934.jpg', 'wb') as new_image_file:\n",
    "    new_image_file.write(exif_jpg.get_file())"
   ]
  },
  {
   "cell_type": "code",
   "execution_count": 22,
   "metadata": {},
   "outputs": [],
   "source": [
    "import sys\n",
    "filename = '/home/andrewcgaitskell/Documents/Code/Images/DiceYDominoes/1/P1020934.jpeg'\n",
    "img = cv2.imread(filename)"
   ]
  },
  {
   "cell_type": "code",
   "execution_count": 23,
   "metadata": {},
   "outputs": [],
   "source": [
    "from matplotlib import pyplot as plt\n",
    "import cv2\n",
    "\n",
    "gray = cv2.cvtColor(img, cv2.COLOR_BGR2GRAY)\n"
   ]
  },
  {
   "cell_type": "code",
   "execution_count": 24,
   "metadata": {},
   "outputs": [
    {
     "data": {
      "image/png": "[encoded data removed]",
      "text/plain": [
       "<Figure size 432x288 with 1 Axes>"
      ]
     },
     "metadata": {
      "needs_background": "light"
     },
     "output_type": "display_data"
    }
   ],
   "source": [
    "plt.imshow(gray)\n",
    "plt.title('my picture')\n",
    "plt.show()"
   ]
  },
  {
   "cell_type": "markdown",
   "metadata": {},
   "source": [
    "https://twigstechtips.blogspot.com/2014/06/python-reading-exif-and-iptc-tags-from.html"
   ]
  },
  {
   "cell_type": "code",
   "execution_count": 25,
   "metadata": {},
   "outputs": [],
   "source": [
    "from PIL import Image, ExifTags\n",
    "\n",
    "tag_name_to_id = dict([ (v, k) for k, v in ExifTags.TAGS.items() ])\n",
    "\n",
    "# These I got from reading in files and matching to http://www.exiv2.org/tags.html\n",
    "# You'll have to map your own if something isn't recognised\n",
    "tag_name_to_id[270] = 'ImageDescription'\n",
    "tag_name_to_id[306] = 'DateTime'\n",
    "tag_name_to_id[256] = 'ImageWidth'\n",
    "tag_name_to_id[257] = 'ImageLength'\n",
    "tag_name_to_id[258] = 'BitsPerSample'\n",
    "tag_name_to_id[40962] = 'PixelXDimension'\n",
    "tag_name_to_id[40963] = 'PixelYDimension'\n",
    "tag_name_to_id[305] = 'Software'\n",
    "tag_name_to_id[37510] = 'UserComment'\n",
    "tag_name_to_id[40091] = 'XPTitle'\n",
    "tag_name_to_id[40092] = 'XPComment'\n",
    "tag_name_to_id[40093] = 'XPAuthor'\n",
    "tag_name_to_id[40094] = 'XPKeywords'\n",
    "tag_name_to_id[40095] = 'XPSubject'\n",
    "tag_name_to_id[40961] = 'ColorSpace' # Bit depth\n",
    "tag_name_to_id[315] = 'Artist'\n",
    "tag_name_to_id[33432] = 'Copyright'\n",
    "\n",
    "\n",
    "def convert_exif_to_dict(exif):\n",
    "    \"\"\"\n",
    "    This helper function converts the dictionary keys from\n",
    "    IDs to strings so your code is easier to read.\n",
    "    \"\"\"\n",
    "    data = {}\n",
    "\n",
    "    if exif is None:\n",
    "        return data\n",
    "\n",
    "    for k,v in exif.items():\n",
    "       if k in tag_name_to_id:\n",
    "           data[tag_name_to_id[k]] = v\n",
    "       else:\n",
    "           data[k] = v\n",
    "\n",
    "    # These fields are in UCS2/UTF-16, convert to something usable within python\n",
    "    for k in ['XPTitle', 'XPComment', 'XPAuthor', 'XPKeywords', 'XPSubject']:\n",
    "        if k in data:\n",
    "            data[k] = data[k].decode('utf-16').rstrip('\\x00')\n",
    "\n",
    "    return data"
   ]
  },
  {
   "cell_type": "code",
   "execution_count": 28,
   "metadata": {},
   "outputs": [
    {
     "name": "stdout",
     "output_type": "stream",
     "text": [
      "MPO\n"
     ]
    }
   ],
   "source": [
    "im = Image.open(filename)\n",
    "im.verify()\n",
    "print(im.format)"
   ]
  },
  {
   "cell_type": "code",
   "execution_count": 31,
   "metadata": {},
   "outputs": [
    {
     "name": "stdout",
     "output_type": "stream",
     "text": [
      "2021:05:21 12:15:47\n"
     ]
    }
   ],
   "source": [
    "if im.format in ['JPG', 'TIFF','MPO']:\n",
    "    exif = convert_exif_to_dict(im._getexif())\n",
    "\n",
    "    print(exif['DateTime'])"
   ]
  },
  {
   "cell_type": "markdown",
   "metadata": {},
   "source": [
    "https://python3-exiv2.readthedocs.io/en/latest/tutorial.html"
   ]
  },
  {
   "cell_type": "code",
   "execution_count": 42,
   "metadata": {},
   "outputs": [],
   "source": [
    "import pyexiv2 as p"
   ]
  },
  {
   "cell_type": "code",
   "execution_count": 43,
   "metadata": {},
   "outputs": [
    {
     "ename": "AttributeError",
     "evalue": "module 'pyexiv2' has no attribute 'ImageMetadata'",
     "output_type": "error",
     "traceback": [
      "\u001b[0;31m---------------------------------------------------------------------------\u001b[0m",
      "\u001b[0;31mAttributeError\u001b[0m                            Traceback (most recent call last)",
      "\u001b[0;32m<ipython-input-43-bcd0e749998d>\u001b[0m in \u001b[0;36m<module>\u001b[0;34m\u001b[0m\n\u001b[1;32m      1\u001b[0m \u001b[0;32mimport\u001b[0m \u001b[0mpyexiv2\u001b[0m\u001b[0;34m\u001b[0m\u001b[0;34m\u001b[0m\u001b[0m\n\u001b[0;32m----> 2\u001b[0;31m \u001b[0mmeta\u001b[0m \u001b[0;34m=\u001b[0m \u001b[0mpyexiv2\u001b[0m\u001b[0;34m.\u001b[0m\u001b[0mImageMetadata\u001b[0m\u001b[0;34m(\u001b[0m\u001b[0mfilename\u001b[0m\u001b[0;34m)\u001b[0m\u001b[0;34m\u001b[0m\u001b[0;34m\u001b[0m\u001b[0m\n\u001b[0m\u001b[1;32m      3\u001b[0m \u001b[0mmeta\u001b[0m\u001b[0;34m.\u001b[0m\u001b[0mread\u001b[0m\u001b[0;34m(\u001b[0m\u001b[0;34m)\u001b[0m\u001b[0;34m\u001b[0m\u001b[0;34m\u001b[0m\u001b[0m\n",
      "\u001b[0;31mAttributeError\u001b[0m: module 'pyexiv2' has no attribute 'ImageMetadata'"
     ]
    }
   ],
   "source": [
    "import pyexiv2\n",
    "meta = pyexiv2.ImageMetadata(filename)\n",
    "meta.read()"
   ]
  },
  {
   "cell_type": "markdown",
   "metadata": {},
   "source": [
    "https://stackoverflow.com/questions/54229942/how-to-append-keywords-to-iptc-data-in-a-jpg-image"
   ]
  },
  {
   "cell_type": "code",
   "execution_count": 44,
   "metadata": {},
   "outputs": [
    {
     "name": "stderr",
     "output_type": "stream",
     "text": [
      "Marker scan hit start of image data\n",
      "No IPTC data found in /home/andrewcgaitskell/Documents/Code/Images/DiceYDominoes/1/P1020934.jpeg\n"
     ]
    },
    {
     "name": "stdout",
     "output_type": "stream",
     "text": [
      "[]\n"
     ]
    }
   ],
   "source": [
    "from iptcinfo3 import IPTCInfo\n",
    "info = IPTCInfo(filename)\n",
    "print(info['keywords'])\n"
   ]
  },
  {
   "cell_type": "code",
   "execution_count": 47,
   "metadata": {},
   "outputs": [],
   "source": [
    "newfilename = '/home/andrewcgaitskell/Documents/Code/Images/Edited/P1020934.jpeg'"
   ]
  },
  {
   "cell_type": "code",
   "execution_count": 48,
   "metadata": {},
   "outputs": [
    {
     "data": {
      "text/plain": [
       "True"
      ]
     },
     "execution_count": 48,
     "metadata": {},
     "output_type": "execute_result"
    }
   ],
   "source": [
    "# add keyword\n",
    "info['keywords'] = ['one']\n",
    "info.save()\n",
    "info.save_as(newfilename)"
   ]
  },
  {
   "cell_type": "code",
   "execution_count": 49,
   "metadata": {},
   "outputs": [
    {
     "name": "stdout",
     "output_type": "stream",
     "text": [
      "[b'one']\n"
     ]
    }
   ],
   "source": [
    "info = IPTCInfo(newfilename)\n",
    "print(info['keywords'])"
   ]
  },
  {
   "cell_type": "code",
   "execution_count": 50,
   "metadata": {},
   "outputs": [
    {
     "name": "stdout",
     "output_type": "stream",
     "text": [
      "charset:\tNone\n",
      "data:\t{'supplemental category': [], 'keywords': [b'one'], 'contact': []}\n"
     ]
    }
   ],
   "source": [
    "print(info)"
   ]
  },
  {
   "cell_type": "code",
   "execution_count": 52,
   "metadata": {},
   "outputs": [],
   "source": [
    "from libxmp import XMPFiles, consts\n",
    "xmpfile = XMPFiles( file_path=filename , open_forupdate=True )"
   ]
  },
  {
   "cell_type": "code",
   "execution_count": 55,
   "metadata": {},
   "outputs": [
    {
     "name": "stdout",
     "output_type": "stream",
     "text": [
      "<?xpacket begin=\"﻿\" id=\"W5M0MpCehiHzreSzNTczkc9d\"?>\n",
      "<x:xmpmeta xmlns:x=\"adobe:ns:meta/\" x:xmptk=\"Exempi + XMP Core 5.6.0\">\n",
      " <rdf:RDF xmlns:rdf=\"http://www.w3.org/1999/02/22-rdf-syntax-ns#\">\n",
      "  <rdf:Description rdf:about=\"\"\n",
      "    xmlns:dc=\"http://purl.org/dc/elements/1.1/\"\n",
      "    xmlns:tiff=\"http://ns.adobe.com/tiff/1.0/\"\n",
      "    xmlns:xmp=\"http://ns.adobe.com/xap/1.0/\"\n",
      "    xmlns:exif=\"http://ns.adobe.com/exif/1.0/\"\n",
      "    xmlns:exifEX=\"http://cipa.jp/exif/1.0/\"\n",
      "    xmlns:photoshop=\"http://ns.adobe.com/photoshop/1.0/\">\n",
      "   <dc:subject>\n",
      "    <rdf:Bag>\n",
      "     <rdf:li>one</rdf:li>\n",
      "    </rdf:Bag>\n",
      "   </dc:subject>\n",
      "   <tiff:Orientation>1</tiff:Orientation>\n",
      "   <tiff:XResolution>180/1</tiff:XResolution>\n",
      "   <tiff:YResolution>180/1</tiff:YResolution>\n",
      "   <tiff:ResolutionUnit>2</tiff:ResolutionUnit>\n",
      "   <tiff:YCbCrPositioning>2</tiff:YCbCrPositioning>\n",
      "   <tiff:Make>Panasonic</tiff:Make>\n",
      "   <tiff:Model>DMC-FZ45</tiff:Model>\n",
      "   <xmp:CreatorTool>Ver.1.0</xmp:CreatorTool>\n",
      "   <xmp:ModifyDate>2021-05-21T12:15:47</xmp:ModifyDate>\n",
      "   <xmp:CreateDate>2021-05-21T12:15:47</xmp:CreateDate>\n",
      "   <exif:ColorSpace>1</exif:ColorSpace>\n",
      "   <exif:CompressedBitsPerPixel>4/1</exif:CompressedBitsPerPixel>\n",
      "   <exif:PixelXDimension>4320</exif:PixelXDimension>\n",
      "   <exif:PixelYDimension>3240</exif:PixelYDimension>\n",
      "   <exif:ExposureTime>10/600</exif:ExposureTime>\n",
      "   <exif:FNumber>28/10</exif:FNumber>\n",
      "   <exif:ExposureProgram>2</exif:ExposureProgram>\n",
      "   <exif:ExposureBiasValue>0/100</exif:ExposureBiasValue>\n",
      "   <exif:MaxApertureValue>30/10</exif:MaxApertureValue>\n",
      "   <exif:MeteringMode>5</exif:MeteringMode>\n",
      "   <exif:LightSource>0</exif:LightSource>\n",
      "   <exif:FocalLength>45/10</exif:FocalLength>\n",
      "   <exif:SensingMethod>2</exif:SensingMethod>\n",
      "   <exif:CustomRendered>0</exif:CustomRendered>\n",
      "   <exif:ExposureMode>0</exif:ExposureMode>\n",
      "   <exif:WhiteBalance>0</exif:WhiteBalance>\n",
      "   <exif:DigitalZoomRatio>0/10</exif:DigitalZoomRatio>\n",
      "   <exif:FocalLengthIn35mmFilm>25</exif:FocalLengthIn35mmFilm>\n",
      "   <exif:SceneCaptureType>0</exif:SceneCaptureType>\n",
      "   <exif:GainControl>2</exif:GainControl>\n",
      "   <exif:Contrast>0</exif:Contrast>\n",
      "   <exif:Saturation>0</exif:Saturation>\n",
      "   <exif:Sharpness>0</exif:Sharpness>\n",
      "   <exif:DateTimeOriginal>2021-05-21T12:15:47</exif:DateTimeOriginal>\n",
      "   <exif:ISOSpeedRatings>\n",
      "    <rdf:Seq>\n",
      "     <rdf:li>400</rdf:li>\n",
      "    </rdf:Seq>\n",
      "   </exif:ISOSpeedRatings>\n",
      "   <exif:ExifVersion>0230</exif:ExifVersion>\n",
      "   <exif:FlashpixVersion>0100</exif:FlashpixVersion>\n",
      "   <exif:ComponentsConfiguration>\n",
      "    <rdf:Seq>\n",
      "     <rdf:li>1</rdf:li>\n",
      "     <rdf:li>2</rdf:li>\n",
      "     <rdf:li>3</rdf:li>\n",
      "     <rdf:li>0</rdf:li>\n",
      "    </rdf:Seq>\n",
      "   </exif:ComponentsConfiguration>\n",
      "   <exif:Flash rdf:parseType=\"Resource\">\n",
      "    <exif:Fired>False</exif:Fired>\n",
      "    <exif:Return>0</exif:Return>\n",
      "    <exif:Mode>2</exif:Mode>\n",
      "    <exif:Function>False</exif:Function>\n",
      "    <exif:RedEyeMode>False</exif:RedEyeMode>\n",
      "   </exif:Flash>\n",
      "   <exif:FileSource>3</exif:FileSource>\n",
      "   <exif:SceneType>1</exif:SceneType>\n",
      "   <exifEX:SensitivityType>1</exifEX:SensitivityType>\n",
      "   <exifEX:PhotographicSensitivity>400</exifEX:PhotographicSensitivity>\n",
      "   <photoshop:DateCreated>2021-05-21T12:15:47</photoshop:DateCreated>\n",
      "  </rdf:Description>\n",
      " </rdf:RDF>\n",
      "</x:xmpmeta>\n",
      "<?xpacket end=\"w\"?>\n"
     ]
    }
   ],
   "source": [
    "\n",
    "##Get XMP from file:\n",
    "\n",
    "xmp = xmpfile.get_xmp()\n",
    "print(xmp)"
   ]
  },
  {
   "cell_type": "code",
   "execution_count": 58,
   "metadata": {},
   "outputs": [
    {
     "name": "stdout",
     "output_type": "stream",
     "text": [
      "http://purl.org/dc/elements/1.1/\n"
     ]
    }
   ],
   "source": [
    "from libxmp import consts\n",
    "print(consts.XMP_NS_DC)"
   ]
  },
  {
   "cell_type": "code",
   "execution_count": 57,
   "metadata": {},
   "outputs": [
    {
     "ename": "TypeError",
     "evalue": "'XMPMeta' object is not subscriptable",
     "output_type": "error",
     "traceback": [
      "\u001b[0;31m---------------------------------------------------------------------------\u001b[0m",
      "\u001b[0;31mTypeError\u001b[0m                                 Traceback (most recent call last)",
      "\u001b[0;32m<ipython-input-57-bd8316e77cdf>\u001b[0m in \u001b[0;36m<module>\u001b[0;34m\u001b[0m\n\u001b[0;32m----> 1\u001b[0;31m \u001b[0mdc\u001b[0m \u001b[0;34m=\u001b[0m \u001b[0mxmp\u001b[0m\u001b[0;34m[\u001b[0m\u001b[0;34m\"http://purl.org/dc/elements/1.1/\"\u001b[0m\u001b[0;34m]\u001b[0m\u001b[0;34m\u001b[0m\u001b[0;34m\u001b[0m\u001b[0m\n\u001b[0m",
      "\u001b[0;31mTypeError\u001b[0m: 'XMPMeta' object is not subscriptable"
     ]
    }
   ],
   "source": [
    "dc = xmp[\"http://purl.org/dc/elements/1.1/\"]"
   ]
  },
  {
   "cell_type": "code",
   "execution_count": 64,
   "metadata": {},
   "outputs": [],
   "source": [
    "import libxmp\n",
    "\n",
    "# Read file\n",
    "xmpfile = XMPFiles( file_path=newfilename, open_forupdate=True )\n",
    "\n",
    "# Get XMP from file.\n",
    "xmp = xmpfile.get_xmp()"
   ]
  },
  {
   "cell_type": "code",
   "execution_count": 67,
   "metadata": {},
   "outputs": [
    {
     "ename": "TypeError",
     "evalue": "'XMPMeta' object is not callable",
     "output_type": "error",
     "traceback": [
      "\u001b[0;31m---------------------------------------------------------------------------\u001b[0m",
      "\u001b[0;31mTypeError\u001b[0m                                 Traceback (most recent call last)",
      "\u001b[0;32m<ipython-input-67-7f01587aaccf>\u001b[0m in \u001b[0;36m<module>\u001b[0;34m\u001b[0m\n\u001b[0;32m----> 1\u001b[0;31m \u001b[0mdc\u001b[0m \u001b[0;34m=\u001b[0m \u001b[0mxmp\u001b[0m\u001b[0;34m(\u001b[0m\u001b[0;34m\"http://ns.adobe.com/xap/1.0/\"\u001b[0m\u001b[0;34m)\u001b[0m\u001b[0;34m\u001b[0m\u001b[0;34m\u001b[0m\u001b[0m\n\u001b[0m",
      "\u001b[0;31mTypeError\u001b[0m: 'XMPMeta' object is not callable"
     ]
    }
   ],
   "source": [
    "dc = xmp(\"http://ns.adobe.com/xap/1.0/\")"
   ]
  },
  {
   "cell_type": "code",
   "execution_count": 65,
   "metadata": {},
   "outputs": [
    {
     "name": "stdout",
     "output_type": "stream",
     "text": [
      "<?xpacket begin=\"﻿\" id=\"W5M0MpCehiHzreSzNTczkc9d\"?>\n",
      "<x:xmpmeta xmlns:x=\"adobe:ns:meta/\" x:xmptk=\"Exempi + XMP Core 5.6.0\">\n",
      " <rdf:RDF xmlns:rdf=\"http://www.w3.org/1999/02/22-rdf-syntax-ns#\">\n",
      "  <rdf:Description rdf:about=\"\"\n",
      "    xmlns:dc=\"http://purl.org/dc/elements/1.1/\"\n",
      "    xmlns:tiff=\"http://ns.adobe.com/tiff/1.0/\"\n",
      "    xmlns:xmp=\"http://ns.adobe.com/xap/1.0/\"\n",
      "    xmlns:exif=\"http://ns.adobe.com/exif/1.0/\"\n",
      "    xmlns:exifEX=\"http://cipa.jp/exif/1.0/\"\n",
      "    xmlns:photoshop=\"http://ns.adobe.com/photoshop/1.0/\">\n",
      "   <dc:subject>\n",
      "    <rdf:Bag>\n",
      "     <rdf:li>one</rdf:li>\n",
      "    </rdf:Bag>\n",
      "   </dc:subject>\n",
      "   <tiff:Orientation>1</tiff:Orientation>\n",
      "   <tiff:XResolution>180/1</tiff:XResolution>\n",
      "   <tiff:YResolution>180/1</tiff:YResolution>\n",
      "   <tiff:ResolutionUnit>2</tiff:ResolutionUnit>\n",
      "   <tiff:YCbCrPositioning>2</tiff:YCbCrPositioning>\n",
      "   <tiff:Make>Panasonic</tiff:Make>\n",
      "   <tiff:Model>DMC-FZ45</tiff:Model>\n",
      "   <xmp:CreatorTool>Ver.1.0</xmp:CreatorTool>\n",
      "   <xmp:ModifyDate>2021-05-21T12:15:47</xmp:ModifyDate>\n",
      "   <xmp:CreateDate>2021-05-21T12:15:47</xmp:CreateDate>\n",
      "   <exif:ColorSpace>1</exif:ColorSpace>\n",
      "   <exif:CompressedBitsPerPixel>4/1</exif:CompressedBitsPerPixel>\n",
      "   <exif:PixelXDimension>4320</exif:PixelXDimension>\n",
      "   <exif:PixelYDimension>3240</exif:PixelYDimension>\n",
      "   <exif:ExposureTime>10/600</exif:ExposureTime>\n",
      "   <exif:FNumber>28/10</exif:FNumber>\n",
      "   <exif:ExposureProgram>2</exif:ExposureProgram>\n",
      "   <exif:ExposureBiasValue>0/100</exif:ExposureBiasValue>\n",
      "   <exif:MaxApertureValue>30/10</exif:MaxApertureValue>\n",
      "   <exif:MeteringMode>5</exif:MeteringMode>\n",
      "   <exif:LightSource>0</exif:LightSource>\n",
      "   <exif:FocalLength>45/10</exif:FocalLength>\n",
      "   <exif:SensingMethod>2</exif:SensingMethod>\n",
      "   <exif:CustomRendered>0</exif:CustomRendered>\n",
      "   <exif:ExposureMode>0</exif:ExposureMode>\n",
      "   <exif:WhiteBalance>0</exif:WhiteBalance>\n",
      "   <exif:DigitalZoomRatio>0/10</exif:DigitalZoomRatio>\n",
      "   <exif:FocalLengthIn35mmFilm>25</exif:FocalLengthIn35mmFilm>\n",
      "   <exif:SceneCaptureType>0</exif:SceneCaptureType>\n",
      "   <exif:GainControl>2</exif:GainControl>\n",
      "   <exif:Contrast>0</exif:Contrast>\n",
      "   <exif:Saturation>0</exif:Saturation>\n",
      "   <exif:Sharpness>0</exif:Sharpness>\n",
      "   <exif:DateTimeOriginal>2021-05-21T12:15:47</exif:DateTimeOriginal>\n",
      "   <exif:ISOSpeedRatings>\n",
      "    <rdf:Seq>\n",
      "     <rdf:li>400</rdf:li>\n",
      "    </rdf:Seq>\n",
      "   </exif:ISOSpeedRatings>\n",
      "   <exif:ExifVersion>0230</exif:ExifVersion>\n",
      "   <exif:FlashpixVersion>0100</exif:FlashpixVersion>\n",
      "   <exif:ComponentsConfiguration>\n",
      "    <rdf:Seq>\n",
      "     <rdf:li>1</rdf:li>\n",
      "     <rdf:li>2</rdf:li>\n",
      "     <rdf:li>3</rdf:li>\n",
      "     <rdf:li>0</rdf:li>\n",
      "    </rdf:Seq>\n",
      "   </exif:ComponentsConfiguration>\n",
      "   <exif:Flash rdf:parseType=\"Resource\">\n",
      "    <exif:Fired>False</exif:Fired>\n",
      "    <exif:Return>0</exif:Return>\n",
      "    <exif:Mode>2</exif:Mode>\n",
      "    <exif:Function>False</exif:Function>\n",
      "    <exif:RedEyeMode>False</exif:RedEyeMode>\n",
      "   </exif:Flash>\n",
      "   <exif:FileSource>3</exif:FileSource>\n",
      "   <exif:SceneType>1</exif:SceneType>\n",
      "   <exifEX:SensitivityType>1</exifEX:SensitivityType>\n",
      "   <exifEX:PhotographicSensitivity>400</exifEX:PhotographicSensitivity>\n",
      "   <photoshop:DateCreated>2021-05-21T12:15:47</photoshop:DateCreated>\n",
      "  </rdf:Description>\n",
      " </rdf:RDF>\n",
      "</x:xmpmeta>\n",
      "<?xpacket end=\"w\"?>\n"
     ]
    }
   ],
   "source": [
    "print(xmp)"
   ]
  },
  {
   "cell_type": "code",
   "execution_count": null,
   "metadata": {},
   "outputs": [],
   "source": [
    "\n",
    "# Print the property dc:format\n",
    "print(xmp.get_property( libxmp.consts.XMP_NS_DC, 'exif:FocalLength' ))"
   ]
  },
  {
   "cell_type": "code",
   "execution_count": null,
   "metadata": {},
   "outputs": [],
   "source": []
  },
  {
   "cell_type": "code",
   "execution_count": null,
   "metadata": {},
   "outputs": [],
   "source": []
  },
  {
   "cell_type": "code",
   "execution_count": null,
   "metadata": {},
   "outputs": [],
   "source": []
  },
  {
   "cell_type": "code",
   "execution_count": null,
   "metadata": {},
   "outputs": [],
   "source": []
  },
  {
   "cell_type": "code",
   "execution_count": null,
   "metadata": {
    "colab": {
     "base_uri": "https://localhost:8080/"
    },
    "id": "FKXuW2xOApcK",
    "outputId": "c354f46a-5795-4603-eea6-aace4ca6abe8"
   },
   "outputs": [
    {
     "name": "stdout",
     "output_type": "stream",
     "text": [
      "make\n",
      "Not available\n",
      "model\n",
      "Not available\n",
      "orientation\n",
      "Not available\n",
      "x_resolution\n",
      "Not available\n",
      "y_resolution\n",
      "Not available\n",
      "resolution_unit\n",
      "Not available\n",
      "software\n",
      "created in python with numpy\n",
      "datetime\n",
      "Not available\n",
      "y_and_c_positioning\n",
      "Not available\n",
      "_exif_ifd_pointer\n",
      "79\n",
      "compression\n",
      "Not available\n",
      "jpeg_interchange_format\n",
      "Not available\n",
      "jpeg_interchange_format_length\n",
      "Not available\n",
      "exposure_time\n",
      "Not available\n",
      "f_number\n",
      "Not available\n",
      "exposure_program\n",
      "Not available\n",
      "photographic_sensitivity\n",
      "Not available\n",
      "sensitivity_type\n",
      "Not available\n",
      "exif_version\n",
      "Not available\n",
      "datetime_original\n",
      "Not available\n",
      "datetime_digitized\n",
      "Not available\n",
      "components_configuration\n",
      "Not available\n",
      "compressed_bits_per_pixel\n",
      "Not available\n",
      "exposure_bias_value\n",
      "Not available\n",
      "max_aperture_value\n",
      "Not available\n",
      "metering_mode\n",
      "Not available\n",
      "light_source\n",
      "Not available\n",
      "flash\n",
      "Not available\n",
      "focal_length\n",
      "Not available\n",
      "maker_note\n",
      "Not available\n",
      "flashpix_version\n",
      "Not available\n",
      "color_space\n",
      "Not available\n",
      "pixel_x_dimension\n",
      "Not available\n",
      "pixel_y_dimension\n",
      "Not available\n",
      "_interoperability_ifd_Pointer\n",
      "Not available\n",
      "sensing_method\n",
      "Not available\n",
      "file_source\n",
      "Not available\n",
      "scene_type\n",
      "Not available\n",
      "custom_rendered\n",
      "Not available\n",
      "exposure_mode\n",
      "Not available\n",
      "white_balance\n",
      "Not available\n",
      "digital_zoom_ratio\n",
      "Not available\n",
      "focal_length_in_35mm_film\n",
      "Not available\n",
      "scene_capture_type\n",
      "Not available\n",
      "gain_control\n",
      "Not available\n",
      "contrast\n",
      "Not available\n",
      "saturation\n",
      "Not available\n",
      "sharpness\n",
      "Not available\n"
     ]
    }
   ],
   "source": [
    "for x in listofattributes:\n",
    "  print(x)\n",
    "  try:\n",
    "    print(my_image[x])\n",
    "  except:\n",
    "    print(\"Not available\")\n"
   ]
  },
  {
   "cell_type": "markdown",
   "metadata": {
    "id": "WJCzun6MB67p"
   },
   "source": [
    "https://github.com/jupyter-widgets/ipywidgets/blob/master/docs/source/examples/Index.ipynb"
   ]
  },
  {
   "cell_type": "code",
   "execution_count": null,
   "metadata": {
    "id": "fJHqDFXtC20_"
   },
   "outputs": [],
   "source": [
    "from __future__ import print_function\n",
    "from ipywidgets import interact, interactive, fixed, interact_manual\n",
    "import ipywidgets as widgets"
   ]
  },
  {
   "cell_type": "code",
   "execution_count": null,
   "metadata": {
    "id": "GcyWJyOCB9Hb"
   },
   "outputs": [],
   "source": [
    "from IPython.display import display\n",
    "def f(a, b):\n",
    "    display(a + b)\n",
    "    return a+b"
   ]
  },
  {
   "cell_type": "code",
   "execution_count": null,
   "metadata": {
    "id": "WFz-xutECayW"
   },
   "outputs": [],
   "source": [
    "w = interactive(f, a=10, b=20)"
   ]
  },
  {
   "cell_type": "code",
   "execution_count": null,
   "metadata": {
    "colab": {
     "base_uri": "https://localhost:8080/"
    },
    "id": "3JiKeDpGCsKP",
    "outputId": "7c384874-bda9-4152-875b-32d2390c5c62"
   },
   "outputs": [
    {
     "data": {
      "text/plain": [
       "(IntSlider(value=10, description='a', max=30, min=-10),\n",
       " IntSlider(value=20, description='b', max=60, min=-20),\n",
       " Output())"
      ]
     },
     "execution_count": 15,
     "metadata": {
      "tags": []
     },
     "output_type": "execute_result"
    }
   ],
   "source": [
    "w.children"
   ]
  },
  {
   "cell_type": "code",
   "execution_count": null,
   "metadata": {
    "colab": {
     "base_uri": "https://localhost:8080/",
     "height": 98,
     "referenced_widgets": [
      "708994e001624af491f27ffa4971a1e6",
      "c50dc2cb3f1e43d396c30a5f106c8f63",
      "3c7bdbe9d03344e9971a3cb06ce73dd6",
      "3cde67f96ad64f119ddbb69865116240",
      "aa60a47e2a9b4acd81c804a8089d0d66",
      "bb08e6e2ef2f40438a99f107cf9424ed",
      "561ec724afc345cb8021e8eddf7b9b31",
      "418f5e4c7f824df6adab8460b02f961e",
      "34344cf9837143f2a246532545e00e46",
      "b5f7bcf15a414360bdda6bb3cf55831a"
     ]
    },
    "id": "9GPnV1ifDFUy",
    "outputId": "972eadad-e71e-42f9-9001-7c835e31a128"
   },
   "outputs": [
    {
     "data": {
      "application/vnd.jupyter.widget-view+json": {
       "model_id": "708994e001624af491f27ffa4971a1e6",
       "version_major": 2,
       "version_minor": 0
      },
      "text/plain": [
       "interactive(children=(IntSlider(value=10, description='a', max=30, min=-10), IntSlider(value=20, description='…"
      ]
     },
     "metadata": {
      "tags": []
     },
     "output_type": "display_data"
    }
   ],
   "source": [
    "display(w)"
   ]
  },
  {
   "cell_type": "code",
   "execution_count": null,
   "metadata": {
    "colab": {
     "base_uri": "https://localhost:8080/"
    },
    "id": "69a8Ss5dDUYU",
    "outputId": "d9cdb32c-9a0b-4b31-ccdb-c5dcc0e03bee"
   },
   "outputs": [
    {
     "data": {
      "text/plain": [
       "30"
      ]
     },
     "execution_count": 17,
     "metadata": {
      "tags": []
     },
     "output_type": "execute_result"
    }
   ],
   "source": [
    "w.result"
   ]
  },
  {
   "cell_type": "code",
   "execution_count": null,
   "metadata": {
    "id": "TzGDdykBEbr8"
   },
   "outputs": [],
   "source": [
    "%matplotlib inline\n",
    "import matplotlib.pyplot as plt"
   ]
  },
  {
   "cell_type": "code",
   "execution_count": null,
   "metadata": {
    "id": "9UjhOZ7TEbvx"
   },
   "outputs": [],
   "source": [
    "from ipywidgets import interact"
   ]
  },
  {
   "cell_type": "code",
   "execution_count": null,
   "metadata": {
    "id": "1dfYUUfqEbyz"
   },
   "outputs": [],
   "source": [
    "from sklearn import datasets"
   ]
  },
  {
   "cell_type": "code",
   "execution_count": null,
   "metadata": {
    "id": "50oLZJAjEb24"
   },
   "outputs": [],
   "source": [
    "digits = datasets.load_digits()"
   ]
  },
  {
   "cell_type": "code",
   "execution_count": null,
   "metadata": {
    "id": "zbOMSA7ZEb6c"
   },
   "outputs": [],
   "source": [
    "def browse_images(digits):\n",
    "    n = len(digits.images)\n",
    "    def view_image(i):\n",
    "        plt.imshow(digits.images[i], cmap=plt.cm.gray_r, interpolation='nearest')\n",
    "        plt.title('Training: %s' % digits.target[i])\n",
    "        plt.show()\n",
    "    interact(view_image, i=(0,n-1))"
   ]
  },
  {
   "cell_type": "code",
   "execution_count": null,
   "metadata": {
    "colab": {
     "base_uri": "https://localhost:8080/",
     "height": 313,
     "referenced_widgets": [
      "a129bd9977b940f18edef8872653aaed",
      "ca02a06a62634b1b96301297948f091f",
      "9191b6167a8e462bab6c700097c4a8c2",
      "2a3f009fc4d14b11a9e8e853cba5911b",
      "87a9b968e9f14097a05ed5d42e7dee60",
      "228975123ab048fc8bf3a96ab33b63e7",
      "24f43699938e46a6820628f5a490d5c6"
     ]
    },
    "id": "tRxnqP1mEb9E",
    "outputId": "869b8757-37e8-45cb-b315-0fe4205bd536"
   },
   "outputs": [
    {
     "data": {
      "application/vnd.jupyter.widget-view+json": {
       "model_id": "a129bd9977b940f18edef8872653aaed",
       "version_major": 2,
       "version_minor": 0
      },
      "text/plain": [
       "interactive(children=(IntSlider(value=898, description='i', max=1796), Output()), _dom_classes=('widget-intera…"
      ]
     },
     "metadata": {
      "tags": []
     },
     "output_type": "display_data"
    }
   ],
   "source": [
    "browse_images(digits)"
   ]
  },
  {
   "cell_type": "code",
   "execution_count": null,
   "metadata": {
    "colab": {
     "base_uri": "https://localhost:8080/",
     "height": 16,
     "referenced_widgets": [
      "40609a24080748e0b56790903483b3da"
     ]
    },
    "id": "vGL7h-BdvBys",
    "outputId": "9a7641db-0fc1-4242-a08c-e979879cf447"
   },
   "outputs": [
    {
     "data": {
      "application/vnd.jupyter.widget-view+json": {
       "model_id": "40609a24080748e0b56790903483b3da",
       "version_major": 2,
       "version_minor": 0
      },
      "text/plain": [
       "Sheet(columns=5, layout=Layout(height='auto', width='auto'), rows=5)"
      ]
     },
     "metadata": {
      "tags": []
     },
     "output_type": "display_data"
    }
   ],
   "source": [
    "import ipysheet\n",
    "sheet = ipysheet.sheet()\n",
    "sheet"
   ]
  },
  {
   "cell_type": "code",
   "execution_count": null,
   "metadata": {
    "colab": {
     "base_uri": "https://localhost:8080/",
     "height": 548
    },
    "id": "IbAO10JZGqRB",
    "outputId": "0438c230-7c5b-46b8-868f-029e60945e03"
   },
   "outputs": [
    {
     "ename": "KeyboardInterrupt",
     "evalue": "ignored",
     "output_type": "error",
     "traceback": [
      "\u001b[0;31m---------------------------------------------------------------------------\u001b[0m",
      "\u001b[0;31mKeyboardInterrupt\u001b[0m                         Traceback (most recent call last)",
      "\u001b[0;32m/usr/local/lib/python3.7/dist-packages/ipykernel/kernelbase.py\u001b[0m in \u001b[0;36m_input_request\u001b[0;34m(self, prompt, ident, parent, password)\u001b[0m\n\u001b[1;32m    728\u001b[0m             \u001b[0;32mtry\u001b[0m\u001b[0;34m:\u001b[0m\u001b[0;34m\u001b[0m\u001b[0;34m\u001b[0m\u001b[0m\n\u001b[0;32m--> 729\u001b[0;31m                 \u001b[0mident\u001b[0m\u001b[0;34m,\u001b[0m \u001b[0mreply\u001b[0m \u001b[0;34m=\u001b[0m \u001b[0mself\u001b[0m\u001b[0;34m.\u001b[0m\u001b[0msession\u001b[0m\u001b[0;34m.\u001b[0m\u001b[0mrecv\u001b[0m\u001b[0;34m(\u001b[0m\u001b[0mself\u001b[0m\u001b[0;34m.\u001b[0m\u001b[0mstdin_socket\u001b[0m\u001b[0;34m,\u001b[0m \u001b[0;36m0\u001b[0m\u001b[0;34m)\u001b[0m\u001b[0;34m\u001b[0m\u001b[0;34m\u001b[0m\u001b[0m\n\u001b[0m\u001b[1;32m    730\u001b[0m             \u001b[0;32mexcept\u001b[0m \u001b[0mException\u001b[0m\u001b[0;34m:\u001b[0m\u001b[0;34m\u001b[0m\u001b[0;34m\u001b[0m\u001b[0m\n",
      "\u001b[0;32m/usr/local/lib/python3.7/dist-packages/jupyter_client/session.py\u001b[0m in \u001b[0;36mrecv\u001b[0;34m(self, socket, mode, content, copy)\u001b[0m\n\u001b[1;32m    802\u001b[0m         \u001b[0;32mtry\u001b[0m\u001b[0;34m:\u001b[0m\u001b[0;34m\u001b[0m\u001b[0;34m\u001b[0m\u001b[0m\n\u001b[0;32m--> 803\u001b[0;31m             \u001b[0mmsg_list\u001b[0m \u001b[0;34m=\u001b[0m \u001b[0msocket\u001b[0m\u001b[0;34m.\u001b[0m\u001b[0mrecv_multipart\u001b[0m\u001b[0;34m(\u001b[0m\u001b[0mmode\u001b[0m\u001b[0;34m,\u001b[0m \u001b[0mcopy\u001b[0m\u001b[0;34m=\u001b[0m\u001b[0mcopy\u001b[0m\u001b[0;34m)\u001b[0m\u001b[0;34m\u001b[0m\u001b[0;34m\u001b[0m\u001b[0m\n\u001b[0m\u001b[1;32m    804\u001b[0m         \u001b[0;32mexcept\u001b[0m \u001b[0mzmq\u001b[0m\u001b[0;34m.\u001b[0m\u001b[0mZMQError\u001b[0m \u001b[0;32mas\u001b[0m \u001b[0me\u001b[0m\u001b[0;34m:\u001b[0m\u001b[0;34m\u001b[0m\u001b[0;34m\u001b[0m\u001b[0m\n",
      "\u001b[0;32m/usr/local/lib/python3.7/dist-packages/zmq/sugar/socket.py\u001b[0m in \u001b[0;36mrecv_multipart\u001b[0;34m(self, flags, copy, track)\u001b[0m\n\u001b[1;32m    582\u001b[0m         \"\"\"\n\u001b[0;32m--> 583\u001b[0;31m         \u001b[0mparts\u001b[0m \u001b[0;34m=\u001b[0m \u001b[0;34m[\u001b[0m\u001b[0mself\u001b[0m\u001b[0;34m.\u001b[0m\u001b[0mrecv\u001b[0m\u001b[0;34m(\u001b[0m\u001b[0mflags\u001b[0m\u001b[0;34m,\u001b[0m \u001b[0mcopy\u001b[0m\u001b[0;34m=\u001b[0m\u001b[0mcopy\u001b[0m\u001b[0;34m,\u001b[0m \u001b[0mtrack\u001b[0m\u001b[0;34m=\u001b[0m\u001b[0mtrack\u001b[0m\u001b[0;34m)\u001b[0m\u001b[0;34m]\u001b[0m\u001b[0;34m\u001b[0m\u001b[0;34m\u001b[0m\u001b[0m\n\u001b[0m\u001b[1;32m    584\u001b[0m         \u001b[0;31m# have first part already, only loop while more to receive\u001b[0m\u001b[0;34m\u001b[0m\u001b[0;34m\u001b[0m\u001b[0;34m\u001b[0m\u001b[0m\n",
      "\u001b[0;32mzmq/backend/cython/socket.pyx\u001b[0m in \u001b[0;36mzmq.backend.cython.socket.Socket.recv\u001b[0;34m()\u001b[0m\n",
      "\u001b[0;32mzmq/backend/cython/socket.pyx\u001b[0m in \u001b[0;36mzmq.backend.cython.socket.Socket.recv\u001b[0;34m()\u001b[0m\n",
      "\u001b[0;32mzmq/backend/cython/socket.pyx\u001b[0m in \u001b[0;36mzmq.backend.cython.socket._recv_copy\u001b[0;34m()\u001b[0m\n",
      "\u001b[0;32m/usr/local/lib/python3.7/dist-packages/zmq/backend/cython/checkrc.pxd\u001b[0m in \u001b[0;36mzmq.backend.cython.checkrc._check_rc\u001b[0;34m()\u001b[0m\n",
      "\u001b[0;31mKeyboardInterrupt\u001b[0m: ",
      "\nDuring handling of the above exception, another exception occurred:\n",
      "\u001b[0;31mKeyboardInterrupt\u001b[0m                         Traceback (most recent call last)",
      "\u001b[0;32m<ipython-input-25-987594f58425>\u001b[0m in \u001b[0;36m<module>\u001b[0;34m()\u001b[0m\n\u001b[1;32m      8\u001b[0m \u001b[0;31m# Authenticate and create the PyDrive client.\u001b[0m\u001b[0;34m\u001b[0m\u001b[0;34m\u001b[0m\u001b[0;34m\u001b[0m\u001b[0m\n\u001b[1;32m      9\u001b[0m \u001b[0;31m# This only needs to be done once per notebook.\u001b[0m\u001b[0;34m\u001b[0m\u001b[0;34m\u001b[0m\u001b[0;34m\u001b[0m\u001b[0m\n\u001b[0;32m---> 10\u001b[0;31m \u001b[0mauth\u001b[0m\u001b[0;34m.\u001b[0m\u001b[0mauthenticate_user\u001b[0m\u001b[0;34m(\u001b[0m\u001b[0;34m)\u001b[0m\u001b[0;34m\u001b[0m\u001b[0;34m\u001b[0m\u001b[0m\n\u001b[0m\u001b[1;32m     11\u001b[0m \u001b[0mgauth\u001b[0m \u001b[0;34m=\u001b[0m \u001b[0mGoogleAuth\u001b[0m\u001b[0;34m(\u001b[0m\u001b[0;34m)\u001b[0m\u001b[0;34m\u001b[0m\u001b[0;34m\u001b[0m\u001b[0m\n\u001b[1;32m     12\u001b[0m \u001b[0mgauth\u001b[0m\u001b[0;34m.\u001b[0m\u001b[0mcredentials\u001b[0m \u001b[0;34m=\u001b[0m \u001b[0mGoogleCredentials\u001b[0m\u001b[0;34m.\u001b[0m\u001b[0mget_application_default\u001b[0m\u001b[0;34m(\u001b[0m\u001b[0;34m)\u001b[0m\u001b[0;34m\u001b[0m\u001b[0;34m\u001b[0m\u001b[0m\n",
      "\u001b[0;32m/usr/local/lib/python3.7/dist-packages/google/colab/auth.py\u001b[0m in \u001b[0;36mauthenticate_user\u001b[0;34m(clear_output)\u001b[0m\n\u001b[1;32m    149\u001b[0m     \u001b[0mcontext_manager\u001b[0m \u001b[0;34m=\u001b[0m \u001b[0m_output\u001b[0m\u001b[0;34m.\u001b[0m\u001b[0mtemporary\u001b[0m \u001b[0;32mif\u001b[0m \u001b[0mclear_output\u001b[0m \u001b[0;32melse\u001b[0m \u001b[0m_noop\u001b[0m\u001b[0;34m\u001b[0m\u001b[0;34m\u001b[0m\u001b[0m\n\u001b[1;32m    150\u001b[0m     \u001b[0;32mwith\u001b[0m \u001b[0mcontext_manager\u001b[0m\u001b[0;34m(\u001b[0m\u001b[0;34m)\u001b[0m\u001b[0;34m:\u001b[0m\u001b[0;34m\u001b[0m\u001b[0;34m\u001b[0m\u001b[0m\n\u001b[0;32m--> 151\u001b[0;31m       \u001b[0m_gcloud_login\u001b[0m\u001b[0;34m(\u001b[0m\u001b[0;34m)\u001b[0m\u001b[0;34m\u001b[0m\u001b[0;34m\u001b[0m\u001b[0m\n\u001b[0m\u001b[1;32m    152\u001b[0m     \u001b[0m_install_adc\u001b[0m\u001b[0;34m(\u001b[0m\u001b[0;34m)\u001b[0m\u001b[0;34m\u001b[0m\u001b[0;34m\u001b[0m\u001b[0m\n\u001b[1;32m    153\u001b[0m     \u001b[0mcolab_tpu_addr\u001b[0m \u001b[0;34m=\u001b[0m \u001b[0m_os\u001b[0m\u001b[0;34m.\u001b[0m\u001b[0menviron\u001b[0m\u001b[0;34m.\u001b[0m\u001b[0mget\u001b[0m\u001b[0;34m(\u001b[0m\u001b[0;34m'COLAB_TPU_ADDR'\u001b[0m\u001b[0;34m,\u001b[0m \u001b[0;34m''\u001b[0m\u001b[0;34m)\u001b[0m\u001b[0;34m\u001b[0m\u001b[0;34m\u001b[0m\u001b[0m\n",
      "\u001b[0;32m/usr/local/lib/python3.7/dist-packages/google/colab/auth.py\u001b[0m in \u001b[0;36m_gcloud_login\u001b[0;34m()\u001b[0m\n\u001b[1;32m     93\u001b[0m     \u001b[0;31m# https://github.com/jupyter/notebook/issues/3159\u001b[0m\u001b[0;34m\u001b[0m\u001b[0;34m\u001b[0m\u001b[0;34m\u001b[0m\u001b[0m\n\u001b[1;32m     94\u001b[0m     \u001b[0mprompt\u001b[0m \u001b[0;34m=\u001b[0m \u001b[0mprompt\u001b[0m\u001b[0;34m.\u001b[0m\u001b[0mrstrip\u001b[0m\u001b[0;34m(\u001b[0m\u001b[0;34m)\u001b[0m\u001b[0;34m\u001b[0m\u001b[0;34m\u001b[0m\u001b[0m\n\u001b[0;32m---> 95\u001b[0;31m     \u001b[0mcode\u001b[0m \u001b[0;34m=\u001b[0m \u001b[0mget_code\u001b[0m\u001b[0;34m(\u001b[0m\u001b[0mprompt\u001b[0m \u001b[0;34m+\u001b[0m \u001b[0;34m' '\u001b[0m\u001b[0;34m)\u001b[0m\u001b[0;34m\u001b[0m\u001b[0;34m\u001b[0m\u001b[0m\n\u001b[0m\u001b[1;32m     96\u001b[0m     \u001b[0mgcloud_process\u001b[0m\u001b[0;34m.\u001b[0m\u001b[0mcommunicate\u001b[0m\u001b[0;34m(\u001b[0m\u001b[0mcode\u001b[0m\u001b[0;34m.\u001b[0m\u001b[0mstrip\u001b[0m\u001b[0;34m(\u001b[0m\u001b[0;34m)\u001b[0m\u001b[0;34m)\u001b[0m\u001b[0;34m\u001b[0m\u001b[0;34m\u001b[0m\u001b[0m\n\u001b[1;32m     97\u001b[0m   \u001b[0;32mfinally\u001b[0m\u001b[0;34m:\u001b[0m\u001b[0;34m\u001b[0m\u001b[0;34m\u001b[0m\u001b[0m\n",
      "\u001b[0;32m/usr/local/lib/python3.7/dist-packages/ipykernel/kernelbase.py\u001b[0m in \u001b[0;36mraw_input\u001b[0;34m(self, prompt)\u001b[0m\n\u001b[1;32m    702\u001b[0m             \u001b[0mself\u001b[0m\u001b[0;34m.\u001b[0m\u001b[0m_parent_ident\u001b[0m\u001b[0;34m,\u001b[0m\u001b[0;34m\u001b[0m\u001b[0;34m\u001b[0m\u001b[0m\n\u001b[1;32m    703\u001b[0m             \u001b[0mself\u001b[0m\u001b[0;34m.\u001b[0m\u001b[0m_parent_header\u001b[0m\u001b[0;34m,\u001b[0m\u001b[0;34m\u001b[0m\u001b[0;34m\u001b[0m\u001b[0m\n\u001b[0;32m--> 704\u001b[0;31m             \u001b[0mpassword\u001b[0m\u001b[0;34m=\u001b[0m\u001b[0;32mFalse\u001b[0m\u001b[0;34m,\u001b[0m\u001b[0;34m\u001b[0m\u001b[0;34m\u001b[0m\u001b[0m\n\u001b[0m\u001b[1;32m    705\u001b[0m         )\n\u001b[1;32m    706\u001b[0m \u001b[0;34m\u001b[0m\u001b[0m\n",
      "\u001b[0;32m/usr/local/lib/python3.7/dist-packages/ipykernel/kernelbase.py\u001b[0m in \u001b[0;36m_input_request\u001b[0;34m(self, prompt, ident, parent, password)\u001b[0m\n\u001b[1;32m    732\u001b[0m             \u001b[0;32mexcept\u001b[0m \u001b[0mKeyboardInterrupt\u001b[0m\u001b[0;34m:\u001b[0m\u001b[0;34m\u001b[0m\u001b[0;34m\u001b[0m\u001b[0m\n\u001b[1;32m    733\u001b[0m                 \u001b[0;31m# re-raise KeyboardInterrupt, to truncate traceback\u001b[0m\u001b[0;34m\u001b[0m\u001b[0;34m\u001b[0m\u001b[0;34m\u001b[0m\u001b[0m\n\u001b[0;32m--> 734\u001b[0;31m                 \u001b[0;32mraise\u001b[0m \u001b[0mKeyboardInterrupt\u001b[0m\u001b[0;34m\u001b[0m\u001b[0;34m\u001b[0m\u001b[0m\n\u001b[0m\u001b[1;32m    735\u001b[0m             \u001b[0;32melse\u001b[0m\u001b[0;34m:\u001b[0m\u001b[0;34m\u001b[0m\u001b[0;34m\u001b[0m\u001b[0m\n\u001b[1;32m    736\u001b[0m                 \u001b[0;32mbreak\u001b[0m\u001b[0;34m\u001b[0m\u001b[0;34m\u001b[0m\u001b[0m\n",
      "\u001b[0;31mKeyboardInterrupt\u001b[0m: "
     ]
    }
   ],
   "source": [
    "# Import PyDrive and associated libraries.\n",
    "# This only needs to be done once per notebook.\n",
    "from pydrive.auth import GoogleAuth\n",
    "from pydrive.drive import GoogleDrive\n",
    "from google.colab import auth\n",
    "from oauth2client.client import GoogleCredentials\n",
    "\n",
    "# Authenticate and create the PyDrive client.\n",
    "# This only needs to be done once per notebook.\n",
    "auth.authenticate_user()\n",
    "gauth = GoogleAuth()\n",
    "gauth.credentials = GoogleCredentials.get_application_default()\n",
    "drive = GoogleDrive(gauth)\n",
    "\n",
    "# List .txt files in the root.\n",
    "#\n",
    "# Search query reference:\n",
    "# https://developers.google.com/drive/v2/web/search-parameters\n"
   ]
  },
  {
   "cell_type": "code",
   "execution_count": null,
   "metadata": {
    "id": "5t4V3dgbG-OY"
   },
   "outputs": [],
   "source": [
    "listed = drive.ListFile({'q': \"title contains '.jpeg'\"}).GetList()\n",
    "for file in listed:\n",
    "  print('title {}, id {}'.format(file['title'], file['id']))"
   ]
  }
 ],
 "metadata": {
  "colab": {
   "collapsed_sections": [],
   "name": "PhotoEditor.ipynb",
   "provenance": []
  },
  "kernelspec": {
   "display_name": "Python 3",
   "language": "python",
   "name": "python3"
  },
  "language_info": {
   "codemirror_mode": {
    "name": "ipython",
    "version": 3
   },
   "file_extension": ".py",
   "mimetype": "text/x-python",
   "name": "python",
   "nbconvert_exporter": "python",
   "pygments_lexer": "ipython3",
   "version": "3.8.10"
  },
  "widgets": {
   "application/vnd.jupyter.widget-state+json": {
    "228975123ab048fc8bf3a96ab33b63e7": {
     "model_module": "@jupyter-widgets/base",
     "model_name": "LayoutModel",
     "state": {
      "_model_module": "@jupyter-widgets/base",
      "_model_module_version": "1.2.0",
      "_model_name": "LayoutModel",
      "_view_count": null,
      "_view_module": "@jupyter-widgets/base",
      "_view_module_version": "1.2.0",
      "_view_name": "LayoutView",
      "align_content": null,
      "align_items": null,
      "align_self": null,
      "border": null,
      "bottom": null,
      "display": null,
      "flex": null,
      "flex_flow": null,
      "grid_area": null,
      "grid_auto_columns": null,
      "grid_auto_flow": null,
      "grid_auto_rows": null,
      "grid_column": null,
      "grid_gap": null,
      "grid_row": null,
      "grid_template_areas": null,
      "grid_template_columns": null,
      "grid_template_rows": null,
      "height": null,
      "justify_content": null,
      "justify_items": null,
      "left": null,
      "margin": null,
      "max_height": null,
      "max_width": null,
      "min_height": null,
      "min_width": null,
      "object_fit": null,
      "object_position": null,
      "order": null,
      "overflow": null,
      "overflow_x": null,
      "overflow_y": null,
      "padding": null,
      "right": null,
      "top": null,
      "visibility": null,
      "width": null
     }
    },
    "24f43699938e46a6820628f5a490d5c6": {
     "model_module": "@jupyter-widgets/base",
     "model_name": "LayoutModel",
     "state": {
      "_model_module": "@jupyter-widgets/base",
      "_model_module_version": "1.2.0",
      "_model_name": "LayoutModel",
      "_view_count": null,
      "_view_module": "@jupyter-widgets/base",
      "_view_module_version": "1.2.0",
      "_view_name": "LayoutView",
      "align_content": null,
      "align_items": null,
      "align_self": null,
      "border": null,
      "bottom": null,
      "display": null,
      "flex": null,
      "flex_flow": null,
      "grid_area": null,
      "grid_auto_columns": null,
      "grid_auto_flow": null,
      "grid_auto_rows": null,
      "grid_column": null,
      "grid_gap": null,
      "grid_row": null,
      "grid_template_areas": null,
      "grid_template_columns": null,
      "grid_template_rows": null,
      "height": null,
      "justify_content": null,
      "justify_items": null,
      "left": null,
      "margin": null,
      "max_height": null,
      "max_width": null,
      "min_height": null,
      "min_width": null,
      "object_fit": null,
      "object_position": null,
      "order": null,
      "overflow": null,
      "overflow_x": null,
      "overflow_y": null,
      "padding": null,
      "right": null,
      "top": null,
      "visibility": null,
      "width": null
     }
    },
    "2a3f009fc4d14b11a9e8e853cba5911b": {
     "model_module": "@jupyter-widgets/output",
     "model_name": "OutputModel",
     "state": {
      "_dom_classes": [],
      "_model_module": "@jupyter-widgets/output",
      "_model_module_version": "1.0.0",
      "_model_name": "OutputModel",
      "_view_count": null,
      "_view_module": "@jupyter-widgets/output",
      "_view_module_version": "1.0.0",
      "_view_name": "OutputView",
      "layout": "IPY_MODEL_24f43699938e46a6820628f5a490d5c6",
      "msg_id": "",
      "outputs": [
       {
        "image/png": "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\n",
        "metadata": {
         "needs_background": "light",
         "tags": []
        },
        "output_type": "display_data",
        "text/plain": "<Figure size 432x288 with 1 Axes>"
       }
      ]
     }
    },
    "34344cf9837143f2a246532545e00e46": {
     "model_module": "@jupyter-widgets/base",
     "model_name": "LayoutModel",
     "state": {
      "_model_module": "@jupyter-widgets/base",
      "_model_module_version": "1.2.0",
      "_model_name": "LayoutModel",
      "_view_count": null,
      "_view_module": "@jupyter-widgets/base",
      "_view_module_version": "1.2.0",
      "_view_name": "LayoutView",
      "align_content": null,
      "align_items": null,
      "align_self": null,
      "border": null,
      "bottom": null,
      "display": null,
      "flex": null,
      "flex_flow": null,
      "grid_area": null,
      "grid_auto_columns": null,
      "grid_auto_flow": null,
      "grid_auto_rows": null,
      "grid_column": null,
      "grid_gap": null,
      "grid_row": null,
      "grid_template_areas": null,
      "grid_template_columns": null,
      "grid_template_rows": null,
      "height": null,
      "justify_content": null,
      "justify_items": null,
      "left": null,
      "margin": null,
      "max_height": null,
      "max_width": null,
      "min_height": null,
      "min_width": null,
      "object_fit": null,
      "object_position": null,
      "order": null,
      "overflow": null,
      "overflow_x": null,
      "overflow_y": null,
      "padding": null,
      "right": null,
      "top": null,
      "visibility": null,
      "width": null
     }
    },
    "3c7bdbe9d03344e9971a3cb06ce73dd6": {
     "model_module": "@jupyter-widgets/controls",
     "model_name": "IntSliderModel",
     "state": {
      "_dom_classes": [],
      "_model_module": "@jupyter-widgets/controls",
      "_model_module_version": "1.5.0",
      "_model_name": "IntSliderModel",
      "_view_count": null,
      "_view_module": "@jupyter-widgets/controls",
      "_view_module_version": "1.5.0",
      "_view_name": "IntSliderView",
      "continuous_update": true,
      "description": "a",
      "description_tooltip": null,
      "disabled": false,
      "layout": "IPY_MODEL_561ec724afc345cb8021e8eddf7b9b31",
      "max": 30,
      "min": -10,
      "orientation": "horizontal",
      "readout": true,
      "readout_format": "d",
      "step": 1,
      "style": "IPY_MODEL_bb08e6e2ef2f40438a99f107cf9424ed",
      "value": 10
     }
    },
    "3cde67f96ad64f119ddbb69865116240": {
     "model_module": "@jupyter-widgets/controls",
     "model_name": "IntSliderModel",
     "state": {
      "_dom_classes": [],
      "_model_module": "@jupyter-widgets/controls",
      "_model_module_version": "1.5.0",
      "_model_name": "IntSliderModel",
      "_view_count": null,
      "_view_module": "@jupyter-widgets/controls",
      "_view_module_version": "1.5.0",
      "_view_name": "IntSliderView",
      "continuous_update": true,
      "description": "b",
      "description_tooltip": null,
      "disabled": false,
      "layout": "IPY_MODEL_34344cf9837143f2a246532545e00e46",
      "max": 60,
      "min": -20,
      "orientation": "horizontal",
      "readout": true,
      "readout_format": "d",
      "step": 1,
      "style": "IPY_MODEL_418f5e4c7f824df6adab8460b02f961e",
      "value": 20
     }
    },
    "40609a24080748e0b56790903483b3da": {
     "model_module": "ipysheet",
     "model_name": "SheetModel",
     "state": {
      "_dom_classes": [],
      "_model_module": "ipysheet",
      "_model_module_version": "~0.4.4",
      "_model_name": "SheetModel",
      "_view_count": null,
      "_view_module": "ipysheet",
      "_view_module_version": "~0.4.4",
      "_view_name": "SheetView",
      "cells": [],
      "column_headers": true,
      "column_resizing": true,
      "column_width": null,
      "columns": 5,
      "layout": "IPY_MODEL_708656e0f7714d07bad55abab592b04e",
      "named_cells": {},
      "row_headers": true,
      "row_resizing": true,
      "rows": 5,
      "search_token": "",
      "stretch_headers": "all"
     }
    },
    "418f5e4c7f824df6adab8460b02f961e": {
     "model_module": "@jupyter-widgets/controls",
     "model_name": "SliderStyleModel",
     "state": {
      "_model_module": "@jupyter-widgets/controls",
      "_model_module_version": "1.5.0",
      "_model_name": "SliderStyleModel",
      "_view_count": null,
      "_view_module": "@jupyter-widgets/base",
      "_view_module_version": "1.2.0",
      "_view_name": "StyleView",
      "description_width": "",
      "handle_color": null
     }
    },
    "561ec724afc345cb8021e8eddf7b9b31": {
     "model_module": "@jupyter-widgets/base",
     "model_name": "LayoutModel",
     "state": {
      "_model_module": "@jupyter-widgets/base",
      "_model_module_version": "1.2.0",
      "_model_name": "LayoutModel",
      "_view_count": null,
      "_view_module": "@jupyter-widgets/base",
      "_view_module_version": "1.2.0",
      "_view_name": "LayoutView",
      "align_content": null,
      "align_items": null,
      "align_self": null,
      "border": null,
      "bottom": null,
      "display": null,
      "flex": null,
      "flex_flow": null,
      "grid_area": null,
      "grid_auto_columns": null,
      "grid_auto_flow": null,
      "grid_auto_rows": null,
      "grid_column": null,
      "grid_gap": null,
      "grid_row": null,
      "grid_template_areas": null,
      "grid_template_columns": null,
      "grid_template_rows": null,
      "height": null,
      "justify_content": null,
      "justify_items": null,
      "left": null,
      "margin": null,
      "max_height": null,
      "max_width": null,
      "min_height": null,
      "min_width": null,
      "object_fit": null,
      "object_position": null,
      "order": null,
      "overflow": null,
      "overflow_x": null,
      "overflow_y": null,
      "padding": null,
      "right": null,
      "top": null,
      "visibility": null,
      "width": null
     }
    },
    "708994e001624af491f27ffa4971a1e6": {
     "model_module": "@jupyter-widgets/controls",
     "model_name": "VBoxModel",
     "state": {
      "_dom_classes": [
       "widget-interact"
      ],
      "_model_module": "@jupyter-widgets/controls",
      "_model_module_version": "1.5.0",
      "_model_name": "VBoxModel",
      "_view_count": null,
      "_view_module": "@jupyter-widgets/controls",
      "_view_module_version": "1.5.0",
      "_view_name": "VBoxView",
      "box_style": "",
      "children": [
       "IPY_MODEL_3c7bdbe9d03344e9971a3cb06ce73dd6",
       "IPY_MODEL_3cde67f96ad64f119ddbb69865116240",
       "IPY_MODEL_aa60a47e2a9b4acd81c804a8089d0d66"
      ],
      "layout": "IPY_MODEL_c50dc2cb3f1e43d396c30a5f106c8f63"
     }
    },
    "87a9b968e9f14097a05ed5d42e7dee60": {
     "model_module": "@jupyter-widgets/controls",
     "model_name": "SliderStyleModel",
     "state": {
      "_model_module": "@jupyter-widgets/controls",
      "_model_module_version": "1.5.0",
      "_model_name": "SliderStyleModel",
      "_view_count": null,
      "_view_module": "@jupyter-widgets/base",
      "_view_module_version": "1.2.0",
      "_view_name": "StyleView",
      "description_width": "",
      "handle_color": null
     }
    },
    "9191b6167a8e462bab6c700097c4a8c2": {
     "model_module": "@jupyter-widgets/controls",
     "model_name": "IntSliderModel",
     "state": {
      "_dom_classes": [],
      "_model_module": "@jupyter-widgets/controls",
      "_model_module_version": "1.5.0",
      "_model_name": "IntSliderModel",
      "_view_count": null,
      "_view_module": "@jupyter-widgets/controls",
      "_view_module_version": "1.5.0",
      "_view_name": "IntSliderView",
      "continuous_update": true,
      "description": "i",
      "description_tooltip": null,
      "disabled": false,
      "layout": "IPY_MODEL_228975123ab048fc8bf3a96ab33b63e7",
      "max": 1796,
      "min": 0,
      "orientation": "horizontal",
      "readout": true,
      "readout_format": "d",
      "step": 1,
      "style": "IPY_MODEL_87a9b968e9f14097a05ed5d42e7dee60",
      "value": 898
     }
    },
    "a129bd9977b940f18edef8872653aaed": {
     "model_module": "@jupyter-widgets/controls",
     "model_name": "VBoxModel",
     "state": {
      "_dom_classes": [
       "widget-interact"
      ],
      "_model_module": "@jupyter-widgets/controls",
      "_model_module_version": "1.5.0",
      "_model_name": "VBoxModel",
      "_view_count": null,
      "_view_module": "@jupyter-widgets/controls",
      "_view_module_version": "1.5.0",
      "_view_name": "VBoxView",
      "box_style": "",
      "children": [
       "IPY_MODEL_9191b6167a8e462bab6c700097c4a8c2",
       "IPY_MODEL_2a3f009fc4d14b11a9e8e853cba5911b"
      ],
      "layout": "IPY_MODEL_ca02a06a62634b1b96301297948f091f"
     }
    },
    "aa60a47e2a9b4acd81c804a8089d0d66": {
     "model_module": "@jupyter-widgets/output",
     "model_name": "OutputModel",
     "state": {
      "_dom_classes": [],
      "_model_module": "@jupyter-widgets/output",
      "_model_module_version": "1.0.0",
      "_model_name": "OutputModel",
      "_view_count": null,
      "_view_module": "@jupyter-widgets/output",
      "_view_module_version": "1.0.0",
      "_view_name": "OutputView",
      "layout": "IPY_MODEL_b5f7bcf15a414360bdda6bb3cf55831a",
      "msg_id": "",
      "outputs": [
       {
        "metadata": {
         "tags": []
        },
        "output_type": "display_data",
        "text/plain": "30"
       }
      ]
     }
    },
    "b5f7bcf15a414360bdda6bb3cf55831a": {
     "model_module": "@jupyter-widgets/base",
     "model_name": "LayoutModel",
     "state": {
      "_model_module": "@jupyter-widgets/base",
      "_model_module_version": "1.2.0",
      "_model_name": "LayoutModel",
      "_view_count": null,
      "_view_module": "@jupyter-widgets/base",
      "_view_module_version": "1.2.0",
      "_view_name": "LayoutView",
      "align_content": null,
      "align_items": null,
      "align_self": null,
      "border": null,
      "bottom": null,
      "display": null,
      "flex": null,
      "flex_flow": null,
      "grid_area": null,
      "grid_auto_columns": null,
      "grid_auto_flow": null,
      "grid_auto_rows": null,
      "grid_column": null,
      "grid_gap": null,
      "grid_row": null,
      "grid_template_areas": null,
      "grid_template_columns": null,
      "grid_template_rows": null,
      "height": null,
      "justify_content": null,
      "justify_items": null,
      "left": null,
      "margin": null,
      "max_height": null,
      "max_width": null,
      "min_height": null,
      "min_width": null,
      "object_fit": null,
      "object_position": null,
      "order": null,
      "overflow": null,
      "overflow_x": null,
      "overflow_y": null,
      "padding": null,
      "right": null,
      "top": null,
      "visibility": null,
      "width": null
     }
    },
    "bb08e6e2ef2f40438a99f107cf9424ed": {
     "model_module": "@jupyter-widgets/controls",
     "model_name": "SliderStyleModel",
     "state": {
      "_model_module": "@jupyter-widgets/controls",
      "_model_module_version": "1.5.0",
      "_model_name": "SliderStyleModel",
      "_view_count": null,
      "_view_module": "@jupyter-widgets/base",
      "_view_module_version": "1.2.0",
      "_view_name": "StyleView",
      "description_width": "",
      "handle_color": null
     }
    },
    "c50dc2cb3f1e43d396c30a5f106c8f63": {
     "model_module": "@jupyter-widgets/base",
     "model_name": "LayoutModel",
     "state": {
      "_model_module": "@jupyter-widgets/base",
      "_model_module_version": "1.2.0",
      "_model_name": "LayoutModel",
      "_view_count": null,
      "_view_module": "@jupyter-widgets/base",
      "_view_module_version": "1.2.0",
      "_view_name": "LayoutView",
      "align_content": null,
      "align_items": null,
      "align_self": null,
      "border": null,
      "bottom": null,
      "display": null,
      "flex": null,
      "flex_flow": null,
      "grid_area": null,
      "grid_auto_columns": null,
      "grid_auto_flow": null,
      "grid_auto_rows": null,
      "grid_column": null,
      "grid_gap": null,
      "grid_row": null,
      "grid_template_areas": null,
      "grid_template_columns": null,
      "grid_template_rows": null,
      "height": null,
      "justify_content": null,
      "justify_items": null,
      "left": null,
      "margin": null,
      "max_height": null,
      "max_width": null,
      "min_height": null,
      "min_width": null,
      "object_fit": null,
      "object_position": null,
      "order": null,
      "overflow": null,
      "overflow_x": null,
      "overflow_y": null,
      "padding": null,
      "right": null,
      "top": null,
      "visibility": null,
      "width": null
     }
    },
    "ca02a06a62634b1b96301297948f091f": {
     "model_module": "@jupyter-widgets/base",
     "model_name": "LayoutModel",
     "state": {
      "_model_module": "@jupyter-widgets/base",
      "_model_module_version": "1.2.0",
      "_model_name": "LayoutModel",
      "_view_count": null,
      "_view_module": "@jupyter-widgets/base",
      "_view_module_version": "1.2.0",
      "_view_name": "LayoutView",
      "align_content": null,
      "align_items": null,
      "align_self": null,
      "border": null,
      "bottom": null,
      "display": null,
      "flex": null,
      "flex_flow": null,
      "grid_area": null,
      "grid_auto_columns": null,
      "grid_auto_flow": null,
      "grid_auto_rows": null,
      "grid_column": null,
      "grid_gap": null,
      "grid_row": null,
      "grid_template_areas": null,
      "grid_template_columns": null,
      "grid_template_rows": null,
      "height": null,
      "justify_content": null,
      "justify_items": null,
      "left": null,
      "margin": null,
      "max_height": null,
      "max_width": null,
      "min_height": null,
      "min_width": null,
      "object_fit": null,
      "object_position": null,
      "order": null,
      "overflow": null,
      "overflow_x": null,
      "overflow_y": null,
      "padding": null,
      "right": null,
      "top": null,
      "visibility": null,
      "width": null
     }
    }
   }
  }
 },
 "nbformat": 4,
 "nbformat_minor": 1
}
