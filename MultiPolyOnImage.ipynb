{
 "cells": [
  {
   "cell_type": "code",
   "execution_count": 15,
   "id": "cd2b6726",
   "metadata": {},
   "outputs": [],
   "source": [
    "import geopandas as gpd\n",
    "from shapely.geometry import Polygon, MultiPolygon\n"
   ]
  },
  {
   "cell_type": "code",
   "execution_count": 16,
   "id": "f6acd370",
   "metadata": {},
   "outputs": [],
   "source": [
    "import plotly as plt"
   ]
  },
  {
   "cell_type": "code",
   "execution_count": 17,
   "id": "827e217d",
   "metadata": {},
   "outputs": [],
   "source": [
    "import pandas as pd"
   ]
  },
  {
   "cell_type": "code",
   "execution_count": 18,
   "id": "9eb9b304",
   "metadata": {},
   "outputs": [
    {
     "data": {
      "application/vnd.plotly.v1+json": {
       "config": {
        "plotlyServerURL": "https://plot.ly"
       },
       "data": [
        {
         "fill": "toself",
         "type": "scatter",
         "x": [
          0,
          1,
          2,
          0
         ],
         "y": [
          0,
          2,
          0,
          0
         ]
        }
       ],
       "layout": {
        "template": {
         "data": {
          "bar": [
           {
            "error_x": {
             "color": "#2a3f5f"
            },
            "error_y": {
             "color": "#2a3f5f"
            },
            "marker": {
             "line": {
              "color": "#E5ECF6",
              "width": 0.5
             },
             "pattern": {
              "fillmode": "overlay",
              "size": 10,
              "solidity": 0.2
             }
            },
            "type": "bar"
           }
          ],
          "barpolar": [
           {
            "marker": {
             "line": {
              "color": "#E5ECF6",
              "width": 0.5
             },
             "pattern": {
              "fillmode": "overlay",
              "size": 10,
              "solidity": 0.2
             }
            },
            "type": "barpolar"
           }
          ],
          "carpet": [
           {
            "aaxis": {
             "endlinecolor": "#2a3f5f",
             "gridcolor": "white",
             "linecolor": "white",
             "minorgridcolor": "white",
             "startlinecolor": "#2a3f5f"
            },
            "baxis": {
             "endlinecolor": "#2a3f5f",
             "gridcolor": "white",
             "linecolor": "white",
             "minorgridcolor": "white",
             "startlinecolor": "#2a3f5f"
            },
            "type": "carpet"
           }
          ],
          "choropleth": [
           {
            "colorbar": {
             "outlinewidth": 0,
             "ticks": ""
            },
            "type": "choropleth"
           }
          ],
          "contour": [
           {
            "colorbar": {
             "outlinewidth": 0,
             "ticks": ""
            },
            "colorscale": [
             [
              0,
              "#0d0887"
             ],
             [
              0.1111111111111111,
              "#46039f"
             ],
             [
              0.2222222222222222,
              "#7201a8"
             ],
             [
              0.3333333333333333,
              "#9c179e"
             ],
             [
              0.4444444444444444,
              "#bd3786"
             ],
             [
              0.5555555555555556,
              "#d8576b"
             ],
             [
              0.6666666666666666,
              "#ed7953"
             ],
             [
              0.7777777777777778,
              "#fb9f3a"
             ],
             [
              0.8888888888888888,
              "#fdca26"
             ],
             [
              1,
              "#f0f921"
             ]
            ],
            "type": "contour"
           }
          ],
          "contourcarpet": [
           {
            "colorbar": {
             "outlinewidth": 0,
             "ticks": ""
            },
            "type": "contourcarpet"
           }
          ],
          "heatmap": [
           {
            "colorbar": {
             "outlinewidth": 0,
             "ticks": ""
            },
            "colorscale": [
             [
              0,
              "#0d0887"
             ],
             [
              0.1111111111111111,
              "#46039f"
             ],
             [
              0.2222222222222222,
              "#7201a8"
             ],
             [
              0.3333333333333333,
              "#9c179e"
             ],
             [
              0.4444444444444444,
              "#bd3786"
             ],
             [
              0.5555555555555556,
              "#d8576b"
             ],
             [
              0.6666666666666666,
              "#ed7953"
             ],
             [
              0.7777777777777778,
              "#fb9f3a"
             ],
             [
              0.8888888888888888,
              "#fdca26"
             ],
             [
              1,
              "#f0f921"
             ]
            ],
            "type": "heatmap"
           }
          ],
          "heatmapgl": [
           {
            "colorbar": {
             "outlinewidth": 0,
             "ticks": ""
            },
            "colorscale": [
             [
              0,
              "#0d0887"
             ],
             [
              0.1111111111111111,
              "#46039f"
             ],
             [
              0.2222222222222222,
              "#7201a8"
             ],
             [
              0.3333333333333333,
              "#9c179e"
             ],
             [
              0.4444444444444444,
              "#bd3786"
             ],
             [
              0.5555555555555556,
              "#d8576b"
             ],
             [
              0.6666666666666666,
              "#ed7953"
             ],
             [
              0.7777777777777778,
              "#fb9f3a"
             ],
             [
              0.8888888888888888,
              "#fdca26"
             ],
             [
              1,
              "#f0f921"
             ]
            ],
            "type": "heatmapgl"
           }
          ],
          "histogram": [
           {
            "marker": {
             "pattern": {
              "fillmode": "overlay",
              "size": 10,
              "solidity": 0.2
             }
            },
            "type": "histogram"
           }
          ],
          "histogram2d": [
           {
            "colorbar": {
             "outlinewidth": 0,
             "ticks": ""
            },
            "colorscale": [
             [
              0,
              "#0d0887"
             ],
             [
              0.1111111111111111,
              "#46039f"
             ],
             [
              0.2222222222222222,
              "#7201a8"
             ],
             [
              0.3333333333333333,
              "#9c179e"
             ],
             [
              0.4444444444444444,
              "#bd3786"
             ],
             [
              0.5555555555555556,
              "#d8576b"
             ],
             [
              0.6666666666666666,
              "#ed7953"
             ],
             [
              0.7777777777777778,
              "#fb9f3a"
             ],
             [
              0.8888888888888888,
              "#fdca26"
             ],
             [
              1,
              "#f0f921"
             ]
            ],
            "type": "histogram2d"
           }
          ],
          "histogram2dcontour": [
           {
            "colorbar": {
             "outlinewidth": 0,
             "ticks": ""
            },
            "colorscale": [
             [
              0,
              "#0d0887"
             ],
             [
              0.1111111111111111,
              "#46039f"
             ],
             [
              0.2222222222222222,
              "#7201a8"
             ],
             [
              0.3333333333333333,
              "#9c179e"
             ],
             [
              0.4444444444444444,
              "#bd3786"
             ],
             [
              0.5555555555555556,
              "#d8576b"
             ],
             [
              0.6666666666666666,
              "#ed7953"
             ],
             [
              0.7777777777777778,
              "#fb9f3a"
             ],
             [
              0.8888888888888888,
              "#fdca26"
             ],
             [
              1,
              "#f0f921"
             ]
            ],
            "type": "histogram2dcontour"
           }
          ],
          "mesh3d": [
           {
            "colorbar": {
             "outlinewidth": 0,
             "ticks": ""
            },
            "type": "mesh3d"
           }
          ],
          "parcoords": [
           {
            "line": {
             "colorbar": {
              "outlinewidth": 0,
              "ticks": ""
             }
            },
            "type": "parcoords"
           }
          ],
          "pie": [
           {
            "automargin": true,
            "type": "pie"
           }
          ],
          "scatter": [
           {
            "fillpattern": {
             "fillmode": "overlay",
             "size": 10,
             "solidity": 0.2
            },
            "type": "scatter"
           }
          ],
          "scatter3d": [
           {
            "line": {
             "colorbar": {
              "outlinewidth": 0,
              "ticks": ""
             }
            },
            "marker": {
             "colorbar": {
              "outlinewidth": 0,
              "ticks": ""
             }
            },
            "type": "scatter3d"
           }
          ],
          "scattercarpet": [
           {
            "marker": {
             "colorbar": {
              "outlinewidth": 0,
              "ticks": ""
             }
            },
            "type": "scattercarpet"
           }
          ],
          "scattergeo": [
           {
            "marker": {
             "colorbar": {
              "outlinewidth": 0,
              "ticks": ""
             }
            },
            "type": "scattergeo"
           }
          ],
          "scattergl": [
           {
            "marker": {
             "colorbar": {
              "outlinewidth": 0,
              "ticks": ""
             }
            },
            "type": "scattergl"
           }
          ],
          "scattermapbox": [
           {
            "marker": {
             "colorbar": {
              "outlinewidth": 0,
              "ticks": ""
             }
            },
            "type": "scattermapbox"
           }
          ],
          "scatterpolar": [
           {
            "marker": {
             "colorbar": {
              "outlinewidth": 0,
              "ticks": ""
             }
            },
            "type": "scatterpolar"
           }
          ],
          "scatterpolargl": [
           {
            "marker": {
             "colorbar": {
              "outlinewidth": 0,
              "ticks": ""
             }
            },
            "type": "scatterpolargl"
           }
          ],
          "scatterternary": [
           {
            "marker": {
             "colorbar": {
              "outlinewidth": 0,
              "ticks": ""
             }
            },
            "type": "scatterternary"
           }
          ],
          "surface": [
           {
            "colorbar": {
             "outlinewidth": 0,
             "ticks": ""
            },
            "colorscale": [
             [
              0,
              "#0d0887"
             ],
             [
              0.1111111111111111,
              "#46039f"
             ],
             [
              0.2222222222222222,
              "#7201a8"
             ],
             [
              0.3333333333333333,
              "#9c179e"
             ],
             [
              0.4444444444444444,
              "#bd3786"
             ],
             [
              0.5555555555555556,
              "#d8576b"
             ],
             [
              0.6666666666666666,
              "#ed7953"
             ],
             [
              0.7777777777777778,
              "#fb9f3a"
             ],
             [
              0.8888888888888888,
              "#fdca26"
             ],
             [
              1,
              "#f0f921"
             ]
            ],
            "type": "surface"
           }
          ],
          "table": [
           {
            "cells": {
             "fill": {
              "color": "#EBF0F8"
             },
             "line": {
              "color": "white"
             }
            },
            "header": {
             "fill": {
              "color": "#C8D4E3"
             },
             "line": {
              "color": "white"
             }
            },
            "type": "table"
           }
          ]
         },
         "layout": {
          "annotationdefaults": {
           "arrowcolor": "#2a3f5f",
           "arrowhead": 0,
           "arrowwidth": 1
          },
          "autotypenumbers": "strict",
          "coloraxis": {
           "colorbar": {
            "outlinewidth": 0,
            "ticks": ""
           }
          },
          "colorscale": {
           "diverging": [
            [
             0,
             "#8e0152"
            ],
            [
             0.1,
             "#c51b7d"
            ],
            [
             0.2,
             "#de77ae"
            ],
            [
             0.3,
             "#f1b6da"
            ],
            [
             0.4,
             "#fde0ef"
            ],
            [
             0.5,
             "#f7f7f7"
            ],
            [
             0.6,
             "#e6f5d0"
            ],
            [
             0.7,
             "#b8e186"
            ],
            [
             0.8,
             "#7fbc41"
            ],
            [
             0.9,
             "#4d9221"
            ],
            [
             1,
             "#276419"
            ]
           ],
           "sequential": [
            [
             0,
             "#0d0887"
            ],
            [
             0.1111111111111111,
             "#46039f"
            ],
            [
             0.2222222222222222,
             "#7201a8"
            ],
            [
             0.3333333333333333,
             "#9c179e"
            ],
            [
             0.4444444444444444,
             "#bd3786"
            ],
            [
             0.5555555555555556,
             "#d8576b"
            ],
            [
             0.6666666666666666,
             "#ed7953"
            ],
            [
             0.7777777777777778,
             "#fb9f3a"
            ],
            [
             0.8888888888888888,
             "#fdca26"
            ],
            [
             1,
             "#f0f921"
            ]
           ],
           "sequentialminus": [
            [
             0,
             "#0d0887"
            ],
            [
             0.1111111111111111,
             "#46039f"
            ],
            [
             0.2222222222222222,
             "#7201a8"
            ],
            [
             0.3333333333333333,
             "#9c179e"
            ],
            [
             0.4444444444444444,
             "#bd3786"
            ],
            [
             0.5555555555555556,
             "#d8576b"
            ],
            [
             0.6666666666666666,
             "#ed7953"
            ],
            [
             0.7777777777777778,
             "#fb9f3a"
            ],
            [
             0.8888888888888888,
             "#fdca26"
            ],
            [
             1,
             "#f0f921"
            ]
           ]
          },
          "colorway": [
           "#636efa",
           "#EF553B",
           "#00cc96",
           "#ab63fa",
           "#FFA15A",
           "#19d3f3",
           "#FF6692",
           "#B6E880",
           "#FF97FF",
           "#FECB52"
          ],
          "font": {
           "color": "#2a3f5f"
          },
          "geo": {
           "bgcolor": "white",
           "lakecolor": "white",
           "landcolor": "#E5ECF6",
           "showlakes": true,
           "showland": true,
           "subunitcolor": "white"
          },
          "hoverlabel": {
           "align": "left"
          },
          "hovermode": "closest",
          "mapbox": {
           "style": "light"
          },
          "paper_bgcolor": "white",
          "plot_bgcolor": "#E5ECF6",
          "polar": {
           "angularaxis": {
            "gridcolor": "white",
            "linecolor": "white",
            "ticks": ""
           },
           "bgcolor": "#E5ECF6",
           "radialaxis": {
            "gridcolor": "white",
            "linecolor": "white",
            "ticks": ""
           }
          },
          "scene": {
           "xaxis": {
            "backgroundcolor": "#E5ECF6",
            "gridcolor": "white",
            "gridwidth": 2,
            "linecolor": "white",
            "showbackground": true,
            "ticks": "",
            "zerolinecolor": "white"
           },
           "yaxis": {
            "backgroundcolor": "#E5ECF6",
            "gridcolor": "white",
            "gridwidth": 2,
            "linecolor": "white",
            "showbackground": true,
            "ticks": "",
            "zerolinecolor": "white"
           },
           "zaxis": {
            "backgroundcolor": "#E5ECF6",
            "gridcolor": "white",
            "gridwidth": 2,
            "linecolor": "white",
            "showbackground": true,
            "ticks": "",
            "zerolinecolor": "white"
           }
          },
          "shapedefaults": {
           "line": {
            "color": "#2a3f5f"
           }
          },
          "ternary": {
           "aaxis": {
            "gridcolor": "white",
            "linecolor": "white",
            "ticks": ""
           },
           "baxis": {
            "gridcolor": "white",
            "linecolor": "white",
            "ticks": ""
           },
           "bgcolor": "#E5ECF6",
           "caxis": {
            "gridcolor": "white",
            "linecolor": "white",
            "ticks": ""
           }
          },
          "title": {
           "x": 0.05
          },
          "xaxis": {
           "automargin": true,
           "gridcolor": "white",
           "linecolor": "white",
           "ticks": "",
           "title": {
            "standoff": 15
           },
           "zerolinecolor": "white",
           "zerolinewidth": 2
          },
          "yaxis": {
           "automargin": true,
           "gridcolor": "white",
           "linecolor": "white",
           "ticks": "",
           "title": {
            "standoff": 15
           },
           "zerolinecolor": "white",
           "zerolinewidth": 2
          }
         }
        }
       }
      },
      "text/html": [
       "<div>                            <div id=\"0e9b9924-93d8-4704-9696-903de7e39d53\" class=\"plotly-graph-div\" style=\"height:525px; width:100%;\"></div>            <script type=\"text/javascript\">                require([\"plotly\"], function(Plotly) {                    window.PLOTLYENV=window.PLOTLYENV || {};                                    if (document.getElementById(\"0e9b9924-93d8-4704-9696-903de7e39d53\")) {                    Plotly.newPlot(                        \"0e9b9924-93d8-4704-9696-903de7e39d53\",                        [{\"fill\":\"toself\",\"x\":[0,1,2,0],\"y\":[0,2,0,0],\"type\":\"scatter\"}],                        {\"template\":{\"data\":{\"histogram2dcontour\":[{\"type\":\"histogram2dcontour\",\"colorbar\":{\"outlinewidth\":0,\"ticks\":\"\"},\"colorscale\":[[0.0,\"#0d0887\"],[0.1111111111111111,\"#46039f\"],[0.2222222222222222,\"#7201a8\"],[0.3333333333333333,\"#9c179e\"],[0.4444444444444444,\"#bd3786\"],[0.5555555555555556,\"#d8576b\"],[0.6666666666666666,\"#ed7953\"],[0.7777777777777778,\"#fb9f3a\"],[0.8888888888888888,\"#fdca26\"],[1.0,\"#f0f921\"]]}],\"choropleth\":[{\"type\":\"choropleth\",\"colorbar\":{\"outlinewidth\":0,\"ticks\":\"\"}}],\"histogram2d\":[{\"type\":\"histogram2d\",\"colorbar\":{\"outlinewidth\":0,\"ticks\":\"\"},\"colorscale\":[[0.0,\"#0d0887\"],[0.1111111111111111,\"#46039f\"],[0.2222222222222222,\"#7201a8\"],[0.3333333333333333,\"#9c179e\"],[0.4444444444444444,\"#bd3786\"],[0.5555555555555556,\"#d8576b\"],[0.6666666666666666,\"#ed7953\"],[0.7777777777777778,\"#fb9f3a\"],[0.8888888888888888,\"#fdca26\"],[1.0,\"#f0f921\"]]}],\"heatmap\":[{\"type\":\"heatmap\",\"colorbar\":{\"outlinewidth\":0,\"ticks\":\"\"},\"colorscale\":[[0.0,\"#0d0887\"],[0.1111111111111111,\"#46039f\"],[0.2222222222222222,\"#7201a8\"],[0.3333333333333333,\"#9c179e\"],[0.4444444444444444,\"#bd3786\"],[0.5555555555555556,\"#d8576b\"],[0.6666666666666666,\"#ed7953\"],[0.7777777777777778,\"#fb9f3a\"],[0.8888888888888888,\"#fdca26\"],[1.0,\"#f0f921\"]]}],\"heatmapgl\":[{\"type\":\"heatmapgl\",\"colorbar\":{\"outlinewidth\":0,\"ticks\":\"\"},\"colorscale\":[[0.0,\"#0d0887\"],[0.1111111111111111,\"#46039f\"],[0.2222222222222222,\"#7201a8\"],[0.3333333333333333,\"#9c179e\"],[0.4444444444444444,\"#bd3786\"],[0.5555555555555556,\"#d8576b\"],[0.6666666666666666,\"#ed7953\"],[0.7777777777777778,\"#fb9f3a\"],[0.8888888888888888,\"#fdca26\"],[1.0,\"#f0f921\"]]}],\"contourcarpet\":[{\"type\":\"contourcarpet\",\"colorbar\":{\"outlinewidth\":0,\"ticks\":\"\"}}],\"contour\":[{\"type\":\"contour\",\"colorbar\":{\"outlinewidth\":0,\"ticks\":\"\"},\"colorscale\":[[0.0,\"#0d0887\"],[0.1111111111111111,\"#46039f\"],[0.2222222222222222,\"#7201a8\"],[0.3333333333333333,\"#9c179e\"],[0.4444444444444444,\"#bd3786\"],[0.5555555555555556,\"#d8576b\"],[0.6666666666666666,\"#ed7953\"],[0.7777777777777778,\"#fb9f3a\"],[0.8888888888888888,\"#fdca26\"],[1.0,\"#f0f921\"]]}],\"surface\":[{\"type\":\"surface\",\"colorbar\":{\"outlinewidth\":0,\"ticks\":\"\"},\"colorscale\":[[0.0,\"#0d0887\"],[0.1111111111111111,\"#46039f\"],[0.2222222222222222,\"#7201a8\"],[0.3333333333333333,\"#9c179e\"],[0.4444444444444444,\"#bd3786\"],[0.5555555555555556,\"#d8576b\"],[0.6666666666666666,\"#ed7953\"],[0.7777777777777778,\"#fb9f3a\"],[0.8888888888888888,\"#fdca26\"],[1.0,\"#f0f921\"]]}],\"mesh3d\":[{\"type\":\"mesh3d\",\"colorbar\":{\"outlinewidth\":0,\"ticks\":\"\"}}],\"scatter\":[{\"fillpattern\":{\"fillmode\":\"overlay\",\"size\":10,\"solidity\":0.2},\"type\":\"scatter\"}],\"parcoords\":[{\"type\":\"parcoords\",\"line\":{\"colorbar\":{\"outlinewidth\":0,\"ticks\":\"\"}}}],\"scatterpolargl\":[{\"type\":\"scatterpolargl\",\"marker\":{\"colorbar\":{\"outlinewidth\":0,\"ticks\":\"\"}}}],\"bar\":[{\"error_x\":{\"color\":\"#2a3f5f\"},\"error_y\":{\"color\":\"#2a3f5f\"},\"marker\":{\"line\":{\"color\":\"#E5ECF6\",\"width\":0.5},\"pattern\":{\"fillmode\":\"overlay\",\"size\":10,\"solidity\":0.2}},\"type\":\"bar\"}],\"scattergeo\":[{\"type\":\"scattergeo\",\"marker\":{\"colorbar\":{\"outlinewidth\":0,\"ticks\":\"\"}}}],\"scatterpolar\":[{\"type\":\"scatterpolar\",\"marker\":{\"colorbar\":{\"outlinewidth\":0,\"ticks\":\"\"}}}],\"histogram\":[{\"marker\":{\"pattern\":{\"fillmode\":\"overlay\",\"size\":10,\"solidity\":0.2}},\"type\":\"histogram\"}],\"scattergl\":[{\"type\":\"scattergl\",\"marker\":{\"colorbar\":{\"outlinewidth\":0,\"ticks\":\"\"}}}],\"scatter3d\":[{\"type\":\"scatter3d\",\"line\":{\"colorbar\":{\"outlinewidth\":0,\"ticks\":\"\"}},\"marker\":{\"colorbar\":{\"outlinewidth\":0,\"ticks\":\"\"}}}],\"scattermapbox\":[{\"type\":\"scattermapbox\",\"marker\":{\"colorbar\":{\"outlinewidth\":0,\"ticks\":\"\"}}}],\"scatterternary\":[{\"type\":\"scatterternary\",\"marker\":{\"colorbar\":{\"outlinewidth\":0,\"ticks\":\"\"}}}],\"scattercarpet\":[{\"type\":\"scattercarpet\",\"marker\":{\"colorbar\":{\"outlinewidth\":0,\"ticks\":\"\"}}}],\"carpet\":[{\"aaxis\":{\"endlinecolor\":\"#2a3f5f\",\"gridcolor\":\"white\",\"linecolor\":\"white\",\"minorgridcolor\":\"white\",\"startlinecolor\":\"#2a3f5f\"},\"baxis\":{\"endlinecolor\":\"#2a3f5f\",\"gridcolor\":\"white\",\"linecolor\":\"white\",\"minorgridcolor\":\"white\",\"startlinecolor\":\"#2a3f5f\"},\"type\":\"carpet\"}],\"table\":[{\"cells\":{\"fill\":{\"color\":\"#EBF0F8\"},\"line\":{\"color\":\"white\"}},\"header\":{\"fill\":{\"color\":\"#C8D4E3\"},\"line\":{\"color\":\"white\"}},\"type\":\"table\"}],\"barpolar\":[{\"marker\":{\"line\":{\"color\":\"#E5ECF6\",\"width\":0.5},\"pattern\":{\"fillmode\":\"overlay\",\"size\":10,\"solidity\":0.2}},\"type\":\"barpolar\"}],\"pie\":[{\"automargin\":true,\"type\":\"pie\"}]},\"layout\":{\"autotypenumbers\":\"strict\",\"colorway\":[\"#636efa\",\"#EF553B\",\"#00cc96\",\"#ab63fa\",\"#FFA15A\",\"#19d3f3\",\"#FF6692\",\"#B6E880\",\"#FF97FF\",\"#FECB52\"],\"font\":{\"color\":\"#2a3f5f\"},\"hovermode\":\"closest\",\"hoverlabel\":{\"align\":\"left\"},\"paper_bgcolor\":\"white\",\"plot_bgcolor\":\"#E5ECF6\",\"polar\":{\"bgcolor\":\"#E5ECF6\",\"angularaxis\":{\"gridcolor\":\"white\",\"linecolor\":\"white\",\"ticks\":\"\"},\"radialaxis\":{\"gridcolor\":\"white\",\"linecolor\":\"white\",\"ticks\":\"\"}},\"ternary\":{\"bgcolor\":\"#E5ECF6\",\"aaxis\":{\"gridcolor\":\"white\",\"linecolor\":\"white\",\"ticks\":\"\"},\"baxis\":{\"gridcolor\":\"white\",\"linecolor\":\"white\",\"ticks\":\"\"},\"caxis\":{\"gridcolor\":\"white\",\"linecolor\":\"white\",\"ticks\":\"\"}},\"coloraxis\":{\"colorbar\":{\"outlinewidth\":0,\"ticks\":\"\"}},\"colorscale\":{\"sequential\":[[0.0,\"#0d0887\"],[0.1111111111111111,\"#46039f\"],[0.2222222222222222,\"#7201a8\"],[0.3333333333333333,\"#9c179e\"],[0.4444444444444444,\"#bd3786\"],[0.5555555555555556,\"#d8576b\"],[0.6666666666666666,\"#ed7953\"],[0.7777777777777778,\"#fb9f3a\"],[0.8888888888888888,\"#fdca26\"],[1.0,\"#f0f921\"]],\"sequentialminus\":[[0.0,\"#0d0887\"],[0.1111111111111111,\"#46039f\"],[0.2222222222222222,\"#7201a8\"],[0.3333333333333333,\"#9c179e\"],[0.4444444444444444,\"#bd3786\"],[0.5555555555555556,\"#d8576b\"],[0.6666666666666666,\"#ed7953\"],[0.7777777777777778,\"#fb9f3a\"],[0.8888888888888888,\"#fdca26\"],[1.0,\"#f0f921\"]],\"diverging\":[[0,\"#8e0152\"],[0.1,\"#c51b7d\"],[0.2,\"#de77ae\"],[0.3,\"#f1b6da\"],[0.4,\"#fde0ef\"],[0.5,\"#f7f7f7\"],[0.6,\"#e6f5d0\"],[0.7,\"#b8e186\"],[0.8,\"#7fbc41\"],[0.9,\"#4d9221\"],[1,\"#276419\"]]},\"xaxis\":{\"gridcolor\":\"white\",\"linecolor\":\"white\",\"ticks\":\"\",\"title\":{\"standoff\":15},\"zerolinecolor\":\"white\",\"automargin\":true,\"zerolinewidth\":2},\"yaxis\":{\"gridcolor\":\"white\",\"linecolor\":\"white\",\"ticks\":\"\",\"title\":{\"standoff\":15},\"zerolinecolor\":\"white\",\"automargin\":true,\"zerolinewidth\":2},\"scene\":{\"xaxis\":{\"backgroundcolor\":\"#E5ECF6\",\"gridcolor\":\"white\",\"linecolor\":\"white\",\"showbackground\":true,\"ticks\":\"\",\"zerolinecolor\":\"white\",\"gridwidth\":2},\"yaxis\":{\"backgroundcolor\":\"#E5ECF6\",\"gridcolor\":\"white\",\"linecolor\":\"white\",\"showbackground\":true,\"ticks\":\"\",\"zerolinecolor\":\"white\",\"gridwidth\":2},\"zaxis\":{\"backgroundcolor\":\"#E5ECF6\",\"gridcolor\":\"white\",\"linecolor\":\"white\",\"showbackground\":true,\"ticks\":\"\",\"zerolinecolor\":\"white\",\"gridwidth\":2}},\"shapedefaults\":{\"line\":{\"color\":\"#2a3f5f\"}},\"annotationdefaults\":{\"arrowcolor\":\"#2a3f5f\",\"arrowhead\":0,\"arrowwidth\":1},\"geo\":{\"bgcolor\":\"white\",\"landcolor\":\"#E5ECF6\",\"subunitcolor\":\"white\",\"showland\":true,\"showlakes\":true,\"lakecolor\":\"white\"},\"title\":{\"x\":0.05},\"mapbox\":{\"style\":\"light\"}}}},                        {\"responsive\": true}                    ).then(function(){\n",
       "                            \n",
       "var gd = document.getElementById('0e9b9924-93d8-4704-9696-903de7e39d53');\n",
       "var x = new MutationObserver(function (mutations, observer) {{\n",
       "        var display = window.getComputedStyle(gd).display;\n",
       "        if (!display || display === 'none') {{\n",
       "            console.log([gd, 'removed!']);\n",
       "            Plotly.purge(gd);\n",
       "            observer.disconnect();\n",
       "        }}\n",
       "}});\n",
       "\n",
       "// Listen for the removal of the full notebook cells\n",
       "var notebookContainer = gd.closest('#notebook-container');\n",
       "if (notebookContainer) {{\n",
       "    x.observe(notebookContainer, {childList: true});\n",
       "}}\n",
       "\n",
       "// Listen for the clearing of the current output cell\n",
       "var outputEl = gd.closest('.output');\n",
       "if (outputEl) {{\n",
       "    x.observe(outputEl, {childList: true});\n",
       "}}\n",
       "\n",
       "                        })                };                });            </script>        </div>"
      ]
     },
     "metadata": {},
     "output_type": "display_data"
    }
   ],
   "source": [
    "import plotly.graph_objects as go\n",
    "\n",
    "fig = go.Figure(go.Scatter(x=[0,1,2,0], y=[0,2,0,0], fill=\"toself\"))\n",
    "fig.show()"
   ]
  },
  {
   "cell_type": "code",
   "execution_count": 19,
   "id": "fa999dd9",
   "metadata": {},
   "outputs": [
    {
     "data": {
      "application/vnd.plotly.v1+json": {
       "config": {
        "plotlyServerURL": "https://plot.ly"
       },
       "data": [
        {
         "hovertemplate": "x: %{x}<br>y: %{y}<br>color: %{z}<extra></extra>",
         "name": "0",
         "source": "data:image/png;base64,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",
         "type": "image",
         "xaxis": "x",
         "yaxis": "y"
        }
       ],
       "layout": {
        "margin": {
         "t": 60
        },
        "template": {
         "data": {
          "bar": [
           {
            "error_x": {
             "color": "#2a3f5f"
            },
            "error_y": {
             "color": "#2a3f5f"
            },
            "marker": {
             "line": {
              "color": "#E5ECF6",
              "width": 0.5
             },
             "pattern": {
              "fillmode": "overlay",
              "size": 10,
              "solidity": 0.2
             }
            },
            "type": "bar"
           }
          ],
          "barpolar": [
           {
            "marker": {
             "line": {
              "color": "#E5ECF6",
              "width": 0.5
             },
             "pattern": {
              "fillmode": "overlay",
              "size": 10,
              "solidity": 0.2
             }
            },
            "type": "barpolar"
           }
          ],
          "carpet": [
           {
            "aaxis": {
             "endlinecolor": "#2a3f5f",
             "gridcolor": "white",
             "linecolor": "white",
             "minorgridcolor": "white",
             "startlinecolor": "#2a3f5f"
            },
            "baxis": {
             "endlinecolor": "#2a3f5f",
             "gridcolor": "white",
             "linecolor": "white",
             "minorgridcolor": "white",
             "startlinecolor": "#2a3f5f"
            },
            "type": "carpet"
           }
          ],
          "choropleth": [
           {
            "colorbar": {
             "outlinewidth": 0,
             "ticks": ""
            },
            "type": "choropleth"
           }
          ],
          "contour": [
           {
            "colorbar": {
             "outlinewidth": 0,
             "ticks": ""
            },
            "colorscale": [
             [
              0,
              "#0d0887"
             ],
             [
              0.1111111111111111,
              "#46039f"
             ],
             [
              0.2222222222222222,
              "#7201a8"
             ],
             [
              0.3333333333333333,
              "#9c179e"
             ],
             [
              0.4444444444444444,
              "#bd3786"
             ],
             [
              0.5555555555555556,
              "#d8576b"
             ],
             [
              0.6666666666666666,
              "#ed7953"
             ],
             [
              0.7777777777777778,
              "#fb9f3a"
             ],
             [
              0.8888888888888888,
              "#fdca26"
             ],
             [
              1,
              "#f0f921"
             ]
            ],
            "type": "contour"
           }
          ],
          "contourcarpet": [
           {
            "colorbar": {
             "outlinewidth": 0,
             "ticks": ""
            },
            "type": "contourcarpet"
           }
          ],
          "heatmap": [
           {
            "colorbar": {
             "outlinewidth": 0,
             "ticks": ""
            },
            "colorscale": [
             [
              0,
              "#0d0887"
             ],
             [
              0.1111111111111111,
              "#46039f"
             ],
             [
              0.2222222222222222,
              "#7201a8"
             ],
             [
              0.3333333333333333,
              "#9c179e"
             ],
             [
              0.4444444444444444,
              "#bd3786"
             ],
             [
              0.5555555555555556,
              "#d8576b"
             ],
             [
              0.6666666666666666,
              "#ed7953"
             ],
             [
              0.7777777777777778,
              "#fb9f3a"
             ],
             [
              0.8888888888888888,
              "#fdca26"
             ],
             [
              1,
              "#f0f921"
             ]
            ],
            "type": "heatmap"
           }
          ],
          "heatmapgl": [
           {
            "colorbar": {
             "outlinewidth": 0,
             "ticks": ""
            },
            "colorscale": [
             [
              0,
              "#0d0887"
             ],
             [
              0.1111111111111111,
              "#46039f"
             ],
             [
              0.2222222222222222,
              "#7201a8"
             ],
             [
              0.3333333333333333,
              "#9c179e"
             ],
             [
              0.4444444444444444,
              "#bd3786"
             ],
             [
              0.5555555555555556,
              "#d8576b"
             ],
             [
              0.6666666666666666,
              "#ed7953"
             ],
             [
              0.7777777777777778,
              "#fb9f3a"
             ],
             [
              0.8888888888888888,
              "#fdca26"
             ],
             [
              1,
              "#f0f921"
             ]
            ],
            "type": "heatmapgl"
           }
          ],
          "histogram": [
           {
            "marker": {
             "pattern": {
              "fillmode": "overlay",
              "size": 10,
              "solidity": 0.2
             }
            },
            "type": "histogram"
           }
          ],
          "histogram2d": [
           {
            "colorbar": {
             "outlinewidth": 0,
             "ticks": ""
            },
            "colorscale": [
             [
              0,
              "#0d0887"
             ],
             [
              0.1111111111111111,
              "#46039f"
             ],
             [
              0.2222222222222222,
              "#7201a8"
             ],
             [
              0.3333333333333333,
              "#9c179e"
             ],
             [
              0.4444444444444444,
              "#bd3786"
             ],
             [
              0.5555555555555556,
              "#d8576b"
             ],
             [
              0.6666666666666666,
              "#ed7953"
             ],
             [
              0.7777777777777778,
              "#fb9f3a"
             ],
             [
              0.8888888888888888,
              "#fdca26"
             ],
             [
              1,
              "#f0f921"
             ]
            ],
            "type": "histogram2d"
           }
          ],
          "histogram2dcontour": [
           {
            "colorbar": {
             "outlinewidth": 0,
             "ticks": ""
            },
            "colorscale": [
             [
              0,
              "#0d0887"
             ],
             [
              0.1111111111111111,
              "#46039f"
             ],
             [
              0.2222222222222222,
              "#7201a8"
             ],
             [
              0.3333333333333333,
              "#9c179e"
             ],
             [
              0.4444444444444444,
              "#bd3786"
             ],
             [
              0.5555555555555556,
              "#d8576b"
             ],
             [
              0.6666666666666666,
              "#ed7953"
             ],
             [
              0.7777777777777778,
              "#fb9f3a"
             ],
             [
              0.8888888888888888,
              "#fdca26"
             ],
             [
              1,
              "#f0f921"
             ]
            ],
            "type": "histogram2dcontour"
           }
          ],
          "mesh3d": [
           {
            "colorbar": {
             "outlinewidth": 0,
             "ticks": ""
            },
            "type": "mesh3d"
           }
          ],
          "parcoords": [
           {
            "line": {
             "colorbar": {
              "outlinewidth": 0,
              "ticks": ""
             }
            },
            "type": "parcoords"
           }
          ],
          "pie": [
           {
            "automargin": true,
            "type": "pie"
           }
          ],
          "scatter": [
           {
            "fillpattern": {
             "fillmode": "overlay",
             "size": 10,
             "solidity": 0.2
            },
            "type": "scatter"
           }
          ],
          "scatter3d": [
           {
            "line": {
             "colorbar": {
              "outlinewidth": 0,
              "ticks": ""
             }
            },
            "marker": {
             "colorbar": {
              "outlinewidth": 0,
              "ticks": ""
             }
            },
            "type": "scatter3d"
           }
          ],
          "scattercarpet": [
           {
            "marker": {
             "colorbar": {
              "outlinewidth": 0,
              "ticks": ""
             }
            },
            "type": "scattercarpet"
           }
          ],
          "scattergeo": [
           {
            "marker": {
             "colorbar": {
              "outlinewidth": 0,
              "ticks": ""
             }
            },
            "type": "scattergeo"
           }
          ],
          "scattergl": [
           {
            "marker": {
             "colorbar": {
              "outlinewidth": 0,
              "ticks": ""
             }
            },
            "type": "scattergl"
           }
          ],
          "scattermapbox": [
           {
            "marker": {
             "colorbar": {
              "outlinewidth": 0,
              "ticks": ""
             }
            },
            "type": "scattermapbox"
           }
          ],
          "scatterpolar": [
           {
            "marker": {
             "colorbar": {
              "outlinewidth": 0,
              "ticks": ""
             }
            },
            "type": "scatterpolar"
           }
          ],
          "scatterpolargl": [
           {
            "marker": {
             "colorbar": {
              "outlinewidth": 0,
              "ticks": ""
             }
            },
            "type": "scatterpolargl"
           }
          ],
          "scatterternary": [
           {
            "marker": {
             "colorbar": {
              "outlinewidth": 0,
              "ticks": ""
             }
            },
            "type": "scatterternary"
           }
          ],
          "surface": [
           {
            "colorbar": {
             "outlinewidth": 0,
             "ticks": ""
            },
            "colorscale": [
             [
              0,
              "#0d0887"
             ],
             [
              0.1111111111111111,
              "#46039f"
             ],
             [
              0.2222222222222222,
              "#7201a8"
             ],
             [
              0.3333333333333333,
              "#9c179e"
             ],
             [
              0.4444444444444444,
              "#bd3786"
             ],
             [
              0.5555555555555556,
              "#d8576b"
             ],
             [
              0.6666666666666666,
              "#ed7953"
             ],
             [
              0.7777777777777778,
              "#fb9f3a"
             ],
             [
              0.8888888888888888,
              "#fdca26"
             ],
             [
              1,
              "#f0f921"
             ]
            ],
            "type": "surface"
           }
          ],
          "table": [
           {
            "cells": {
             "fill": {
              "color": "#EBF0F8"
             },
             "line": {
              "color": "white"
             }
            },
            "header": {
             "fill": {
              "color": "#C8D4E3"
             },
             "line": {
              "color": "white"
             }
            },
            "type": "table"
           }
          ]
         },
         "layout": {
          "annotationdefaults": {
           "arrowcolor": "#2a3f5f",
           "arrowhead": 0,
           "arrowwidth": 1
          },
          "autotypenumbers": "strict",
          "coloraxis": {
           "colorbar": {
            "outlinewidth": 0,
            "ticks": ""
           }
          },
          "colorscale": {
           "diverging": [
            [
             0,
             "#8e0152"
            ],
            [
             0.1,
             "#c51b7d"
            ],
            [
             0.2,
             "#de77ae"
            ],
            [
             0.3,
             "#f1b6da"
            ],
            [
             0.4,
             "#fde0ef"
            ],
            [
             0.5,
             "#f7f7f7"
            ],
            [
             0.6,
             "#e6f5d0"
            ],
            [
             0.7,
             "#b8e186"
            ],
            [
             0.8,
             "#7fbc41"
            ],
            [
             0.9,
             "#4d9221"
            ],
            [
             1,
             "#276419"
            ]
           ],
           "sequential": [
            [
             0,
             "#0d0887"
            ],
            [
             0.1111111111111111,
             "#46039f"
            ],
            [
             0.2222222222222222,
             "#7201a8"
            ],
            [
             0.3333333333333333,
             "#9c179e"
            ],
            [
             0.4444444444444444,
             "#bd3786"
            ],
            [
             0.5555555555555556,
             "#d8576b"
            ],
            [
             0.6666666666666666,
             "#ed7953"
            ],
            [
             0.7777777777777778,
             "#fb9f3a"
            ],
            [
             0.8888888888888888,
             "#fdca26"
            ],
            [
             1,
             "#f0f921"
            ]
           ],
           "sequentialminus": [
            [
             0,
             "#0d0887"
            ],
            [
             0.1111111111111111,
             "#46039f"
            ],
            [
             0.2222222222222222,
             "#7201a8"
            ],
            [
             0.3333333333333333,
             "#9c179e"
            ],
            [
             0.4444444444444444,
             "#bd3786"
            ],
            [
             0.5555555555555556,
             "#d8576b"
            ],
            [
             0.6666666666666666,
             "#ed7953"
            ],
            [
             0.7777777777777778,
             "#fb9f3a"
            ],
            [
             0.8888888888888888,
             "#fdca26"
            ],
            [
             1,
             "#f0f921"
            ]
           ]
          },
          "colorway": [
           "#636efa",
           "#EF553B",
           "#00cc96",
           "#ab63fa",
           "#FFA15A",
           "#19d3f3",
           "#FF6692",
           "#B6E880",
           "#FF97FF",
           "#FECB52"
          ],
          "font": {
           "color": "#2a3f5f"
          },
          "geo": {
           "bgcolor": "white",
           "lakecolor": "white",
           "landcolor": "#E5ECF6",
           "showlakes": true,
           "showland": true,
           "subunitcolor": "white"
          },
          "hoverlabel": {
           "align": "left"
          },
          "hovermode": "closest",
          "mapbox": {
           "style": "light"
          },
          "paper_bgcolor": "white",
          "plot_bgcolor": "#E5ECF6",
          "polar": {
           "angularaxis": {
            "gridcolor": "white",
            "linecolor": "white",
            "ticks": ""
           },
           "bgcolor": "#E5ECF6",
           "radialaxis": {
            "gridcolor": "white",
            "linecolor": "white",
            "ticks": ""
           }
          },
          "scene": {
           "xaxis": {
            "backgroundcolor": "#E5ECF6",
            "gridcolor": "white",
            "gridwidth": 2,
            "linecolor": "white",
            "showbackground": true,
            "ticks": "",
            "zerolinecolor": "white"
           },
           "yaxis": {
            "backgroundcolor": "#E5ECF6",
            "gridcolor": "white",
            "gridwidth": 2,
            "linecolor": "white",
            "showbackground": true,
            "ticks": "",
            "zerolinecolor": "white"
           },
           "zaxis": {
            "backgroundcolor": "#E5ECF6",
            "gridcolor": "white",
            "gridwidth": 2,
            "linecolor": "white",
            "showbackground": true,
            "ticks": "",
            "zerolinecolor": "white"
           }
          },
          "shapedefaults": {
           "line": {
            "color": "#2a3f5f"
           }
          },
          "ternary": {
           "aaxis": {
            "gridcolor": "white",
            "linecolor": "white",
            "ticks": ""
           },
           "baxis": {
            "gridcolor": "white",
            "linecolor": "white",
            "ticks": ""
           },
           "bgcolor": "#E5ECF6",
           "caxis": {
            "gridcolor": "white",
            "linecolor": "white",
            "ticks": ""
           }
          },
          "title": {
           "x": 0.05
          },
          "xaxis": {
           "automargin": true,
           "gridcolor": "white",
           "linecolor": "white",
           "ticks": "",
           "title": {
            "standoff": 15
           },
           "zerolinecolor": "white",
           "zerolinewidth": 2
          },
          "yaxis": {
           "automargin": true,
           "gridcolor": "white",
           "linecolor": "white",
           "ticks": "",
           "title": {
            "standoff": 15
           },
           "zerolinecolor": "white",
           "zerolinewidth": 2
          }
         }
        },
        "xaxis": {
         "anchor": "y",
         "domain": [
          0,
          1
         ]
        },
        "yaxis": {
         "anchor": "x",
         "domain": [
          0,
          1
         ]
        }
       }
      },
      "text/html": [
       "<div>                            <div id=\"0cfe47bc-0d4e-4de4-80a7-583e1d251a67\" class=\"plotly-graph-div\" style=\"height:525px; width:100%;\"></div>            <script type=\"text/javascript\">                require([\"plotly\"], function(Plotly) {                    window.PLOTLYENV=window.PLOTLYENV || {};                                    if (document.getElementById(\"0cfe47bc-0d4e-4de4-80a7-583e1d251a67\")) {                    Plotly.newPlot(                        \"0cfe47bc-0d4e-4de4-80a7-583e1d251a67\",                        [{\"name\":\"0\",\"source\":\"data:image/png;base64,iVBORw0KGgoAAAANSUhEUgAAAqkAAAKICAYAAABT1mNUAAC3qElEQVR4XuzdeZxN9R/H8de5d1ZmxjAMBmUd+xIixCjZRUUqaUFjElEqEqJEWX5akAwpRososifbIEtoIUSFxGAsMxhmvff8/pjBnWubhZk7vJ+Px+3RfL7fc497zrn3fM53OcdYv369ichNEBwcjK+vr3NYRERE5Lrczp496xwTuSG2bdvmHBIRERHJECM+Pt6lWlIjIiJ46qmnnMOSi7RPcpe2f/bsfKQCpfK7OYflNvHfuRSqfveXc1jkmvS7m3sct73FqUxEREREJNcpSRURERERl6MkVURERERcjpJUEREREXE5mk1wsyT8woTQN1ji0ZHxn4RS2d25gtw88Wye1I8PVkQRcz4ZrB54+xWhVMW6NH/8SdpWLqCrsxsl6Qg/z/+a71ZtYc+hWBIt+Qm8swp1W3ele+sK5DOcF5CbziiBd/8vyV8rCIunFcxkzPOnsB3aTvLW74hfvpwU15ovKznqHD8Oe4yxG5Oc4gb5mw3nm4EN0Okqr7ravrVQ9OFxfNarWp5L+vLavzePsHN85RxWnffHL3YZc9Y/ytD7/NH5OqfYORMdxekSDzH8hUb42eI5fexvNn4/m0mD/iZpwjg6llKamm3xe/l6yCA+/8uXuq078kLXIHzMsxz9awd7zqXgrgM+dxgeGAFBWLyskHwee6KJ4V0Ut0otcKvUHK8WSzj7zsskHEl2XlJuI24VOjKkVyP8LkYMrP53KCm4BVxp33oULo3VoU5eoePxZkj+m4Xz/6D4I+/S9ehIRn27jIMhj3On8qIcZfgWp1LlyvgbQPXa1CuTwJ4+37Dj70Q6lvJ2ri6Zkszer8cRsacwD4/8Hz1r+ly6CGvcwrGi5Bo7tqVPczLiF3AvjNvdYfiGdsc9sA2+z28l+a3Psdmdl5HbhZG/OMFVqlFY56Vbzq20b2+Bj+B6zv+ykB9P1aFj26rUe6g1JfcvZclO5+Z3yTFmCvEn/iJy0QaOeFejdkVP5xqSWck7WLb8IB73dOHJGg4Jqrim5BOkbHiXM19twDQNjIoP4VksL7aryA1jmtjtNmy2tJfdjgaB3CJuoX2rltQbzTzJ2oXrMRoPppG/gZtfS9pUncvMhZvoWq0Jvjqb55iUXybweOsJqV9Y08SwFKRu2Gu0CNK1WXbZYw9y8IyFOyqW17jTPMOObddmbPZ7cbPcgVtRC0TZnCvJbSL590l0bTPpUsC9Jr0/H02HIvp9zOsu27cejXhj7jCael0K5RVKUm8w++FVLN1eiGZja+EFYAnkvnb1mDF+GWtP3kvbW6H9PY9wq/wk7/ZrjJ9hJykumn2bv2fmtNcYyvu89/CdeXJ8jsuwm6lX5oYy1DzF4rC/8mrTitwQbsGPMbxvY/wvBCz5KFpQ56dbweX71ocgD4cKeYiS1Bsqhb9/+IG9Cf+x+8U2zHYsMtz5YeVhWj9WSmMscop3Ie4oXTp1TCplCa5aFevBJ3l/+ToOdriTMtoRWWYpWIKgfHY2/LWfeILI71xBXJAVa62mWC2AbR8pR9SKejsz8hWhbPngW2LcoqR3K+1bJak3UuIOflh1hNKdRvBKs8IO4/Rs/PXNm0z48Uf+7tidYG313GHGc/68Ddw8dIuV7PKozn2Ni7BixTfM+6sOXSvkwX6k20n+O/Fo3A+fzndhGHbM7d+QGK1ZUyLi2pQu3UDntv3IutgydGx9N+WdbnFUovk9zFi3mh93diW4Zh5td89jzLOH2bXzD/xsSZyNOcSf6xbx/Q4vava5Fw1LzS5v7nq6N61+H8msAS/xb4d23FupGD6WRE79t5udyXUIe/wudA+F3GTB2vZLirSyYLi7pQ3NMDEPfs2Z8G+xqbv/tmaePczuHb873KYIsBTgzqql8dfvo7gIJak3inmWn3/cyLkyj9OwxOXfcK/qjbmnwA9ELt9Gt5oNyOdcQW4gC35FiuKz/XvefuVbsLjh5VuY4mWr0fGNwXRsHKQhFzeA4X8PL34wnirfzGZx5EzGzzlDouFNoaDyVG9amwQ7eGtD5zwzEfvx/7CXKoXF0wODJMy4w9gO/k7Sz3OIXxmJLdF5IbndpPwzjxGvzUsfzMMTbOTWpCT1RjF8uW/YPO5zjl/gWYd+Xy2ln3NcbgJv6vf5lG/6OMflRrP4VqB5jyE07+FcIrnGjCLh/ftJcI6LAJCf5m8torlzWG4Bt96+VTuHiIiIiLgcJakiIiIi4nKUpIqIiIiIyzHCw8Ndao7nU089RUREhHNYRCTLas972zkkt4lS+d34vsUbzmERyQOM+Ph4l0pSIyIiCA0NdQ5LLoqMjCQkJMQ5LDlE2z97tP1ub9r/khVhYWFMmTLFOSw5wPE7q+5+EREREXE5SlJFRERExOUoSRURERERl6MkVURERERcTraS1OSoSMb36ECPT/dicy4UERERyYM0aco1ZOmxqPZzB9m08AsivlnHgfMmQc4VRERERESyIQstqXZOrJzC5LV2Gr8ykPYlsvAWIiIiIiLXkIWWVAuBD45gZnsLhm0v0z9zLhcRERERyZ6sNYMaFgznmIiIiIjIDZK1JFVERETkFhUWFuYcklygJFVEREREXI6SVBERERFxOUpSRURERMTlKEkVEREREZeThVtQObAG033aYro7x0VERETyKD1xyjWoJVVEREREXI6SVBERERFxOUpSRURERMTlGOHh4aZzMLcFBwc7h0RERETkNmLEx8e7VJIaERFBaGioc1hyUWRkJCEhIc5hySHa/tmj7Xd70/6XrAgLC9PkqVzi+J1Vd7+IiIiIuBwlqSIiIiLicpSkioiIiIjLUZIqIiIiIi4nC0+cSiZ663wiZi9j056jxLsVonStFjz9QhfqFbY6VxYRERHJUzRpyjVkviU1YSdzwxdzomw7eg8exqBn62P9/QtGjVtGtN25soiIiIhI5mW+JdWrFj0nTcPN/cKitSl0bBv9l/zBP7a2BGY+7RURERERSSdLKeWlBBUgkZiYc1iKlaCoevtFRERE5AbIUpJ6iZ2YjVOZtj4/Lbp1oEw2301EREREBLKVpNqI/ukjBo7ZRukX3uaFer4YzlVERERE8piwsDDnkOSCzI9JBSCFo6vH8foHf1Kx72hebRaEu3MVEREREZEsylKSmvDnLN76YDtleo9TgioiIiIiN1zmk1TzJGtmzedwuU70LBfPwX/+SSsw8ClWhqL51ekvIiIiItmT+SQ1ZR+79iSQcHomA3vNdCjw4N7Bc3kzxMshJiIiIiKSeZlPUt3vpv+cZfR3jouIiIjcAvTEKdeQjdn9IiIiIiI3h5JUEREREXE5SlJFRERExOUY4eHhpnMwtwUHBzuHREREROQ2YsTHx7tUkhoREUFoaKhzWHJRZGQkISEhzmHJIdr+2aPtd3vT/pesCAsL0+SpXOL4nVV3v4iIiIi4HCWpIiIiIuJylKSKiIiIiMtRkioiIiIiLifzT5wyT7NrYQRfLd3EH//FYPMqQvl6D9It7GGqF1DOKyIiInmbJk25hswnqYYbyYlQrk0YHUrlJ+nwRmZ/OpW3bcX47PVG+BjOC4iIiIiIZE7mk1TyU/PRPtS88Get6nj+Fcmbu/7imL0RPlbHuiIiIiIimZe9/nl7Aid2/8DSX5K5o2F9SipBFREREZEbIAstqamSN47l8bdXEGc38LsrlPcer4yncyURERERkSzIckuqW63ujJ8wnndee5Jq0TN4bfC37E92riUiIiKSt4SFhTmHJBdkOUk1vAO4s3xV7n7gKd7o3xrf3d+yeJeyVBERERHJviwnqekYFgxSSElxLhARERERybzMj0lN3suyL3fgFlyGQB8L54/tZuXsxUQHtqBJZXfn2iIiIiIimZbpJNVMiOPE/khWLJpBdJwND79ilK/9OMOeeZTa+Zxri4iIiIhkXqaTVMO3Nl2H16arc4GIiIjILUBPnHINN2ZMqoiIiIjIDaQkVURERERcjpJUEREREXE5Rnh4uOkczG3BwcHOIRERERG5jRjx8fEulaRGREQQGhrqHJZcFBkZSUhIiHNYcoi2f/Zo+93etP8lK8LCwjR5Kpc4fmfV3S8iIiIiLkdJqoiIiIi4HCWpIiIiIuJylKSKiIiIiMvJZpJqcua3cHp3aMXjH/1CsnOxiIiISB6jSVOuIVtJavyfX/LmqDXEehrORSIiIiIiWZblJNV+6icmvreMwj2H0Km01blYRERERCTLspak2qJYPG4Cfzd4jZfvD0QpqoiIiIjcSFlIUu1ELf6IiJiWvPxMDfI7F4uIiIiIZFOmk1QzZg3TZh2lSc/HqOTlXCoiIiKSt4WFhTmHJBe4OQeuzeT0phVsPn0Uc8ijLL0QtaVg2z6Ejn89xUcfPkHpTKe+IiIiIiKXZDJJNfBr8jKfVEu4FDJjWf2/11lYtC9jezSkhBJUEREREcmmTCapYMlfhFKOA1Ht3vh7Glh9ilCiqC/uDkUiIiIiIlmhdk8RERERcTmZbkm9jKUw7ccsor1zXERERCQP0hOnXINaUkVERETE5ShJFRERERGXoyRVRERERFyOER4ebjoHc1twcLBzSHJR06ZNnUMiInnGmjVrnEMikgcY8fHxLpWkRkREEBoa6hyWXGQYBqbpUoeJiEiG6PdLsiIsLEyTp3JJZGQkISEhgLr7RURERMQFKUkVEREREZejJFXkNmBGf86DvhYMw8AwrBR+ch5nnCvlhKRVvFDCmvbvuMbLozbv/GFzXvrKzGOEt/TCMAzcggewKdm5goPM1BURkVylJFXklmcSvXgua85dGJdnJ2bZHH48na6SiIiIS8naE6fOr2J45/fYkOQQ82jC0HlDaOzuEBOR3GceY/HcNZwzUyeRgIk99gfmrjhNx44FnGvfXO616PPFEtonpCbMyT//jy7DVxBnWinZeTyfdAvGCmDxI7i0rqFFJHdo0pRryNJZwIw/x3lLCdoOmcTkyZNTXx+FUjtrKa+I3ETmscXMjTyPiYWAB5+gpa8B9lh+mLOcWOfK9qOsGvkodwX54u1bkrpPjGHlqreo7WFgGB7UGbmLS53wSfz7w2h6PFCNkv7eeHr7U6pWW16cspmTdof3dGQUokrTlrRq1YpWrVrRonYQqde1BvnLNqBlWrxVi4aU9bGx49NQ2jeuQdnihfDx9MDLrygVGnRkwKztnLnihG2TU5sn0q1hafy98xNYtR2DFhzg+r36WfgsIiJyU2UprTTPniWOgtxRsRzlimYpzxWRHGFydNFc1p43wfDnga5v0dK+gB8WxRG7fC7LYzvR2d9Iq5vIb+8+RPuhm0kdGRDHtq9fp8PaIDwvGx6awj/TO9O45wKO2MDqXZBC3ueJ2r6Eib1Ws/avJUSObcrFt84SG/vXfMOin87h5V+EQkXcOB19nL83fcfYn9ezz/iVb54MSnelbR77ip5tj3D4TFpmuWsxozvvJ3n5JsY18XWo6SgnPouIiGRWljJM+5kYTptu2OJOcCZBzQwiLss8yqK5azlvguHblHbNytCiXQO8DDBjlzP3h1guNEiasQsZ/f4WzplgLfEwH287yqmDqxlQ4RyxTl9zM3YRw99YyBGbQWC7CfwefYLoE4dY/UotPIhnx8RBhO+9LLPNJDcqPT2NyL9PcubUEQ4diibm4EJ6lncD+3EWTfuOQ07/LvvZWIqHLmDvsSPs+LI7Fd0NzMTdfDLqa6Ku8lOVM59FREQyK2tJapIFH///+Oqlp3n0oY48O2AiP+6Pd64mIrnMPLKQueviMTHId++DNC9opVjLttR1N8A8zY9zlxOblqWm/L6WDbF2wI3K3d8ktHZRCpYKYcCgTgQ6/VIkb/uBlcdTsz77vjn0e6g5D7R4jLdWHscAzKTfiNxwKQHOGivBTRpg3TiNN1/swVNPdOaJPuH8es4ETFL27WW/U+5o+LVj4LC2VAgsRrXHhtOnkTtgcn7zWrY6jqF3kDOfRUREMitL3f0edXsxJaIX2BM48ddPzPl4EuMHJ+IT3p8GPuoTE3ENdqIWzmVdvAm4U7F6CY7u/INo2x3UKGtl3Z8pnP5xDj/EdObxQgb22FPE2AGsFC9ZPHUCE+BWrASBFjjq0BJpO3kiLbm1c2JXJCt3XSpLZSc2JhaTALL8i5DwK6Ob388b62O5UiOomZhAolPmaAkoQZDXhT8CKVHMHYMkzPgYTp03wTNddSCHPouI5Cl64pRryFJL6kUWLwpXbEbPF9tTMvYn1u9Ica4hIrnFfoSFc9eTOpE+mV9Gt6Rm9epUr/UIk/5M/a6aZ1Yw54cYTMDiX4iCFgAbx6KOXpwglXzkEMecskRrocKpYzQNT5pNjsJumpjpXon81L9ctn5gktZN4YMNsdgNd6r2Wcj+symY9mimtbpCppnGfvIwUQkX/ojm8NFkTMDwLkihfFdOMXPis4iISObdsN9d4+J/RMQV2KMWMPenhGt3U5tnWDFnGadMcK8ZQiN/C5DCzs/fZeb248QeWsu4974lrTf8Ive6LWlW2AJmEus+Gsa8A2mZYcpp/l79KQMe6c1Xx6+55uuynYnlrAngQbl6DbnTx0rKwQXM33L1ufrmmcWMHbGUv48fY+c3bzFxQzJgkO+eEOpeJbfNic8iIiKZl/kk1X6MDd98yZL1W/l9+29sXvElo8fM41BAE0KqZ2n0gIjccHYOL5jLhgQTDC+afLgfm2PrYMouRtZJHa95duUclp0ywb8dA16+m/wG2P6dTY+agRQs1ZT39nhTIO2XIvU+q2D4t2P4e+0JcoOk3VPpVKEwgSWCCCgQQPD9zzF2yT9pdwjIOs96D9DEzwDzPIv7NablQ62pW78/q+Ov/sYWXz8OTWmXOib1iU/Zk2RieFYm7PXHCLrKRXROfBYREcm8zCepZjyn//2V+ZPe4Y0BbzByynKO3fEIg9/rRb38VzkLiEjOsh9mwbcbSM1RG/HYw3ek/7Jbg+n46F24G2CeXcWcpScx8aTWoHl8/3ZHahbLh6dPEHd1GsG3Hz9OgAFgwb9ggbT3caNct9lsXDqWni1rUsrXTuzJs1gDylO3dXeGfDiQFgWz93tgKdWNaV8PpX21InjE7WPbjjjqDJnDyPuu0iQKGEW7MHXh/+harxS+nt4UrtyGAbMX8V7I1W4/BTnxWUREJPOM+PhrNEvkgoiICEJDQ53DkosMw8A0XeowkZvEdmATq+PKE1KtMO6AGfcnM55ryXOzD2J3r8mwrVsZVkM9JpJ36PdLJG+JjIwkJCQEyOLsfhG5NaVse5/2j87F5luYogXdiTt2hNgEO6bhRZWw0fTRkB4REckhme/uF5FblrViK55qU4c78iVxIiqaeM9iVGr8GAM/W8/6D1umdfuLiIjcfGoWEZGL3Kp1Y8qibs5hERGRHGeEh4e73GCd4OBg55DkoqZNmzqHRETyjDVr1jiHRCQP0MQpuS5NPMhd2v7Zo+13e9P+l6zQE6dyj+PEKY1JFRERERGXoyRVRERERFyOklSRPCORxd0CsBgGhmEhf5MP+Pvi40pT2P5WLdwNA8O9BsN+T3FcUJyY0Z/zoK8FwzAwDCuFn5zHGedKIiKSq5SkiuRJJuc3fMQHa845F8h1mUQvnsuai886tROzbA4/nk5XSUREclk2klSTcwfW8/UHQ3nx2c48/Ph4Nic71xGRm8Z2gJmjZ3HwYmuqZIh5jMVz13DOTJ1UYxhgj/2BuSuUpYpIKk2acg1ZTFKT+HfpSHq/9hm7PGvxUK8hvDvySarprqsiOcNww80Nzq4az0ebEpxLHaSw49NQ2jeuQdnihfDx9MDLrygVGnRkwKztnLnYmHiYj5t5YhgGbsGvsnDlGB67qzg++QtTue0QlhxOIe6PGfRuWo6C+fIRWKUdb/5whPT5cRL//jCaHg9Uo6S/N57e/pSq1ZYXp2zmpAsl0uaxxcyNPI+JhYAHn6ClrwH2WH6Ys5xY58r2o6wa+Sh3Bfni7VuSuk+MYeWqt6jtYWAYHtQZuQvbxcp54/OLiOQZ8fHxZmZfsb9MNJ9+sK85a1fMZWXZfYWHh5viWgDnkOSgS9s/wVz0bCHTABPPJuYTj5YyrVjMgh1mmEfsyebvw2uabmDiVt1887fki8t839XPNAyr6V2wmFmiRBHTx90wARNLoNlx1mHTZpqmaTtkTrrfwwRMi19xs7ivJbUOmGCYvne3M+8PsjrEMC2FO5lfRdvT1pNs/v1pB7O41TDBMK3ehcwiBb1Mi4GJ4W3WeGW1GXOhag5Lf/zazaiprcz8BiZGQfPxb/4yP2vnYxpgGgU7m7PT/SMTzF/fqZ9a12Fb5A8qYRayYIK7WfudnWaKaZqu/Plvd/r9Eslb1qxZc/H/M9+Sap5l45xFHHI/w9pR3en4cEe6vjCczzYcQb39IjnFh2b9+3GPt0nsknFM+jXJuUIaNyo9PY3Iv09y5tQRDh2KJubgQnqWdwP7cRZN+45DTq189rOxFHr8Mzb+tpI3G+bDwOTslsVsKdWf+b/8yvy+NfAwwH5yOfPXngfAjF3E8DcWcsRmENhuAr9HnyD6xCFWv1ILD+LZMXEQ4XsvtTnmGvMoi+au5bwJhm9T2jUrQ4t2DfAywIxdztwfYjEvVI1dyOj3t3DOBGuJh/l421FOHVzNgArniHXaZnnm84uI5CGZ76BP2ctvfyRSqHJjHnm4DiV9k/l3eTgTRg4heczH9Kzq6byEiNwE1grdGfjYeB76fCdTxnzPfRWdawBYCW7SgBNzp/Hm+7v478RZEpIT+fdcasNgyr697LfBHdZLSxg+rXhj9FPcU9CGV7NyjNqwgxRLIToMGkaHu/KTktSK0h9vZ29KAseOnMJOflK2/cDK43bAgn3fHPo9NA8A89RxDMBM+o3IDbG8VjEA49Kqcpx5ZCFz18VjYpD/3gdpXtBK4ZZtqeu+gnVJp/lx7nJiOz9GQQNSfl/Lhlg74Ebl7m8SWrsobhRlwKBOTF43jaMOiWpyHvn8IiJ5SaaTVDPhJCfPGRSr04LGtQpjAco99zx/bX6VNav/pFvVmrg7LyQiN57hT+tXe1P7qyFsmz+W8PZX6MtI+JXRze/njfWxTuNHU5mJCSReaDpMYwksS2kfAzDwzu+dmlRZSlCudNoFqLv7xR8Omy21ddB28gSxJoCdE7siWbkrrcJFdmJjYjHJzSTNTtTCuayLNwF3KlYvwdGdfxBtu4MaZa2s+zOF0z/O4YeYzjxeyMAee4oYO4CV4iWLcyGPdytWgkAL6ZLUvPH5RSSj9MQp15Dp7n7D6o7VMDkXF3cpaC1MYIDB2djTVzwRisjN4ValJwMeKoyR+BvfztvrMIknVdK6KXywIRa74U7VPgvZfzYF0x7NtFbX6PGwWC7/YTCsuFnT0qsrPGLSWqgw/gZgeNJschR208RM90rkp/7lLn/fnGQ/wsK560kwAZL5ZXRLalavTvVajzDpz9T7yppnVjDnhxhMwOJfiIIWABvHoo5e3LbJRw5xzOmHLk98fhGRPCbzv5med1AmCA7v3nNpZnDSfxw8AoFBxTLfNCsiWWcUpsOA56nqDikpKRfHU15gOxPLWRPAg3L1GnKnj5WUgwuYv+UKra7Z4F63Jc0KW8BMYt1Hw5h3IO2OAymn+Xv1pwx4pDdfHXf+1+Use9QC5v6UcNk2Ssc8w4o5yzhlgnvNEBr5W4AUdn7+LjO3Hyf20FrGvfctx52S1Lzw+UVE8prMJ6nWMjRvVw3L1pm8P+dn9v6zg+WfTGVlfGXaNS9/sUtMRHKGx10v8Fpb/yt+mT3rPUATPwPM8yzu15iWD7Wmbv3+rI6/sQmT4d+O4e+1J8gNknZPpVOFwgSWCCKgQADB9z/H2CX/cPHe+bnCzuEFc9mQYILhRZMP92NzbOlM2cXIOu6AydmVc1h2ygT/dgx4+W7yG2D7dzY9agZSsFRT3tvjTYG0jW0Yqa3Lrv/5RUTyniud167DQlC7wbzdozoxC9+lf98hfL63JE8OH0KHUll4OxHJHqMYjw7oQYUrdGNYSnVj2tdDaV+tCB5x+9i2I446Q+Yw8r5rdPdniRvlus1m49Kx9GxZk1K+dmJPnsUaUJ66rbsz5MOBtCiYi6Mx7YdZ8O0GUnPURjz28B3pf/yswXR89C7cDTDPrmLO0pOYeFJr0Dy+f7sjNYvlw9MniLs6jeDbjx8nIHWgLv4FC6S9j4t/fhGRPMiIj7/BTSrZFBERQWhoqHNYcpFhGJhXGIcoOUPbP3uys/1sBzaxOq48IdUK4w6YcX8y47mWPDf7IHb3mgzbupVhNa5wdSAuIzv7X0RyXmRkJCEhIUAWZveLiNwuUra9T/tH52LzLUzRgu7EHTtCbIId0/CiStho+lTXT6iIyM2i/nkRkauwVmzFU23qcEe+JE5ERRPvWYxKjR9j4GfrWf9hy7RufxERuRnUDCAichVu1boxZVE357CIiOQAIzw83OUG6wQHBzuHJBc1bdrUOSQikmesWbPGOSQieYAmTsl1aeJB7tL2zx5tv9ub9r9khZ44lXscJ05pTKqIiIiIuBwlqSIiIiLicpSkiuQZKWwZVAl3w8AwDCwWN7z8S1Kz7UvM+P3MtR/3mSVJrOgVhHfIRxx0egyoyM1hEjPjQbzSjvFLL0/un3SIi4ehGcfu796lV4cGVAjMj6enH0HVW9Fn6lZib/wXQURyiWb3i+Q1fg8wfEY/6rjZOPffT3z23of0aHUUr9++4rGiuieS5H1G/hBen9aHOhfPUBYC7wq41Kpi38+ckeNYGfAwXYaEUbFQAn/O/4jxzzdnd/wmfuhbUSc3kVtApr/H9uPfM/DZSfye7FxipXSXCUx+tjxW5yIRuWEM91Lc3aYdbTwAOtAu+BzVWk5n+oJjdA4thtJUyfPc7qDhw5148GpP77WUptu3e3mjdMClk1iXNgS1qsqLH3/Ory+8y92ZPruJXKJJU64h0939loJN6ffhRCZOvPQa+WwtfD3voE7t4pl/QxHJlny16lLFLYWo/45gw+Tkhkn0bl+fCsUL4O3lS/Fqreg3ayfnLixgnmB6G28Cui0m0eF9Un4eSEXverz3p80hKpJL7MkkJKRceRiL4UspxwQVwBJE3bolMaKPEK1DWOSWkPmc0q0AJcsHExyc+qpQ/BRrl+wmsOMrPFsjv1pxRHKYPeo/Dtst+Bfyx4Kd2H0HsN7zHCPD57Jk8Ze828mbpc+345XlZ5wXFXFNcd/RNTAf+fJ54XdHA54aF8mx6yWe9iNs3XIQI7gKFdSKKnJLyOZXOYm9c6azyt6UNx+twNV6ZkTkBjJTSIiLI87DzvlDPzH55Yn8Ya3FyBZ3YMFKua5j+cixfrMHKHE0mMc+W8G4Fo/g41gm4lIM3IrWpcvrLbm/bnkKW6L5Ze77jBnYhl1nVrP+7Xp4Oy8CgMnReYMYtcaXDjOfpoLGnIncErKVpJqx6/l68TEqdx3O3fnVhiqSE8xTEXQMiEj7y8At4C66hc/kpSqpZ2Yz9hc+e2s4kxf8zF/HTpOYYmK3JWPW/psoGwRnvv9E5MZLiefMuUTsaf35hkd+CuRzx7fVMD5tdalaywfbUc1ai0cmjGNh/2/o7H+p7ILzv/2PLj3n4vnMN3z0uMZli9wqsnG6snNk1SK2GvXp0FxjUUVyilGgDWNXrWP9+g38vP0fjkVtY+pTFVN7MuxRzOrWkt4LDNq9NYOl67byy2/b+LJHGSxJCenGoIrkpqTVL1GxUEEKFkx9FXtyDnHOlQCMQjR/5D78zu3g179SnEtJ3jeTZ9sPZlf98Xw/qT3FlKHKDRAWFuYcklyQ9ZZU+2HWrdqDd/3O3O2jXwWRHONWlCqN7qWRh3MBcGYVc5cn0mbaDIY94Z8WTOI/e9ylCSiGG25WsF9owkpjJiaSdMVZKiI3nvvdA/h+7VMXjzlL4UrkS1/lItNuw46B4XSqsR9dxIvtnueHoIEs+aoXVTTmTOSWkuUk1X58K5v3e1DzsRp4OReKSK4wkxNJsntQyM/hW3l+I4tXncD0vRDIR9FifiTsO8gJO5SwANg4sPlnonTTfskhhn856jUq5xS1YbNZsTqOKbUfYf4XKzjrez91gy+dsszT63mzw5PMMJ/im/nDaVRAjSUit5osJ6kJe3ayjzI0DlaKKuIqjEINaVoznv9NmMSWe/pSy9jN16/15euTXhgXk1QP7mnfmoKdJ/LW3PsY1SqA6NUf8OLE3ViNCo5vJ5KzUnYw8oHu/Fq9A42rlaawJZpf500h/Id46o0cQFu/tHr2f5nxdEfe/bUQD49oSuL675h74T2sxbm7XSPudL8QEJG8KotJqp1jBw+T5FmW4oU0GlXEZVgr029GOP+GDuaBEoMxAyrS9OmhfNxzOF2XX6pWoN1YvhwSyosv1qFEnC8V7uvB22O6ceiZ9ZcqieQ0SyB1Q8qz8ttPGfXZMc7Y8xNUpTFhnw5n2DO1Lt1BxnaAX347iT05mm9f78K3ju/h2YbPohbxbCG1rIrkdUZ8fLxLjUKLiIggNDTUOSy5yDAMTNOlDpPbirZ/9mj73d60/0XylsjISEJCQoBsze4XEREREbk5lKSKiIiIiMtRkioiIiIiLscIDw93ucE6wcHBziHJRU2bNnUOiYjkGWvWrHEOiUgeoIlTcl2aeJC7tP2zR9vv9qb9L1kRFhbGlClTnMOSAzRxSkRERERcmpJUEREREXE5SlJF8owUtgyqhLthYBgGhsWKp18QVR8IZcKGE1x6omkSK3oF4R3yEQf1mFPJS8w4dn/3Lr06NKBCYH48Pf0Iqt6KPlO3EuvYY5/ReiKSp2XxiVMikmv8HmD4jH7UcbNx/vDPRIz+Hy+1/Q+PX5cQVtoCGPgEVaRKfADueuiO5CX2/cwZOY6VAQ/TZUgYFQsl8Of8jxj/fHN2x2/ih74VU09aGa0nInla1iZOJfzL6s+n8tWq7Rw+Z6Vgmbq06f48j9cOyHbTrCZOuR5NPMhdl7Z/ClsGVaPR1IbMj5pOG4/U8vjIflRr9gl3fPA3K/uUyvZ38Faj4zcPMc/y379JFC8dcCnJtB/kk1ZVefFgHzb88S53u2WiHtr/InlN9iZOmef4efJgxq230uzlsUz4cChP3PkvX701iu8Pq29RJKd5VatFJTc7x49d6PJ37u5PZMFTBfBu/SErp/WiaYUA8nkXoPS9YczcFZ/uvTBPsH5cF+qW9MPbN4i7Oo3ih8WDqOpdm3f+sDlUjGNHRD9aVSuOr5c3BUvX54lRP3I4xaGKSGYZvpRyTDwBLEHUrVsSI/oI0RcOwYzWE5E8LfNJqu1vtmyN4Y7W3Xi0QUXKlq9Nm7BHqJmyh+17E51ri8hNZj9ymCN2D0qVDsLqXOggeeNIXllemeHLdnNw9wLCvL/j+Wc+YOfFE7qd/eFdaT94PYE9JvP9ohkMqLmZV1+cxZF01592/ot4mubdv+DsfcP4YtF8JvcsxdYRHWg9+CfiHKuKZJf9CFu3HMQIrkKFa/XhZ7SeiOQZmf8qWwIJKmZh+bbNHOhUmrKeJnF/7uZft3K0L+/pXFtEbjQzhYS4OOI87MRHbWbqq5PYWyGUMR0DueYQVM+WDJ/al6YFAAJ5ZWgXprRcyNL9A6la3gIpW5ny/mp8nvme2W+1whcgpCHFomvQ3PF2gSm/MPndRdgensm8jx4n0AAeuI9KifWo9/57zO2/gGeLXvNfIpJBJkfnDWLUGl86zHyaCle9CstoPRHJSzLfkmopTpsXe3H3qVm88vwgxk8Ywatj/6D6SwN5qFTm305EMsc8FUHHAF98fQsQWLEFQ7dUYsTsMTzgf+3E0K1aQ+r5Ofxd4k5KcIwjaX2j9iM/s/lAfkLahaQmqADkp2G7+wlweGv70c1s3OdByCNtUhNUADyo9nB7KiVu5qffki9VFsmG87/9jy495+L5TDgfPV7sqhdhGa0nInlLFrJKk/gThziWVJz6rRpxp4eBxTzGr8vX8885DU4XudmMAm0Yu2od69auYN6k56ljX8uQ7mP47TqjbQxPT9LmWqWyWLBgIyVtHKl5OobTFCCgYPoOFmvBAAo6/FKYsTGcNn0pXNjrUhCwBAQSwFliYjUwVbIved9Mnm0/mF31x/P9pPYUu0rmmdF6IpkRFhbmHJJckPnu/vM/8+n/FuHReQoDHi6OhXZ06LCY4S98zMQF9fnoiTuzkvmKSEa5FaVKo3u51wNofB/1/KKp9ez/ePPrHnz/TPEstyIZBQpSgNOcikkB3C/GbTEniXEYk2r4F8TfOMuJE4ngkPbaTx3nJH6U98/8z4qII/vRRbzY7nl+CBrIkq96UeUqI8kyWk9E8qZM55P2E/vZf8aLEiUv3W7KLbAqlYvCsSPRaFKlSE6yEPT427xUO55l4z/h92z0tFuK16N+6XNELlnnMPnpPBsXr+KkQyeJpdg9NCiXxNp5Szh+MZ7EzvkL2eNZn3vvupTgimSWeXo9b3Z4khnmU8yaP5xGBa582ZXReiKSd2W6ycNSvCZ3FY9g0eefUMWtDZX8Ejj405cs+jc/tZ4Izvwbikj2uFUhbMAjfPjEVD5Y1p/PH/R2rpExbnUJe/k+wvv2pEvJMbx8fyCn1k7grQUJ+Br+GBevSu/i+dfb8mn3Pjz80mkGti/N+S3TeHP0n1R8cQIdLw1UFckc+7/MeLoj7/5aiIdHNCVx/XfMvVBmLc7d7Rpxp3sm6olInpb5nNK9Mk+9/QaW8C+IePsHTiVa8S1eiUYvvMNzjQtkuatRRLLKIKDDAHpV/ZZx70cwvG1P5woZZKFMz1ksOPsi/d7vTut381P+/jDeHVuKl5/5DT+fC99uC6W6RvCj/Q1eHT2Uxz85jXuxGrQa/D3/G9gIn3TvKZIJtgP88ttJ7MnRfPt6F751LPNsw2dRi3i2kJHxeiKSp2XtiVM3kZ445Xr0xJbclbvb38besY2pOaEOS/+eQNN0M6/yhtzdfpLbtP9F8hbHJ05lviVVRG5Ztn/mMOrLWKo1qEpJv0T+XTudt0f8TrUBk2mUBxNUERHJu5SkishFhocbMesn0O+DfRw7a8enVC1aDfqesQNqOsz3FxERufmUpIrIRZZSDzP+h4cZ71wgIiKSw4zw8HCXG6wTHBzsHJJc1LRpU+eQiEiesWbNGueQiOQBmjgl16WJB7lL2z97tP1ub9r/khVhYWFMmTLFOSw5wHHiVKZv5i8iIiIicrMpSRURERERl6MkVSTPSGHLoEq4GwaGYWAYFqwevhSt1JTu768j2u5c31kSK3oF4R3yEQevW1ckl5hn2THzJdrUCMLP0wPvQqWp/+gwFu5PcqoYz5+zX6Vt9eL4eOWjcIUm9JiwiVPq2Re5ZShJFclr/B5g+LyFLFy4gHlffsRL9c/w3Wvt6DJ5H9fOPQ18gipSpUwA7noYj7gkkxPzetGy+3Siar/KtO8XM+f9pymy5T06tR3CT/GX6h37NpTmXadypN4gZsyfw/tPFmDla23oPGkPNse3FJE8K0u3oDLP7mb+J5/w3YZ/OGX6ceddLXn6+Se5p2iW3k5EMsFwL8XdbdrRJu3m+u0fvpuU7bUZuWAlx18oS9ErJaApCSTgxT1DV7PNuUzEZcQT+c0Cjgf3YcHU/tR1B2hOE79/KNt5HvN/G0mjBu5g+5Pp783hZMOxRE7tS1kL0KopJU/WoOW7/2NF93Ba5nN6a5FM0KQp15D5llT7UZa8O5jpfwbx6ND3+eid56h+6nveGTqD3YnOlUXkpjN8KeDnmJkmsuCpAni3Hs+yj5+jSfkAvH0aMGZ3vFN3v8nJDZPo3b4+FYoXwNvLl+LVWtFv1k7OXfZeH7JyWi+aVgggn3cBSt8bxsxdF5u1RG4QE9MEi48fvg5nJy8/PzwtVqxuacd5/O9s3WlSqXkz7rxYLz8NWjTCJ3o5S7YmXwiKSB6W6STVfjiSpb8bNOzeh/a1K1Cu2v307PsQJQ4vY8lvylJFbjozhYS4OOLi4jh78gCbZgxj8uZ8NHmoGUUcctWkn0by8pJyDJr/K3/t/IpnLp3N09iJ3XcA6z3PMTJ8LksWf8m7nbxZ+nw7Xll+Jl3N5I0jeWV5ZYYv283B3QsI8/6O55/5gJ3qV5UbKh/3P92ZoO3hvDltM4dOx3Hyr2WMHDGH8/Weo2uttN66lGSSTfDwSP8cNIuHJ272o+zZG4OGporkfZnunzfPxxGPF34+nhdj1jsqUNbjPPsPRGOvXyrzma+IZJh5KoKOAREX/zYsflR/fiafh5VN/92zNOGN6a/TOvBC5prEX47lWCnXdSwfOYaaPUCJo8E89tkKxrV4BJ8Lcc+WDJ/al6YFAAJ5ZWgXprRcyNL9A6laXt94uVEMCrWdxLLJz9K2dwNKPW+CYaHg3a8yZ/ErVLuQk+YvS/kgk59++Z2zZjD+BoCNf375jVi7ndMxp7ETiNXhnUUk78n02cVasiqVfU7x0/xl/BNnA3sCsQePchYTW1Kyrl5FbjKjQBvGrlrHunXrWLt6CV+89xDGrKd56K2NxDnUc6seQuPCVxqgeokZ+wvTX27P3eWK4e/jjbdXQdp9GkXcvr+JcmgldavWkHp+Dn+XuJMSHONItJpS5UYyObViCE+8vJKiz33M96vX8uPX79Iq7mMee2Q02y6MMHGvx9PPVOf8vCH0nfEb0efO8O/KUbz44e/YDQPDYuHaR76I5AWZbkklf31CBz3J2PfD6d1pIgDu+fNjnDeoUsg/81mviGSOW1GqNLqXe9MmTtG0OdUStlNn9Ahm91pMj2KpYYuvHz7XOlPbo5jVrSW9tzfk9bdm0KJqSfy9YdcHHXhycwKOg3cMT08urA4AiwULNlJSHIMi2WT7k08GfcS+kKns/fBpUjsBGhNSKZ56dd/lnW9D+a5rAAbu1Bo4m08PP0G/0NpEdAOLT0UeHfQCjd6eSsGiAToXSbboiVOuIfNJKgYFanXlnc8fI+7kSc5ZfPHY8T7Pjf6PypUK6OpVJMe5US64LNaE7ezenwJpSep1nVnF3OWJtJk2g2FP+KcFk/jPHqceEckdKX+z52+TEi2rUcjhZOJesQaVPOL5c18UdgJSu/E9K9BlylY6vXuAvw4nULBMBfzXh1GeKrxYx/fSwiKSZ2X9YtNwx6dwMYpYd/NFxEbsNR6kZRmNABLJeUns3r6HFEthihXJ+FfaTE4kye6Bn5/XpeD5jSxedUJJquQOazGKFzX579ffOO5wECb9sZU/Et0oVqLoZSctj0KlqVq9EkEe/zB9/HfENXyGxyrqXCRyK8hCS6rJ+ej9/Hc0moO7f2b5guXs8W7Ga/3bUMz510NEbjgz+T+2LFmE3Q2wnePw1q8Z/8FuCjwwhU5lrUDG+uCNQg1pWjOe/02YxJZ7+lLL2M3Xr/Xl65NeGGqIktzgVosnn63LxCGv0iHsNP07VMY7eiOfjRrP7sBHGN6+yMXeunPL3yJsiRv3VC+Fb9JB1n/xMTN312TUqtDU+6aKSJ6XhSQ1hZ2zXuftdRYC76zEXY8MoV+b+pT0Vke/SI44s4LhD68ADAyrBwWKV6Zh6FS+fqsbpTNzcrZWpt+McP4NHcwDJQZjBlSk6dND+bjncLoud64skhPcqf7aPBZ5DOKt8Pd47vNTpOQrRpUmvZnx7nA6Otxjzc3fj/iNE3lr2mHirIWpFPIkn0a+yZPVLt15RkTyNiM+Pt6levYiIiIIDQ11DksuMgwD03Spw+S2ou2fPdp+tzftf5G8JTIykpCQECA7Y1JFRERERG4SJakiIiIi4nKUpIqIiIiIyzHCw8NdbrBOcHCwc0hyUdOmTZ1DIiJ5xpo1a5xDIpIHaOKUXJfjIGbJedr+2aPtd3vT/pes0BOnco8mTomIiIiIS1OSKiIiIiIuR0mqiIiIiLgcJakiIiIi4nIylaQmR0UyvkcHeny6F5tjgf00O74ZRe8uD9Gu/aM8N2QaPx1JdqwhIiIikido0pRrcHMOXIn93EE2LfyCiG/WceC8SVD6UqIWjeLNmceo/fQrdLvjDBsipvHuMIMxH/Wgile6yiIiIiIi15WBllQ7J1ZOYfJaO41fGUj7Ek6LJO9m4Xc78G7Wm1c7N6buPW3p/dqj3Hl4Ed9ujsOl7m8lIiIiInlCBpJUC4EPjmDmx4Ppck9xPI30pfboXew67k6VOtXwTotZS95FzSKJ/PnHP+mHBYiIiIiIZEAGklTAsOCUm15kjz1JjOlLQEH3S0FLAQL8DU6fjCXlUlREREREJEMylqReiwlclsI6/y0iIiKSN4SFhTmHJBdkO0m1FAygoHGGkzEOs/ntsZw6beJXyD9jM7NERERERBxkP0kNrEylwsns+nUn8WkxW9Tv/B7tSaWqZbGmqy0iIiIicn3Zb+h0r8KDD1Vl+aeTGF8qlLalzrB+xmwOBLXm+Qa+6vgXERERkUzLfpKKhZIdBjM8aSJT5oxmcJwbxaq34vU+3aime6SKiIiISBZkLkm1BtN92mK6O8ct/tR8bAgfP+ZcICIiIpK36IlTriHbY1JFRERERG40JakiIiIi4nKUpIqIiIiIyzHCw8NN52BuCw4Odg6JiIiIyG3EiI+Pd6kkNSIigtDQUOew5KLIyEhCQkKcw5JDtP2zR9vv9qb9L1kRFhamyVO5xPE7q+5+EREREXE5SlJFRERExOUoSRURERERl6MkVURERERcTqaS1OSoSMb36ECPT/dicy7k+uUiIiIirk6TplxDhh6Laj93kE0LvyDim3UcOG8SlMlyEREREZHMyEBLqp0TK6cwea2dxq8MpH0J50WuVy4iIiIikjkZaEm1EPjgCGa2t2DY9jL9s8yWi4iIiIhkTsaaPQ0LhnPM0fXKRUREREQyIWNJqoiIiMhtIiwszDkkuUBJqoiIiIi4HCWpIiIiIuJylKSKiIiIiMtRkioiIiIiLicDt6ByYA2m+7TFdHeOX3C9chEREREXpydOuQa1pIqIiIiIy1GSKiIiIiIuR0mqiIiIiLgcIzw83HQO5rbg4GDnkIiIiIjcRoz4+HiXSlIjIiIIDQ11DksuioyMJCQkxDksOUTbP3u0/W5v2v+SFWFhYZo8lUscv7Pq7hcRERERl6MkVURERERcjpJUEREREXE5SlJFRERExOVk6olTyVGRTBg6np0NxxLeIxhrapTorfOJmL2MTXuOEu9WiNK1WvD0C12oVzi1hoiIiEheoUlTriFDSar93EE2LfyCiG/WceC8SZBjYcJO5oYv5sRdHejdqQTux37mmxlfMGpcIcJHtSVQbbUiIiIikkkZSFLtnFg5hclr89H6lYHUmD6GrY7FXrXoOWkabu4X3qo2hY5to/+SP/jHpiRVRERERDIvA0mqhcAHRzCzvQXDtpfpnzmX45CgAiQSE3MOS7ESFFVvv4iIiIhkQcbaOQ0LhnPsiuzEbJzKtPX5adGtA2Uy9u4iIiIiIuncwDTSRvRPHzFwzDZKv/A2L9TzzWBiKyIiIuI6wsLCnEOSCzLQ3Z8RKRxdPY7XP/iTin1H82qzINydq4iIiIiIZNANSVIT/pzFWx9sp0zvcUpQRURERCTbsp+kmidZM2s+h8t1ome5eA7+809agYFPsTIUza9OfxERERHJnOwnqSn72LUngYTTMxnYa6ZDgQf3Dp7LmyFeDjERERERkevLXJJqDab7tMV0d4y5303/Ocvo7xgTERERyaP0xCnXcANn94uIiIiI3BhKUkVERETE5ShJFRERERGXY4SHh5vOwdwWHBzsHBIRERGR24gRHx/vUklqREQEoaGhzmHJRZGRkYSEhDiHJYdo+2ePtt/tTftfsiIsLEyTp3KJ43dW3f0iIiIi4nKUpIqIiIiIy1GSKiIiIiIuR0mqiIiIiLicTD1xKjkqkglDx7Oz4VjCewRjBTBPs2thBF8t3cQf/8Vg8ypC+XoP0i3sYaoXUA4sIiIieYsmTbmGDCWp9nMH2bTwCyK+WceB8yZBjoWGG8mJUK5NGB1K5Sfp8EZmfzqVt23F+Oz1RvgYjpVFRERERK4vA0mqnRMrpzB5bT5avzKQGtPHsDVdeX5qPtqHmhf+rFUdz78ieXPXXxyzN8LH6lhXREREROT6MpCkWgh8cAQz21swbHuZ/plzuQN7Aif2rGDpL8nccX99SipBFREREZEsyECSChgWrtdrn7xxLI+/vYI4u4HfXaG893hlPJ0riYiIiIhkwA2b2eRWqzvjJ4znndeepFr0DF4b/C37k51riYiIiLi2sLAw55DkghuWpBreAdxZvip3P/AUb/Rvje/ub1m8S1mqiIiIiGTeDUtS0zEsGKSQkuJcICIiIiJyfRkbk3otyXtZ9uUO3ILLEOhj4fyx3aycvZjowBY0qezuXFtERERE5LqynaSaCXGc2B/JikUziI6z4eFXjPK1H2fYM49SO59zbRERERGR68tckmoNpvu0xXR3CBm+tek6vDZdHWIiIiIieZWeOOUabs6YVBERERGRbFCSKiIiIiIuR0mqiIiIiLgcIzw83HQO5rbg4GDnkIhIljRt2tQ5JCJyXWvWrHEOSQ4z4uPjXSpJjYiIIDQ01DksuSgyMpKQkBDnsOQQbf/sMQwD03SpnzkRcXH63cg9juc8dfeLiIiIiMtRkioiIiIiLkdJqoiIXEcK0VsiePOZFtxVJhA/L3c88hWkRKV7aNdjGNPXHybJeZGbzPbHO9T2MDAMD+qM3IXNucKNkrSKF0pYMQzj2i+P2rzzRwb/FeYxwlt6YRgGbsED2JTsXMFBZuqK3GIydzN/ERG5vZixbBzTmU5DVhCV4jhGL5aoPZuJ2rOZ5Tvzc+9PAwi2OhSLiGRTppLU5KhIJgwdz86GYwnvEczlv0cmZ36byqBh33Gy2Sgi+tbG3bmKiIjkESbH5r5Apzd+JMoOhldpWvYZQFibuyjuFsuhfXvYtnw2X0cZzgvmUckkJbnj4eEQcq9Fny+W0D4hNUFP/vl/dBm+gjjTSsnO4/mkW9q50OJHcGl1TorcSBn6RtnPHWTD1+/St89ofjx89U6d+D+/5M1Ra4j1vFV+sEREbmO2P5gyai5H7IClOJ0+Xceisb146L57qN+4FR2f6ceoLzbw17K+lL3YapHEvz+MpscD1Sjp742ntz+larXlxSmbOWlPq5KuC/tl5i4eyeN330EBL28CKjTn1XkHSNerbTvCihGdqBXkg7dfSeo+MYbI6Kt1rWd2/a8wf9lIOtcpiZ9HAZ747ny6d8MoRJWmLWnVqhWtWrWiRe2gtMYXg/xlG9AyLd6qRUPK+tjY8Wko7RvXoGzxQvh4euDlV5QKDToyYNZ2zlxxsrjJqc0T6dawNP7e+Qms2o5BC5w+/xVl4HOK5HEZaEm1c2LlFCavzUfrVwZSY/oYtjpXAeynfmLie8so3HMIIcsHMNu5goiI5Cn2/1axYlcyJuBW4WlefbTkFXrQwOrpmfZ/KfwzvTONey7giA2s3gUp5H2eqO1LmNhrNWv/WkLk2Kb4OyxrPziVZx9OwObtjZmUyJm/VzD+mZ6Ur72M5++0AAn8MqoDDw3bwjkT4Bzbvn6d9muD8LwsT838+s0jMwnteJIT503AC9PMToZnY/+ab1j00zm8/ItQqIgbp6OP8/em7xj783r2Gb/yzZNB6VqHzGNf0bPtEQ6fSVvvrsWM7ryf5OWbGNfE16Gmowx+TrUXSR6XgZZUC4EPjmDmx4Ppck9xrthIaoti8bgJ/N3gNV6+P/CKP2IiIpK32A4d4FBaIuhWuQaV08ZvpWwbTFV3h0lD7hUZ+HMKZuwihr+xkCM2g8B2E/g9+gTRJw6x+pVaeBDPjomDCN+bPrM0kyzcNWwTx2JOsXvCA/gYYMat4/sVJzEBM3YRYz7YxjkTrEEdmLD5ENH7lvNy2ThinfLJrKzffi4G7xYfsHZ/NMf+Wc9bjb3SlWeOG5Wenkbk3yc5c+oIhw5FE3NwIT3Lu4H9OIumfcchp3+z/WwsxUMXsPfYEXZ82Z2K7gZm4m4+GfU1UVfJl7PyOUXyogy0pAKGhSvlpqnsRC3+iIiYlrz9Zg3yc8K5goiI3AaSt/3AyuN2wIJ93xz6PTQPAPPUcQzATPqNyA2xvObwUEHDrw39+tbFzwL5Q5pQwe1Hfk22EX0kGjtFsP++lo2n7YAbFZ8dyvP1SuBGCQa9/jBT2n/OcYdELkvr97yPNyb2oXEJC1CEwEtFWWAluEkDTsydxpvv7+K/E2dJSE7k33MmYJKyby/7bXCHw5nX8GvHwGFtqeALPDacPuGzeHFNEuc3r2VrUijtLzRSO8jw56wYcI1zt4jry1iSeg1mzBqmzTpKk0FvUskLuMqVn4iI5C3WkndS0gr7bZDy5w7+TIG73cCtzgi2J7zJnjGNqfXGlovjJ20nTxBrAtg5sSuSlbsc3ozUeGxMLCY+FyOWIiUpcaHx0tOT1DlLJjabDROwx5wkxg5gpcSdl4YbeJS6k+IW0iWpWVp/8WpUC8xAp2JGJPzK6Ob388b62CueCs3EBBKdxqVaAkoQdOHzWwIpUcwdgyTM+BhOnTfhCklqxj+nklTJ27L5zTQ5vWkFm08fZcmQR2nbti1tH3yGT7YnE7NkCB1f/IoDV/qmioiIy7OUup9mlVPbMlL+iuCD+UfTki8LVqsbVkv6FMhaqHDqOEjDk2aTo7CbJma6VyI/9S+X/sTj2FNnGJclVZaCARS0ANiJPRVzMfkzY06lJWqXZGn9bu7Zb61Jk7RuCh9siMVuuFO1z0L2n03BtEczrdUVMs009pOHiUq48Ec0h4+mjgE2vAtSKJ/z1kiVpc8pkgdl8xg28GvyMp9Mm8qUTz7hk08+4ZPJ7/F4RTf8mvTjoyHtKJHNNYiISC6xVqfn6w9TzALYDvPVs03p9OZnLFm/ha0bV/DjL9HpWgzd67akWWELmEms+2gY8w6kZV8pp/l79acMeKQ3Xx13yiyvw61mExoUsAApbJ89ky1nAXs0Sz5fyGGnYZc3Y/2ZYTsTy1kTwINy9Rpyp4+VlIMLmL/l6nP1zTOLGTtiKX8fP8bOb95i4oZkwCDfPSHUvUpum9ufUySnZPsC0pK/CKXyOwTs3vh7Glh9ilCiqK/ukyoikmcZFH/sE2bvOUanEes4fm4P80Z0Z94I53pWrBYw/Nsx/L32rOr5PVG7p9KpwpcUDvTDFhtNzHkbpmdLpmYydzL8H2TAS3VYNGwL5357j6ZlZ1Pa+yT7TyThboDN4f1uxvozw7PeAzTx+4alp8+zuF9jWn57B9GbNvB3/NVXavH149CUdlQYeyndNzyrEPb6YwQZwBUWze3PKZJT1M4pIiJXZxSiybAf+XX1J7zauTGVg/zxdnfD06cwd1ZvwiMvjOKLdSsYVtcNcKNct9lsXDqWni1rUsrXTuzJs1gDylO3dXeGfDiQFgWv3IV9dZ7UfmM+8956hBrFvDHPx2Gt9hyfRbxEpcuaWW7G+jPOUqob074eSvtqRfCI28e2HXHUGTKHkfddpUkUMIp2YerC/9G1Xil8Pb0pXLkNA2Yv4r2Qq91+CnL7c4rkFCM+/hqXeLkgIiKC0NBQ57DkosjISEJCQpzDkkO0/bPHMAxM06V+5kTExel3I/c4nvPUkioiIiIiLkdJqoiIiIi4HCWpIiIiIuJyjPDwcJcbdBEc7PA4EBGRbGjatKlzSETkutasWeMckhymiVNyXZq4k7u0/bNHEyBub9r/khU6bnKPJk6JiIiIiEtTkioiIiIiLkdJqojcJhJZ3C0Ai2FgGBbyN/mAvy8+5CeF7W/Vwt0wMNxrMOz3FMcF5ZaSQvSWCN58pgV3lQnEz8sdj3wFKVHpHtr1GMb09YdJcl7kJrP98Q61PQwMw4M6I3fh9LRXkdvWZc/rEBG59Zmc3/ARH6wJZeL9js91lluaGcvGMZ3pNGQFUSmO4w1jidqzmag9m1m+Mz/3/jSAYKtDsYjkikwlqclRkUwYOp6dDccS3iOYi9/h86sY3vk9Njhefno0Yei8ITR2d4iJiLgK2wFmjp7FgKZh3KE+pduAybG5L9DpjR+JsoPhVZqWfQYQ1uYuirvFcmjfHrYtn83XUbfK40STSUpyx8PDOS6Sd2Top9l+7iAbvn6Xvn1G8+PhyztCzPhznLeUoO2QSUyePDn19VEotTOVAouI5BDDDTc3OLtqPB9tSnAudZDCjk9Dad+4BmWLF8LH0wMvv6JUaNCRAbO2c+ZCY5z9MB8388QwDNyCX2XhyjE8dldxfPIXpnLbISw5nELcHzPo3bQcBfPlI7BKO9784QgXRxsAkMS/P4ymxwPVKOnvjae3P6VqteXFKZs5mb6iZIXtD6aMmssRO2ApTqdP17FobC8euu8e6jduRcdn+jHqiw38tawvZS+2wGRgn5jHCG/plbbvX2bu4pE8fvcdFPDyJqBCc16dd4DkC28HYDvCihGdqBXkg7dfSeo+MYbI6Kt18Gd2/a8wf9lIOtcpiZ9HAZ747ny6dxPJc+Lj481rv86Z/87ub3bqNsT8dMUyc3yX+80uE3834xzqnNv9qdmteS/zywPnrrB85l7h4eGmuJY1a9Y4hyQHaftnD5D2fwnmomcLmQaYeDYxn3i0lGnFYhbsMMM8Yk82fx9e03QDE7fq5pu/JV9c5vuufqZhWE3vgsXMEiWKmD7uhgmYWALNjrMOmzbTNE3bIXPS/R4mYFr8ipvFfS2pdcAEw/S9u515f5DVIYZpKdzJ/CranraeZPPvTzuYxa2GCYZp9S5kFinoZVoMTAxvs8Yrq82YC1UlUy7sf9v+D8zGHqnb3q3iQHNzklPFy2Rwn9iPmlNaeJqAaXjmN/O7W00vPx/T00g9Tgzf5ubkA7a094w3t719t5nfuHQcgGHmDyphFrJggrtZ+52dZkoW12/xKWwWzpd2fOJlPvzl2QsfRjLp0u+G5DTHc14GWlItBD44gpkfD6bLPcXxvEJPiP1MDKdNN2xxJziToEt+EXF1PjTr3497vE1il4xj0q+X9xClcqPS09OI/PskZ04d4dChaGIOLqRneTewH2fRtO845PSTZz8bS6HHP2Pjbyt5s2E+DEzOblnMllL9mf/Lr8zvWwMPA+wnlzN/bWpLlxm7iOFvLOSIzSCw3QR+jz5B9IlDrH6lFh7Es2PiIML3Xq21TTLCdugAh9I2oVvlGlROG4qWsm0wVd0NDCPt5V6RgT+nZGmfmEkW7hq2iWMxp9g94QF8DDDj1vH9ipOpGWnsIsZ8sI1zJliDOjBh8yGi9y3n5bJxxDodR1lZv/1cDN4tPmDt/miO/bOetxp7pSsXyWsy1iFvWLhCbnqRPcmCj/9/fPXS00xN9qZ4jWY82asHzct4O1cVEXEJ1grdGfjYeB76fCdTxnzPfRWdawBYCW7SgBNzp/Hm+7v478RZEpIT+fdcamNVyr697LfBHQ6TbAyfVrwx+inuKWjDq1k5Rm3YQYqlEB0GDaPDXflJSWpF6Y+3szclgWNHTmEnPynbfmDlcTtgwb5vDv0emgeAeeo4BmAm/Ubkhlheqxhwzd9iuXGSM7pPHB6QaPi1oV/fuvhZIH9IEyq4/civyTaij0Rjpwj239ey8bQdcKPis0N5vl4J3CjBoNcfZkr7zznukKhmaf2e9/HGxD40LmEBihB4qUgkT8pYknodHnV7MSWiF9gTOPHXT8z5eBLjByfiE96fBj76SRURF2T40/rV3tT+agjb5o8lvH26kYOpEn5ldPP7eWN9rNP40VRmYgKJZvqYJbAspX0MwMA7v3dqUmkpQbnSnqkV3N0v/vDabKktYbaTJ4g1Aeyc2BXJyl1pFS6yExsTi4mS1KyylryTklbYb4OUP3fwZwrc7QZudUawPeFN9oxpTK03tlwcP5rxfeJzMWIpUpISFxovPT1JnbNkYrPZMAF7zEli7ABWStxZ8uLkY49Sd1LcQrokNUvrL16NaoEZ6CAVySNu7NFs8aJwxWb0fLE9JWN/Yv0O3WtQRFyXW5WeDHioMEbib3w7b+9l96dMWjeFDzbEYjfcqdpnIfvPpmDao5nWKi3hvBKL5fIfVsOKmzUtvbzCoxathQrjbwCGJ80mR2E3Tcx0r0R+6l/u8veVDLOUup9mlVMvD1L+iuCD+UfTLjwsWK1uWC3p0/8s7RPHXkfDuOyCwlIwgIIWADuxp2IuXviYMafSEtJLsrR+t0sXQCK3gpv2m2dc/I+IiIsyCtNhwPNUdYeUlBSc00fbmVjOmgAelKvXkDt9rKQcXMD8LVdodc0G97otaVbYAmYS6z4axrwDaXccSDnN36s/ZcAjvfnquPO/TjLFWp2erz9MMQtgO8xXzzal05ufsWT9FrZuXMGPv0Snay2/GfvErWYTGhSwAClsnz2TLWcBezRLPl/IYacrpJuxfpG8JvsXXfZjbJi7ktigYEr4uZEQvYuV38zjUMB9PFc9+28vInIzedz1Aq+1nciz8y+1bF3gWe8Bmvh9w9LT51ncrzEtv72D6E0b+Dv+xiYHhn87hr/XnlU9vydq91Q6VfiSwoF+2GKjiTlvw/RsydQbu8rbkEHxxz5h9p5jdBqxjuPn9jBvRHfmjXCuZ8VquTn7xPB/kAEv1WHRsC2c++09mpadTWnvk+w/kYS7ATaH97sZ6xfJa7LfkmrGc/rfX5k/6R3eGPAGI6cs59gdjzD4vV7Uy6+mVBFxcUYxHh3QgwpXuKa2lOrGtK+H0r5aETzi9rFtRxx1hsxh5H3X6O7PEjfKdZvNxqVj6dmyJqV87cSePIs1oDx1W3dnyIcDaVFQv6fZZhSiybAf+XX1J7zauTGVg/zxdnfD06cwd1ZvwiMvjOKLdSsYVteNm7NPPKn9xnzmvfUINYp5Y56Pw1rtOT6LeIlKlx1/N2P9InmLER9/g5sEsikiIoLQ0FDnsOSiyMhIQkJCnMOSQ7T9s8cwDMwrjAOV24P2v2SFjpvc43jOy35LqoiIiIjIDaYkVURERERcjpJUEREREXE5Rnh4uMsNuggOdniEhohINjRt2tQ5JCJyXWvWrHEOSQ7TxCm5Lk3cyV3a/tmjCRC3N+1/yQodN7lHE6dERERExKUpSRURERERl6MkVURuEylsGVQJd8PAMAwsFje8/EtSs+1LzPj9zGWPRM2+JFb0CsI75CMOOj/KSnLBpf3vXmMYv6U4FSdG0q+MG4bhQZ2Ru3B6Suk1aD+L3CxKUkXk9uL3AMPnLWTBgm+Z8W4Xiv8xmR6tevLNsRufporrMbx98Nr7LXO3p89SEzbM4fvj3vi4pwuLSC7KVJKaHBXJ+B4d6PHp3itcZZqcO7Cerz8YyovPdubhx8ezOdm5johI7jLcS3F3m3a0a9eBx3qN4dvpz1Hq+PdMX3DsJrSmiqsxAlrQ7p6DfDf3Ny6lqQn8NGcBZ+97kBBvPWpUxFVkKEm1nzvIhq/fpW+f0fx4OMm5GEji36Uj6f3aZ+zyrMVDvYbw7sgnqXbZs4hFRFxLvlp1qeKWQtR/R7BhcnLDJHq3r0+F4gXw9vKleLVW9Ju1k3MXFjBPML2NNwHdFpPo8D4pPw+konc93vvz8kt4cSGW4rR/tCGHv5vDtgsNKfFr+WbheZo92oqC6XLUDBwPV5TCoeXv0rVReQrn8yJ/YGVa9J3JH9deSEScZCCNtHNi5RQmr81H61cGUmP6GLY61UjcHcGoz87y4JhJdCzj5VQqIuK67FH/cdhuwb+QPxbsxO47gPWe5xgZWpoi+RL4d910Rj3fjsTA3/mkhZ/z4pLnWCjWvjP3vvEec7e+Q/0G7pyPnMOihOZ82NKfBenqZuV4MDm1rC/3P/QF3o8OZuLQOhSIXsNHg3vS8rgX277sTDE11opkSAaSVAuBD45gZnsLhm0v0z9zKjbPsnHOIg65F2PtqO58eSIR7+LVadY1jK4Ni6PhPSLiUswUEuLiiPOwc/7QT0x+eSJ/WGsxssUdWLBSrutYPnKs3+wBShwN5rHPVjCuxSP4OJZJnmQJbEfnkP6MmPszIxvUYs2cxSS3mEiLAoZTkpqF48H2J1OGTudE88nsmNGNEhaAZtxb/AQ12o/lsz87Mqiy1XkpEbmCDHX3Y1i46oVfyl5++yORQuUb80jvYYwZ9xbdq59iwcghfLbTsTNMRCT3maci6Bjgi69vAYpWbss7v5WiW/hMXqqSmjiYsb8w/eX23F2uGP4+3nh7FaTdp1HE7fubKPXk3xosRWj7aFNOzp/DppOr+GaJjZaPNsfvCie6zB4PZvRaVu2w0Pixh9MS1FS+jVtxr9cuNm07eykoIteUgZbUazMTTnLynEGxOi1oXKswFqDcc8/z1+ZXWbP6T7pVranWVBFxGUaBNoydN4gGHlY8/IpRrmIZCnmkFdqjmNWtJb23N+T1t2bQompJ/L1h1wcdeHJzQroxqJKXGQS06cz9/d5g+jtRLDVbMe0BX+dKWToe7KeOc8qewOruxfB6Ll0JKUkG98acwY5/BluIRG5v2U5SDas7VsPkXFwcUDg1aC1MYIDB2djT6LZxIuJS3IpSpdG9NLqQmDo6s4q5yxNpM20Gw57wTwsm8Z897tLMf8MNNyvY7envBWAmJpKk2wPkGUah1nRu1ocnJ8yj8NPzud8HLss6M3I8ODH8C+Fv8aPd+5G8d5+ncyn5igYpQRXJoGwnqXjeQZkg+HX3Hs6YpfE3gKT/OHgEAqsWuwErEBHJGWZyIkl2Dwr5OUwAPb+RxatOYF5saMtH0WJ+JOw7yAk7aV26Ng5s/pkoXZXnHUZBWj/fn44pu6jb437yO5eT0eMhPUuxJtxXNZFPNu2n8PMPUfgKQwhEJGOyf0FnLUPzdtWwbJ3J+3N+Zu8/O1j+yVRWxlemXfPyaHi4iOQVRqGGNK0Zz+IJk9hyMpnkU9uJeLEvX5/0chiX78E97VtTcMNE3pq7mxNnotn1/VCen7gbqxKSPMWv2RBmz/uS1xp5OxcBGT0enFir0mtUd3y+6cYDT41k5qJVrF7+PV9NGUmvh8KY8Z+uZEQyKvtJKhaC2g3m7R7ViVn4Lv37DuHzvSV5cvgQOpS6AW8vIpJTrJXpNyOcTucn8EAJXwKqP8WcwKF83LN0uh/LAu3G8uWQYDa+WIcSxavTeSr0HtMN/eTdYjJ4PKRnENDyI9b8MJx6x77k9S5taN0xlEGTVnK2alPqFLr6kiKSnhEfH3+1oTW5IiIigtDQUOew5KLIyEhCQkKcw5JDtP2zxzAMTNOlfuYkB2n/S1bouMk9juc8XdKJiIiIiMtRkioiIiIiLkdJqoiIiIi4HCM8PNzlBl0EBwc7h0REsqRp06bOIRGR61qzZo1zSHKYJk7JdWniTu7S9s8eTYC4vWn/S1bouMk9mjglIiIiIi5NSaqIiIiIuBwlqSJym0hhy6BKuBsGhmFgWKx4+gVR9YFQJmw4waXnACWxolcQ3iEfcVAPB7qFpN//FosbXv4lqdn2JWb8foYb0rFrP8LSwa2pEpgfd4sbZV5eT7JzHZdh458FY3lnxhbOXvfDZ6auyI3j5hwQEbml+T3A8Bn9qONm4/zhn4kY/T9eavsfHr8uIay0BTDwCapIlfgA3K/67EvJsxz2/7n/fuKz9z6kR6ujeP32FY8Vzd4OT940jj7j9lD/wwV8VteffEUruvBJ1sbfC8cycl9+uj11N77X/OiZqSty42Tq+5McFcmEoePZ2XAs4T2CsQL2498z8NlJ/H7Z5aKV0l0mMPnZ8lidi0REconhXoq727SjjQdABx6sFEe1Zp/w9aLDhPYphQV37hm6mm3OC8otwXn/tws+R7WW05m+4BidQ4txWf6VkkACXnhl4GyZ+O9+otzr0enZZtT3ci7NhEysU+RWlqHufvu5g2z4+l369hnNj4eT0pVZCjal34cTmTjx0mvks7Xw9byDOrWLZ2wFIiK5xKtaLSq52Tl+7EKXv3N3fyILniqAd+sPWTmtF00rBJDPuwCl7w1j5q74dO+FeYL147pQt6Qf3r5B3NVpFD8sHkRV79q884fNoWIcOyL60apacXy9vClYuj5PjPqRwykOVSRH5KtVlypuKUT9dwTbxX09nmUfP0eT8gF4+zRgzG4bkMKh5e/StVF5CufzIn9gZVr0nckf5wAS+e4JH/y6zCPh3Gw6ehsY7hUZ+HPKdZZLXfbq63SWiWPxmsdYEit6labNtOMkrOpNSauBYbhTbegvXH4IXq/utdZzNSZnfgkn7P5KBPp44O5VgOKVGvL45O1p72lycsMkerevT4XiBfD28qV4tVb0m7WT1M1mcuKLRyjo24qpUenH5KRsG0JVz9K8uDohXVzypgzkkHZOrJzC5LV2Gr8ykPYlnBZxK0DJ8sEEB6e+KhQ/xdoluwns+ArP1sh/+VWpiIgLsR85zBG7B6VKB12z1yd540heWV6Z4ct2c3D3AsK8v+P5Zz5g58Vcws7+8K60H7yewB6T+X7RDAbU3MyrL87iSLrzqJ3/Ip6mefcvOHvfML5YNJ/JPUuxdUQHWg/+iTjHqnLT2aP+47Ddgn8h/4snxKSfRvLyknIMmv8rf+38imfuNDi1rC/3t3+PHWV7MvG7xcwd1wnrvJ60fO4bjpqetPpoJ9s/aI5nvvZ8smc/+/9exeu1rNdZ7tK/4/J1Xv30nJFj8drHmAf3vrOezx4LwLPhCDbt28/+/X+z/JVqV+hevVbd663nKhLWMrTTiyzx6sz/5vzIqsVfML7PfRSIP5s2NthO7L4DWO95jpHhc1my+Eve7eTN0ufb8cryM4BB4fbd6JB/LRHfHHAYT57Ixllf8XfZJ3jq3uw0ZYvLiI+PN6/7On/OPB8fb8bH/W5OevJ+s8vE38045zrx8WZ8/Gnzt0lPmfc//I655sT5K5Rf/xUeHm6Ka1mzZo1zSHKQtn/2AGn/l2z+/HpF073QU+a3J8+aZ8+eNqP3LDdHtixm5q/Sz/wxxp5WL9H88fnipleTD81/baZpmgnm9139TGtgV3NebFoV0zQTI/uad3o1MMf+ZUsNJG82B1b0MEuFLjXPXKwVZ67qU9a0ut9ljtiRklZvizmosrtZ+NGvzGMXVmkmmr++WdN0921nfnb0YlBugGvt/2O7l5jDmxUxrV71zPd2ppgX9rWlwEPmzEs7xzRTdpmj6nqaBdtNNw+l7W7TNM0zy583S3vVNUftSt23Z2Z1ML18njC/S8jMcldZ5xVl9FjMyDGWaC57rojpdf+kdP+2K7tK3Qyt53K2/R+Yjb3Lm69uTHIuuobz5vKwkmbBx781z5qmaZrx5uo+pU2v2u+Yf6R9tcy4pWZokKd514gd5oVQVl06biSnOZ7zrn6p5siwZKhF1Ixdz9eLj1H50Se4O39GlhARyVnmqQg6Bvji61uAwIotGLqlEiNmj+EB/2v/ZrlVa0g9P4e/S9xJCY5xJDq1+cp+5Gc2H8hPSLsQfC/Wyk/DdvcT4PDW9qOb2bjPg5BH2hB4Me5BtYfbUylxMz/9dtkAf7mBHPd/0cpteee3UnQLn8lLVS61o7tVD6Fx4Us7zYxey6odFho/9jCOnYm+jVtxr9cuNm07eynoIDPLOa/zWq57LObQMZbV9ViK1aBm4L/MeKUv42ev4Y9j8ZfdXcGM/YXpL7fn7nLF8PfxxturIO0+jSJu399E2QC8aPRsF8ru/IIvfk1dT+wPEcyLuZunu1S5Zq+I5B0ZS1IzxM6RVYvYatSnQ3ONRRUR12QUaMPYVetYt3YF8yY9Tx37WoZ0H8Nvic410zM8PfFwDFgsWLCRkjb2zjwdw2kKEFAwfYeptWAABR1+EM3YGE6bvhQunL470hIQSABniYm95mA+yaYL+3/9+g38vP0fjkVtY+pTFfF0qGPx9cPH8cLi1HFO2RNY3L0YXl5el17+j/LV6RROx5xx6HK+JDPLOa/zWq57LObQMZbl9Xg1ZdTC6Txd5Gf+16MZNYIKc0ejHnyy9XRqsmqPYla3lvReYNDurRksXbeVX37bxpc9ymBJSuDCV9W91lM8VfMAX0dsJNE8zsKZi0kIeZrOZZSB3CouH36SVfbDrFu1B+/6nbk7o980EZGc5laUKo3u5V4PoPF91POLptaz/+PNr3vw/TPFM9RrdCVGgYIU4DSnYlIA94txW8xJYhwyGMO/IP7GWU6cSASHVMN+6jgn8aO8/437WZYrSNv/jdJleddm+BfC3+JHu/cjee8+x3QWwCBf0aArNsxkbLkrTZDKnpw6xrK+HgPf6l0ZN78r45JOseen+Uwa/Bovdvaj6p/v0/j8KuYuT6TNtBkMe8I/bZkk/rPHpW9xtQbT5ZmGjBw5kxW96hKxwkLLqY9QPKtfYnE5V/peZYn9+FY27/eg5j010HBlEckbLAQ9/jYv1Y5n2fhPrnArvYyzFK9H/dLniFyyzmHCyHk2Ll7FSYczq6XYPTQol8TaeUs4fjGexM75C9njWZ9777qU4IprsBRrwn1VE9m6aT+FK1aiUiXHV0XucGo9vyCry2VXRo8xdw8PSLjUMnktV6qb0fVck0chKt7Xnff6N8Mzag9/nTExkxNJsnvg5+eQTZzfyOJVJ5yGBVgo9egzNDv/He+Efsw6nwd5ul1Ali80xfXcsG9Iwp6d7KMMjYOVoopIHuJWhbABj/DhE1P5YFl/Pn/Q27lGxrjVJezl+wjv25MuJcfw8v2BnFo7gbcWJOBr+GNcaBJwu4vnX2/Lp9378PBLpxnYvjTnt0zjzdF/UvHFCXS8NLhPXIW1Kr1GdWfWQ914wLaT/o83oJTHWY7u/4O1Sw9yz4TJPFPqCm0+GVrOeaEbIEPHmBvlK1eAWfOZtqAeD5f0Jl9QZaoG5XN+N65eNyPruVzKr6PpOPgA93S8n1rliuN9Zgdfj/kRe40B1C9oYNCQpjXj+d+ESWy5py+1jN18/Vpfvj7phXFpwDcARpEOdHvwVR6J2EXJFz6guVO55G1X+FZlhZ1jBw+T5Fmc4oVu0FuKiOQIg4AOA+hV9SRz34/gwJUGF2aIhTI9Z7FgZAMOT+5O6+aPMeynqowc+ygBVl/8Lg6DslCqawQ/TnuC/D8O5fE27QmbfIC7Bn/P0pGN8En3nuIaDAJafsSaH4ZT79iXvN6lDa07hjJo0krOVm1Knaue97K6XHZl5BizUOqpUbzT/AyfP3U/99S7h8cm/3mF+6TC1etmZD2XsxSrRV3/vcwe2YfHWt1P62fH8GuZl5g791WqWgFrZfrNCKfT+Qk8UMKXgOpPMSdwKB/3LH2FpMWPZg82xcetHI8/fS9ZvMQUF2XEx8c7T6rLVREREYSGhjqHJRdFRkYSEhLiHJYcou2fPYZhYJq59TNnY+/YxtScUIelf0+gaSbGQcqNkbv7X26+OJaFVuKhbWFs3TKUajdoWr+Om9zjeM67Yd39IiK3O9s/cxj1ZSzVGlSlpF8i/66dztsjfqfagMmZmqgjIteTwNHdO9jzSwRDvo7jvvHP4nAXMblFKEkVEblBDA83YtZPoN8H+zh21o5PqVq0GvQ9YwfUdJjvLyLZZtvP9KcaMfQPf2o8/iEfPlvqCkMBJK9TkioicoNYSj3M+B8eZrxzgYjcWNbKvLE1iTec43JLMcLDw11u0EVwcLBzSEQkS5o2beocEhG5rjVr1jiHJIdp4pRclybu5C5t/+zRBIjbm/a/ZIWOm9zjeM7TEA4RERERcTlKUkVERETE5ShJFZHbRApbBlXC3TAwDAPDsGD18KVopaZ0f38d0de9iX8SK3oF4R3yEQevW1dcz6X9715jGL8537U+MZJ+ZdwwDA/qjNyFzan46nRciNwsmt0vIrcXvwcYPqMfddzAnnCcnQsnMPq1dhz0+JXlvcte48rdwCeoIlXiA3C/8tMeJQ8wvH3w3Pstc7cPpVbtS6fAhA1z+P64Nz7uGXmSvYjkhEwlqclRkUwYOp6dDccS3iOYi/fNTfiX1Z9P5atV2zl8zkrBMnVp0/15Hq8dcI0ffBGRnGe4l+LuNu1ok3Zz/fYP303K9tqMXLCS4y+UpeiVEtCUBBLw4p6hq9nmXCZ5ihHQgnblfuS7ub8xvHbdtJNgAj/NWcDZ+x4kZO23HHFaRkRyR4ZySPu5g2z4+l369hnNj4eT0hea5/h58mDGrbfS7OWxTPhwKE/c+S9fvTWK7w+r70NEXJzhSwE/x8w0kQVPFcC79XiWffwcTcoH4O3TgDG74526dU1ObphE7/b1qVC8AN5evhSv1op+s3Zy7rL3+pCV03rRtEIA+bwLUPreMGbuir9YS3KQpTjtH23I4e/msC05LRa/lm8WnqfZo60omO4iJSP7+EpSOLT8Xbo2Kk/hfF7kD6xMi74z+ePaC4mIkwwkqXZOrJzC5LV2Gr8ykPYlnBax/c2WrTHc0bobjzaoSNnytWkT9gg1U/awfa+6TUTExZgpJMTFERcXx9mTB9g0YxiTN+ejyUPNKOKQoCT9NJKXl5Rj0Pxf+WvnVzxzp/PPpZ3YfQew3vMcI8PnsmTxl7zbyZulz7fjleVn0tVM3jiSV5ZXZviy3RzcvYAw7+94/pkP2JnxgY9yw1go1r4z9x6Zx9ytqVnq+cg5LEpoTueW/qRvSM/4Pr7E5NSyvtzf/j12lO3JxO8WM3dcJ6zzetLyuW84qrsaiWRYBrr7LQQ+OIKZ7S0Ytr1M/8y5OJCgYhaWb9vMgU6lKetpEvfnbv51K0f78p5OlUVEcpd5KoKOAREX/zYsflR/fiafhzmNR7U04Y3pr9M68ELaksRfjuVYKdd1LB85hpo9QImjwTz22QrGtXgEnwtxz5YMn9qXpgUAAnllaBemtFzI0v0DqVreOfmVm80S2I7OIf0ZMfdnRjaoxZo5i0luMZEWBQwWpKuZiX18ge1Ppgydzonmk9kxoxup7TrNuLf4CWq0H8tnf3ZkUGU9ZF4kIzL262hYnK4uHViK0+bFXtx9ahavPD+I8RNG8OrYP6j+0kAeKpWxtxcRySlGgTaMXbWOdevWsXb1Er547yGMWU/z0FsbiXOo51Y9hMaFr/rLB4AZ+wvTX27P3eWK4e/jjbdXQdp9GkXcvr+JcmgldavWkHp+Dn+XuJMSHONItJpSc4WlCG0fbcrJ+XPYdHIV3yyx0fLR5qQb9ZEmo/v4Yv3otazaYaHxYw+nJaipfBu34l6vXWzadvZSUESu6QZkkSbxJw5xLKk49Vs14k4PA4t5jF+Xr+efc+rXEBEX41aUKo3u5d5776Vx09Y88dqnRLxalt/+N4LZDn2xFl8/fK6QtFxkj2JWt5b0XmDQ7q0ZLF23lV9+28aXPcpgSUrAcbCT4elJ2jytVBYLFmykON8GSXKIQUCbztwfM5/p70Sw1GxF5wd8nStlah9fYD91nFP2BBZ3L4aXl9ell/+jfHU6hdMxZ9BsDZGMyUB3/3Wc/5lP/7cIj85TGPBwcSy0o0OHxQx/4WMmLqjPR0/ceSMyYRGRm8SNcsFlsSZsZ/f+FCjmXH4VZ1Yxd3kibabNYNgT/mnBJP6zx6HLc9dnFGpN52Z9eHLCPAo/PZ/7feCyrDML+9jwL4S/xY9270fy3n3OQ94M8hUN0jlRJIOynaTaT+xn/xkvypa8dLspt8CqVC4K849EY0NJqoi4siR2b99DiqUwxYpYIIPtXGZyIkl2Dwr5eV0Knt/I4lUnMK/QKCcuxihI6+f70zFlF3V73E9+53Kyto8txZpwX9VEPtm0n8LPP8R1RoyIyDVkO0m1FK/JXcUjWPT5J1Rxa0MlvwQO/vQli/7NT60ngrO/AhGRG8hM/o8tSxZhdwNs5zi89WvGf7CbAg9MoVNZK5CxPnijUEOa1oznfxMmseWevtQydvP1a335+qQXxlUSGHEtfs2GMLuZc/SSLO1ja1V6jerOrIe68YBtJ/0fb0Apj7Mc3f8Ha5ce5J4Jk3lG8zVEMiT7OaR7ZZ56+w0s4V8Q8fYPnEq04lu8Eo1eeIfnGhe4+oQrEZHccGYFwx9eARgYVg8KFK9Mw9CpfP1WN0pnJnewVqbfjHD+DR3MAyUGYwZUpOnTQ/m453C6LneuLHlSlvaxQUDLj1jzQzBvjgjn9S4jOGX6UaxMNe59MJQ6hTJzkInc3oz4+PirDa3JFREREYSGhjqHJRdFRkYSEhLiHJYcou2fPYZhYJou9TMnOUj7X7JCx03ucTzn6ZJORERERFyOklQRERERcTlKUkVERETE5Rjh4eEuN+giODjYOSQikiVNmzZ1DomIXNeaNWucQ5LDNHFKrksTd3KXtn/2aPvd3rT/JSvCwsKYMmWKc1hygCZOiYiIiIhLU5IqIiIiIi5HSaqIiIiIuBwlqSIiIiLicjKVpCZHRTK+Rwd6fLoXm0PcPLubeWP78dTD7Wj7UBdeeGsGm45l7PnXIiIiIq5Ek6Zcg5tz4Ers5w6yaeEXRHyzjgPnTYLSFR5lybuDmX6sPqFD+1DV4z+WT53IO0NTGDuhB5U9HSuLiIiIiFxfBlpS7ZxYOYXJa+00fmUg7UukX8R+OJKlvxs07N6H9rUrUK7a/fTs+xAlDi9jyW+J6eqKiIiIiGREBlpSLQQ+OIKZ7S0Ytr1M/yx9qXk+jni88PO51GRqvaMCZT3Os/9ANPb6pTKSCYuIiIiIXJSx/NGwYDjH0lhLVqWyzyl+mr+Mf+JsYE8g9uBRzmJiS0rGpZ4UICIiIiJ5QgZaUq8jf31CBz3J2PfD6d1pIgDu+fNjnDeoUsg/g1mwiIiIiGvQE6dcQ/aTVAwK1OrKO58/RtzJk5yz+OKx432eG/0flSsVuGoLrIiIiIjI1dy4hk7DHZ/CxShi3c0XERux13iQlmWszrVERERERK7rBrSkmpyP3s9/R6M5uPtnli9Yzh7vZrzWvw3FblwKLCIiIiK3kRuQpKawc9brvL3OQuCdlbjrkSH0a1Ofkt7q6BcRERGRrMlckmoNpvu0xXRPF3Tn7v7fsLB/uqCIiIhInqRJU65BHfIiIiIi4nKUpIqIiIiIy1GSKiIiIiIuxwgPD3e5h0IFBwc7h0RERETkNmLEx8e7VJIaERFBaGioc1hyUWRkJCEhIc5hySHa/tmj7Xd70/6XrNATp3KP43dW3f0iIiIi4nKUpIqIiIiIy1GSKiIiIiIuR0mqiIiIiLicDDxxKpnorfOJmL2MTXuOEu9WiNK1WvD0C12oV9iaWsV+mh1zJ/HJ/J/5N86dYjVa0q33MzQq7p7+rURERERcnCZNuYbrt6Qm7GRu+GJOlG1H78HDGPRsfay/f8GoccuItgPYiVo0ijdn7qXYQ68w/I1nqRGzmHeHzWRXgvObiYiIiIhc3/VbUr1q0XPSNNzcL1StTaFj2+i/5A/+sbUl0Labhd/twLvZW7za+W68gbuKnWZP7zl8u/kxKof4YDi+n4iIiIjIdVy/JRUcElSARGJizmEpVoKiVrBH72LXcXeq1KmGd1oNa8m7qFkkkT//+Aebw5IiIiIiIhmRoST1EjsxG6cybX1+WnTrQBkL2GNPEmP6ElDQYfyppQAB/ganT8aScikqIiIiIpIhmUhSbUT/9BEDx2yj9Atv80I939RufBO4rEPf+W8RERGRvCEsLMw5JLkgg0lqCkdXj2XAmN8o02c0g1qV4kK7qaVgAAWNM5yMSb5U3R7LqdMmfoX8MzDoVUREREQkvQwlqQl/zuKtD7ZTpvcoXm0WdDFBBbAEVqZS4WR2/bqT+LSYLep3fo/2pFLVsqTdpEpEREREJMOu39BpnmTNrPkcLteJnuXiOfjPP2kFBj7FylA0fxUefKgqyz+dxPhSobQtdYb1M2ZzIKg1zzdIGxIgIiIiIpIJ109SU/axa08CCadnMrDXTIcCD+4dPJc3Q7wo2WEww5MmMmXOaAbHuVGseite79ONal4O1UVEREREMuj6Sar73fSfs4z+znFHFn9qPjaEjx9zLhARERHJW/TEKdeQoTGpIiIiIiI5SUmqiIiIiLgcJakiIiIi4nKM8PBw0zmY24KDg51DIiIiInIbMeLj410qSY2IiCA0NNQ5LLkoMjKSkJAQ57DkEG3/7NH2u71p/0tWhIWFafJULnH8zqq7X0RERERcjpJUEREREXE5SlJFRERExOUoSRURERERl3P9J06RTPTW+UTMXsamPUeJdytE6VotePqFLtQrbE1fMyqSCUPHs7PhWMJ7BJO+VERERMT1adKUa7h+kpqwk7nhizlxVwd6dyqB+7Gf+WbGF4waV4jwUW0JtID93EE2LfyCiG/WceC8SZDze4iIiIiIZML1k1SvWvScNA039wtVa1Po2Db6L/mDf2xtCbTYObFyCpPX5qP1KwOpMX0MW9O9gYiIiIhI5lw/SQWHBBUgkZiYc1iKlaCoFcBC4IMjmNnegmHby/TPHKqKiIiIiGRBJidO2YnZOJVp6/PTolsHylxY2rBgpKsnIiIiIpJ1mUhSbUT/9BEDx2yj9Atv80I9XyWmIiIicssJCwtzDkkuyFB3P6RwdPU4Xv/gTyr2Hc2rzYJwd64iIiIiInKDZChJTfhzFm99sJ0yvccpQRURERGRm+76Sap5kjWz5nO4XCd6lovn4D//pBUY+BQrQ9H86vQXERERkRvr+klqyj527Ukg4fRMBvaa6VDgwb2D5/JmiJdDTEREREQk+66fpLrfTf85y+jvHL8SazDdpy2mu3NcREREJI/QE6dcQyZm94uIiIiI5AwlqSIiIiLicpSkioiIiIjLMcLDw03nYG4LDg52DomIiIjIbcSIj493qSQ1IiKC0NBQ57DkosjISEJCQpzDkkO0/bNH2+/2pv0vWREWFqbJU7nE8Tur7n4RERERcTlKUkVERETE5ShJFRERERGXoyRVRERERFzO9Z84RTLRW+cTMXsZm/YcJd6tEKVrteDpF7pQr7A1A+UiIiIieYcmTbmG67ekJuxkbvhiTpRtR+/Bwxj0bH2sv3/BqHHLiLZnoFxEREREJJOu35LqVYuek6bh5n6ham0KHdtG/yV/8I+tLYHXK79+GiwiIiIikk6GUshLCShAIjEx57AUK0HRtN7865WLiIiIiGRGhpLUS+zEbJzKtPX5adGtA2UuW/p65SIiIiIi15eJNNJG9E8fMXDMNkq/8DYv1PPFyFS5iIiIiOsLCwtzDkkuuP6YVABSOLp6HK9/8CcV+47m1WZBuGeqXEREREQk4zKUpCb8OYu3PthOmd7jrpiAXq9cRERERCQzrp+kmidZM2s+h8t1ome5eA7+809agYFPsTIUzXfq2uX51ekvIiIiIplz/SQ1ZR+79iSQcHomA3vNdCjw4N7Bc3mz4XXKQ7wcYiIiIiIi13f9JNX9bvrPWUZ/5/hF1ysXERERyTv0xCnXkInZ/SIiIiIiOUNJqoiIiIi4HCWpIiIiIuJyjPDwcNM5mNt69uzpHBK5ra1Zs8Y5JCIicksz4uPjXSpJjYiIIDQ01DksctsyDAPTdKmvaZ4SGRlJSEiIc1huE9r/khVhYWGaPJVLHL+z6u4XEREREZejJFVEREREXI6S1ByVyOJuAVgMA8MwsFjc8PD2o3DJYOo2f4JXJv7I/njnZQDzDLu/G0mPVrUpXdgXL6/8FCpZjfu6DGbmthPY0lVOv44L6/HyDaRsnVaEjv2R/5LTLXBJ0ipeKGG9uNxVXx61eeeP9Gu9KvMY4S29MAwDt+ABbLrauiFzdUVEROSWpiQ1F5mmjeSEs5w8/BfbVnzN+BdbUevel1hy1H6pku0/5j3fiLs7DWH6D7/y78k4EhPPE3N4J2u+GsWzjerx+PQ/Sby0xGVM00Zi3HH2//ID0wY+SJthm69ZX0RERCS3Xf+JUyQTvXU+EbOXsWnPUeLdClG6VguefqEL9QpbwTzNroURfLV0E3/8F4PNqwjl6z1It7CHqV5AOfBVWUvy6P8+4dkycUTtXMOXkz9jzX+JnPllAk92rcCWH3pT3mpn/9QedJ/2B+dMA/c7WjFw5Mu0qeDOodUfM+TtueyN38+3vbtSo/YGhtbycFpHBV5e8TNv10khatUwHnl0MjuTE/nzu/lsf7s+dzvvffda9PliCe0TUifpJP/8P7oMX0GcaaVk5/F80i0YK4DFj+DS2rciInJr0qQp13D9TCNhJ3PDF3OibDt6Dx7GoGfrY/39C0aNW0a0HTDcSE6Ecm3CGPzOCF7vdje2TVN5++ONxGlC8tUZ+SjToCVt2j/Gc4Mms+Ln2TxTxgrYiV0zhvcjEyBlG+EfribWDoZbFfp/8y0jujanQf2mPPr6l3z/dkO8DTATfuXjiSs5f9k6DNzz+eDjW5jgNo9yX7HU3W3Gn+P8lfaNUYgqTVvSqlUrWrVqRYvaQbinFpC/bANapsVbtWhIWR8bOz4NpX3jGpQtXggfTw+8/IpSoUFHBszazpkrvT8mpzZPpFvD0vh75yewajsGLTjA9Xv1k/j3h9H0eKAaJf298fT2p1Sttrw4ZTMnHRqdRURE5Nbh3JZ2Oa9a9Jw0DTf3C1VrU+jYNvov+YN/bG0JtOSn5qN9qHmhfq3qeP4VyZu7/uKYvRE+1gsFci2WYg8ypHc9vnx1I0m2KFb9uIOkO9eydl8KAG7VHqNrXW+HJdyo2KUrDYdsYGWinRPrI/kjpTX1HPeoaZJ8Po64szaORn5L5DE7YKX4A62odf09fx029q/5hkU/ncPLvwiFirhxOvo4f2/6jrE/r2ef8SvfPBmU7irIPPYVPdse4fCZtMxy12JGd95P8vJNjGvi61DTUQr/TO9M454LOGIDq3dBCnmfJ2r7Eib2Ws3av5YQObYp/obzciIiIpKXXb8lFRwSVIBEYmLOYSlWgqLOCag9gRO7f2DpL8nc0bA+JZ3L5RoslKpRnYIWABuHDh4m6cghotLmJ1nLlKeM0/Y0CpejXMHU7MwWdYgjznOZbH/x/n0F8fUrTIUHJ7IjCTyDn+OT91pTINtJnRuVnp5G5N8nOXPqCIcORRNzcCE9y7uB/TiLpn3HIadWTvvZWIqHLmDvsSPs+LI7Fd0NzMTdfDLqa6Ku0iJqxi5i+BsLOWIzCGw3gd+jTxB94hCrX6mFB/HsmDiI8L3OH1xERETyuky2p9mJ2TiVaevz02JIB8o4pLjJG8fy+NsriLMb+N0VynuPV8bzUrFkxE2/YbtJ4t6pPPtULTYsfp4K2bqIsBLcpAEn5k7jzfd38d+JsyQkJ/LvORMwSdm3l/02uMPhCDP82jFwWFsq+AKPDadP+CxeXJPE+c1r2ZoUSvsrHDDJ235g5XE7YMG+bw79HpoHgHnqOAZgJv1G5IZYXqsYQLbzbhEREXEZmUhSbUT/NIEh47ZR+oVRvFDPN11S4FarO+MntCH6wC8s+XIGrw2G/73XkTKpgxrlumz8+/sOTtkBrJS8syQexUsSZIUDNrDt/5v9NqjmkFiaJ//hn5jUxNYaVJLizkmnWzADftrJ6HoWEqJ+YvTj7Xhr3RlOrBjDxxt78P692dg5Cb8yuvn9vLE+lis1gpqJCSQ65dyWgBIEeV34I5ASxdwxSMKMj+HUeZMrXdXYTp4g1gSwc2JXJCt3OdewExsTi4mSVBERuTH0xCnXkKHufkjh6OqxDBjzG2X6jGZQq1JpE2ouMbwDuLN8Ve5+4Cne6N8a393fsnjX9afESCr70YWM+nhL6iQiaxDNmlfD484mNCmbeh2R8sdsZm11vIlqCnu+mMWGJBOwUPjeEKpd9ZLDgldQQ7o8WDn1qsR2hAMHE5wrZUrSuil8sCEWu+FO1T4L2X82BdMezbRWV8g009hPHibqwmrt0Rw+mowJGN4FKZTvyimmtVDh1PGmhifNJkdhN03MdK9EfupfLqMHsoiIiOQRGTq3J/w5i7c+2E6Z3qN4tdmFGd/XYFgwSCEldc6PXIl5nv0bf2Dpwjl8+t4LNK//ODMO2AAL/vcN5KUmXuBWh9C+91HAADNlF+M7d2TorBVs2ryGuaO70OHNDcSbYHjVolfvZuS7bB1pE6fiznLir+VM+/YPUgAshShe9OrJZEbYzsRy1gTwoFy9htzpYyXl4ALmb7n6hYl5ZjFjRyzl7+PH2PnNW0zckAwY5LsnhLpX+ee4121Js8IWMJNY99Ew5h1Iy3JTTvP36k8Z8Ehvvjp+s4dJiIiISE67atvbReZJ1syaz+FynehZLp6D//yTVmDgU6wMRT3+YtmXO3ALLkOgj4Xzx3azcvZiogNb0KTyddPZ25ftEHNeasecdEELBWr35YuI5ymfekNSyvb8lOm/tubpaTs5d3Ap7zy1lHccljA8SvPIxFkMvMvpHqlwceLU++mCBt41evBsoyvUzwTPeg/QxO8blp4+z+J+jWn57R1Eb9rA3/FXTxgtvn4cmtKOCmMvDRAwPKsQ9vpjBBnAFRY1/Nsx/L32rOr5PVG7p9KpwpcUDvTDFhtNzHkbpmdLpl5hOREREcnbrp+kpuxj154EEk7PZGCvmQ4FHtw7eC5Da8dxYn8kKxbNIDrOhodfMcrXfpxhzzxK7cua9sSRYViweuTDr3BxSleqy32P9ODF7s2488K4TQBrKR6ZsoFKLT9i3JS5rNz2F0fPmuQrUoaaIR3o1r8/XesWTr3J/tUYBhY3bwqWrMw9rZ/l9Td7Uc9xHVlgKdWNaV//R6/XPuHHPfvYtqMQDw2ZQ7dlHXhp8ZWHEhhFuzB1Wgm+em083/9+As+y99Hj3YmMCLna7acA3CjXbTYbS01g5LgIlv28lyMnz+IfWJ66IY1o2aErLdLucCAiIiK3DiM+/hpNX7kgIiKC0NBQ57DIbcswDMybfueHW1dkZCQhISHOYblNaP+L5C2O39kMjUkVEREREclJSlJFRERExOUoSRURERERl2OEh4e73GC3nj17OodEbmtr/t/efcfXdP9xHH+de2/2logIWjNWECtqxt6j1KpqizZit1U1Sq0WLapqtIRqiarZ2tTPSNCipfbemwhJSGTde8/vjwQ3VyQ3qFzN5/l43MeD7/nec3LPeNz3/Y5zwsPNi4QQQoj/NJk4JbIkE3dyluz/ZyMTZ3I3Of7iacgTp3KOTJwSQgghhBBWTUKqEEIIIYSwOlYcUpNY190TjaKgKBqc6kzlzMMHFek5NCYAG0VBsSnPqIPy/NUXw/SYKGg0OmwdXPEq6EeVRm/y8Yz/cT7B/D2ZUO9y/NdxvNe0EoW9XLC3dyJPQX/qdRnOgn1RGMzrZyj93/Tg77J38aZo5aYET/ofl5/8pFYhhBBCWCkrDqmmVO7/OY2p4fHmC0QOUlUDKYn3uH31NPs2L2ZK/6YE1PqQ9TcePfb0iQyX+a1XTaq2H8G83/dz8XYcSUn3ib56lPBfxtOtZiCd550gyfx9FlBVA0lxtzj/z+/MHdKK5qP2PNV6hBBCCJFzLAipKUTuXcbXn7xHh9YtaNnubfqNDeOvqIzauVTuHgilb5umdJ72D8+1ActwgQVfLeSSBflHvADagnSYupZ1qxYzZ3wv6hWyQ8HI3X+m81bX7zmT0enxkJHzc96jx9wjxKsKNq80Y0TYJv7cvY2lEzrg56CgJp1nRd+uTDyQbP7mJ9OW4KNt0dy7e4uTK/tQ1kYBNYkTv67kkDS2CyGEsJBMmrIOWYfUxKMsD11HVNGW9B0+imHdqqE9+DPjJ28k0iwwJpxYxMjx4cTYPednqSs6dDq4t3UK03Zn/Fz4VHoO/xBM69rlKZo/D852tti75qNE9TcYvPAQdx9MkDZe5bsGdiiKgs5vEGu2TKRTxfw4O3lRusUI1l/VE3dkPn3rFsPD0RHvMi0Z+ft10n/cZC7+/hXvNfSnoLsDdg7uFApoQf/Ze7idG4K04kiR6k1o3roT7w/7ns1/LeHdIlrASEz4RL6JyOQ46fcR+u02Yoyg6MowcOkKPu/aiOrV6tJh6CJWja2BgwJq4n6+m7GF++bvfxJFwcbRGWcXL/yad6CeT+rprSbEc18mxwshhBAvlaxDqn0APWfOZULvttStFkjN1r3o1TQ/SSePcNaktcx45w9mfLkRr54jaF9Y+2jB82Bbgw5tC6LVn2HexKXceGLgMHA+fClr/zjGjSQ73PO6Y5N4izO7f2XSu43oseiaWdAE9eYiQtoOY+mBG8Tfv82J9ePp3LYtbZq8x3cR54hJSODW8XWM6zqApbcebFjP2Xkdqd5iGPO2HONGsiNuDklcO7SeGb3rUX9wODFP/Bv/mzQ+rRjRNxBbAMM1tv7vME9qvDRe3M72c6lLdf6d6FrFwWSpjpJdulLDVgGMRO2M4MiTVmROVUm5H0fcvduc+X0FETeNgJb8DZsSoDOvLIQQQghrlnVIBXQ2pt/wSURHx6PxKUC+B1nUcI11k6dzpvonfFTfm+ccUQFnGgz8gNccVGLWT2bm/id1Aeso9c5cIs7c5u6d61y5Ekn0pTX0LK4D4y3Wzv2VK2Yp1Xgvhjydf2TXgS2MrOGIgsq9v9fxd6GBrPxnPysHlMdWAePtTazcntqmp8asZfSna7huUPBuOZ2DkVFERl1h28cB2JLA4RnDCD2VaX/3f5CGQuXL4aEBMHDl0tUnTnwyXL/CtbSF2iLFKWJ2wihexSjmkdoab7h2hetPWpE5w2m+qeeBi6sXJVrN4HAy2Pm9z6wvm+H2nBv3hRBCCPHvymb7kpHoXXOYu9OJxiPaUESTWnZt3TTCopswdmR5nIgyf9NzoS3RgyGdpvD6T0eZPXEV9Uqa1wDQ4lenOlHL5zLym2NcjrpHYkoSF+NVQEV/7hTnDfCKSShSnJvy6Vdv85qHAfsGxRj/52H0mjy0GTaKNhWd0Cc3pfB3hzilT+Tm9TsYcUK/73e23DICGoznlvHB678BoN65hQKoyQeI+DOGT0p6kquykdXdcF4l6dQcur0dwJ/relHi+f96EkIIIcS/xKKW1FQGIv+YxpCJ+yjcZyx9Al1SA1l0OHMX3qBOz06Usjd/z3OkuNNsUF8q2alErZxE6PEMpmUl7uerhuWo3XUQE2bMY+HiZSxfsZq/05ri1KREksxylMa7KIWdFUDBwckhNVRqClCssF1qBRubh0neYEhdj+F2VFp3vpGoYxFs2bKFLVu2sHX/1dT1q0ZiomOwtsj27zJw8eBh7hgBtBR8teATW9S1+Qvim7bQcP4M581aStXbZzkbnbr3tL4Fyf+kFZnT+TF4TwqqaiDh6nZG13ZFwUjU5ol8tyuD80UIIYTIQEhIiHmRyAEWhlQ9N7ZNYvDEAxTp9xXDmhbCBgCV2N2b2RN7g/UjOtCiRQtatHqXWYdSiF4/gjf6/8IF80Ggz0BXpieDX/dCSTrAit9OPdadnLxjNlP/jMGo2FC23xrO39OjGiOZ2zQtcGZEo3l8JyhadNq0NtAMWge1ebxwVwDFjgbfX8OoqqjpXkn8MbDY4+v9DzPeWMP47/5OvaOD1pcGjfzRAaohmaTERBKTktGn7UrNq3WoUzQ1+uuPLGHhXtObq+o5+fNC/kxWAQ1etYLwT/uVkNG6MqbB3rcGXVqVTv2BYbjOhUuZTOQSQgghhNWxKEclnljImKmHKNJ3PIMa+KYFVAAF1zofMWvuHGbPmsWsWbOY9f2XdC6pw7XOB0wb0ZICFm3BQooXbQb3oqwN6PX6x1oqDXdjuKcC2FIssAavOmvRX1rNyr+fbyuaTZUmNPDSgJrMjmmj+O1CWgDSx3Jm2w8MbteXXx5OsvqPUu9zftfvbFizjB++7EOjap2Zf8EAaHCvN4QP69gDBk5Nro2LgwMOzlX4/MF9oHSVCR5QDzcFVP0xpnR8g88Wbmb3nnCWf9WFNiP/JEEFxT6A3n0b4AhPXpepBxOn4u4RdXoTc1ccSZ28pclD/nyZ/FARQgghhNXJekyqepvwhSu5Wqw9PYslcOns2bQFCs4+RcjnlJdCTib1jQ642ylonfNSIJ+LSaB9Pmwr9uGTFjPotjL6sZn6doENqeO6lA2x91n3QW2arHiFyN1/cibh+QZGxb0lo79szdaeq7h2fA7tSyzCy9sVQ0wk0fcNqHZNmPN8N2l9DFdY9mFLlqUr1OBWaQA/h/WieKZd9BqK9vyBefub8c7co8Rf2sAXb2/gC5Maim1h2s1YyJCKtialWUibOPVNukIFh/Lv0a1mNtYjhBBCiByXdTun/hzHTiaSeGQBQ3r3pvfD1wBm782B5/goPnQY/B4lMojXmkLdmbv4M1r758U27hz7DsdRecQyxtV73q1oOop1X8KuDZPo2aQChVyMxNy+h9azOFWa9WDEt0NonDY7/b9MUTTo7JzJU6AElRq8ycczN3Hwj29onnZ/0kxpC9Fu9p/8texzujeqwCt5HLG1ccDdtwxBbw7jxz/+Zsl7pXmqI6coaGwc8SxSmRZ9prFp4ygC/83x0kIIIYR47pSEhOfczPiMwsLCCA4ONi8WOUhRFNQMxuaKF0P2/7OJiIggKCjIvFjkEnL8hXi5mF6zFjR5CSGEEEII8WJJSBVCCCGEEFZHQqoQQgghhLA6uqPtSpiX5ay2I1GU//6ko5eNHJOcFRERYV4kLFS3bl3zIpHLhIeHmxcJIazYg+885Wb7wlY1I+NyvJ7K6y+bF4scJBN3cpbs/2cjP7CEXD8iu0JCQpg9e7Z5sXgBTCdOZXAjJyGE+O+RoJL7yA8UIV5uMiZVCCGEEEJYHSsOqXr+HlYKG0VBURQ0Gh327gWp0OJD5h+8+9gjUZ9dMpt7++IQNI1L5o+yEhlKPraYT4PbEeTvi7NOg12D77ia4b5L4MSSQbQolx9ne0e8StThvem7uZPuIKpEz2+FfdrxfvSyo/7MKyZPF7O03pPFHVnAgIalyOvkgGvBSrQbvZ7Lpk/ONV5iWpCd2frTXrpC9AvP+jG7WW6D7Ow/IYQQIvex/u5+14aMnv8BlXUG4i//wY9ffst7TW9gf+AXOuWTrpyclLR/BfM2X6R8tSbUTFxIuHkFAFRurgimUdc15H3nc+ZPKsb93bP47JPmdFR28Xu/kpg+QVVxCmLo3H5UfnhmavCu6PnYrylL65lTb66gd7P32fhqX8YvaoT7mZ8ZPaoDrfRb2f1FNewBNHlpMfYXfG+ZJsZk9s3sxaSjdWlUOfOH/Vq0DSzdf0IIIUTulEVItUMb8A6OrdpjV6IwiiYe48U/SfztS+7vvZLWmqmgafATnr3qkC4yqrdI+KIm9w5l3eqUGcWmEFWbt6S5LUAbWvrF499kHvNW36RjsE/6bYoXyqXLUq6/paCoUcxr8QvhGT0l13CCeV8u43aNSUTMGUBRDdC0LgVvl6fJhK/Z3COUJo4m9XWvUKNte1pl9TxUS+ulY+DonPEsvdeEWUun0N1XARpSPPYIr02fyK8fLqeLlwI4UCyoHcVM35qwha0DE/Bq2ZkGLqYLzFm6DQv3nxBCiBdOJk1Zh0wbnpRSn+A+dBgO5Uug0aaAzh2tXwucBn6H4ysP2r80KE4uKKio8dcx3LyY+rpxBWPy8++UdwyoQhmdnmuXr2NA5fafM+nbuhol8rvhYO9Cfv+mfLDwKPEP3qBGMa+5A57d12GaAfR/DaGkQyBfnjCYlIpsUZSsfyQkHGTvUZVSjRrw6sOzzYnqjWviHLmJ9Xsz+BFjTCExUZ/1kA5L6z1gvMzmTUfQ1W5P6/wP/nJbyrV7nZLx29j4Z2K66qbub1/MquvetO5UD2fzhaaysw1L9p8QQgiRS2UaUtWTs4hb9QvxXzXkVld/bvUeSNJdI9iUxKak58N6Ghc3wIB+5Vvc7lc39TWgHfEn9I9W9pwYr13mqlGDex53NBiJOXcB7WvvMy50OevXLWJCewc29GrJx5vumr9V5AR9Cikq2Nqm7yLX2NqhM97g5Kno9CEz7le6ejvi6GiP6yvVeXtyBDcz+h1haT1T+jOcOK3iW8oPV5N0qCtWiuK6eE6fukrGq4hj25I1ROZvQ6cg02bfDDz1NoQQQghhKvPufjWKpF+GP2qBTE5EVQH1HsY7cWmFWhT3PAAoHmWx9bNBf+kMxsTnNANE1ZMYF0ecrZH7V/7g+49mcEQbwLjGr6BBS7Guk5hmWr9BQwrc8KPTj5uZ3Lhd5q1e4t/nVJTivip//HOQe6of7gqAgbP/HCDGaCQ2OhYj3mhR0OWrQpehTahfpThemkj+Wf4NE4c059jdbewcG4gDgMX1MmCMJeYuuLq7pf91ZueGu6PKiejYjFtl721h8drbFOzciVoPBpQ+ydNuQwghhBDpZB5STdn54dB3FPauoB6fxf0D91PLFWe07o6ADl3z6bg3VyHpCsmrh3F32R8Yn/EbWb0TxhueYWn/U9B5VqR76AI+LJM63ECN+Ycfx4zm+9V/cfpmLEl6FaMhBbXSGa4ZwC/TtmLxr7MJ5J13y/H9uBEMmF+CyR2KkrD7W/p/exCjoqBoNA+7vF2ajuKHpo/e2qRVS/y1AbSbPpk1A5fS0T0b9fQJ3I1Penj+KbZOuKWdC9ntYo/dtJj10a/SrVN10g2BfY7bEEIIIUR6lkU456o4fboYlyr5UC/8ROyUeegf9FmqcSSFvUn02B7EzhzH/T+PY7QtiG376bhU90i3mqehuDVn0tYd7Nz5J38dOsvNa/uY83bJ1LBgvMbC7k3ou1qh5Zj5bNixl38O7GPRe0XQJCemG4MqcooNAUOW8EM3FzYEVyKfsztFX1+E14A+1LTV4Z0vkxn5Sh4atauHa/xh9p/OZOhIBvWSt31IyTweeHikvnzeWkacxg13N9Jab00kxRJzX8HNw+3xcKneYcPijdwr+gYdA23TLXpu2xBCCGFVQkJCzItEDsi6JdWlJs6fzcaxsD3Go1OInTyTlHjT5tFkjJf+SftC3kZSxHL0uh24BrphU84f5c8dz9a9qctHmZq1qJk+H6S6u5Xlm5JoPnc+o950TytM5rIx7tE2FR06LRjNmnTVpCT+hXldIiN2Jegyey/tJ1zg9NVEPIqUwH1nCMUpQ//KmU6VRzUaMKKgZJHszOvZVB3Mqu1vPzzGGq9SOOriKF1cYcGJk8Sq1UmbZI/+7HFO652p6Fcg3e2wANTbG1iyKZ4S/Tpifuep57UNIYQQQjwu85CqeGH//lQcizhgPPIlMV/OQW/ePKnLi9YzCcPNtIlKzqXQedsBKup9k7D4L1BTkkg22pLH1WSg4P1drNsahfow+ziSz8eVxHOXiDJCAQ2AgQt7/uLacxo2Kyxjm6cwZfMAyaeYMeVX4mqMpVPJB5HNgMGgRWua4IzXWfnzZu651KeK34NT1bJ6insxAmumu4kU4EHDxv4MnrSMVdfe4b0CGiCZQytWctKpLsNqmg84Vbm1djFbEkrxUccKj10sz2cbQgghhMiI+fduenmaY1/VE1QVpWBX3L5+6+Ei9eRUYmasxFg0GPfP30OTcBs1ERQ3LxSdAvf/IiH8sMnKnj8lTw3qVkjg6+kz+fu1AQQox1n8yQAW37ZHeRhSbXmtdTM8Os5gzPJ6jG/qSeS2qfSfcRytUsJ0dSKb1Hsn2fa/w9wx3mPfDSPGlP2sW7GcPFoP/BvWp1Ta9Pb4TWMIWa/jtXKFcEm+xM6fv2PB8QqM3xqcet9UAP1hxjXswf5ybajtXxgvTST7f5tN6O8JBI4bTAvXbNbLkJYyPT+lw6zODOnwAcmDGuF+ehFjp5yhzEdzaOdp1lyr3mD1km0k+g+lg3/ml8ojlm/D0v0nhBBC5EaZf/O650OjUUBRUNxfSddNqd5KTYEKN0k5cRqbQoXQetiixl8m5fjvJCybQeLlTMYRPg/a0nwwP5SLwcNpWGA4qmdJ6r7zGd/1HE3XTY+qubWcxKIRwfTvX5kCcS6UqPceYyd258q7Ox9VEtlmvPobQzsP4++HtzqdS0jHuWBTkc//+ZsR/qlnjM7dlYRdMxgz9ypxWi9KBb3FDxEjecvfZBqSxpsqQcXZsuIHxv94k7tGJ3zL1Cbkh9GMejfg0YQlS+s9geLdjlkb5jL0w/F81nUOSe6laDhoGd+OePQkqAeMV1exJCKFgJHtKZ2NPnpLt2Hp/hNCCCFyI+Vm+8L/Zo98tl2O11N5/WXzYpGDFEVBVa3qNMlVZP8/GyVtoLLsw9xHjr0QL5+IiAiCgoIAS2f3CyGEEEII8QJJSBVCCPGf86AV9cG/Tf8vhHg5ZD4mVQgh/iMkpAghxMtFdzn+X57clE2FnHTyZWKF5JjkrIiICPMiIUQ2yXUkxMvhwbWqJCQkWNWI8rCwMIKDg82LRQ6SiTs5S/b/szEdhC9yj4x+WMt1JCwVEhLC7NmzzYvFCyATp4QQQgghhFWTkCqEEOI/R1VVVFUlPDz84b+FEC8XKw6pev4eVgqbtFmZikaLnasvZRsGM/3PKB490TSZzb19cQiaxiV5zOkLlXxsMZ8GtyPI3xdnnQa7Bt9xNcNjkMCJJYNoUS4/zvaOeJWow3vTd3Pnse8MS+sBhpvsnNaTBmV8cHFwwvOVCjTqv4RzBvOKj4s7soABDUuR18kB14KVaDd6PZcf3lA/leWfLWOWbCNbn1cIIYTIZaw4pKZxbcjo39awZvWvhE3qTtFzYXzYoitzLjxIDArOviUpU8QTm8eHIIl/UdL+FczbfBE7/ybULPykpyOp3FwRTKOuc7geOIz5K5fxzVtubPmkOR1nnuRRprS0HqDeZtNH9Wk8bCv2TQfz7dxZfPlRa4ok3uJuFgFPvbmC3s3e55fEZoxftIIfPirNyckdaDVmD4km9Sz7bBmzbBvZ+LxCCCFEbpSQkKBm/rqrXtyxQP2iXxe1ZaP6aoNm7dX3hoWqEZfjzOrdV6OO/0/9ccIg9f1OrdSmbcap4XfN15X1KzQ0VE2Vov41tKRq49ldXZeUVqSq6v3wAWpRra1ad/ol1fCoWPyLAPOiVEajalRVVTXeUn9oZqfa1p+pXjE/KPpj6vgqtqpDnW/Vsw+Xxalb+xVVbXyD1Y3x2aynqmrCjo/U4rYF1S7LrmfzHNCrhz+vpNq6tVTnXTWmlSWp/3xWXrV1b6f+fOtBmWrZZ8uQhdvIxud94v4XFgkPDzcvErmIHH8hXi6m12zWLamJR1keuo6ooi3pO3wUw7pVQ3vwZ8ZP3kjkw+7PZC5uGEffT37kmF0Ar/cewYRxb+H/L9yF1d4/gFI6I7duPujyN+/uT2L12244NPuWLXN7U7eEJ44ObhSuFcKCYwnp1oUaxc7JXahS0BUHF18qth/P7+uGUdahEl8cMW3LiuNw2Ac09c+Pi70DHoWr8eb4/3HVuu7e9eIpClk2XiccZO9RlVKNGvDqw7PNieqNa+IcuYn1e9P6wC2tRwLhPy3iUskeDH7dBw0qFg81M15m86Yj6Gq3p3X+B3+5LeXavU7J+G1s/NOkLdWSz5YRS7dh8ecVQgghcqesQ6p9AD1nzmVC77bUrRZIzda96NU0P0knj3A2LcclHQ9j/I/3aDVxJmN7v0GDauUpVSwfTk/1LZ854/WrXDfaUqiwL5l1wqbsGsfHm0ozeuNxLh1fTYjDr/R6dypHH2ZPI+dDu9J6+E683/ueVWvnM7jCHgb1X8j1dGMPjVwOe4dGPX7mXr1R/Lx2Jd/3LMTez9vQbPgfxJlWFY/Tp5Cigq2tTbpija0dOuMNTp6KRs1OPcMZ/tobjVuFvBwaVJ+irrbo7D0p2fhDfjlh9iPEnP4MJ06r+Jbyw9Xk3NQVK0VxXTynT1199m52S7dh6ecVQgghcimL2jp1NqbVkoiOjkfjU4B8WkC9x65la7li48P28T1YFJWEQ/5yNOgaQtca+Un/FfwUVD2JcXHE2RpJuLaHOYNmcqpEMBPf8M68pcuuCaPnDKCuG4A3H3/WhdlN1rDh/BDKFteAfi+zv9mG87urWDKmKS4AQTXwiSxPI9Nbo+n/4fsJazG0XcBv0zrjrQAN61EqKZDAb75k+cDVdMuX6V+SuzkVpbivyh//HOSe6oe7AmDg7D8HiDEaiY2OxYg3WkvrGSK5cctA3KrhfFzmbb74ZSTFk/czb8QI3mmegPu+WTTzeMLxMMYScxdc3d3S/zqzc8PdUeVEdOyzB0NLt2Hp5zVdhxBCCJGLZN2Smo6R6F1zmLvTicbd21BEA+hPceBIEnmK16Zd31FMnDyGHuXusHrcCH48mmS+gmxT74TxhqcLLi5ueJdszGd/l+LzJRNpmPqt/kQ6/xoEupr8v8CrFOAm1yNT28qM1/9izwUngloGpQZUAJyo0bI+niarNt7Yw65ztgS1a54aUAGwxb9ta0ol7eGPA9ItmymbQN55txz3fxvBgPkHiIy/y8Ut4+n/7UGMioKi0aT+2LC0HkaMRpVEQxVGL5lGzxZ1qd/2I+Yt/JgyVxYy47fItJbZBO7GxhATk/qKvf/oOGV+5mTDs2zD4s8rhBBC5E7ZCKkGIv+YxpCJ+yjcZyx9Al1QADXxNrfjFXwqN6Z2QEmKFfOn/vu9aJr3OuHbTvCsEU5xa86krTvYsX0zv83sRWXjdkb0mMiBLPKvYmeHrWmBRoMGA/q0caRqbDSxuOHpkb4xWevhiYfJXlFjoolVXfDysn9UCGg8vfHkHtExuX1galZsCBiyhB+6ubAhuBL5nN0p+voivAb0oaatDu98nmknoYX1NO54uGvQlqhDrQKPDpRt2TpU90rh+JHT6IHkbR9SMo8HHh6pL5+3lhGnccPdjbRWShNJscTcV3DzcMtWMHy2bVj4eYUQQrxwISEh5kUiB1jU3Q96bmybzNCpJyg54CsGNfB92I2vaG3QKirxcXGAV2qh1gtvT4V7MWZf1E9Dl48yNWtRyxaoXY9A10gCun3NyMXvserd/NkKFaYUNw/ciOVOtB5MBiUYom8TbfJHK+4euCv3iIpKApPYa7xzi9u4Utzdwl2Ym9mVoMvsvbSfcIHTVxPxKFIC950hFKcM/Ss/ase2qJ62KKVL2KJcMJp1zadOoFKUtMhbdTCrtr9NcloljVcpHHVxlC6usODESWLV6nilnTz6s8c5rXemol+BbHWvP/M2LPm8QgghRC5lUWNN4omFjJl6iCJ9x6cLqADYvUIRX7h6/OSje1QmX+bSdfD29bE0BVtIg2/nsXxYKYGNU2Zx8BmaaTX5A6lWOJ6I9TtMJj/dZ9e6rdw2ST8an9eoXiyZ7b+t59bD8mSOrlzDSbtq1Kr4zKNucw3bPIUpW64UvrZnmTflV+JqvEunko/HwkzrKR7Ua14D2zPb2Hbx0TSnpANb2HnbgfIVS6IDFPdiBNasRa1aqa8apbzQaArRsLE/hh3LWHXtwS+RZA6tWMlJp7o0rZm+tTwrz2sbmX5eIYQQIpfKOkOqtwlfuJKrxdrTs1gCl86eTVug4OxThHxORWjU0p+V3y/gm2UevFXZgQtr5rAloTTdGxXPVsuURXRlCBncjm/fnMPUjQP5qZWDeQ3L6KoQ8lE9Qgf0pEvBiXxU35s726czZnUiLoo7aQ1yoKtIr6Et+KFHP9p+GMuQ1oW5//dcRn51gpL9p/PGo4GquY567yTb/neYO8Z77LthxJiyn3UrlpNH64F/w/qUSpveHr9pDCHrdbxWrhAuyZfY+fN3LDhegfFbgylq8jPJsnoaCr01gp7TmjKq/fuow9pTInk/P475lnN+/Zj1umcmretayvT8lA6zOjOkwwckD2qE++lFjJ1yhjIfzaGdyWBkSz/b4yzfhmWfVwghhMilzG+m/9jr7nZ1XMsgtXbt2mavBuqwjdGpdeJvqH+FjVKD2zdVG9RvrLbtPlz9afd1Nd58XRa8srqZv6qqqpq8Xx1VwVZ1qjddPW9IUv/XK79qX+db9aJBVVU1UV3V1VW1b/aDanpvdsO5b9Ra9q+qAyKSHxUab6k7JnVWK/k6qXaO3mrZlp+pq5d+oBZzCFKnpa4srd499dBP/dXGpb1VR1s71e2VqmqnLzapV1IeVfkv4wk3k9cfn6BWtUEFs5dNRfXzw/qH9RL3TFHbBRZVvZzsVHvXAmpAq0Fq2OG7qTfLN2FpPVVV1aTzq9XPXg9QC7jYqXauhdQqHcaoGy5ZckCM6r1DP6l96/upng52qnP+CurrI9eqF01OC1W1/LNlzLJtWPp5n7T/hWXkZu65mxx/8TR69uxpXiReENNrVklISDDp3M55YWFhBAcHmxe/IAZOTapNhemV2XBmOnXTzbzKvRRFQbX4jvnieZP9/2wiIiIICgoyLxa5hBx/IV4uptds1t39/2GGs8sYvygG/+plKeiaxMXt8xj7+UH8B39PTQmoQgghhBA5JleHVMVWR/TO6Xww9Rw37xlxLhRA02GrmDS4wrM/hEAIIYQQQjy1XB1SNYXaMuX3tkwxXyCEEEIIIXKUEhoaanWD3Xr27GleJESuFh4ebl4khBBC/KfJxCmRJZm4k7Nk/z8bmTiTu8nxF08jJCSE2bNnmxeLF8D0mpW7MQohhBBCCKsjIVUIIYQQQlgdKw6pev4eVgobRUFRFBRFg9bWhXyl6tLjmx1EPnji5BMls7m3Lw5B07iUZV1hEeMlpgXZpR0Ps5euEP3CHzyn1sDZ1ZP4Yv7f3EvXS53E6rfdcGg+j6hn6b1O2c3gkjZobAP58sSjR6O+MGocx3+dQO821Snh7YSdnSu+5ZrSb85eYsw/l3qPwws+pHl5X1ztbHHIU5hqHUax5nyyWUUhhBBCmLL+2f2uDRk9/wMq68CYeIuja6bz1SctuWS7n019i2aSshWcfUtSJsETmyc9wVJkjyYvLcb+gu8t09SfzL6ZvZh0tC6NKj+4cZeBM2smMe6cE93frorLc97/yX8t49ezelTDAZYuP84nI/yf/+N3M2M8z7Jxk9ni2ZYuI0IomSeREyunMaVXI44n7Ob3ASXTLiyVqN9606THary7jmbuxHI43tzBrFFf0r5FAlv3TaTmUz7VVwghhPivsyCkphC5dyVhSzay++QNEnR5KBzQmHf6dCHQS4vx1iqGdJvJwQeNaA9pKdxlOt93K/5MAUKxKUTV5i1pnnZz/dZtq6I/VIlxq7dwq09R8mUUgPSJJGLPa59tY5/5MvEMHCgW1I5ipkUJW9g6MAGvlp1p4GK64N+SxK6lv3LRpRYNiu9l+7LlHBnqTwULzuTnRlOY7itO8Wlhz0cXUJfm+DYtS//vfmJ/nwlU1QEkELF0Nbf8+rF6zkCq2AA0oo7rWYp2/I2VB8ZRs7rckVcIIayNTJqyDk9uiHwg8SjLQ9cRVbQlfYePYli3amgP/sz4yRuJNILGoy4ffDuDGTMevcZ1C8DF7hUqV8pvwQaySXHBzdU0maZ1ITebwsbv3qdOcU8cnKsz8XiCWXe/yu0/Z9K3dTVK5HfDwd6F/P5N+WDhUeIfW9e3bJnbm7olPHF0cKNwrRAWHEt4WEs8cn/7YlZd96Z1p3o4A6nDLArTfO4tErf2paBWQVFs8P/sH/QP35XCxTXDaVHWG6fs7t/EP1j62xXcmn/A9OAgbI4tZ9mhR2tGjWJecwc8u68j6VEp+r+GUNLBbHiAGsXOyV2oUtAVBxdfKrYfz+/rhlHWoRJfHMlkGIHiQiHTgAqg8aVKlYIokdeJfPhWFVUFjbMrLiYXgr2rK3YaLVpdRr+whBBCCAGWtKTaB9Bz5lx0Ng+qViLPzX0MXH+Es4YWeNu4UbC428Pq6r3dTFl/HO83vqZbeSee+WtY1ZMYF0ecLahJURxdPZrv9zhS55sG5DVZefIf4/hIO4gpK/dTzuE+hrwaTj9aDBiJOXcB7WvvMy64MHkdE7m4Yx7je7Ukyfsgsxq7PqyZsmscH7uMYOrG4/hrjzMnuD293i1M5d3DKPsszcL/OXFsW7KGyPzt6BTkmFZmS60vdvJjdCA9L39IxMKu5FMUbN3zoyN1wKb+8GS6f1Gdrp/+QG/dCRaOGkmIhfs3YcdSVl33oFnHJpSsdpe6H4ewYtl+RleqasHJbMrI+dCutB5+jNeGfs/4+t7c3j6DQf3/4boxr3nlrBmvs/fvSyh+3Snx8A9xpP47HfF9I5SRc+vxdeeyOETuZNrny7gfOJSuAdn7i4UQQojcxKJvyUcBFSCJ6Oh4ND4FyPdYoEjm1LJ5bDXWZWSHEtiZL34K6p0w3vAMe/h/ReNKuV4L+CnEbDyqpg6fzhtKM+8HyTXZLKRqKdZ1EtNMixo0pMANPzr9uJnJjdultQQCdk0YPWcAdd0AvPn4sy7MbrKGDeeHULb4c28bfnnd28Litbcp2LkTtewfFdt7FiSfiwbFPg8FXy1MgYe7LLVt03i3GP3+/ImehTRAK+o6HSO8vSX7N57wJau5mac5nRq4oHFqScd6Dry/Yil/j61KtnrO9XuZ/c02nN9dxZIxTXEBCKqBT2R5GmW7l0flxm/DGB/uQpsF71Di4XWhkKfFTDZ+340WfatTqJcKigaPqoNYtu5j/LPz9wohhBC5TGaJIANGonfNYe5OJxp3b0MRs3erMTtZvO4mpTu8SVWnZ25DBUBxa86krTvYsWMH27et5+cvX0dZ+A6vj9lFnEk9Xbkgantlvk015h/mfdSaqsV8cHd2wMHeg5Y/XCPu3BmumfTu6vxrEPioYRVdgVcpwE2uP+rHFUDspsWsj36Vdp2qZ+sHiU1Ac5o+Sq44lipLUcWC/Ru3jaVrb+HVsiP1nAElLy06NcDx/K8s25O92fLG63+x54ITQS2DUgMqAE7UaFkfz8xPo8fcP/A1XXoux+7dUKZ19jHpPVC5s3kEb360hXzvf8eqbdv53+IJNI37jk7tvmKfhSMchBBCiNzIopbUVAYi/5jOiMn7KNxnPH0CXcy68o1c37qWvUo1Bjd6jmNRdfkoU7MWtdImTlG3Ef6Jh6j81ecs6b2O93xSizUurjhnFi6M11jYvQl9D9Vg6Jj5NC5bEHcHODa1DW/tSUw3flGxs+PB5gDQaNBgQG8y9DHXU++wYfFG7hXtScfAdHsrS4qTM46mx0qrQ2vB/r27eQlro/LQtGkAKTExxADaGs2p47CWX5fuYkKtIIvDshobTSxuVPBIfwloPTzxyMbJm3JuAd1aD+dYtW/YOrM1Pqafy3CCWcOmcS5oDqe+fYfURv7aBJVKILDKBL5YEcyvXT2ffUiMEEKI50qeOGUdLAypem5sm8zQqScoOeArBjXw5bGeSuNVdmw9iUO1jlTNNC0+Kx3F/IqiTTzE8fN6SAupWbq7leWbkmg+dz6j3nRPK0zmsjEubaSkyA719gaWbIqnRL+OPLzz1L8qlv8tWc8dwx0WdizAQrOl2pVL2DkxiAb2OnRaMBrTH1U1KYlkkyLFzQM3YrkTrQeTs9kQfZtoC++ra7yxlv4te/G77xDW/9KbMuYJWX+Gk2dUCjTxJ4/JJWFTsjylbBM4ce4aRjyf6e4XQgghxH+VRW1GiScWMmbqIYr0HZ9xQAWMt/ay57wtFV4rj8nwxH9BMscPnUSv8cInr0V/PgBqShLJRltcXU3+uvu7WLc1SkJqtqncWruYLQmlaN+xQoa/dGxsbSExfQv1s1CjN7Jk410KvPk9m7dtY5vJa9PXbchzfRVLtycAjuTzcSXxyiWiHoZNAxf2/MU1k/CpyR9ItcLxRKzfYTJs5D671m3ltgUnhBq7k5Ft3mK++jYLV46mplsGP8y0PuTPp3J5/wFumawz+chejiTp8CmQz7ILUAghhMiFMsoX6am3CV+4kqvF2tOzWAKXzp5NW6Dg7FOEfGljTxNPHuUcRajt93wjqppymb/Xr8WoAwzxXN27mClTj+PWcDbti2rB5MZGmVHy1KBuhQS+nj6Tv18bQIBynMWfDGDxbXuUF3J/z/8Q9Qarl2wj0X8oHfwzOoV0FC9dAhauZO7qQNoWdMDRtzRlfZ+2zVDlzoalbIorzPv9etCghtnwgsBE2ny9jtVLtjGlcXNea90Mj44zGLO8HuObehK5bSr9ZxxHq5R49B5dFUI+qkfogJ50KTiRj+p7c2f7dMasTsRFcUfJLD0aLzL/nTeYsD8PbT+vS9LOX1n+YJk2P1Vb1uRVG0AXwFvdqjBjxCDahMQysE1pHCJ38eP4KRz3bsfo1nmlq18IIYR4gowSRnr6cxw7mUhi7AKG9F5gssCWWsOXMzLIHjBy89JVku2Kkj9PZt/uT+HuZka33QwoKFpb3PKXpkbwHBaP6U7h7GxKW5oP5odyMXg4DQsMR/UsSd13PuO7nqPpusm8ssiM8eoqlkSkEDCyPaUzzJ0aCr09ni/Ce/P12/X5Kl6l9PA9HPi8rHlFy6hRrFvyP+77DeDNjMa/Otblzdd9+Wn5UrbGNadVy0ksGhFM//6VKRDnQol67zF2YneuvLvT5E0aivRcyOp7/fngmx40m+BE8fohTJhUiI/ePYBrZkNWDBf458BtjCmRrBjahRWmy+ya8+O1tXTLowA2lPvkN9baDmNM6Je8/9Md9I4+lKnTl/kTRvOG6T3UhBBCCJGOkpCQYEHn5osTFhZGcHCwebHIQYqioKpWdZr8SwycmlSbCtMrs+HMdOpmkIdzQu7Z//+OiIgIgoKCzItFLiHHX4iXi+k1m3VLqhD/UYazyxi/KAb/6mUp6JrExe3zGPv5QfwHf09NKwmoQgghRG4lIVXkWoqtjuid0/lg6jlu3jPiXCiApsNWMWlwhQwnBwohhBDixZGQKnItTaG2TPm9LVPMFwghhBAixymhoaFWN9itZ8+e5kVC5Grh4eHmRUIIIcR/mu7tt982L8tRYWFhMknEysjEg5wl+//ZyP7L3eT4i6chT5zKOabXbHZu4iSEEEIIIcQLISFVCCGEEEJYHQmpQgghhBDC6khIFUIIIYQQVseCW1ClELl3JWFLNrL75A0SdHkoHNCYd/p0IdAr7ZmYiRfZ9tMcftl6iKvxWjyKVKF5j150ruQpKVgIIYQQLxWZNGUdss6QiUdZHrqOqKIt6Tt8FMO6VUN78GfGT95IpBFQ4/nr++FM3qmlwUeTmP7tZ7z56kV+GTOeVVeN5msTQgghhBAiS1m3pNoH0HPmXHQ2D6pWIs/NfQxcf4SzhhZ4K2f4e280rzTvTofqhdEARULasSt8BodOJdG2gIPp2oQQQgghhMhS1i2pYBJQAZKIjo5H41OAfFpA442vj4Zr+/ZwIQlAJe7EcS7qilGmuJ3J+4QQQgghhLBM1i2p6RiJ3jWHuTudaDyiDUU0APlp3r83R0d/z8e9DlC7kgMnt1+k3Ief83ohizKwEEIIIYQQ6WQjRRqI/GMaQybuo3CfsfQJdEEBQCUh6go3k/NTrWlNXrVV0Kg32b9pJ2fj5clRQgghhHi5hISEmBeJHGBhSNVzY9skBk88QJF+XzGsaSFsHiy6/xc/fL0W2w5jGNypJW+EfMb0Gb0pdnI+M1ZfQqZOCSGEEEKI7LIopCaeWMiYqYco0nc8gxr4PgqogDHqPOfv2lOg4KPbTem8y1I6H9y8HonBpK4QQgghhBCWyHpMqnqb8IUruVqsPT2LJXDp7Nm0BQrOPkXIl78CFfOHsfanWZTRNaeUayKX/ljE2otOBLzpZ8EGhBBCCCGESC/rDKk/x7GTiSTGLmBI7wUmC2ypNXw5I4NK8/bYT9GE/kzY2N+5k6TFJX8pavb5gvdru6WNWxVCCCGEEMJyWYdUm6oMXLaRgeblJmx9a9J9dE26my8QQgghhHjJyBOnrINFY1KFEEIIIYR4kSSkCiGEEEIIqyMhVQghhBBCWB0lNDTU6u647+fnZ14khBBCCCFyESUhIcGqQmpYWBjBwcHmxSIHRUREEBQUZF4sXhDZ/89G9l/uJsdfPI2QkBCZPJVDTK9Z6e4XQgghhBBWR0KqEEIIIYSwOhJShRBCCCGE1ZGQKoQQQgghrE7WT5wihci9KwlbspHdJ2+QoMtD4YDGvNOnC4FeWgDUe8dZOWsWv/55ljuqK69WbMI7vd7itXwWrF4IIYQQworIpCnrkHVLauJRloeuI6poS/oOH8WwbtXQHvyZ8ZM3EmkEjDdYP2E480740uGzb5j2xfuUu7OKLz6bz/Ek85UJIYQQQgiRtaybOu0D6DlzLjqbB1UrkefmPgauP8JZQwu8bkSw4aBCjU/70bqSE1CCngOucGDAGtYf6ErpanamaxNCCCGEECJLWbekgklABUgiOjoejU8B8mlBvR9HAva4Oj8Ko9pXSlDU9j7nL0RiNHmnEEIIIYQQlrAopD5iJHrXHObudKJx9zYU0YC2YFlKO9/hj5UbORtnAGMiMZducA8VQ3IKVvWkACGEEEII8VLIurv/IQORf0xnxOR9FO4znj6BLigATtUIHvYWk74JpW/7GQDYODmh3Fcok8c9uylYCCGEECJHyROnrIOFIVXPjW2TGTr1BCUHfMWgBr7YPFym4BbQlS9+6kTc7dvEa1ywPfwN7391mdKl3FKDrBBCCCGEENlgUUNn4omFjJl6iCJ9x5sFVBOKDc5ePuTVHufnsF0Yy7eiSZHUW1QJIYQQQgiRHVm3pKq3CV+4kqvF2tOzWAKXzp5NW6Dg7FOEfE5wP/I8l29Ecun4X2xavYmTDg34ZGBzfCyKwEIIIYQQQqSXdUjVn+PYyUQSYxcwpPcCkwW21Bq+nJFBWo4uHMrYHRq8Xy1FxXYj+KB5NQo6SEe/EEIIIYR4OlmHVJuqDFy2kYHm5SaqDlzKmswqCCGEEEK8JGTSlHWQDnkhhBBCCGF1JKQKIYQQQgirIyFVCCGEEEJYHSU0NNTqHgrl5+dnXiSEEEIIIXIRJSEhwapCalhYGMHBwebFIgdFREQQFBRkXixeENn/z0b2X+4mx188DXniVM4xvWalu18IIYQQQlgdCalCCCGEEMLqSEgVQgghhBBWR0KqEEIIIYSwOlk/cUqN5diaMH7ZsJsjl6Mx2OeleGAruoe0pZxbWsY1xnJ4+UxmrfyLi3E2+JRvQve+71Izv036dQkhhBBCWDmZNGUdsm5JVXSkJEGx5iEM/+JzhnavimH3HMZ+t4s4FcDItbXjGbngFD6vf8zoT7tRPnodE0Yt4Fii+cqEEEIIIYTIWtYtqThRoUM/Kjz4b0A57E5HMPLYaW4aa+JsPM6aXw/j0GAMgzpWxQGo6BPLyb7LWLGnE6WDnFFM1iaEEEIIIURWsm5JNWVMJOr472z4J4VXalSjoBaMkcc4dsuGMpX9cUirpi1YkQp5kzhx5CyGdCsQQgghhBAiaxa0pKZK2TWJzmM3E2dUcK0YzJedS2MH6GNuE626UMrDZPypxg1Pd4XY2zHoycZGhBBCCCGEIBstqbqAHkyZPoUvPnkL/8j5fDJ8BedTABV4rEPf/P9CCCGEEC+HkJAQ8yKRAywOqYqDJ68WL0vVhm/z6cBmuBxfwbpjKWg8PPFQ7nI7OuVRZWMMd2JVXPO4SyuqEEIIIYTINotDajqKBgU9ej1ovEtTyiuFY/uPkpC22HDtIAcj7ShVtijadG8UQgghhBAia1k3dKacYuOiw+j8iuDtrOH+zeNsWbKOSO/G1CltAzZlaPV6WTb9MJMphYJpUeguO+cv4YJvM3pVd5GOfyGEEEIIkW1ZhlQ1MY6o8xFsXjufyDgDtq4+FK/UmVHvdqCSI4CGgm2GMzp5BrOXfcXwOB0+5ZoytF93/O3N1yaEEEIIIUTWsgypiksluo6uRFfzBaY07lToNILvOpkvEEIIIYR4ucgTp6zD041JFUIIIYQQ4l8kIVUIIYQQQlgdCalCCCGEEMLqKKGhoap5YU7z8/MzLxJCCCGEELmIkpCQYFUhNSwsjODgYPNikYMiIiIICgoyLxYviOz/ZyP7L3eT4y+eRkhIiEyeyiGm16x09wshhBBCCKsjIVUIIYQQQlgdCalCCCGEEMLqSEgVQgghhBBWJ8snTqHGcmxNGL9s2M2Ry9EY7PNSPLAV3UPaUs4tfcZNuRbB9M+mcLTGJELf80ObbqkQQgghhPWTSVPWIeuQquhISYJizUNoU8iJ5Ku7WPLDHMYafPhxaE2cFTDGX2L3mp8JW7qDC/dVfM3XIYQQQgghRDZkHVJxokKHflR48N+ActidjmDksdPcNNbEWWskastsvt/uSLOPh1B+3kT2mr5dCCGEEEKIbLIgpJowJhJ1cjMb/knhlfrVKKgF0ODd6nMWtNagGE4x70fzNwkhhBBCCJE9FofUlF2T6Dx2M3FGBdeKwXzZuTR2DxYqGhTTykIIIYQQQjwDi2f36wJ6MGX6FL745C38I+fzyfAVnE8xryWEEEII8XILCQkxLxI5wOKQqjh48mrxslRt+DafDmyGy/EVrDsmKVUIIYQQQjx/FofUdBQNCnr0evMFQgghhBBCPLusx6SmnGLjosPo/Irg7azh/s3jbFmyjkjvxtQpbWNeWwghhBBCiGeWZUhVE+OIOh/B5rXziYwzYOvqQ/FKnRn1bgcqOZrXFkIIIYQQ4tllGVIVl0p0HV2JruYLMqL1o8fcdfQwLxdCCCGEeEnIE6esw9ONSRVCCCGEEOJfJCFVCCGEEEJYHQmpQgghhBDC6iihoaGqeWFO8/PzMy8SQgghhBC5iJKQkGBVITUsLIzg4GDzYpGDIiIiCAoKMi8WL4js/2cj+y93k+MvnkZISIhMnsohptesdPcLIYQQQgirIyFVCCGEEEJYHQmpQgghhBDC6khIFUIIIYQQVifLJ06hxnJsTRi/bNjNkcvRGOzzUjywFd1D2lLOTQOkELl3JWFLNrL75A0SdHkoHNCYd/p0IdBLa742IYQQQgirJpOmrMP/AQraeZ0xx227AAAAAElFTkSuQmCC\",\"type\":\"image\",\"xaxis\":\"x\",\"yaxis\":\"y\",\"hovertemplate\":\"x: %{x}<br>y: %{y}<br>color: %{z}<extra></extra>\"}],                        {\"template\":{\"data\":{\"histogram2dcontour\":[{\"type\":\"histogram2dcontour\",\"colorbar\":{\"outlinewidth\":0,\"ticks\":\"\"},\"colorscale\":[[0.0,\"#0d0887\"],[0.1111111111111111,\"#46039f\"],[0.2222222222222222,\"#7201a8\"],[0.3333333333333333,\"#9c179e\"],[0.4444444444444444,\"#bd3786\"],[0.5555555555555556,\"#d8576b\"],[0.6666666666666666,\"#ed7953\"],[0.7777777777777778,\"#fb9f3a\"],[0.8888888888888888,\"#fdca26\"],[1.0,\"#f0f921\"]]}],\"choropleth\":[{\"type\":\"choropleth\",\"colorbar\":{\"outlinewidth\":0,\"ticks\":\"\"}}],\"histogram2d\":[{\"type\":\"histogram2d\",\"colorbar\":{\"outlinewidth\":0,\"ticks\":\"\"},\"colorscale\":[[0.0,\"#0d0887\"],[0.1111111111111111,\"#46039f\"],[0.2222222222222222,\"#7201a8\"],[0.3333333333333333,\"#9c179e\"],[0.4444444444444444,\"#bd3786\"],[0.5555555555555556,\"#d8576b\"],[0.6666666666666666,\"#ed7953\"],[0.7777777777777778,\"#fb9f3a\"],[0.8888888888888888,\"#fdca26\"],[1.0,\"#f0f921\"]]}],\"heatmap\":[{\"type\":\"heatmap\",\"colorbar\":{\"outlinewidth\":0,\"ticks\":\"\"},\"colorscale\":[[0.0,\"#0d0887\"],[0.1111111111111111,\"#46039f\"],[0.2222222222222222,\"#7201a8\"],[0.3333333333333333,\"#9c179e\"],[0.4444444444444444,\"#bd3786\"],[0.5555555555555556,\"#d8576b\"],[0.6666666666666666,\"#ed7953\"],[0.7777777777777778,\"#fb9f3a\"],[0.8888888888888888,\"#fdca26\"],[1.0,\"#f0f921\"]]}],\"heatmapgl\":[{\"type\":\"heatmapgl\",\"colorbar\":{\"outlinewidth\":0,\"ticks\":\"\"},\"colorscale\":[[0.0,\"#0d0887\"],[0.1111111111111111,\"#46039f\"],[0.2222222222222222,\"#7201a8\"],[0.3333333333333333,\"#9c179e\"],[0.4444444444444444,\"#bd3786\"],[0.5555555555555556,\"#d8576b\"],[0.6666666666666666,\"#ed7953\"],[0.7777777777777778,\"#fb9f3a\"],[0.8888888888888888,\"#fdca26\"],[1.0,\"#f0f921\"]]}],\"contourcarpet\":[{\"type\":\"contourcarpet\",\"colorbar\":{\"outlinewidth\":0,\"ticks\":\"\"}}],\"contour\":[{\"type\":\"contour\",\"colorbar\":{\"outlinewidth\":0,\"ticks\":\"\"},\"colorscale\":[[0.0,\"#0d0887\"],[0.1111111111111111,\"#46039f\"],[0.2222222222222222,\"#7201a8\"],[0.3333333333333333,\"#9c179e\"],[0.4444444444444444,\"#bd3786\"],[0.5555555555555556,\"#d8576b\"],[0.6666666666666666,\"#ed7953\"],[0.7777777777777778,\"#fb9f3a\"],[0.8888888888888888,\"#fdca26\"],[1.0,\"#f0f921\"]]}],\"surface\":[{\"type\":\"surface\",\"colorbar\":{\"outlinewidth\":0,\"ticks\":\"\"},\"colorscale\":[[0.0,\"#0d0887\"],[0.1111111111111111,\"#46039f\"],[0.2222222222222222,\"#7201a8\"],[0.3333333333333333,\"#9c179e\"],[0.4444444444444444,\"#bd3786\"],[0.5555555555555556,\"#d8576b\"],[0.6666666666666666,\"#ed7953\"],[0.7777777777777778,\"#fb9f3a\"],[0.8888888888888888,\"#fdca26\"],[1.0,\"#f0f921\"]]}],\"mesh3d\":[{\"type\":\"mesh3d\",\"colorbar\":{\"outlinewidth\":0,\"ticks\":\"\"}}],\"scatter\":[{\"fillpattern\":{\"fillmode\":\"overlay\",\"size\":10,\"solidity\":0.2},\"type\":\"scatter\"}],\"parcoords\":[{\"type\":\"parcoords\",\"line\":{\"colorbar\":{\"outlinewidth\":0,\"ticks\":\"\"}}}],\"scatterpolargl\":[{\"type\":\"scatterpolargl\",\"marker\":{\"colorbar\":{\"outlinewidth\":0,\"ticks\":\"\"}}}],\"bar\":[{\"error_x\":{\"color\":\"#2a3f5f\"},\"error_y\":{\"color\":\"#2a3f5f\"},\"marker\":{\"line\":{\"color\":\"#E5ECF6\",\"width\":0.5},\"pattern\":{\"fillmode\":\"overlay\",\"size\":10,\"solidity\":0.2}},\"type\":\"bar\"}],\"scattergeo\":[{\"type\":\"scattergeo\",\"marker\":{\"colorbar\":{\"outlinewidth\":0,\"ticks\":\"\"}}}],\"scatterpolar\":[{\"type\":\"scatterpolar\",\"marker\":{\"colorbar\":{\"outlinewidth\":0,\"ticks\":\"\"}}}],\"histogram\":[{\"marker\":{\"pattern\":{\"fillmode\":\"overlay\",\"size\":10,\"solidity\":0.2}},\"type\":\"histogram\"}],\"scattergl\":[{\"type\":\"scattergl\",\"marker\":{\"colorbar\":{\"outlinewidth\":0,\"ticks\":\"\"}}}],\"scatter3d\":[{\"type\":\"scatter3d\",\"line\":{\"colorbar\":{\"outlinewidth\":0,\"ticks\":\"\"}},\"marker\":{\"colorbar\":{\"outlinewidth\":0,\"ticks\":\"\"}}}],\"scattermapbox\":[{\"type\":\"scattermapbox\",\"marker\":{\"colorbar\":{\"outlinewidth\":0,\"ticks\":\"\"}}}],\"scatterternary\":[{\"type\":\"scatterternary\",\"marker\":{\"colorbar\":{\"outlinewidth\":0,\"ticks\":\"\"}}}],\"scattercarpet\":[{\"type\":\"scattercarpet\",\"marker\":{\"colorbar\":{\"outlinewidth\":0,\"ticks\":\"\"}}}],\"carpet\":[{\"aaxis\":{\"endlinecolor\":\"#2a3f5f\",\"gridcolor\":\"white\",\"linecolor\":\"white\",\"minorgridcolor\":\"white\",\"startlinecolor\":\"#2a3f5f\"},\"baxis\":{\"endlinecolor\":\"#2a3f5f\",\"gridcolor\":\"white\",\"linecolor\":\"white\",\"minorgridcolor\":\"white\",\"startlinecolor\":\"#2a3f5f\"},\"type\":\"carpet\"}],\"table\":[{\"cells\":{\"fill\":{\"color\":\"#EBF0F8\"},\"line\":{\"color\":\"white\"}},\"header\":{\"fill\":{\"color\":\"#C8D4E3\"},\"line\":{\"color\":\"white\"}},\"type\":\"table\"}],\"barpolar\":[{\"marker\":{\"line\":{\"color\":\"#E5ECF6\",\"width\":0.5},\"pattern\":{\"fillmode\":\"overlay\",\"size\":10,\"solidity\":0.2}},\"type\":\"barpolar\"}],\"pie\":[{\"automargin\":true,\"type\":\"pie\"}]},\"layout\":{\"autotypenumbers\":\"strict\",\"colorway\":[\"#636efa\",\"#EF553B\",\"#00cc96\",\"#ab63fa\",\"#FFA15A\",\"#19d3f3\",\"#FF6692\",\"#B6E880\",\"#FF97FF\",\"#FECB52\"],\"font\":{\"color\":\"#2a3f5f\"},\"hovermode\":\"closest\",\"hoverlabel\":{\"align\":\"left\"},\"paper_bgcolor\":\"white\",\"plot_bgcolor\":\"#E5ECF6\",\"polar\":{\"bgcolor\":\"#E5ECF6\",\"angularaxis\":{\"gridcolor\":\"white\",\"linecolor\":\"white\",\"ticks\":\"\"},\"radialaxis\":{\"gridcolor\":\"white\",\"linecolor\":\"white\",\"ticks\":\"\"}},\"ternary\":{\"bgcolor\":\"#E5ECF6\",\"aaxis\":{\"gridcolor\":\"white\",\"linecolor\":\"white\",\"ticks\":\"\"},\"baxis\":{\"gridcolor\":\"white\",\"linecolor\":\"white\",\"ticks\":\"\"},\"caxis\":{\"gridcolor\":\"white\",\"linecolor\":\"white\",\"ticks\":\"\"}},\"coloraxis\":{\"colorbar\":{\"outlinewidth\":0,\"ticks\":\"\"}},\"colorscale\":{\"sequential\":[[0.0,\"#0d0887\"],[0.1111111111111111,\"#46039f\"],[0.2222222222222222,\"#7201a8\"],[0.3333333333333333,\"#9c179e\"],[0.4444444444444444,\"#bd3786\"],[0.5555555555555556,\"#d8576b\"],[0.6666666666666666,\"#ed7953\"],[0.7777777777777778,\"#fb9f3a\"],[0.8888888888888888,\"#fdca26\"],[1.0,\"#f0f921\"]],\"sequentialminus\":[[0.0,\"#0d0887\"],[0.1111111111111111,\"#46039f\"],[0.2222222222222222,\"#7201a8\"],[0.3333333333333333,\"#9c179e\"],[0.4444444444444444,\"#bd3786\"],[0.5555555555555556,\"#d8576b\"],[0.6666666666666666,\"#ed7953\"],[0.7777777777777778,\"#fb9f3a\"],[0.8888888888888888,\"#fdca26\"],[1.0,\"#f0f921\"]],\"diverging\":[[0,\"#8e0152\"],[0.1,\"#c51b7d\"],[0.2,\"#de77ae\"],[0.3,\"#f1b6da\"],[0.4,\"#fde0ef\"],[0.5,\"#f7f7f7\"],[0.6,\"#e6f5d0\"],[0.7,\"#b8e186\"],[0.8,\"#7fbc41\"],[0.9,\"#4d9221\"],[1,\"#276419\"]]},\"xaxis\":{\"gridcolor\":\"white\",\"linecolor\":\"white\",\"ticks\":\"\",\"title\":{\"standoff\":15},\"zerolinecolor\":\"white\",\"automargin\":true,\"zerolinewidth\":2},\"yaxis\":{\"gridcolor\":\"white\",\"linecolor\":\"white\",\"ticks\":\"\",\"title\":{\"standoff\":15},\"zerolinecolor\":\"white\",\"automargin\":true,\"zerolinewidth\":2},\"scene\":{\"xaxis\":{\"backgroundcolor\":\"#E5ECF6\",\"gridcolor\":\"white\",\"linecolor\":\"white\",\"showbackground\":true,\"ticks\":\"\",\"zerolinecolor\":\"white\",\"gridwidth\":2},\"yaxis\":{\"backgroundcolor\":\"#E5ECF6\",\"gridcolor\":\"white\",\"linecolor\":\"white\",\"showbackground\":true,\"ticks\":\"\",\"zerolinecolor\":\"white\",\"gridwidth\":2},\"zaxis\":{\"backgroundcolor\":\"#E5ECF6\",\"gridcolor\":\"white\",\"linecolor\":\"white\",\"showbackground\":true,\"ticks\":\"\",\"zerolinecolor\":\"white\",\"gridwidth\":2}},\"shapedefaults\":{\"line\":{\"color\":\"#2a3f5f\"}},\"annotationdefaults\":{\"arrowcolor\":\"#2a3f5f\",\"arrowhead\":0,\"arrowwidth\":1},\"geo\":{\"bgcolor\":\"white\",\"landcolor\":\"#E5ECF6\",\"subunitcolor\":\"white\",\"showland\":true,\"showlakes\":true,\"lakecolor\":\"white\"},\"title\":{\"x\":0.05},\"mapbox\":{\"style\":\"light\"}}},\"xaxis\":{\"anchor\":\"y\",\"domain\":[0.0,1.0]},\"yaxis\":{\"anchor\":\"x\",\"domain\":[0.0,1.0]},\"margin\":{\"t\":60}},                        {\"responsive\": true}                    ).then(function(){\n",
       "                            \n",
       "var gd = document.getElementById('0cfe47bc-0d4e-4de4-80a7-583e1d251a67');\n",
       "var x = new MutationObserver(function (mutations, observer) {{\n",
       "        var display = window.getComputedStyle(gd).display;\n",
       "        if (!display || display === 'none') {{\n",
       "            console.log([gd, 'removed!']);\n",
       "            Plotly.purge(gd);\n",
       "            observer.disconnect();\n",
       "        }}\n",
       "}});\n",
       "\n",
       "// Listen for the removal of the full notebook cells\n",
       "var notebookContainer = gd.closest('#notebook-container');\n",
       "if (notebookContainer) {{\n",
       "    x.observe(notebookContainer, {childList: true});\n",
       "}}\n",
       "\n",
       "// Listen for the clearing of the current output cell\n",
       "var outputEl = gd.closest('.output');\n",
       "if (outputEl) {{\n",
       "    x.observe(outputEl, {childList: true});\n",
       "}}\n",
       "\n",
       "                        })                };                });            </script>        </div>"
      ]
     },
     "metadata": {},
     "output_type": "display_data"
    }
   ],
   "source": [
    "import plotly.express as px\n",
    "from skimage import io\n",
    "img = io.imread('AgeGenderDoB.png')\n",
    "fig = px.imshow(img)\n",
    "fig.show()"
   ]
  },
  {
   "cell_type": "code",
   "execution_count": 20,
   "id": "41817bd3",
   "metadata": {},
   "outputs": [],
   "source": [
    "coord_df = pd.read_csv('coords.csv')\n",
    "#coord_df.head(5)\n",
    "all_polys = []\n",
    "for index, row in coord_df.iterrows():\n",
    "    top_left = [row['left'], row['top']]\n",
    "    top_right = [row['left']+row['width'], row['top']]\n",
    "    bottom_left = [row['left'], row['top'] + row['height']]\n",
    "    bottom_right = [row['left'] + row['width'], row['top'] + row['height']]\n",
    "    polygon = Polygon([top_left, top_right, bottom_right, bottom_left, top_left])\n",
    "    all_polys.append(polygon)\n",
    "    #print(row['text'], row['c2'])\n",
    "just5 = all_polys[1:4]"
   ]
  },
  {
   "cell_type": "code",
   "execution_count": 21,
   "id": "0c13ced0",
   "metadata": {},
   "outputs": [],
   "source": [
    "all_poly_gdf = gpd.GeoDataFrame(index=[0], crs='epsg:4326', geometry=[just5[0]])\n",
    "i = 1\n",
    "for p in just5[1:]:\n",
    "    appendthis = gpd.GeoDataFrame(index=[i], crs='epsg:4326', geometry=[p])\n",
    "    gdf = pd.concat([all_poly_gdf, appendthis])\n",
    "    all_poly_gdf = gdf\n",
    "    i = i + 1\n",
    "    \n",
    "    "
   ]
  },
  {
   "cell_type": "code",
   "execution_count": 22,
   "id": "89868cab",
   "metadata": {},
   "outputs": [
    {
     "data": {
      "text/html": [
       "<div>\n",
       "<style scoped>\n",
       "    .dataframe tbody tr th:only-of-type {\n",
       "        vertical-align: middle;\n",
       "    }\n",
       "\n",
       "    .dataframe tbody tr th {\n",
       "        vertical-align: top;\n",
       "    }\n",
       "\n",
       "    .dataframe thead th {\n",
       "        text-align: right;\n",
       "    }\n",
       "</style>\n",
       "<table border=\"1\" class=\"dataframe\">\n",
       "  <thead>\n",
       "    <tr style=\"text-align: right;\">\n",
       "      <th></th>\n",
       "      <th>geometry</th>\n",
       "    </tr>\n",
       "  </thead>\n",
       "  <tbody>\n",
       "    <tr>\n",
       "      <th>0</th>\n",
       "      <td>POLYGON ((182.00000 7.00000, 190.00000 7.00000...</td>\n",
       "    </tr>\n",
       "    <tr>\n",
       "      <th>1</th>\n",
       "      <td>POLYGON ((271.00000 7.00000, 279.00000 7.00000...</td>\n",
       "    </tr>\n",
       "    <tr>\n",
       "      <th>2</th>\n",
       "      <td>POLYGON ((313.00000 2.00000, 442.00000 2.00000...</td>\n",
       "    </tr>\n",
       "  </tbody>\n",
       "</table>\n",
       "</div>"
      ],
      "text/plain": [
       "                                            geometry\n",
       "0  POLYGON ((182.00000 7.00000, 190.00000 7.00000...\n",
       "1  POLYGON ((271.00000 7.00000, 279.00000 7.00000...\n",
       "2  POLYGON ((313.00000 2.00000, 442.00000 2.00000..."
      ]
     },
     "execution_count": 22,
     "metadata": {},
     "output_type": "execute_result"
    }
   ],
   "source": [
    "all_poly_gdf"
   ]
  },
  {
   "cell_type": "code",
   "execution_count": 23,
   "id": "ec56579c",
   "metadata": {},
   "outputs": [
    {
     "name": "stdout",
     "output_type": "stream",
     "text": [
      "epsg:4326\n"
     ]
    }
   ],
   "source": [
    "\n",
    "lat_point_list = [1,2,3,4]\n",
    "lon_point_list = [1,1,3,4]\n",
    "\n",
    "#polygon_geom = Polygon(zip(lon_point_list, lat_point_list))\n",
    "\n",
    "polygon_geom = MultiPolygon(all_polys)\n",
    "#crs = {'init': 'epsg:4326'}\n",
    "#polygon = gpd.GeoDataFrame(index=[0], crs=crs, geometry=[polygon_geom])      \n",
    "polygon = gpd.GeoDataFrame(index=[0], geometry=[polygon_geom], crs=4326)  \n",
    "\n",
    "#polygon.plot()\n",
    "\n",
    "#polygon_gpd = gpd.GeoDataFrame(index=[0], geometry=[polygon_geom])  \n",
    "\n",
    "print(polygon.crs)"
   ]
  },
  {
   "cell_type": "raw",
   "id": "72907c88",
   "metadata": {},
   "source": [
    "import plotly.graph_objects as go\n",
    "\n",
    "fig = go.Figure(go.Scattermapbox(\n",
    "    fill = \"toself\",\n",
    "    lon = [-74, -70, -70, -74], lat = [47, 47, 45, 45],\n",
    "    marker = { 'size': 10, 'color': \"orange\" }))\n",
    "\n",
    "fig.update_layout(\n",
    "    mapbox = {\n",
    "        #'style': \"stamen-terrain\",\n",
    "        'center': {'lon': -73, 'lat': 46 },\n",
    "        'zoom': 5},\n",
    "    showlegend = False)\n",
    "\n",
    "fig.show()\n"
   ]
  },
  {
   "cell_type": "code",
   "execution_count": 43,
   "id": "a839df6d",
   "metadata": {},
   "outputs": [],
   "source": [
    "layout = dict(\n",
    "    hovermode = 'closest',\n",
    "    xaxis = dict(\n",
    "        autorange = False,\n",
    "        range = [150, 450],\n",
    "        showgrid = False,\n",
    "        zeroline = False,\n",
    "        fixedrange = True\n",
    "    ),\n",
    "    yaxis = dict(\n",
    "        autorange = False,\n",
    "        range = [0, 30],\n",
    "        showgrid = False,\n",
    "        zeroline = False,\n",
    "        fixedrange = False\n",
    "    ),\n",
    "    margin = dict(\n",
    "        t=20,\n",
    "        b=20,\n",
    "        r=20,\n",
    "        l=20\n",
    "    ),\n",
    "    width = 900,\n",
    "    height = 500,\n",
    "    dragmode = 'select'\n",
    ")"
   ]
  },
  {
   "cell_type": "code",
   "execution_count": 44,
   "id": "976e3b69",
   "metadata": {},
   "outputs": [],
   "source": [
    "plot_data = []\n",
    "df = all_poly_gdf\n",
    "for index, row in df.iterrows():\n",
    "    if df['geometry'][index].type == 'Polygon':\n",
    "        x, y = row.geometry.exterior.xy\n",
    "        c_x, c_y = row.geometry.centroid.xy\n",
    "    elif df['geometry'][index].type == 'MultiPolygon':\n",
    "        poly = row.geometry\n",
    "        x, y = [], []\n",
    "        c_x, c_y = [], []\n",
    "        for p in poly:\n",
    "            _x, _y = p.exterior.xy\n",
    "            x.append(_x), y.append(_y)\n",
    "            _c_x, _c_y = p.centroid.xy\n",
    "            c_x.append(_c_x), c_y.append(_c_y) \n",
    "    else: \n",
    "        print('stop')\n",
    "        \n",
    "    outline = dict(\n",
    "            type = 'scatter',\n",
    "            showlegend = False,\n",
    "            legendgroup = \"shapes\",\n",
    "            line = dict(color='black', width=1),\n",
    "            x = np.asarray(x),\n",
    "            y = np.asarray(y),\n",
    "            fill = 'toself',\n",
    "            fillcolor = 'purple',\n",
    "            hoverinfo = 'none'\n",
    "        )\n",
    "    plot_data.append(outline)"
   ]
  },
  {
   "cell_type": "code",
   "execution_count": 45,
   "id": "b9b989a6",
   "metadata": {},
   "outputs": [
    {
     "data": {
      "text/plain": [
       "[{'type': 'scatter',\n",
       "  'showlegend': False,\n",
       "  'legendgroup': 'shapes',\n",
       "  'line': {'color': 'black', 'width': 1},\n",
       "  'x': array([182., 190., 190., 182., 182.]),\n",
       "  'y': array([ 7.,  7., 17., 17.,  7.]),\n",
       "  'fill': 'toself',\n",
       "  'fillcolor': 'purple',\n",
       "  'hoverinfo': 'none'},\n",
       " {'type': 'scatter',\n",
       "  'showlegend': False,\n",
       "  'legendgroup': 'shapes',\n",
       "  'line': {'color': 'black', 'width': 1},\n",
       "  'x': array([271., 279., 279., 271., 271.]),\n",
       "  'y': array([ 7.,  7., 17., 17.,  7.]),\n",
       "  'fill': 'toself',\n",
       "  'fillcolor': 'purple',\n",
       "  'hoverinfo': 'none'},\n",
       " {'type': 'scatter',\n",
       "  'showlegend': False,\n",
       "  'legendgroup': 'shapes',\n",
       "  'line': {'color': 'black', 'width': 1},\n",
       "  'x': array([313., 442., 442., 313., 313.]),\n",
       "  'y': array([ 2.,  2., 22., 22.,  2.]),\n",
       "  'fill': 'toself',\n",
       "  'fillcolor': 'purple',\n",
       "  'hoverinfo': 'none'}]"
      ]
     },
     "execution_count": 45,
     "metadata": {},
     "output_type": "execute_result"
    }
   ],
   "source": [
    "plot_data"
   ]
  },
  {
   "cell_type": "code",
   "execution_count": 46,
   "id": "1e84a425",
   "metadata": {},
   "outputs": [
    {
     "data": {
      "application/vnd.plotly.v1+json": {
       "config": {
        "plotlyServerURL": "https://plot.ly"
       },
       "data": [
        {
         "fill": "toself",
         "fillcolor": "purple",
         "hoverinfo": "none",
         "legendgroup": "shapes",
         "line": {
          "color": "black",
          "width": 1
         },
         "showlegend": false,
         "type": "scatter",
         "x": [
          182,
          190,
          190,
          182,
          182
         ],
         "y": [
          7,
          7,
          17,
          17,
          7
         ]
        },
        {
         "fill": "toself",
         "fillcolor": "purple",
         "hoverinfo": "none",
         "legendgroup": "shapes",
         "line": {
          "color": "black",
          "width": 1
         },
         "showlegend": false,
         "type": "scatter",
         "x": [
          271,
          279,
          279,
          271,
          271
         ],
         "y": [
          7,
          7,
          17,
          17,
          7
         ]
        },
        {
         "fill": "toself",
         "fillcolor": "purple",
         "hoverinfo": "none",
         "legendgroup": "shapes",
         "line": {
          "color": "black",
          "width": 1
         },
         "showlegend": false,
         "type": "scatter",
         "x": [
          313,
          442,
          442,
          313,
          313
         ],
         "y": [
          2,
          2,
          22,
          22,
          2
         ]
        }
       ],
       "layout": {
        "dragmode": "select",
        "height": 500,
        "hovermode": "closest",
        "margin": {
         "b": 20,
         "l": 20,
         "r": 20,
         "t": 20
        },
        "template": {
         "data": {
          "bar": [
           {
            "error_x": {
             "color": "#2a3f5f"
            },
            "error_y": {
             "color": "#2a3f5f"
            },
            "marker": {
             "line": {
              "color": "#E5ECF6",
              "width": 0.5
             },
             "pattern": {
              "fillmode": "overlay",
              "size": 10,
              "solidity": 0.2
             }
            },
            "type": "bar"
           }
          ],
          "barpolar": [
           {
            "marker": {
             "line": {
              "color": "#E5ECF6",
              "width": 0.5
             },
             "pattern": {
              "fillmode": "overlay",
              "size": 10,
              "solidity": 0.2
             }
            },
            "type": "barpolar"
           }
          ],
          "carpet": [
           {
            "aaxis": {
             "endlinecolor": "#2a3f5f",
             "gridcolor": "white",
             "linecolor": "white",
             "minorgridcolor": "white",
             "startlinecolor": "#2a3f5f"
            },
            "baxis": {
             "endlinecolor": "#2a3f5f",
             "gridcolor": "white",
             "linecolor": "white",
             "minorgridcolor": "white",
             "startlinecolor": "#2a3f5f"
            },
            "type": "carpet"
           }
          ],
          "choropleth": [
           {
            "colorbar": {
             "outlinewidth": 0,
             "ticks": ""
            },
            "type": "choropleth"
           }
          ],
          "contour": [
           {
            "colorbar": {
             "outlinewidth": 0,
             "ticks": ""
            },
            "colorscale": [
             [
              0,
              "#0d0887"
             ],
             [
              0.1111111111111111,
              "#46039f"
             ],
             [
              0.2222222222222222,
              "#7201a8"
             ],
             [
              0.3333333333333333,
              "#9c179e"
             ],
             [
              0.4444444444444444,
              "#bd3786"
             ],
             [
              0.5555555555555556,
              "#d8576b"
             ],
             [
              0.6666666666666666,
              "#ed7953"
             ],
             [
              0.7777777777777778,
              "#fb9f3a"
             ],
             [
              0.8888888888888888,
              "#fdca26"
             ],
             [
              1,
              "#f0f921"
             ]
            ],
            "type": "contour"
           }
          ],
          "contourcarpet": [
           {
            "colorbar": {
             "outlinewidth": 0,
             "ticks": ""
            },
            "type": "contourcarpet"
           }
          ],
          "heatmap": [
           {
            "colorbar": {
             "outlinewidth": 0,
             "ticks": ""
            },
            "colorscale": [
             [
              0,
              "#0d0887"
             ],
             [
              0.1111111111111111,
              "#46039f"
             ],
             [
              0.2222222222222222,
              "#7201a8"
             ],
             [
              0.3333333333333333,
              "#9c179e"
             ],
             [
              0.4444444444444444,
              "#bd3786"
             ],
             [
              0.5555555555555556,
              "#d8576b"
             ],
             [
              0.6666666666666666,
              "#ed7953"
             ],
             [
              0.7777777777777778,
              "#fb9f3a"
             ],
             [
              0.8888888888888888,
              "#fdca26"
             ],
             [
              1,
              "#f0f921"
             ]
            ],
            "type": "heatmap"
           }
          ],
          "heatmapgl": [
           {
            "colorbar": {
             "outlinewidth": 0,
             "ticks": ""
            },
            "colorscale": [
             [
              0,
              "#0d0887"
             ],
             [
              0.1111111111111111,
              "#46039f"
             ],
             [
              0.2222222222222222,
              "#7201a8"
             ],
             [
              0.3333333333333333,
              "#9c179e"
             ],
             [
              0.4444444444444444,
              "#bd3786"
             ],
             [
              0.5555555555555556,
              "#d8576b"
             ],
             [
              0.6666666666666666,
              "#ed7953"
             ],
             [
              0.7777777777777778,
              "#fb9f3a"
             ],
             [
              0.8888888888888888,
              "#fdca26"
             ],
             [
              1,
              "#f0f921"
             ]
            ],
            "type": "heatmapgl"
           }
          ],
          "histogram": [
           {
            "marker": {
             "pattern": {
              "fillmode": "overlay",
              "size": 10,
              "solidity": 0.2
             }
            },
            "type": "histogram"
           }
          ],
          "histogram2d": [
           {
            "colorbar": {
             "outlinewidth": 0,
             "ticks": ""
            },
            "colorscale": [
             [
              0,
              "#0d0887"
             ],
             [
              0.1111111111111111,
              "#46039f"
             ],
             [
              0.2222222222222222,
              "#7201a8"
             ],
             [
              0.3333333333333333,
              "#9c179e"
             ],
             [
              0.4444444444444444,
              "#bd3786"
             ],
             [
              0.5555555555555556,
              "#d8576b"
             ],
             [
              0.6666666666666666,
              "#ed7953"
             ],
             [
              0.7777777777777778,
              "#fb9f3a"
             ],
             [
              0.8888888888888888,
              "#fdca26"
             ],
             [
              1,
              "#f0f921"
             ]
            ],
            "type": "histogram2d"
           }
          ],
          "histogram2dcontour": [
           {
            "colorbar": {
             "outlinewidth": 0,
             "ticks": ""
            },
            "colorscale": [
             [
              0,
              "#0d0887"
             ],
             [
              0.1111111111111111,
              "#46039f"
             ],
             [
              0.2222222222222222,
              "#7201a8"
             ],
             [
              0.3333333333333333,
              "#9c179e"
             ],
             [
              0.4444444444444444,
              "#bd3786"
             ],
             [
              0.5555555555555556,
              "#d8576b"
             ],
             [
              0.6666666666666666,
              "#ed7953"
             ],
             [
              0.7777777777777778,
              "#fb9f3a"
             ],
             [
              0.8888888888888888,
              "#fdca26"
             ],
             [
              1,
              "#f0f921"
             ]
            ],
            "type": "histogram2dcontour"
           }
          ],
          "mesh3d": [
           {
            "colorbar": {
             "outlinewidth": 0,
             "ticks": ""
            },
            "type": "mesh3d"
           }
          ],
          "parcoords": [
           {
            "line": {
             "colorbar": {
              "outlinewidth": 0,
              "ticks": ""
             }
            },
            "type": "parcoords"
           }
          ],
          "pie": [
           {
            "automargin": true,
            "type": "pie"
           }
          ],
          "scatter": [
           {
            "fillpattern": {
             "fillmode": "overlay",
             "size": 10,
             "solidity": 0.2
            },
            "type": "scatter"
           }
          ],
          "scatter3d": [
           {
            "line": {
             "colorbar": {
              "outlinewidth": 0,
              "ticks": ""
             }
            },
            "marker": {
             "colorbar": {
              "outlinewidth": 0,
              "ticks": ""
             }
            },
            "type": "scatter3d"
           }
          ],
          "scattercarpet": [
           {
            "marker": {
             "colorbar": {
              "outlinewidth": 0,
              "ticks": ""
             }
            },
            "type": "scattercarpet"
           }
          ],
          "scattergeo": [
           {
            "marker": {
             "colorbar": {
              "outlinewidth": 0,
              "ticks": ""
             }
            },
            "type": "scattergeo"
           }
          ],
          "scattergl": [
           {
            "marker": {
             "colorbar": {
              "outlinewidth": 0,
              "ticks": ""
             }
            },
            "type": "scattergl"
           }
          ],
          "scattermapbox": [
           {
            "marker": {
             "colorbar": {
              "outlinewidth": 0,
              "ticks": ""
             }
            },
            "type": "scattermapbox"
           }
          ],
          "scatterpolar": [
           {
            "marker": {
             "colorbar": {
              "outlinewidth": 0,
              "ticks": ""
             }
            },
            "type": "scatterpolar"
           }
          ],
          "scatterpolargl": [
           {
            "marker": {
             "colorbar": {
              "outlinewidth": 0,
              "ticks": ""
             }
            },
            "type": "scatterpolargl"
           }
          ],
          "scatterternary": [
           {
            "marker": {
             "colorbar": {
              "outlinewidth": 0,
              "ticks": ""
             }
            },
            "type": "scatterternary"
           }
          ],
          "surface": [
           {
            "colorbar": {
             "outlinewidth": 0,
             "ticks": ""
            },
            "colorscale": [
             [
              0,
              "#0d0887"
             ],
             [
              0.1111111111111111,
              "#46039f"
             ],
             [
              0.2222222222222222,
              "#7201a8"
             ],
             [
              0.3333333333333333,
              "#9c179e"
             ],
             [
              0.4444444444444444,
              "#bd3786"
             ],
             [
              0.5555555555555556,
              "#d8576b"
             ],
             [
              0.6666666666666666,
              "#ed7953"
             ],
             [
              0.7777777777777778,
              "#fb9f3a"
             ],
             [
              0.8888888888888888,
              "#fdca26"
             ],
             [
              1,
              "#f0f921"
             ]
            ],
            "type": "surface"
           }
          ],
          "table": [
           {
            "cells": {
             "fill": {
              "color": "#EBF0F8"
             },
             "line": {
              "color": "white"
             }
            },
            "header": {
             "fill": {
              "color": "#C8D4E3"
             },
             "line": {
              "color": "white"
             }
            },
            "type": "table"
           }
          ]
         },
         "layout": {
          "annotationdefaults": {
           "arrowcolor": "#2a3f5f",
           "arrowhead": 0,
           "arrowwidth": 1
          },
          "autotypenumbers": "strict",
          "coloraxis": {
           "colorbar": {
            "outlinewidth": 0,
            "ticks": ""
           }
          },
          "colorscale": {
           "diverging": [
            [
             0,
             "#8e0152"
            ],
            [
             0.1,
             "#c51b7d"
            ],
            [
             0.2,
             "#de77ae"
            ],
            [
             0.3,
             "#f1b6da"
            ],
            [
             0.4,
             "#fde0ef"
            ],
            [
             0.5,
             "#f7f7f7"
            ],
            [
             0.6,
             "#e6f5d0"
            ],
            [
             0.7,
             "#b8e186"
            ],
            [
             0.8,
             "#7fbc41"
            ],
            [
             0.9,
             "#4d9221"
            ],
            [
             1,
             "#276419"
            ]
           ],
           "sequential": [
            [
             0,
             "#0d0887"
            ],
            [
             0.1111111111111111,
             "#46039f"
            ],
            [
             0.2222222222222222,
             "#7201a8"
            ],
            [
             0.3333333333333333,
             "#9c179e"
            ],
            [
             0.4444444444444444,
             "#bd3786"
            ],
            [
             0.5555555555555556,
             "#d8576b"
            ],
            [
             0.6666666666666666,
             "#ed7953"
            ],
            [
             0.7777777777777778,
             "#fb9f3a"
            ],
            [
             0.8888888888888888,
             "#fdca26"
            ],
            [
             1,
             "#f0f921"
            ]
           ],
           "sequentialminus": [
            [
             0,
             "#0d0887"
            ],
            [
             0.1111111111111111,
             "#46039f"
            ],
            [
             0.2222222222222222,
             "#7201a8"
            ],
            [
             0.3333333333333333,
             "#9c179e"
            ],
            [
             0.4444444444444444,
             "#bd3786"
            ],
            [
             0.5555555555555556,
             "#d8576b"
            ],
            [
             0.6666666666666666,
             "#ed7953"
            ],
            [
             0.7777777777777778,
             "#fb9f3a"
            ],
            [
             0.8888888888888888,
             "#fdca26"
            ],
            [
             1,
             "#f0f921"
            ]
           ]
          },
          "colorway": [
           "#636efa",
           "#EF553B",
           "#00cc96",
           "#ab63fa",
           "#FFA15A",
           "#19d3f3",
           "#FF6692",
           "#B6E880",
           "#FF97FF",
           "#FECB52"
          ],
          "font": {
           "color": "#2a3f5f"
          },
          "geo": {
           "bgcolor": "white",
           "lakecolor": "white",
           "landcolor": "#E5ECF6",
           "showlakes": true,
           "showland": true,
           "subunitcolor": "white"
          },
          "hoverlabel": {
           "align": "left"
          },
          "hovermode": "closest",
          "mapbox": {
           "style": "light"
          },
          "paper_bgcolor": "white",
          "plot_bgcolor": "#E5ECF6",
          "polar": {
           "angularaxis": {
            "gridcolor": "white",
            "linecolor": "white",
            "ticks": ""
           },
           "bgcolor": "#E5ECF6",
           "radialaxis": {
            "gridcolor": "white",
            "linecolor": "white",
            "ticks": ""
           }
          },
          "scene": {
           "xaxis": {
            "backgroundcolor": "#E5ECF6",
            "gridcolor": "white",
            "gridwidth": 2,
            "linecolor": "white",
            "showbackground": true,
            "ticks": "",
            "zerolinecolor": "white"
           },
           "yaxis": {
            "backgroundcolor": "#E5ECF6",
            "gridcolor": "white",
            "gridwidth": 2,
            "linecolor": "white",
            "showbackground": true,
            "ticks": "",
            "zerolinecolor": "white"
           },
           "zaxis": {
            "backgroundcolor": "#E5ECF6",
            "gridcolor": "white",
            "gridwidth": 2,
            "linecolor": "white",
            "showbackground": true,
            "ticks": "",
            "zerolinecolor": "white"
           }
          },
          "shapedefaults": {
           "line": {
            "color": "#2a3f5f"
           }
          },
          "ternary": {
           "aaxis": {
            "gridcolor": "white",
            "linecolor": "white",
            "ticks": ""
           },
           "baxis": {
            "gridcolor": "white",
            "linecolor": "white",
            "ticks": ""
           },
           "bgcolor": "#E5ECF6",
           "caxis": {
            "gridcolor": "white",
            "linecolor": "white",
            "ticks": ""
           }
          },
          "title": {
           "x": 0.05
          },
          "xaxis": {
           "automargin": true,
           "gridcolor": "white",
           "linecolor": "white",
           "ticks": "",
           "title": {
            "standoff": 15
           },
           "zerolinecolor": "white",
           "zerolinewidth": 2
          },
          "yaxis": {
           "automargin": true,
           "gridcolor": "white",
           "linecolor": "white",
           "ticks": "",
           "title": {
            "standoff": 15
           },
           "zerolinecolor": "white",
           "zerolinewidth": 2
          }
         }
        },
        "width": 900,
        "xaxis": {
         "autorange": false,
         "fixedrange": true,
         "range": [
          150,
          450
         ],
         "showgrid": false,
         "zeroline": false
        },
        "yaxis": {
         "autorange": false,
         "fixedrange": false,
         "range": [
          0,
          30
         ],
         "showgrid": false,
         "zeroline": false
        }
       }
      },
      "text/html": [
       "<div>                            <div id=\"681bd214-10f6-4d35-be96-f6d18f53fbf3\" class=\"plotly-graph-div\" style=\"height:500px; width:900px;\"></div>            <script type=\"text/javascript\">                require([\"plotly\"], function(Plotly) {                    window.PLOTLYENV=window.PLOTLYENV || {};                                    if (document.getElementById(\"681bd214-10f6-4d35-be96-f6d18f53fbf3\")) {                    Plotly.newPlot(                        \"681bd214-10f6-4d35-be96-f6d18f53fbf3\",                        [{\"fill\":\"toself\",\"fillcolor\":\"purple\",\"hoverinfo\":\"none\",\"legendgroup\":\"shapes\",\"line\":{\"color\":\"black\",\"width\":1},\"showlegend\":false,\"x\":[182.0,190.0,190.0,182.0,182.0],\"y\":[7.0,7.0,17.0,17.0,7.0],\"type\":\"scatter\"},{\"fill\":\"toself\",\"fillcolor\":\"purple\",\"hoverinfo\":\"none\",\"legendgroup\":\"shapes\",\"line\":{\"color\":\"black\",\"width\":1},\"showlegend\":false,\"x\":[271.0,279.0,279.0,271.0,271.0],\"y\":[7.0,7.0,17.0,17.0,7.0],\"type\":\"scatter\"},{\"fill\":\"toself\",\"fillcolor\":\"purple\",\"hoverinfo\":\"none\",\"legendgroup\":\"shapes\",\"line\":{\"color\":\"black\",\"width\":1},\"showlegend\":false,\"x\":[313.0,442.0,442.0,313.0,313.0],\"y\":[2.0,2.0,22.0,22.0,2.0],\"type\":\"scatter\"}],                        {\"dragmode\":\"select\",\"height\":500,\"hovermode\":\"closest\",\"margin\":{\"b\":20,\"l\":20,\"r\":20,\"t\":20},\"width\":900,\"xaxis\":{\"autorange\":false,\"fixedrange\":true,\"range\":[150,450],\"showgrid\":false,\"zeroline\":false},\"yaxis\":{\"autorange\":false,\"fixedrange\":false,\"range\":[0,30],\"showgrid\":false,\"zeroline\":false},\"template\":{\"data\":{\"histogram2dcontour\":[{\"type\":\"histogram2dcontour\",\"colorbar\":{\"outlinewidth\":0,\"ticks\":\"\"},\"colorscale\":[[0.0,\"#0d0887\"],[0.1111111111111111,\"#46039f\"],[0.2222222222222222,\"#7201a8\"],[0.3333333333333333,\"#9c179e\"],[0.4444444444444444,\"#bd3786\"],[0.5555555555555556,\"#d8576b\"],[0.6666666666666666,\"#ed7953\"],[0.7777777777777778,\"#fb9f3a\"],[0.8888888888888888,\"#fdca26\"],[1.0,\"#f0f921\"]]}],\"choropleth\":[{\"type\":\"choropleth\",\"colorbar\":{\"outlinewidth\":0,\"ticks\":\"\"}}],\"histogram2d\":[{\"type\":\"histogram2d\",\"colorbar\":{\"outlinewidth\":0,\"ticks\":\"\"},\"colorscale\":[[0.0,\"#0d0887\"],[0.1111111111111111,\"#46039f\"],[0.2222222222222222,\"#7201a8\"],[0.3333333333333333,\"#9c179e\"],[0.4444444444444444,\"#bd3786\"],[0.5555555555555556,\"#d8576b\"],[0.6666666666666666,\"#ed7953\"],[0.7777777777777778,\"#fb9f3a\"],[0.8888888888888888,\"#fdca26\"],[1.0,\"#f0f921\"]]}],\"heatmap\":[{\"type\":\"heatmap\",\"colorbar\":{\"outlinewidth\":0,\"ticks\":\"\"},\"colorscale\":[[0.0,\"#0d0887\"],[0.1111111111111111,\"#46039f\"],[0.2222222222222222,\"#7201a8\"],[0.3333333333333333,\"#9c179e\"],[0.4444444444444444,\"#bd3786\"],[0.5555555555555556,\"#d8576b\"],[0.6666666666666666,\"#ed7953\"],[0.7777777777777778,\"#fb9f3a\"],[0.8888888888888888,\"#fdca26\"],[1.0,\"#f0f921\"]]}],\"heatmapgl\":[{\"type\":\"heatmapgl\",\"colorbar\":{\"outlinewidth\":0,\"ticks\":\"\"},\"colorscale\":[[0.0,\"#0d0887\"],[0.1111111111111111,\"#46039f\"],[0.2222222222222222,\"#7201a8\"],[0.3333333333333333,\"#9c179e\"],[0.4444444444444444,\"#bd3786\"],[0.5555555555555556,\"#d8576b\"],[0.6666666666666666,\"#ed7953\"],[0.7777777777777778,\"#fb9f3a\"],[0.8888888888888888,\"#fdca26\"],[1.0,\"#f0f921\"]]}],\"contourcarpet\":[{\"type\":\"contourcarpet\",\"colorbar\":{\"outlinewidth\":0,\"ticks\":\"\"}}],\"contour\":[{\"type\":\"contour\",\"colorbar\":{\"outlinewidth\":0,\"ticks\":\"\"},\"colorscale\":[[0.0,\"#0d0887\"],[0.1111111111111111,\"#46039f\"],[0.2222222222222222,\"#7201a8\"],[0.3333333333333333,\"#9c179e\"],[0.4444444444444444,\"#bd3786\"],[0.5555555555555556,\"#d8576b\"],[0.6666666666666666,\"#ed7953\"],[0.7777777777777778,\"#fb9f3a\"],[0.8888888888888888,\"#fdca26\"],[1.0,\"#f0f921\"]]}],\"surface\":[{\"type\":\"surface\",\"colorbar\":{\"outlinewidth\":0,\"ticks\":\"\"},\"colorscale\":[[0.0,\"#0d0887\"],[0.1111111111111111,\"#46039f\"],[0.2222222222222222,\"#7201a8\"],[0.3333333333333333,\"#9c179e\"],[0.4444444444444444,\"#bd3786\"],[0.5555555555555556,\"#d8576b\"],[0.6666666666666666,\"#ed7953\"],[0.7777777777777778,\"#fb9f3a\"],[0.8888888888888888,\"#fdca26\"],[1.0,\"#f0f921\"]]}],\"mesh3d\":[{\"type\":\"mesh3d\",\"colorbar\":{\"outlinewidth\":0,\"ticks\":\"\"}}],\"scatter\":[{\"fillpattern\":{\"fillmode\":\"overlay\",\"size\":10,\"solidity\":0.2},\"type\":\"scatter\"}],\"parcoords\":[{\"type\":\"parcoords\",\"line\":{\"colorbar\":{\"outlinewidth\":0,\"ticks\":\"\"}}}],\"scatterpolargl\":[{\"type\":\"scatterpolargl\",\"marker\":{\"colorbar\":{\"outlinewidth\":0,\"ticks\":\"\"}}}],\"bar\":[{\"error_x\":{\"color\":\"#2a3f5f\"},\"error_y\":{\"color\":\"#2a3f5f\"},\"marker\":{\"line\":{\"color\":\"#E5ECF6\",\"width\":0.5},\"pattern\":{\"fillmode\":\"overlay\",\"size\":10,\"solidity\":0.2}},\"type\":\"bar\"}],\"scattergeo\":[{\"type\":\"scattergeo\",\"marker\":{\"colorbar\":{\"outlinewidth\":0,\"ticks\":\"\"}}}],\"scatterpolar\":[{\"type\":\"scatterpolar\",\"marker\":{\"colorbar\":{\"outlinewidth\":0,\"ticks\":\"\"}}}],\"histogram\":[{\"marker\":{\"pattern\":{\"fillmode\":\"overlay\",\"size\":10,\"solidity\":0.2}},\"type\":\"histogram\"}],\"scattergl\":[{\"type\":\"scattergl\",\"marker\":{\"colorbar\":{\"outlinewidth\":0,\"ticks\":\"\"}}}],\"scatter3d\":[{\"type\":\"scatter3d\",\"line\":{\"colorbar\":{\"outlinewidth\":0,\"ticks\":\"\"}},\"marker\":{\"colorbar\":{\"outlinewidth\":0,\"ticks\":\"\"}}}],\"scattermapbox\":[{\"type\":\"scattermapbox\",\"marker\":{\"colorbar\":{\"outlinewidth\":0,\"ticks\":\"\"}}}],\"scatterternary\":[{\"type\":\"scatterternary\",\"marker\":{\"colorbar\":{\"outlinewidth\":0,\"ticks\":\"\"}}}],\"scattercarpet\":[{\"type\":\"scattercarpet\",\"marker\":{\"colorbar\":{\"outlinewidth\":0,\"ticks\":\"\"}}}],\"carpet\":[{\"aaxis\":{\"endlinecolor\":\"#2a3f5f\",\"gridcolor\":\"white\",\"linecolor\":\"white\",\"minorgridcolor\":\"white\",\"startlinecolor\":\"#2a3f5f\"},\"baxis\":{\"endlinecolor\":\"#2a3f5f\",\"gridcolor\":\"white\",\"linecolor\":\"white\",\"minorgridcolor\":\"white\",\"startlinecolor\":\"#2a3f5f\"},\"type\":\"carpet\"}],\"table\":[{\"cells\":{\"fill\":{\"color\":\"#EBF0F8\"},\"line\":{\"color\":\"white\"}},\"header\":{\"fill\":{\"color\":\"#C8D4E3\"},\"line\":{\"color\":\"white\"}},\"type\":\"table\"}],\"barpolar\":[{\"marker\":{\"line\":{\"color\":\"#E5ECF6\",\"width\":0.5},\"pattern\":{\"fillmode\":\"overlay\",\"size\":10,\"solidity\":0.2}},\"type\":\"barpolar\"}],\"pie\":[{\"automargin\":true,\"type\":\"pie\"}]},\"layout\":{\"autotypenumbers\":\"strict\",\"colorway\":[\"#636efa\",\"#EF553B\",\"#00cc96\",\"#ab63fa\",\"#FFA15A\",\"#19d3f3\",\"#FF6692\",\"#B6E880\",\"#FF97FF\",\"#FECB52\"],\"font\":{\"color\":\"#2a3f5f\"},\"hovermode\":\"closest\",\"hoverlabel\":{\"align\":\"left\"},\"paper_bgcolor\":\"white\",\"plot_bgcolor\":\"#E5ECF6\",\"polar\":{\"bgcolor\":\"#E5ECF6\",\"angularaxis\":{\"gridcolor\":\"white\",\"linecolor\":\"white\",\"ticks\":\"\"},\"radialaxis\":{\"gridcolor\":\"white\",\"linecolor\":\"white\",\"ticks\":\"\"}},\"ternary\":{\"bgcolor\":\"#E5ECF6\",\"aaxis\":{\"gridcolor\":\"white\",\"linecolor\":\"white\",\"ticks\":\"\"},\"baxis\":{\"gridcolor\":\"white\",\"linecolor\":\"white\",\"ticks\":\"\"},\"caxis\":{\"gridcolor\":\"white\",\"linecolor\":\"white\",\"ticks\":\"\"}},\"coloraxis\":{\"colorbar\":{\"outlinewidth\":0,\"ticks\":\"\"}},\"colorscale\":{\"sequential\":[[0.0,\"#0d0887\"],[0.1111111111111111,\"#46039f\"],[0.2222222222222222,\"#7201a8\"],[0.3333333333333333,\"#9c179e\"],[0.4444444444444444,\"#bd3786\"],[0.5555555555555556,\"#d8576b\"],[0.6666666666666666,\"#ed7953\"],[0.7777777777777778,\"#fb9f3a\"],[0.8888888888888888,\"#fdca26\"],[1.0,\"#f0f921\"]],\"sequentialminus\":[[0.0,\"#0d0887\"],[0.1111111111111111,\"#46039f\"],[0.2222222222222222,\"#7201a8\"],[0.3333333333333333,\"#9c179e\"],[0.4444444444444444,\"#bd3786\"],[0.5555555555555556,\"#d8576b\"],[0.6666666666666666,\"#ed7953\"],[0.7777777777777778,\"#fb9f3a\"],[0.8888888888888888,\"#fdca26\"],[1.0,\"#f0f921\"]],\"diverging\":[[0,\"#8e0152\"],[0.1,\"#c51b7d\"],[0.2,\"#de77ae\"],[0.3,\"#f1b6da\"],[0.4,\"#fde0ef\"],[0.5,\"#f7f7f7\"],[0.6,\"#e6f5d0\"],[0.7,\"#b8e186\"],[0.8,\"#7fbc41\"],[0.9,\"#4d9221\"],[1,\"#276419\"]]},\"xaxis\":{\"gridcolor\":\"white\",\"linecolor\":\"white\",\"ticks\":\"\",\"title\":{\"standoff\":15},\"zerolinecolor\":\"white\",\"automargin\":true,\"zerolinewidth\":2},\"yaxis\":{\"gridcolor\":\"white\",\"linecolor\":\"white\",\"ticks\":\"\",\"title\":{\"standoff\":15},\"zerolinecolor\":\"white\",\"automargin\":true,\"zerolinewidth\":2},\"scene\":{\"xaxis\":{\"backgroundcolor\":\"#E5ECF6\",\"gridcolor\":\"white\",\"linecolor\":\"white\",\"showbackground\":true,\"ticks\":\"\",\"zerolinecolor\":\"white\",\"gridwidth\":2},\"yaxis\":{\"backgroundcolor\":\"#E5ECF6\",\"gridcolor\":\"white\",\"linecolor\":\"white\",\"showbackground\":true,\"ticks\":\"\",\"zerolinecolor\":\"white\",\"gridwidth\":2},\"zaxis\":{\"backgroundcolor\":\"#E5ECF6\",\"gridcolor\":\"white\",\"linecolor\":\"white\",\"showbackground\":true,\"ticks\":\"\",\"zerolinecolor\":\"white\",\"gridwidth\":2}},\"shapedefaults\":{\"line\":{\"color\":\"#2a3f5f\"}},\"annotationdefaults\":{\"arrowcolor\":\"#2a3f5f\",\"arrowhead\":0,\"arrowwidth\":1},\"geo\":{\"bgcolor\":\"white\",\"landcolor\":\"#E5ECF6\",\"subunitcolor\":\"white\",\"showland\":true,\"showlakes\":true,\"lakecolor\":\"white\"},\"title\":{\"x\":0.05},\"mapbox\":{\"style\":\"light\"}}}},                        {\"responsive\": true}                    ).then(function(){\n",
       "                            \n",
       "var gd = document.getElementById('681bd214-10f6-4d35-be96-f6d18f53fbf3');\n",
       "var x = new MutationObserver(function (mutations, observer) {{\n",
       "        var display = window.getComputedStyle(gd).display;\n",
       "        if (!display || display === 'none') {{\n",
       "            console.log([gd, 'removed!']);\n",
       "            Plotly.purge(gd);\n",
       "            observer.disconnect();\n",
       "        }}\n",
       "}});\n",
       "\n",
       "// Listen for the removal of the full notebook cells\n",
       "var notebookContainer = gd.closest('#notebook-container');\n",
       "if (notebookContainer) {{\n",
       "    x.observe(notebookContainer, {childList: true});\n",
       "}}\n",
       "\n",
       "// Listen for the clearing of the current output cell\n",
       "var outputEl = gd.closest('.output');\n",
       "if (outputEl) {{\n",
       "    x.observe(outputEl, {childList: true});\n",
       "}}\n",
       "\n",
       "                        })                };                });            </script>        </div>"
      ]
     },
     "metadata": {},
     "output_type": "display_data"
    }
   ],
   "source": [
    "#fig = dict(data=plot_data, layout=layout)\n",
    "fig = go.Figure(data=plot_data, layout=layout)\n",
    "fig.show()"
   ]
  },
  {
   "cell_type": "code",
   "execution_count": null,
   "id": "32ac0839",
   "metadata": {},
   "outputs": [],
   "source": []
  },
  {
   "cell_type": "code",
   "execution_count": null,
   "id": "f6200417",
   "metadata": {},
   "outputs": [],
   "source": []
  },
  {
   "cell_type": "code",
   "execution_count": null,
   "id": "bfb9f7bc",
   "metadata": {},
   "outputs": [],
   "source": []
  },
  {
   "cell_type": "code",
   "execution_count": 10,
   "id": "884394b1",
   "metadata": {},
   "outputs": [
    {
     "data": {
      "application/vnd.plotly.v1+json": {
       "config": {
        "plotlyServerURL": "https://plot.ly"
       },
       "data": [
        {
         "line": {
          "color": "red",
          "width": 2
         },
         "mode": "lines",
         "type": "scatter",
         "x": [
          0,
          1,
          2,
          3,
          4,
          5,
          6
         ],
         "y": [
          8,
          10,
          2,
          9,
          5,
          10,
          4
         ]
        }
       ],
       "layout": {
        "height": 400,
        "images": [
         {
          "layer": "below",
          "sizex": 1,
          "sizey": 1,
          "sizing": "stretch",
          "source": "AgeGenderDoB.png",
          "x": 0,
          "xanchor": "left",
          "xref": "paper",
          "y": 1,
          "yanchor": "top",
          "yref": "paper"
         }
        ],
        "template": {
         "data": {
          "bar": [
           {
            "error_x": {
             "color": "#2a3f5f"
            },
            "error_y": {
             "color": "#2a3f5f"
            },
            "marker": {
             "line": {
              "color": "white",
              "width": 0.5
             },
             "pattern": {
              "fillmode": "overlay",
              "size": 10,
              "solidity": 0.2
             }
            },
            "type": "bar"
           }
          ],
          "barpolar": [
           {
            "marker": {
             "line": {
              "color": "white",
              "width": 0.5
             },
             "pattern": {
              "fillmode": "overlay",
              "size": 10,
              "solidity": 0.2
             }
            },
            "type": "barpolar"
           }
          ],
          "carpet": [
           {
            "aaxis": {
             "endlinecolor": "#2a3f5f",
             "gridcolor": "#C8D4E3",
             "linecolor": "#C8D4E3",
             "minorgridcolor": "#C8D4E3",
             "startlinecolor": "#2a3f5f"
            },
            "baxis": {
             "endlinecolor": "#2a3f5f",
             "gridcolor": "#C8D4E3",
             "linecolor": "#C8D4E3",
             "minorgridcolor": "#C8D4E3",
             "startlinecolor": "#2a3f5f"
            },
            "type": "carpet"
           }
          ],
          "choropleth": [
           {
            "colorbar": {
             "outlinewidth": 0,
             "ticks": ""
            },
            "type": "choropleth"
           }
          ],
          "contour": [
           {
            "colorbar": {
             "outlinewidth": 0,
             "ticks": ""
            },
            "colorscale": [
             [
              0,
              "#0d0887"
             ],
             [
              0.1111111111111111,
              "#46039f"
             ],
             [
              0.2222222222222222,
              "#7201a8"
             ],
             [
              0.3333333333333333,
              "#9c179e"
             ],
             [
              0.4444444444444444,
              "#bd3786"
             ],
             [
              0.5555555555555556,
              "#d8576b"
             ],
             [
              0.6666666666666666,
              "#ed7953"
             ],
             [
              0.7777777777777778,
              "#fb9f3a"
             ],
             [
              0.8888888888888888,
              "#fdca26"
             ],
             [
              1,
              "#f0f921"
             ]
            ],
            "type": "contour"
           }
          ],
          "contourcarpet": [
           {
            "colorbar": {
             "outlinewidth": 0,
             "ticks": ""
            },
            "type": "contourcarpet"
           }
          ],
          "heatmap": [
           {
            "colorbar": {
             "outlinewidth": 0,
             "ticks": ""
            },
            "colorscale": [
             [
              0,
              "#0d0887"
             ],
             [
              0.1111111111111111,
              "#46039f"
             ],
             [
              0.2222222222222222,
              "#7201a8"
             ],
             [
              0.3333333333333333,
              "#9c179e"
             ],
             [
              0.4444444444444444,
              "#bd3786"
             ],
             [
              0.5555555555555556,
              "#d8576b"
             ],
             [
              0.6666666666666666,
              "#ed7953"
             ],
             [
              0.7777777777777778,
              "#fb9f3a"
             ],
             [
              0.8888888888888888,
              "#fdca26"
             ],
             [
              1,
              "#f0f921"
             ]
            ],
            "type": "heatmap"
           }
          ],
          "heatmapgl": [
           {
            "colorbar": {
             "outlinewidth": 0,
             "ticks": ""
            },
            "colorscale": [
             [
              0,
              "#0d0887"
             ],
             [
              0.1111111111111111,
              "#46039f"
             ],
             [
              0.2222222222222222,
              "#7201a8"
             ],
             [
              0.3333333333333333,
              "#9c179e"
             ],
             [
              0.4444444444444444,
              "#bd3786"
             ],
             [
              0.5555555555555556,
              "#d8576b"
             ],
             [
              0.6666666666666666,
              "#ed7953"
             ],
             [
              0.7777777777777778,
              "#fb9f3a"
             ],
             [
              0.8888888888888888,
              "#fdca26"
             ],
             [
              1,
              "#f0f921"
             ]
            ],
            "type": "heatmapgl"
           }
          ],
          "histogram": [
           {
            "marker": {
             "pattern": {
              "fillmode": "overlay",
              "size": 10,
              "solidity": 0.2
             }
            },
            "type": "histogram"
           }
          ],
          "histogram2d": [
           {
            "colorbar": {
             "outlinewidth": 0,
             "ticks": ""
            },
            "colorscale": [
             [
              0,
              "#0d0887"
             ],
             [
              0.1111111111111111,
              "#46039f"
             ],
             [
              0.2222222222222222,
              "#7201a8"
             ],
             [
              0.3333333333333333,
              "#9c179e"
             ],
             [
              0.4444444444444444,
              "#bd3786"
             ],
             [
              0.5555555555555556,
              "#d8576b"
             ],
             [
              0.6666666666666666,
              "#ed7953"
             ],
             [
              0.7777777777777778,
              "#fb9f3a"
             ],
             [
              0.8888888888888888,
              "#fdca26"
             ],
             [
              1,
              "#f0f921"
             ]
            ],
            "type": "histogram2d"
           }
          ],
          "histogram2dcontour": [
           {
            "colorbar": {
             "outlinewidth": 0,
             "ticks": ""
            },
            "colorscale": [
             [
              0,
              "#0d0887"
             ],
             [
              0.1111111111111111,
              "#46039f"
             ],
             [
              0.2222222222222222,
              "#7201a8"
             ],
             [
              0.3333333333333333,
              "#9c179e"
             ],
             [
              0.4444444444444444,
              "#bd3786"
             ],
             [
              0.5555555555555556,
              "#d8576b"
             ],
             [
              0.6666666666666666,
              "#ed7953"
             ],
             [
              0.7777777777777778,
              "#fb9f3a"
             ],
             [
              0.8888888888888888,
              "#fdca26"
             ],
             [
              1,
              "#f0f921"
             ]
            ],
            "type": "histogram2dcontour"
           }
          ],
          "mesh3d": [
           {
            "colorbar": {
             "outlinewidth": 0,
             "ticks": ""
            },
            "type": "mesh3d"
           }
          ],
          "parcoords": [
           {
            "line": {
             "colorbar": {
              "outlinewidth": 0,
              "ticks": ""
             }
            },
            "type": "parcoords"
           }
          ],
          "pie": [
           {
            "automargin": true,
            "type": "pie"
           }
          ],
          "scatter": [
           {
            "fillpattern": {
             "fillmode": "overlay",
             "size": 10,
             "solidity": 0.2
            },
            "type": "scatter"
           }
          ],
          "scatter3d": [
           {
            "line": {
             "colorbar": {
              "outlinewidth": 0,
              "ticks": ""
             }
            },
            "marker": {
             "colorbar": {
              "outlinewidth": 0,
              "ticks": ""
             }
            },
            "type": "scatter3d"
           }
          ],
          "scattercarpet": [
           {
            "marker": {
             "colorbar": {
              "outlinewidth": 0,
              "ticks": ""
             }
            },
            "type": "scattercarpet"
           }
          ],
          "scattergeo": [
           {
            "marker": {
             "colorbar": {
              "outlinewidth": 0,
              "ticks": ""
             }
            },
            "type": "scattergeo"
           }
          ],
          "scattergl": [
           {
            "marker": {
             "colorbar": {
              "outlinewidth": 0,
              "ticks": ""
             }
            },
            "type": "scattergl"
           }
          ],
          "scattermapbox": [
           {
            "marker": {
             "colorbar": {
              "outlinewidth": 0,
              "ticks": ""
             }
            },
            "type": "scattermapbox"
           }
          ],
          "scatterpolar": [
           {
            "marker": {
             "colorbar": {
              "outlinewidth": 0,
              "ticks": ""
             }
            },
            "type": "scatterpolar"
           }
          ],
          "scatterpolargl": [
           {
            "marker": {
             "colorbar": {
              "outlinewidth": 0,
              "ticks": ""
             }
            },
            "type": "scatterpolargl"
           }
          ],
          "scatterternary": [
           {
            "marker": {
             "colorbar": {
              "outlinewidth": 0,
              "ticks": ""
             }
            },
            "type": "scatterternary"
           }
          ],
          "surface": [
           {
            "colorbar": {
             "outlinewidth": 0,
             "ticks": ""
            },
            "colorscale": [
             [
              0,
              "#0d0887"
             ],
             [
              0.1111111111111111,
              "#46039f"
             ],
             [
              0.2222222222222222,
              "#7201a8"
             ],
             [
              0.3333333333333333,
              "#9c179e"
             ],
             [
              0.4444444444444444,
              "#bd3786"
             ],
             [
              0.5555555555555556,
              "#d8576b"
             ],
             [
              0.6666666666666666,
              "#ed7953"
             ],
             [
              0.7777777777777778,
              "#fb9f3a"
             ],
             [
              0.8888888888888888,
              "#fdca26"
             ],
             [
              1,
              "#f0f921"
             ]
            ],
            "type": "surface"
           }
          ],
          "table": [
           {
            "cells": {
             "fill": {
              "color": "#EBF0F8"
             },
             "line": {
              "color": "white"
             }
            },
            "header": {
             "fill": {
              "color": "#C8D4E3"
             },
             "line": {
              "color": "white"
             }
            },
            "type": "table"
           }
          ]
         },
         "layout": {
          "annotationdefaults": {
           "arrowcolor": "#2a3f5f",
           "arrowhead": 0,
           "arrowwidth": 1
          },
          "autotypenumbers": "strict",
          "coloraxis": {
           "colorbar": {
            "outlinewidth": 0,
            "ticks": ""
           }
          },
          "colorscale": {
           "diverging": [
            [
             0,
             "#8e0152"
            ],
            [
             0.1,
             "#c51b7d"
            ],
            [
             0.2,
             "#de77ae"
            ],
            [
             0.3,
             "#f1b6da"
            ],
            [
             0.4,
             "#fde0ef"
            ],
            [
             0.5,
             "#f7f7f7"
            ],
            [
             0.6,
             "#e6f5d0"
            ],
            [
             0.7,
             "#b8e186"
            ],
            [
             0.8,
             "#7fbc41"
            ],
            [
             0.9,
             "#4d9221"
            ],
            [
             1,
             "#276419"
            ]
           ],
           "sequential": [
            [
             0,
             "#0d0887"
            ],
            [
             0.1111111111111111,
             "#46039f"
            ],
            [
             0.2222222222222222,
             "#7201a8"
            ],
            [
             0.3333333333333333,
             "#9c179e"
            ],
            [
             0.4444444444444444,
             "#bd3786"
            ],
            [
             0.5555555555555556,
             "#d8576b"
            ],
            [
             0.6666666666666666,
             "#ed7953"
            ],
            [
             0.7777777777777778,
             "#fb9f3a"
            ],
            [
             0.8888888888888888,
             "#fdca26"
            ],
            [
             1,
             "#f0f921"
            ]
           ],
           "sequentialminus": [
            [
             0,
             "#0d0887"
            ],
            [
             0.1111111111111111,
             "#46039f"
            ],
            [
             0.2222222222222222,
             "#7201a8"
            ],
            [
             0.3333333333333333,
             "#9c179e"
            ],
            [
             0.4444444444444444,
             "#bd3786"
            ],
            [
             0.5555555555555556,
             "#d8576b"
            ],
            [
             0.6666666666666666,
             "#ed7953"
            ],
            [
             0.7777777777777778,
             "#fb9f3a"
            ],
            [
             0.8888888888888888,
             "#fdca26"
            ],
            [
             1,
             "#f0f921"
            ]
           ]
          },
          "colorway": [
           "#636efa",
           "#EF553B",
           "#00cc96",
           "#ab63fa",
           "#FFA15A",
           "#19d3f3",
           "#FF6692",
           "#B6E880",
           "#FF97FF",
           "#FECB52"
          ],
          "font": {
           "color": "#2a3f5f"
          },
          "geo": {
           "bgcolor": "white",
           "lakecolor": "white",
           "landcolor": "white",
           "showlakes": true,
           "showland": true,
           "subunitcolor": "#C8D4E3"
          },
          "hoverlabel": {
           "align": "left"
          },
          "hovermode": "closest",
          "mapbox": {
           "style": "light"
          },
          "paper_bgcolor": "white",
          "plot_bgcolor": "white",
          "polar": {
           "angularaxis": {
            "gridcolor": "#EBF0F8",
            "linecolor": "#EBF0F8",
            "ticks": ""
           },
           "bgcolor": "white",
           "radialaxis": {
            "gridcolor": "#EBF0F8",
            "linecolor": "#EBF0F8",
            "ticks": ""
           }
          },
          "scene": {
           "xaxis": {
            "backgroundcolor": "white",
            "gridcolor": "#DFE8F3",
            "gridwidth": 2,
            "linecolor": "#EBF0F8",
            "showbackground": true,
            "ticks": "",
            "zerolinecolor": "#EBF0F8"
           },
           "yaxis": {
            "backgroundcolor": "white",
            "gridcolor": "#DFE8F3",
            "gridwidth": 2,
            "linecolor": "#EBF0F8",
            "showbackground": true,
            "ticks": "",
            "zerolinecolor": "#EBF0F8"
           },
           "zaxis": {
            "backgroundcolor": "white",
            "gridcolor": "#DFE8F3",
            "gridwidth": 2,
            "linecolor": "#EBF0F8",
            "showbackground": true,
            "ticks": "",
            "zerolinecolor": "#EBF0F8"
           }
          },
          "shapedefaults": {
           "line": {
            "color": "#2a3f5f"
           }
          },
          "ternary": {
           "aaxis": {
            "gridcolor": "#DFE8F3",
            "linecolor": "#A2B1C6",
            "ticks": ""
           },
           "baxis": {
            "gridcolor": "#DFE8F3",
            "linecolor": "#A2B1C6",
            "ticks": ""
           },
           "bgcolor": "white",
           "caxis": {
            "gridcolor": "#DFE8F3",
            "linecolor": "#A2B1C6",
            "ticks": ""
           }
          },
          "title": {
           "x": 0.05
          },
          "xaxis": {
           "automargin": true,
           "gridcolor": "#EBF0F8",
           "linecolor": "#EBF0F8",
           "ticks": "",
           "title": {
            "standoff": 15
           },
           "zerolinecolor": "#EBF0F8",
           "zerolinewidth": 2
          },
          "yaxis": {
           "automargin": true,
           "gridcolor": "#EBF0F8",
           "linecolor": "#EBF0F8",
           "ticks": "",
           "title": {
            "standoff": 15
           },
           "zerolinecolor": "#EBF0F8",
           "zerolinewidth": 2
          }
         }
        },
        "width": 400,
        "xaxis": {
         "showgrid": false
        },
        "yaxis": {
         "showgrid": false
        }
       }
      },
      "text/html": [
       "<div>                            <div id=\"ae132c99-50a5-4f42-a237-a7233515b794\" class=\"plotly-graph-div\" style=\"height:400px; width:400px;\"></div>            <script type=\"text/javascript\">                require([\"plotly\"], function(Plotly) {                    window.PLOTLYENV=window.PLOTLYENV || {};                                    if (document.getElementById(\"ae132c99-50a5-4f42-a237-a7233515b794\")) {                    Plotly.newPlot(                        \"ae132c99-50a5-4f42-a237-a7233515b794\",                        [{\"line\":{\"color\":\"red\",\"width\":2},\"mode\":\"lines\",\"x\":[0,1,2,3,4,5,6],\"y\":[8,10,2,9,5,10,4],\"type\":\"scatter\"}],                        {\"template\":{\"data\":{\"barpolar\":[{\"marker\":{\"line\":{\"color\":\"white\",\"width\":0.5},\"pattern\":{\"fillmode\":\"overlay\",\"size\":10,\"solidity\":0.2}},\"type\":\"barpolar\"}],\"bar\":[{\"error_x\":{\"color\":\"#2a3f5f\"},\"error_y\":{\"color\":\"#2a3f5f\"},\"marker\":{\"line\":{\"color\":\"white\",\"width\":0.5},\"pattern\":{\"fillmode\":\"overlay\",\"size\":10,\"solidity\":0.2}},\"type\":\"bar\"}],\"carpet\":[{\"aaxis\":{\"endlinecolor\":\"#2a3f5f\",\"gridcolor\":\"#C8D4E3\",\"linecolor\":\"#C8D4E3\",\"minorgridcolor\":\"#C8D4E3\",\"startlinecolor\":\"#2a3f5f\"},\"baxis\":{\"endlinecolor\":\"#2a3f5f\",\"gridcolor\":\"#C8D4E3\",\"linecolor\":\"#C8D4E3\",\"minorgridcolor\":\"#C8D4E3\",\"startlinecolor\":\"#2a3f5f\"},\"type\":\"carpet\"}],\"choropleth\":[{\"colorbar\":{\"outlinewidth\":0,\"ticks\":\"\"},\"type\":\"choropleth\"}],\"contourcarpet\":[{\"colorbar\":{\"outlinewidth\":0,\"ticks\":\"\"},\"type\":\"contourcarpet\"}],\"contour\":[{\"colorbar\":{\"outlinewidth\":0,\"ticks\":\"\"},\"colorscale\":[[0.0,\"#0d0887\"],[0.1111111111111111,\"#46039f\"],[0.2222222222222222,\"#7201a8\"],[0.3333333333333333,\"#9c179e\"],[0.4444444444444444,\"#bd3786\"],[0.5555555555555556,\"#d8576b\"],[0.6666666666666666,\"#ed7953\"],[0.7777777777777778,\"#fb9f3a\"],[0.8888888888888888,\"#fdca26\"],[1.0,\"#f0f921\"]],\"type\":\"contour\"}],\"heatmapgl\":[{\"colorbar\":{\"outlinewidth\":0,\"ticks\":\"\"},\"colorscale\":[[0.0,\"#0d0887\"],[0.1111111111111111,\"#46039f\"],[0.2222222222222222,\"#7201a8\"],[0.3333333333333333,\"#9c179e\"],[0.4444444444444444,\"#bd3786\"],[0.5555555555555556,\"#d8576b\"],[0.6666666666666666,\"#ed7953\"],[0.7777777777777778,\"#fb9f3a\"],[0.8888888888888888,\"#fdca26\"],[1.0,\"#f0f921\"]],\"type\":\"heatmapgl\"}],\"heatmap\":[{\"colorbar\":{\"outlinewidth\":0,\"ticks\":\"\"},\"colorscale\":[[0.0,\"#0d0887\"],[0.1111111111111111,\"#46039f\"],[0.2222222222222222,\"#7201a8\"],[0.3333333333333333,\"#9c179e\"],[0.4444444444444444,\"#bd3786\"],[0.5555555555555556,\"#d8576b\"],[0.6666666666666666,\"#ed7953\"],[0.7777777777777778,\"#fb9f3a\"],[0.8888888888888888,\"#fdca26\"],[1.0,\"#f0f921\"]],\"type\":\"heatmap\"}],\"histogram2dcontour\":[{\"colorbar\":{\"outlinewidth\":0,\"ticks\":\"\"},\"colorscale\":[[0.0,\"#0d0887\"],[0.1111111111111111,\"#46039f\"],[0.2222222222222222,\"#7201a8\"],[0.3333333333333333,\"#9c179e\"],[0.4444444444444444,\"#bd3786\"],[0.5555555555555556,\"#d8576b\"],[0.6666666666666666,\"#ed7953\"],[0.7777777777777778,\"#fb9f3a\"],[0.8888888888888888,\"#fdca26\"],[1.0,\"#f0f921\"]],\"type\":\"histogram2dcontour\"}],\"histogram2d\":[{\"colorbar\":{\"outlinewidth\":0,\"ticks\":\"\"},\"colorscale\":[[0.0,\"#0d0887\"],[0.1111111111111111,\"#46039f\"],[0.2222222222222222,\"#7201a8\"],[0.3333333333333333,\"#9c179e\"],[0.4444444444444444,\"#bd3786\"],[0.5555555555555556,\"#d8576b\"],[0.6666666666666666,\"#ed7953\"],[0.7777777777777778,\"#fb9f3a\"],[0.8888888888888888,\"#fdca26\"],[1.0,\"#f0f921\"]],\"type\":\"histogram2d\"}],\"histogram\":[{\"marker\":{\"pattern\":{\"fillmode\":\"overlay\",\"size\":10,\"solidity\":0.2}},\"type\":\"histogram\"}],\"mesh3d\":[{\"colorbar\":{\"outlinewidth\":0,\"ticks\":\"\"},\"type\":\"mesh3d\"}],\"parcoords\":[{\"line\":{\"colorbar\":{\"outlinewidth\":0,\"ticks\":\"\"}},\"type\":\"parcoords\"}],\"pie\":[{\"automargin\":true,\"type\":\"pie\"}],\"scatter3d\":[{\"line\":{\"colorbar\":{\"outlinewidth\":0,\"ticks\":\"\"}},\"marker\":{\"colorbar\":{\"outlinewidth\":0,\"ticks\":\"\"}},\"type\":\"scatter3d\"}],\"scattercarpet\":[{\"marker\":{\"colorbar\":{\"outlinewidth\":0,\"ticks\":\"\"}},\"type\":\"scattercarpet\"}],\"scattergeo\":[{\"marker\":{\"colorbar\":{\"outlinewidth\":0,\"ticks\":\"\"}},\"type\":\"scattergeo\"}],\"scattergl\":[{\"marker\":{\"colorbar\":{\"outlinewidth\":0,\"ticks\":\"\"}},\"type\":\"scattergl\"}],\"scattermapbox\":[{\"marker\":{\"colorbar\":{\"outlinewidth\":0,\"ticks\":\"\"}},\"type\":\"scattermapbox\"}],\"scatterpolargl\":[{\"marker\":{\"colorbar\":{\"outlinewidth\":0,\"ticks\":\"\"}},\"type\":\"scatterpolargl\"}],\"scatterpolar\":[{\"marker\":{\"colorbar\":{\"outlinewidth\":0,\"ticks\":\"\"}},\"type\":\"scatterpolar\"}],\"scatter\":[{\"fillpattern\":{\"fillmode\":\"overlay\",\"size\":10,\"solidity\":0.2},\"type\":\"scatter\"}],\"scatterternary\":[{\"marker\":{\"colorbar\":{\"outlinewidth\":0,\"ticks\":\"\"}},\"type\":\"scatterternary\"}],\"surface\":[{\"colorbar\":{\"outlinewidth\":0,\"ticks\":\"\"},\"colorscale\":[[0.0,\"#0d0887\"],[0.1111111111111111,\"#46039f\"],[0.2222222222222222,\"#7201a8\"],[0.3333333333333333,\"#9c179e\"],[0.4444444444444444,\"#bd3786\"],[0.5555555555555556,\"#d8576b\"],[0.6666666666666666,\"#ed7953\"],[0.7777777777777778,\"#fb9f3a\"],[0.8888888888888888,\"#fdca26\"],[1.0,\"#f0f921\"]],\"type\":\"surface\"}],\"table\":[{\"cells\":{\"fill\":{\"color\":\"#EBF0F8\"},\"line\":{\"color\":\"white\"}},\"header\":{\"fill\":{\"color\":\"#C8D4E3\"},\"line\":{\"color\":\"white\"}},\"type\":\"table\"}]},\"layout\":{\"annotationdefaults\":{\"arrowcolor\":\"#2a3f5f\",\"arrowhead\":0,\"arrowwidth\":1},\"autotypenumbers\":\"strict\",\"coloraxis\":{\"colorbar\":{\"outlinewidth\":0,\"ticks\":\"\"}},\"colorscale\":{\"diverging\":[[0,\"#8e0152\"],[0.1,\"#c51b7d\"],[0.2,\"#de77ae\"],[0.3,\"#f1b6da\"],[0.4,\"#fde0ef\"],[0.5,\"#f7f7f7\"],[0.6,\"#e6f5d0\"],[0.7,\"#b8e186\"],[0.8,\"#7fbc41\"],[0.9,\"#4d9221\"],[1,\"#276419\"]],\"sequential\":[[0.0,\"#0d0887\"],[0.1111111111111111,\"#46039f\"],[0.2222222222222222,\"#7201a8\"],[0.3333333333333333,\"#9c179e\"],[0.4444444444444444,\"#bd3786\"],[0.5555555555555556,\"#d8576b\"],[0.6666666666666666,\"#ed7953\"],[0.7777777777777778,\"#fb9f3a\"],[0.8888888888888888,\"#fdca26\"],[1.0,\"#f0f921\"]],\"sequentialminus\":[[0.0,\"#0d0887\"],[0.1111111111111111,\"#46039f\"],[0.2222222222222222,\"#7201a8\"],[0.3333333333333333,\"#9c179e\"],[0.4444444444444444,\"#bd3786\"],[0.5555555555555556,\"#d8576b\"],[0.6666666666666666,\"#ed7953\"],[0.7777777777777778,\"#fb9f3a\"],[0.8888888888888888,\"#fdca26\"],[1.0,\"#f0f921\"]]},\"colorway\":[\"#636efa\",\"#EF553B\",\"#00cc96\",\"#ab63fa\",\"#FFA15A\",\"#19d3f3\",\"#FF6692\",\"#B6E880\",\"#FF97FF\",\"#FECB52\"],\"font\":{\"color\":\"#2a3f5f\"},\"geo\":{\"bgcolor\":\"white\",\"lakecolor\":\"white\",\"landcolor\":\"white\",\"showlakes\":true,\"showland\":true,\"subunitcolor\":\"#C8D4E3\"},\"hoverlabel\":{\"align\":\"left\"},\"hovermode\":\"closest\",\"mapbox\":{\"style\":\"light\"},\"paper_bgcolor\":\"white\",\"plot_bgcolor\":\"white\",\"polar\":{\"angularaxis\":{\"gridcolor\":\"#EBF0F8\",\"linecolor\":\"#EBF0F8\",\"ticks\":\"\"},\"bgcolor\":\"white\",\"radialaxis\":{\"gridcolor\":\"#EBF0F8\",\"linecolor\":\"#EBF0F8\",\"ticks\":\"\"}},\"scene\":{\"xaxis\":{\"backgroundcolor\":\"white\",\"gridcolor\":\"#DFE8F3\",\"gridwidth\":2,\"linecolor\":\"#EBF0F8\",\"showbackground\":true,\"ticks\":\"\",\"zerolinecolor\":\"#EBF0F8\"},\"yaxis\":{\"backgroundcolor\":\"white\",\"gridcolor\":\"#DFE8F3\",\"gridwidth\":2,\"linecolor\":\"#EBF0F8\",\"showbackground\":true,\"ticks\":\"\",\"zerolinecolor\":\"#EBF0F8\"},\"zaxis\":{\"backgroundcolor\":\"white\",\"gridcolor\":\"#DFE8F3\",\"gridwidth\":2,\"linecolor\":\"#EBF0F8\",\"showbackground\":true,\"ticks\":\"\",\"zerolinecolor\":\"#EBF0F8\"}},\"shapedefaults\":{\"line\":{\"color\":\"#2a3f5f\"}},\"ternary\":{\"aaxis\":{\"gridcolor\":\"#DFE8F3\",\"linecolor\":\"#A2B1C6\",\"ticks\":\"\"},\"baxis\":{\"gridcolor\":\"#DFE8F3\",\"linecolor\":\"#A2B1C6\",\"ticks\":\"\"},\"bgcolor\":\"white\",\"caxis\":{\"gridcolor\":\"#DFE8F3\",\"linecolor\":\"#A2B1C6\",\"ticks\":\"\"}},\"title\":{\"x\":0.05},\"xaxis\":{\"automargin\":true,\"gridcolor\":\"#EBF0F8\",\"linecolor\":\"#EBF0F8\",\"ticks\":\"\",\"title\":{\"standoff\":15},\"zerolinecolor\":\"#EBF0F8\",\"zerolinewidth\":2},\"yaxis\":{\"automargin\":true,\"gridcolor\":\"#EBF0F8\",\"linecolor\":\"#EBF0F8\",\"ticks\":\"\",\"title\":{\"standoff\":15},\"zerolinecolor\":\"#EBF0F8\",\"zerolinewidth\":2}}},\"xaxis\":{\"showgrid\":false},\"yaxis\":{\"showgrid\":false},\"width\":400,\"height\":400,\"images\":[{\"layer\":\"below\",\"sizex\":1.0,\"sizey\":1.0,\"sizing\":\"stretch\",\"source\":\"AgeGenderDoB.png\",\"x\":0,\"xanchor\":\"left\",\"xref\":\"paper\",\"y\":1,\"yanchor\":\"top\",\"yref\":\"paper\"}]},                        {\"responsive\": true}                    ).then(function(){\n",
       "                            \n",
       "var gd = document.getElementById('ae132c99-50a5-4f42-a237-a7233515b794');\n",
       "var x = new MutationObserver(function (mutations, observer) {{\n",
       "        var display = window.getComputedStyle(gd).display;\n",
       "        if (!display || display === 'none') {{\n",
       "            console.log([gd, 'removed!']);\n",
       "            Plotly.purge(gd);\n",
       "            observer.disconnect();\n",
       "        }}\n",
       "}});\n",
       "\n",
       "// Listen for the removal of the full notebook cells\n",
       "var notebookContainer = gd.closest('#notebook-container');\n",
       "if (notebookContainer) {{\n",
       "    x.observe(notebookContainer, {childList: true});\n",
       "}}\n",
       "\n",
       "// Listen for the clearing of the current output cell\n",
       "var outputEl = gd.closest('.output');\n",
       "if (outputEl) {{\n",
       "    x.observe(outputEl, {childList: true});\n",
       "}}\n",
       "\n",
       "                        })                };                });            </script>        </div>"
      ]
     },
     "metadata": {},
     "output_type": "display_data"
    }
   ],
   "source": [
    "import plotly.graph_objects as go\n",
    "import numpy as np\n",
    "\n",
    "source='AgeGenderDoB.png'\n",
    "\n",
    "fig=go.Figure()\n",
    "fig.add_scatter(x=np.arange(0, 7), y=np.random.randint(2, 13, 7), \n",
    "                mode=\"lines\", line_color=\"red\", line_width=2)\n",
    "fig.update_layout(template=\"plotly_white\", width=400, height=400,\n",
    "                 xaxis_showgrid=False, yaxis_showgrid=False)\n",
    "fig.add_layout_image(\n",
    "        source=source,\n",
    "        xref=\"paper\",\n",
    "        yref=\"paper\",\n",
    "        x=0,\n",
    "        y=1,\n",
    "        xanchor=\"left\",\n",
    "        yanchor=\"top\",\n",
    "        layer=\"below\",\n",
    "        sizing=\"stretch\",\n",
    "        sizex=1.0,\n",
    "        sizey=1.0\n",
    "    )"
   ]
  },
  {
   "cell_type": "code",
   "execution_count": 11,
   "id": "f642086c",
   "metadata": {},
   "outputs": [
    {
     "data": {
      "application/vnd.plotly.v1+json": {
       "config": {
        "modeBarButtonsToAdd": [
         "drawline",
         "drawopenpath",
         "drawclosedpath",
         "drawcircle",
         "drawrect",
         "eraseshape"
        ],
        "plotlyServerURL": "https://plot.ly"
       },
       "data": [],
       "layout": {
        "dragmode": "drawrect",
        "images": [
         {
          "layer": "below",
          "opacity": 1,
          "sizex": 1600,
          "sizey": 900,
          "source": "AgeGenderDoB.png",
          "x": 0,
          "xref": "x",
          "y": 0,
          "yref": "y"
         }
        ],
        "newshape": {
         "line": {
          "color": "cyan"
         }
        },
        "shapes": [
         {
          "line": {
           "color": "cyan"
          },
          "type": "line",
          "x0": 650,
          "x1": 1080,
          "xref": "x",
          "y0": 380,
          "y1": 180,
          "yref": "y"
         }
        ],
        "template": {
         "data": {
          "bar": [
           {
            "error_x": {
             "color": "#2a3f5f"
            },
            "error_y": {
             "color": "#2a3f5f"
            },
            "marker": {
             "line": {
              "color": "#E5ECF6",
              "width": 0.5
             },
             "pattern": {
              "fillmode": "overlay",
              "size": 10,
              "solidity": 0.2
             }
            },
            "type": "bar"
           }
          ],
          "barpolar": [
           {
            "marker": {
             "line": {
              "color": "#E5ECF6",
              "width": 0.5
             },
             "pattern": {
              "fillmode": "overlay",
              "size": 10,
              "solidity": 0.2
             }
            },
            "type": "barpolar"
           }
          ],
          "carpet": [
           {
            "aaxis": {
             "endlinecolor": "#2a3f5f",
             "gridcolor": "white",
             "linecolor": "white",
             "minorgridcolor": "white",
             "startlinecolor": "#2a3f5f"
            },
            "baxis": {
             "endlinecolor": "#2a3f5f",
             "gridcolor": "white",
             "linecolor": "white",
             "minorgridcolor": "white",
             "startlinecolor": "#2a3f5f"
            },
            "type": "carpet"
           }
          ],
          "choropleth": [
           {
            "colorbar": {
             "outlinewidth": 0,
             "ticks": ""
            },
            "type": "choropleth"
           }
          ],
          "contour": [
           {
            "colorbar": {
             "outlinewidth": 0,
             "ticks": ""
            },
            "colorscale": [
             [
              0,
              "#0d0887"
             ],
             [
              0.1111111111111111,
              "#46039f"
             ],
             [
              0.2222222222222222,
              "#7201a8"
             ],
             [
              0.3333333333333333,
              "#9c179e"
             ],
             [
              0.4444444444444444,
              "#bd3786"
             ],
             [
              0.5555555555555556,
              "#d8576b"
             ],
             [
              0.6666666666666666,
              "#ed7953"
             ],
             [
              0.7777777777777778,
              "#fb9f3a"
             ],
             [
              0.8888888888888888,
              "#fdca26"
             ],
             [
              1,
              "#f0f921"
             ]
            ],
            "type": "contour"
           }
          ],
          "contourcarpet": [
           {
            "colorbar": {
             "outlinewidth": 0,
             "ticks": ""
            },
            "type": "contourcarpet"
           }
          ],
          "heatmap": [
           {
            "colorbar": {
             "outlinewidth": 0,
             "ticks": ""
            },
            "colorscale": [
             [
              0,
              "#0d0887"
             ],
             [
              0.1111111111111111,
              "#46039f"
             ],
             [
              0.2222222222222222,
              "#7201a8"
             ],
             [
              0.3333333333333333,
              "#9c179e"
             ],
             [
              0.4444444444444444,
              "#bd3786"
             ],
             [
              0.5555555555555556,
              "#d8576b"
             ],
             [
              0.6666666666666666,
              "#ed7953"
             ],
             [
              0.7777777777777778,
              "#fb9f3a"
             ],
             [
              0.8888888888888888,
              "#fdca26"
             ],
             [
              1,
              "#f0f921"
             ]
            ],
            "type": "heatmap"
           }
          ],
          "heatmapgl": [
           {
            "colorbar": {
             "outlinewidth": 0,
             "ticks": ""
            },
            "colorscale": [
             [
              0,
              "#0d0887"
             ],
             [
              0.1111111111111111,
              "#46039f"
             ],
             [
              0.2222222222222222,
              "#7201a8"
             ],
             [
              0.3333333333333333,
              "#9c179e"
             ],
             [
              0.4444444444444444,
              "#bd3786"
             ],
             [
              0.5555555555555556,
              "#d8576b"
             ],
             [
              0.6666666666666666,
              "#ed7953"
             ],
             [
              0.7777777777777778,
              "#fb9f3a"
             ],
             [
              0.8888888888888888,
              "#fdca26"
             ],
             [
              1,
              "#f0f921"
             ]
            ],
            "type": "heatmapgl"
           }
          ],
          "histogram": [
           {
            "marker": {
             "pattern": {
              "fillmode": "overlay",
              "size": 10,
              "solidity": 0.2
             }
            },
            "type": "histogram"
           }
          ],
          "histogram2d": [
           {
            "colorbar": {
             "outlinewidth": 0,
             "ticks": ""
            },
            "colorscale": [
             [
              0,
              "#0d0887"
             ],
             [
              0.1111111111111111,
              "#46039f"
             ],
             [
              0.2222222222222222,
              "#7201a8"
             ],
             [
              0.3333333333333333,
              "#9c179e"
             ],
             [
              0.4444444444444444,
              "#bd3786"
             ],
             [
              0.5555555555555556,
              "#d8576b"
             ],
             [
              0.6666666666666666,
              "#ed7953"
             ],
             [
              0.7777777777777778,
              "#fb9f3a"
             ],
             [
              0.8888888888888888,
              "#fdca26"
             ],
             [
              1,
              "#f0f921"
             ]
            ],
            "type": "histogram2d"
           }
          ],
          "histogram2dcontour": [
           {
            "colorbar": {
             "outlinewidth": 0,
             "ticks": ""
            },
            "colorscale": [
             [
              0,
              "#0d0887"
             ],
             [
              0.1111111111111111,
              "#46039f"
             ],
             [
              0.2222222222222222,
              "#7201a8"
             ],
             [
              0.3333333333333333,
              "#9c179e"
             ],
             [
              0.4444444444444444,
              "#bd3786"
             ],
             [
              0.5555555555555556,
              "#d8576b"
             ],
             [
              0.6666666666666666,
              "#ed7953"
             ],
             [
              0.7777777777777778,
              "#fb9f3a"
             ],
             [
              0.8888888888888888,
              "#fdca26"
             ],
             [
              1,
              "#f0f921"
             ]
            ],
            "type": "histogram2dcontour"
           }
          ],
          "mesh3d": [
           {
            "colorbar": {
             "outlinewidth": 0,
             "ticks": ""
            },
            "type": "mesh3d"
           }
          ],
          "parcoords": [
           {
            "line": {
             "colorbar": {
              "outlinewidth": 0,
              "ticks": ""
             }
            },
            "type": "parcoords"
           }
          ],
          "pie": [
           {
            "automargin": true,
            "type": "pie"
           }
          ],
          "scatter": [
           {
            "fillpattern": {
             "fillmode": "overlay",
             "size": 10,
             "solidity": 0.2
            },
            "type": "scatter"
           }
          ],
          "scatter3d": [
           {
            "line": {
             "colorbar": {
              "outlinewidth": 0,
              "ticks": ""
             }
            },
            "marker": {
             "colorbar": {
              "outlinewidth": 0,
              "ticks": ""
             }
            },
            "type": "scatter3d"
           }
          ],
          "scattercarpet": [
           {
            "marker": {
             "colorbar": {
              "outlinewidth": 0,
              "ticks": ""
             }
            },
            "type": "scattercarpet"
           }
          ],
          "scattergeo": [
           {
            "marker": {
             "colorbar": {
              "outlinewidth": 0,
              "ticks": ""
             }
            },
            "type": "scattergeo"
           }
          ],
          "scattergl": [
           {
            "marker": {
             "colorbar": {
              "outlinewidth": 0,
              "ticks": ""
             }
            },
            "type": "scattergl"
           }
          ],
          "scattermapbox": [
           {
            "marker": {
             "colorbar": {
              "outlinewidth": 0,
              "ticks": ""
             }
            },
            "type": "scattermapbox"
           }
          ],
          "scatterpolar": [
           {
            "marker": {
             "colorbar": {
              "outlinewidth": 0,
              "ticks": ""
             }
            },
            "type": "scatterpolar"
           }
          ],
          "scatterpolargl": [
           {
            "marker": {
             "colorbar": {
              "outlinewidth": 0,
              "ticks": ""
             }
            },
            "type": "scatterpolargl"
           }
          ],
          "scatterternary": [
           {
            "marker": {
             "colorbar": {
              "outlinewidth": 0,
              "ticks": ""
             }
            },
            "type": "scatterternary"
           }
          ],
          "surface": [
           {
            "colorbar": {
             "outlinewidth": 0,
             "ticks": ""
            },
            "colorscale": [
             [
              0,
              "#0d0887"
             ],
             [
              0.1111111111111111,
              "#46039f"
             ],
             [
              0.2222222222222222,
              "#7201a8"
             ],
             [
              0.3333333333333333,
              "#9c179e"
             ],
             [
              0.4444444444444444,
              "#bd3786"
             ],
             [
              0.5555555555555556,
              "#d8576b"
             ],
             [
              0.6666666666666666,
              "#ed7953"
             ],
             [
              0.7777777777777778,
              "#fb9f3a"
             ],
             [
              0.8888888888888888,
              "#fdca26"
             ],
             [
              1,
              "#f0f921"
             ]
            ],
            "type": "surface"
           }
          ],
          "table": [
           {
            "cells": {
             "fill": {
              "color": "#EBF0F8"
             },
             "line": {
              "color": "white"
             }
            },
            "header": {
             "fill": {
              "color": "#C8D4E3"
             },
             "line": {
              "color": "white"
             }
            },
            "type": "table"
           }
          ]
         },
         "layout": {
          "annotationdefaults": {
           "arrowcolor": "#2a3f5f",
           "arrowhead": 0,
           "arrowwidth": 1
          },
          "autotypenumbers": "strict",
          "coloraxis": {
           "colorbar": {
            "outlinewidth": 0,
            "ticks": ""
           }
          },
          "colorscale": {
           "diverging": [
            [
             0,
             "#8e0152"
            ],
            [
             0.1,
             "#c51b7d"
            ],
            [
             0.2,
             "#de77ae"
            ],
            [
             0.3,
             "#f1b6da"
            ],
            [
             0.4,
             "#fde0ef"
            ],
            [
             0.5,
             "#f7f7f7"
            ],
            [
             0.6,
             "#e6f5d0"
            ],
            [
             0.7,
             "#b8e186"
            ],
            [
             0.8,
             "#7fbc41"
            ],
            [
             0.9,
             "#4d9221"
            ],
            [
             1,
             "#276419"
            ]
           ],
           "sequential": [
            [
             0,
             "#0d0887"
            ],
            [
             0.1111111111111111,
             "#46039f"
            ],
            [
             0.2222222222222222,
             "#7201a8"
            ],
            [
             0.3333333333333333,
             "#9c179e"
            ],
            [
             0.4444444444444444,
             "#bd3786"
            ],
            [
             0.5555555555555556,
             "#d8576b"
            ],
            [
             0.6666666666666666,
             "#ed7953"
            ],
            [
             0.7777777777777778,
             "#fb9f3a"
            ],
            [
             0.8888888888888888,
             "#fdca26"
            ],
            [
             1,
             "#f0f921"
            ]
           ],
           "sequentialminus": [
            [
             0,
             "#0d0887"
            ],
            [
             0.1111111111111111,
             "#46039f"
            ],
            [
             0.2222222222222222,
             "#7201a8"
            ],
            [
             0.3333333333333333,
             "#9c179e"
            ],
            [
             0.4444444444444444,
             "#bd3786"
            ],
            [
             0.5555555555555556,
             "#d8576b"
            ],
            [
             0.6666666666666666,
             "#ed7953"
            ],
            [
             0.7777777777777778,
             "#fb9f3a"
            ],
            [
             0.8888888888888888,
             "#fdca26"
            ],
            [
             1,
             "#f0f921"
            ]
           ]
          },
          "colorway": [
           "#636efa",
           "#EF553B",
           "#00cc96",
           "#ab63fa",
           "#FFA15A",
           "#19d3f3",
           "#FF6692",
           "#B6E880",
           "#FF97FF",
           "#FECB52"
          ],
          "font": {
           "color": "#2a3f5f"
          },
          "geo": {
           "bgcolor": "white",
           "lakecolor": "white",
           "landcolor": "#E5ECF6",
           "showlakes": true,
           "showland": true,
           "subunitcolor": "white"
          },
          "hoverlabel": {
           "align": "left"
          },
          "hovermode": "closest",
          "mapbox": {
           "style": "light"
          },
          "paper_bgcolor": "white",
          "plot_bgcolor": "#E5ECF6",
          "polar": {
           "angularaxis": {
            "gridcolor": "white",
            "linecolor": "white",
            "ticks": ""
           },
           "bgcolor": "#E5ECF6",
           "radialaxis": {
            "gridcolor": "white",
            "linecolor": "white",
            "ticks": ""
           }
          },
          "scene": {
           "xaxis": {
            "backgroundcolor": "#E5ECF6",
            "gridcolor": "white",
            "gridwidth": 2,
            "linecolor": "white",
            "showbackground": true,
            "ticks": "",
            "zerolinecolor": "white"
           },
           "yaxis": {
            "backgroundcolor": "#E5ECF6",
            "gridcolor": "white",
            "gridwidth": 2,
            "linecolor": "white",
            "showbackground": true,
            "ticks": "",
            "zerolinecolor": "white"
           },
           "zaxis": {
            "backgroundcolor": "#E5ECF6",
            "gridcolor": "white",
            "gridwidth": 2,
            "linecolor": "white",
            "showbackground": true,
            "ticks": "",
            "zerolinecolor": "white"
           }
          },
          "shapedefaults": {
           "line": {
            "color": "#2a3f5f"
           }
          },
          "ternary": {
           "aaxis": {
            "gridcolor": "white",
            "linecolor": "white",
            "ticks": ""
           },
           "baxis": {
            "gridcolor": "white",
            "linecolor": "white",
            "ticks": ""
           },
           "bgcolor": "#E5ECF6",
           "caxis": {
            "gridcolor": "white",
            "linecolor": "white",
            "ticks": ""
           }
          },
          "title": {
           "x": 0.05
          },
          "xaxis": {
           "automargin": true,
           "gridcolor": "white",
           "linecolor": "white",
           "ticks": "",
           "title": {
            "standoff": 15
           },
           "zerolinecolor": "white",
           "zerolinewidth": 2
          },
          "yaxis": {
           "automargin": true,
           "gridcolor": "white",
           "linecolor": "white",
           "ticks": "",
           "title": {
            "standoff": 15
           },
           "zerolinecolor": "white",
           "zerolinewidth": 2
          }
         }
        },
        "title": {
         "text": "Drag to add annotations - use modebar to change drawing tool"
        },
        "xaxis": {
         "range": [
          0,
          1600
         ],
         "showgrid": false
        },
        "yaxis": {
         "range": [
          900,
          0
         ],
         "scaleanchor": "x",
         "showgrid": false
        }
       }
      },
      "text/html": [
       "<div>                            <div id=\"81abe547-db34-43c4-bfb3-de43de006d3d\" class=\"plotly-graph-div\" style=\"height:525px; width:100%;\"></div>            <script type=\"text/javascript\">                require([\"plotly\"], function(Plotly) {                    window.PLOTLYENV=window.PLOTLYENV || {};                                    if (document.getElementById(\"81abe547-db34-43c4-bfb3-de43de006d3d\")) {                    Plotly.newPlot(                        \"81abe547-db34-43c4-bfb3-de43de006d3d\",                        [],                        {\"template\":{\"data\":{\"histogram2dcontour\":[{\"type\":\"histogram2dcontour\",\"colorbar\":{\"outlinewidth\":0,\"ticks\":\"\"},\"colorscale\":[[0.0,\"#0d0887\"],[0.1111111111111111,\"#46039f\"],[0.2222222222222222,\"#7201a8\"],[0.3333333333333333,\"#9c179e\"],[0.4444444444444444,\"#bd3786\"],[0.5555555555555556,\"#d8576b\"],[0.6666666666666666,\"#ed7953\"],[0.7777777777777778,\"#fb9f3a\"],[0.8888888888888888,\"#fdca26\"],[1.0,\"#f0f921\"]]}],\"choropleth\":[{\"type\":\"choropleth\",\"colorbar\":{\"outlinewidth\":0,\"ticks\":\"\"}}],\"histogram2d\":[{\"type\":\"histogram2d\",\"colorbar\":{\"outlinewidth\":0,\"ticks\":\"\"},\"colorscale\":[[0.0,\"#0d0887\"],[0.1111111111111111,\"#46039f\"],[0.2222222222222222,\"#7201a8\"],[0.3333333333333333,\"#9c179e\"],[0.4444444444444444,\"#bd3786\"],[0.5555555555555556,\"#d8576b\"],[0.6666666666666666,\"#ed7953\"],[0.7777777777777778,\"#fb9f3a\"],[0.8888888888888888,\"#fdca26\"],[1.0,\"#f0f921\"]]}],\"heatmap\":[{\"type\":\"heatmap\",\"colorbar\":{\"outlinewidth\":0,\"ticks\":\"\"},\"colorscale\":[[0.0,\"#0d0887\"],[0.1111111111111111,\"#46039f\"],[0.2222222222222222,\"#7201a8\"],[0.3333333333333333,\"#9c179e\"],[0.4444444444444444,\"#bd3786\"],[0.5555555555555556,\"#d8576b\"],[0.6666666666666666,\"#ed7953\"],[0.7777777777777778,\"#fb9f3a\"],[0.8888888888888888,\"#fdca26\"],[1.0,\"#f0f921\"]]}],\"heatmapgl\":[{\"type\":\"heatmapgl\",\"colorbar\":{\"outlinewidth\":0,\"ticks\":\"\"},\"colorscale\":[[0.0,\"#0d0887\"],[0.1111111111111111,\"#46039f\"],[0.2222222222222222,\"#7201a8\"],[0.3333333333333333,\"#9c179e\"],[0.4444444444444444,\"#bd3786\"],[0.5555555555555556,\"#d8576b\"],[0.6666666666666666,\"#ed7953\"],[0.7777777777777778,\"#fb9f3a\"],[0.8888888888888888,\"#fdca26\"],[1.0,\"#f0f921\"]]}],\"contourcarpet\":[{\"type\":\"contourcarpet\",\"colorbar\":{\"outlinewidth\":0,\"ticks\":\"\"}}],\"contour\":[{\"type\":\"contour\",\"colorbar\":{\"outlinewidth\":0,\"ticks\":\"\"},\"colorscale\":[[0.0,\"#0d0887\"],[0.1111111111111111,\"#46039f\"],[0.2222222222222222,\"#7201a8\"],[0.3333333333333333,\"#9c179e\"],[0.4444444444444444,\"#bd3786\"],[0.5555555555555556,\"#d8576b\"],[0.6666666666666666,\"#ed7953\"],[0.7777777777777778,\"#fb9f3a\"],[0.8888888888888888,\"#fdca26\"],[1.0,\"#f0f921\"]]}],\"surface\":[{\"type\":\"surface\",\"colorbar\":{\"outlinewidth\":0,\"ticks\":\"\"},\"colorscale\":[[0.0,\"#0d0887\"],[0.1111111111111111,\"#46039f\"],[0.2222222222222222,\"#7201a8\"],[0.3333333333333333,\"#9c179e\"],[0.4444444444444444,\"#bd3786\"],[0.5555555555555556,\"#d8576b\"],[0.6666666666666666,\"#ed7953\"],[0.7777777777777778,\"#fb9f3a\"],[0.8888888888888888,\"#fdca26\"],[1.0,\"#f0f921\"]]}],\"mesh3d\":[{\"type\":\"mesh3d\",\"colorbar\":{\"outlinewidth\":0,\"ticks\":\"\"}}],\"scatter\":[{\"fillpattern\":{\"fillmode\":\"overlay\",\"size\":10,\"solidity\":0.2},\"type\":\"scatter\"}],\"parcoords\":[{\"type\":\"parcoords\",\"line\":{\"colorbar\":{\"outlinewidth\":0,\"ticks\":\"\"}}}],\"scatterpolargl\":[{\"type\":\"scatterpolargl\",\"marker\":{\"colorbar\":{\"outlinewidth\":0,\"ticks\":\"\"}}}],\"bar\":[{\"error_x\":{\"color\":\"#2a3f5f\"},\"error_y\":{\"color\":\"#2a3f5f\"},\"marker\":{\"line\":{\"color\":\"#E5ECF6\",\"width\":0.5},\"pattern\":{\"fillmode\":\"overlay\",\"size\":10,\"solidity\":0.2}},\"type\":\"bar\"}],\"scattergeo\":[{\"type\":\"scattergeo\",\"marker\":{\"colorbar\":{\"outlinewidth\":0,\"ticks\":\"\"}}}],\"scatterpolar\":[{\"type\":\"scatterpolar\",\"marker\":{\"colorbar\":{\"outlinewidth\":0,\"ticks\":\"\"}}}],\"histogram\":[{\"marker\":{\"pattern\":{\"fillmode\":\"overlay\",\"size\":10,\"solidity\":0.2}},\"type\":\"histogram\"}],\"scattergl\":[{\"type\":\"scattergl\",\"marker\":{\"colorbar\":{\"outlinewidth\":0,\"ticks\":\"\"}}}],\"scatter3d\":[{\"type\":\"scatter3d\",\"line\":{\"colorbar\":{\"outlinewidth\":0,\"ticks\":\"\"}},\"marker\":{\"colorbar\":{\"outlinewidth\":0,\"ticks\":\"\"}}}],\"scattermapbox\":[{\"type\":\"scattermapbox\",\"marker\":{\"colorbar\":{\"outlinewidth\":0,\"ticks\":\"\"}}}],\"scatterternary\":[{\"type\":\"scatterternary\",\"marker\":{\"colorbar\":{\"outlinewidth\":0,\"ticks\":\"\"}}}],\"scattercarpet\":[{\"type\":\"scattercarpet\",\"marker\":{\"colorbar\":{\"outlinewidth\":0,\"ticks\":\"\"}}}],\"carpet\":[{\"aaxis\":{\"endlinecolor\":\"#2a3f5f\",\"gridcolor\":\"white\",\"linecolor\":\"white\",\"minorgridcolor\":\"white\",\"startlinecolor\":\"#2a3f5f\"},\"baxis\":{\"endlinecolor\":\"#2a3f5f\",\"gridcolor\":\"white\",\"linecolor\":\"white\",\"minorgridcolor\":\"white\",\"startlinecolor\":\"#2a3f5f\"},\"type\":\"carpet\"}],\"table\":[{\"cells\":{\"fill\":{\"color\":\"#EBF0F8\"},\"line\":{\"color\":\"white\"}},\"header\":{\"fill\":{\"color\":\"#C8D4E3\"},\"line\":{\"color\":\"white\"}},\"type\":\"table\"}],\"barpolar\":[{\"marker\":{\"line\":{\"color\":\"#E5ECF6\",\"width\":0.5},\"pattern\":{\"fillmode\":\"overlay\",\"size\":10,\"solidity\":0.2}},\"type\":\"barpolar\"}],\"pie\":[{\"automargin\":true,\"type\":\"pie\"}]},\"layout\":{\"autotypenumbers\":\"strict\",\"colorway\":[\"#636efa\",\"#EF553B\",\"#00cc96\",\"#ab63fa\",\"#FFA15A\",\"#19d3f3\",\"#FF6692\",\"#B6E880\",\"#FF97FF\",\"#FECB52\"],\"font\":{\"color\":\"#2a3f5f\"},\"hovermode\":\"closest\",\"hoverlabel\":{\"align\":\"left\"},\"paper_bgcolor\":\"white\",\"plot_bgcolor\":\"#E5ECF6\",\"polar\":{\"bgcolor\":\"#E5ECF6\",\"angularaxis\":{\"gridcolor\":\"white\",\"linecolor\":\"white\",\"ticks\":\"\"},\"radialaxis\":{\"gridcolor\":\"white\",\"linecolor\":\"white\",\"ticks\":\"\"}},\"ternary\":{\"bgcolor\":\"#E5ECF6\",\"aaxis\":{\"gridcolor\":\"white\",\"linecolor\":\"white\",\"ticks\":\"\"},\"baxis\":{\"gridcolor\":\"white\",\"linecolor\":\"white\",\"ticks\":\"\"},\"caxis\":{\"gridcolor\":\"white\",\"linecolor\":\"white\",\"ticks\":\"\"}},\"coloraxis\":{\"colorbar\":{\"outlinewidth\":0,\"ticks\":\"\"}},\"colorscale\":{\"sequential\":[[0.0,\"#0d0887\"],[0.1111111111111111,\"#46039f\"],[0.2222222222222222,\"#7201a8\"],[0.3333333333333333,\"#9c179e\"],[0.4444444444444444,\"#bd3786\"],[0.5555555555555556,\"#d8576b\"],[0.6666666666666666,\"#ed7953\"],[0.7777777777777778,\"#fb9f3a\"],[0.8888888888888888,\"#fdca26\"],[1.0,\"#f0f921\"]],\"sequentialminus\":[[0.0,\"#0d0887\"],[0.1111111111111111,\"#46039f\"],[0.2222222222222222,\"#7201a8\"],[0.3333333333333333,\"#9c179e\"],[0.4444444444444444,\"#bd3786\"],[0.5555555555555556,\"#d8576b\"],[0.6666666666666666,\"#ed7953\"],[0.7777777777777778,\"#fb9f3a\"],[0.8888888888888888,\"#fdca26\"],[1.0,\"#f0f921\"]],\"diverging\":[[0,\"#8e0152\"],[0.1,\"#c51b7d\"],[0.2,\"#de77ae\"],[0.3,\"#f1b6da\"],[0.4,\"#fde0ef\"],[0.5,\"#f7f7f7\"],[0.6,\"#e6f5d0\"],[0.7,\"#b8e186\"],[0.8,\"#7fbc41\"],[0.9,\"#4d9221\"],[1,\"#276419\"]]},\"xaxis\":{\"gridcolor\":\"white\",\"linecolor\":\"white\",\"ticks\":\"\",\"title\":{\"standoff\":15},\"zerolinecolor\":\"white\",\"automargin\":true,\"zerolinewidth\":2},\"yaxis\":{\"gridcolor\":\"white\",\"linecolor\":\"white\",\"ticks\":\"\",\"title\":{\"standoff\":15},\"zerolinecolor\":\"white\",\"automargin\":true,\"zerolinewidth\":2},\"scene\":{\"xaxis\":{\"backgroundcolor\":\"#E5ECF6\",\"gridcolor\":\"white\",\"linecolor\":\"white\",\"showbackground\":true,\"ticks\":\"\",\"zerolinecolor\":\"white\",\"gridwidth\":2},\"yaxis\":{\"backgroundcolor\":\"#E5ECF6\",\"gridcolor\":\"white\",\"linecolor\":\"white\",\"showbackground\":true,\"ticks\":\"\",\"zerolinecolor\":\"white\",\"gridwidth\":2},\"zaxis\":{\"backgroundcolor\":\"#E5ECF6\",\"gridcolor\":\"white\",\"linecolor\":\"white\",\"showbackground\":true,\"ticks\":\"\",\"zerolinecolor\":\"white\",\"gridwidth\":2}},\"shapedefaults\":{\"line\":{\"color\":\"#2a3f5f\"}},\"annotationdefaults\":{\"arrowcolor\":\"#2a3f5f\",\"arrowhead\":0,\"arrowwidth\":1},\"geo\":{\"bgcolor\":\"white\",\"landcolor\":\"#E5ECF6\",\"subunitcolor\":\"white\",\"showland\":true,\"showlakes\":true,\"lakecolor\":\"white\"},\"title\":{\"x\":0.05},\"mapbox\":{\"style\":\"light\"}}},\"images\":[{\"layer\":\"below\",\"opacity\":1.0,\"sizex\":1600,\"sizey\":900,\"source\":\"AgeGenderDoB.png\",\"x\":0,\"xref\":\"x\",\"y\":0,\"yref\":\"y\"}],\"xaxis\":{\"showgrid\":false,\"range\":[0,1600]},\"yaxis\":{\"showgrid\":false,\"scaleanchor\":\"x\",\"range\":[900,0]},\"shapes\":[{\"line\":{\"color\":\"cyan\"},\"type\":\"line\",\"x0\":650,\"x1\":1080,\"xref\":\"x\",\"y0\":380,\"y1\":180,\"yref\":\"y\"}],\"newshape\":{\"line\":{\"color\":\"cyan\"}},\"title\":{\"text\":\"Drag to add annotations - use modebar to change drawing tool\"},\"dragmode\":\"drawrect\"},                        {\"modeBarButtonsToAdd\": [\"drawline\", \"drawopenpath\", \"drawclosedpath\", \"drawcircle\", \"drawrect\", \"eraseshape\"], \"responsive\": true}                    ).then(function(){\n",
       "                            \n",
       "var gd = document.getElementById('81abe547-db34-43c4-bfb3-de43de006d3d');\n",
       "var x = new MutationObserver(function (mutations, observer) {{\n",
       "        var display = window.getComputedStyle(gd).display;\n",
       "        if (!display || display === 'none') {{\n",
       "            console.log([gd, 'removed!']);\n",
       "            Plotly.purge(gd);\n",
       "            observer.disconnect();\n",
       "        }}\n",
       "}});\n",
       "\n",
       "// Listen for the removal of the full notebook cells\n",
       "var notebookContainer = gd.closest('#notebook-container');\n",
       "if (notebookContainer) {{\n",
       "    x.observe(notebookContainer, {childList: true});\n",
       "}}\n",
       "\n",
       "// Listen for the clearing of the current output cell\n",
       "var outputEl = gd.closest('.output');\n",
       "if (outputEl) {{\n",
       "    x.observe(outputEl, {childList: true});\n",
       "}}\n",
       "\n",
       "                        })                };                });            </script>        </div>"
      ]
     },
     "metadata": {},
     "output_type": "display_data"
    }
   ],
   "source": [
    "import plotly.graph_objects as go\n",
    "fig = go.Figure()\n",
    "# Add image\n",
    "img_width = 1600\n",
    "img_height = 900\n",
    "scale_factor = 0.5\n",
    "fig.add_layout_image(\n",
    "        x=0,\n",
    "        sizex=img_width,\n",
    "        y=0,\n",
    "        sizey=img_height,\n",
    "        xref=\"x\",\n",
    "        yref=\"y\",\n",
    "        opacity=1.0,\n",
    "        layer=\"below\",\n",
    "        source=source\n",
    ")\n",
    "fig.update_xaxes(showgrid=False, range=(0, img_width))\n",
    "fig.update_yaxes(showgrid=False, scaleanchor='x', range=(img_height, 0))\n",
    "# Line shape added programatically\n",
    "fig.add_shape(\n",
    "    type='line', xref='x', yref='y',\n",
    "    x0=650, x1=1080, y0=380, y1=180, line_color='cyan'\n",
    ")\n",
    "# Set dragmode and newshape properties; add modebar buttons\n",
    "fig.update_layout(\n",
    "    dragmode='drawrect',\n",
    "    newshape=dict(line_color='cyan'),\n",
    "    title_text='Drag to add annotations - use modebar to change drawing tool'\n",
    ")\n",
    "fig.show(config={'modeBarButtonsToAdd':['drawline',\n",
    "                                        'drawopenpath',\n",
    "                                        'drawclosedpath',\n",
    "                                        'drawcircle',\n",
    "                                        'drawrect',\n",
    "                                        'eraseshape'\n",
    "                                       ]})"
   ]
  },
  {
   "cell_type": "code",
   "execution_count": 12,
   "id": "c6cf076b",
   "metadata": {},
   "outputs": [
    {
     "data": {
      "application/vnd.plotly.v1+json": {
       "config": {
        "plotlyServerURL": "https://plot.ly"
       },
       "data": [
        {
         "coloraxis": "coloraxis",
         "geo": "geo",
         "geojson": {
          "bbox": [
           182,
           2,
           442,
           22
          ],
          "features": [
           {
            "bbox": [
             182,
             7,
             190,
             17
            ],
            "geometry": {
             "coordinates": [
              [
               [
                182,
                7
               ],
               [
                190,
                7
               ],
               [
                190,
                17
               ],
               [
                182,
                17
               ],
               [
                182,
                7
               ]
              ]
             ],
             "type": "Polygon"
            },
            "id": "0",
            "properties": {},
            "type": "Feature"
           },
           {
            "bbox": [
             271,
             7,
             279,
             17
            ],
            "geometry": {
             "coordinates": [
              [
               [
                271,
                7
               ],
               [
                279,
                7
               ],
               [
                279,
                17
               ],
               [
                271,
                17
               ],
               [
                271,
                7
               ]
              ]
             ],
             "type": "Polygon"
            },
            "id": "1",
            "properties": {},
            "type": "Feature"
           },
           {
            "bbox": [
             313,
             2,
             442,
             22
            ],
            "geometry": {
             "coordinates": [
              [
               [
                313,
                2
               ],
               [
                442,
                2
               ],
               [
                442,
                22
               ],
               [
                313,
                22
               ],
               [
                313,
                2
               ]
              ]
             ],
             "type": "Polygon"
            },
            "id": "2",
            "properties": {},
            "type": "Feature"
           }
          ],
          "type": "FeatureCollection"
         },
         "hovertemplate": "index=%{z}<extra></extra>",
         "locations": [
          0,
          1,
          2
         ],
         "name": "",
         "type": "choropleth",
         "z": [
          0,
          1,
          2
         ]
        }
       ],
       "layout": {
        "coloraxis": {
         "colorbar": {
          "title": {
           "text": "index"
          }
         },
         "colorscale": [
          [
           0,
           "#0d0887"
          ],
          [
           0.1111111111111111,
           "#46039f"
          ],
          [
           0.2222222222222222,
           "#7201a8"
          ],
          [
           0.3333333333333333,
           "#9c179e"
          ],
          [
           0.4444444444444444,
           "#bd3786"
          ],
          [
           0.5555555555555556,
           "#d8576b"
          ],
          [
           0.6666666666666666,
           "#ed7953"
          ],
          [
           0.7777777777777778,
           "#fb9f3a"
          ],
          [
           0.8888888888888888,
           "#fdca26"
          ],
          [
           1,
           "#f0f921"
          ]
         ]
        },
        "geo": {
         "center": {},
         "domain": {
          "x": [
           0,
           1
          ],
          "y": [
           0,
           1
          ]
         },
         "fitbounds": "locations",
         "visible": false
        },
        "legend": {
         "tracegroupgap": 0
        },
        "margin": {
         "t": 60
        },
        "template": {
         "data": {
          "bar": [
           {
            "error_x": {
             "color": "#2a3f5f"
            },
            "error_y": {
             "color": "#2a3f5f"
            },
            "marker": {
             "line": {
              "color": "#E5ECF6",
              "width": 0.5
             },
             "pattern": {
              "fillmode": "overlay",
              "size": 10,
              "solidity": 0.2
             }
            },
            "type": "bar"
           }
          ],
          "barpolar": [
           {
            "marker": {
             "line": {
              "color": "#E5ECF6",
              "width": 0.5
             },
             "pattern": {
              "fillmode": "overlay",
              "size": 10,
              "solidity": 0.2
             }
            },
            "type": "barpolar"
           }
          ],
          "carpet": [
           {
            "aaxis": {
             "endlinecolor": "#2a3f5f",
             "gridcolor": "white",
             "linecolor": "white",
             "minorgridcolor": "white",
             "startlinecolor": "#2a3f5f"
            },
            "baxis": {
             "endlinecolor": "#2a3f5f",
             "gridcolor": "white",
             "linecolor": "white",
             "minorgridcolor": "white",
             "startlinecolor": "#2a3f5f"
            },
            "type": "carpet"
           }
          ],
          "choropleth": [
           {
            "colorbar": {
             "outlinewidth": 0,
             "ticks": ""
            },
            "type": "choropleth"
           }
          ],
          "contour": [
           {
            "colorbar": {
             "outlinewidth": 0,
             "ticks": ""
            },
            "colorscale": [
             [
              0,
              "#0d0887"
             ],
             [
              0.1111111111111111,
              "#46039f"
             ],
             [
              0.2222222222222222,
              "#7201a8"
             ],
             [
              0.3333333333333333,
              "#9c179e"
             ],
             [
              0.4444444444444444,
              "#bd3786"
             ],
             [
              0.5555555555555556,
              "#d8576b"
             ],
             [
              0.6666666666666666,
              "#ed7953"
             ],
             [
              0.7777777777777778,
              "#fb9f3a"
             ],
             [
              0.8888888888888888,
              "#fdca26"
             ],
             [
              1,
              "#f0f921"
             ]
            ],
            "type": "contour"
           }
          ],
          "contourcarpet": [
           {
            "colorbar": {
             "outlinewidth": 0,
             "ticks": ""
            },
            "type": "contourcarpet"
           }
          ],
          "heatmap": [
           {
            "colorbar": {
             "outlinewidth": 0,
             "ticks": ""
            },
            "colorscale": [
             [
              0,
              "#0d0887"
             ],
             [
              0.1111111111111111,
              "#46039f"
             ],
             [
              0.2222222222222222,
              "#7201a8"
             ],
             [
              0.3333333333333333,
              "#9c179e"
             ],
             [
              0.4444444444444444,
              "#bd3786"
             ],
             [
              0.5555555555555556,
              "#d8576b"
             ],
             [
              0.6666666666666666,
              "#ed7953"
             ],
             [
              0.7777777777777778,
              "#fb9f3a"
             ],
             [
              0.8888888888888888,
              "#fdca26"
             ],
             [
              1,
              "#f0f921"
             ]
            ],
            "type": "heatmap"
           }
          ],
          "heatmapgl": [
           {
            "colorbar": {
             "outlinewidth": 0,
             "ticks": ""
            },
            "colorscale": [
             [
              0,
              "#0d0887"
             ],
             [
              0.1111111111111111,
              "#46039f"
             ],
             [
              0.2222222222222222,
              "#7201a8"
             ],
             [
              0.3333333333333333,
              "#9c179e"
             ],
             [
              0.4444444444444444,
              "#bd3786"
             ],
             [
              0.5555555555555556,
              "#d8576b"
             ],
             [
              0.6666666666666666,
              "#ed7953"
             ],
             [
              0.7777777777777778,
              "#fb9f3a"
             ],
             [
              0.8888888888888888,
              "#fdca26"
             ],
             [
              1,
              "#f0f921"
             ]
            ],
            "type": "heatmapgl"
           }
          ],
          "histogram": [
           {
            "marker": {
             "pattern": {
              "fillmode": "overlay",
              "size": 10,
              "solidity": 0.2
             }
            },
            "type": "histogram"
           }
          ],
          "histogram2d": [
           {
            "colorbar": {
             "outlinewidth": 0,
             "ticks": ""
            },
            "colorscale": [
             [
              0,
              "#0d0887"
             ],
             [
              0.1111111111111111,
              "#46039f"
             ],
             [
              0.2222222222222222,
              "#7201a8"
             ],
             [
              0.3333333333333333,
              "#9c179e"
             ],
             [
              0.4444444444444444,
              "#bd3786"
             ],
             [
              0.5555555555555556,
              "#d8576b"
             ],
             [
              0.6666666666666666,
              "#ed7953"
             ],
             [
              0.7777777777777778,
              "#fb9f3a"
             ],
             [
              0.8888888888888888,
              "#fdca26"
             ],
             [
              1,
              "#f0f921"
             ]
            ],
            "type": "histogram2d"
           }
          ],
          "histogram2dcontour": [
           {
            "colorbar": {
             "outlinewidth": 0,
             "ticks": ""
            },
            "colorscale": [
             [
              0,
              "#0d0887"
             ],
             [
              0.1111111111111111,
              "#46039f"
             ],
             [
              0.2222222222222222,
              "#7201a8"
             ],
             [
              0.3333333333333333,
              "#9c179e"
             ],
             [
              0.4444444444444444,
              "#bd3786"
             ],
             [
              0.5555555555555556,
              "#d8576b"
             ],
             [
              0.6666666666666666,
              "#ed7953"
             ],
             [
              0.7777777777777778,
              "#fb9f3a"
             ],
             [
              0.8888888888888888,
              "#fdca26"
             ],
             [
              1,
              "#f0f921"
             ]
            ],
            "type": "histogram2dcontour"
           }
          ],
          "mesh3d": [
           {
            "colorbar": {
             "outlinewidth": 0,
             "ticks": ""
            },
            "type": "mesh3d"
           }
          ],
          "parcoords": [
           {
            "line": {
             "colorbar": {
              "outlinewidth": 0,
              "ticks": ""
             }
            },
            "type": "parcoords"
           }
          ],
          "pie": [
           {
            "automargin": true,
            "type": "pie"
           }
          ],
          "scatter": [
           {
            "fillpattern": {
             "fillmode": "overlay",
             "size": 10,
             "solidity": 0.2
            },
            "type": "scatter"
           }
          ],
          "scatter3d": [
           {
            "line": {
             "colorbar": {
              "outlinewidth": 0,
              "ticks": ""
             }
            },
            "marker": {
             "colorbar": {
              "outlinewidth": 0,
              "ticks": ""
             }
            },
            "type": "scatter3d"
           }
          ],
          "scattercarpet": [
           {
            "marker": {
             "colorbar": {
              "outlinewidth": 0,
              "ticks": ""
             }
            },
            "type": "scattercarpet"
           }
          ],
          "scattergeo": [
           {
            "marker": {
             "colorbar": {
              "outlinewidth": 0,
              "ticks": ""
             }
            },
            "type": "scattergeo"
           }
          ],
          "scattergl": [
           {
            "marker": {
             "colorbar": {
              "outlinewidth": 0,
              "ticks": ""
             }
            },
            "type": "scattergl"
           }
          ],
          "scattermapbox": [
           {
            "marker": {
             "colorbar": {
              "outlinewidth": 0,
              "ticks": ""
             }
            },
            "type": "scattermapbox"
           }
          ],
          "scatterpolar": [
           {
            "marker": {
             "colorbar": {
              "outlinewidth": 0,
              "ticks": ""
             }
            },
            "type": "scatterpolar"
           }
          ],
          "scatterpolargl": [
           {
            "marker": {
             "colorbar": {
              "outlinewidth": 0,
              "ticks": ""
             }
            },
            "type": "scatterpolargl"
           }
          ],
          "scatterternary": [
           {
            "marker": {
             "colorbar": {
              "outlinewidth": 0,
              "ticks": ""
             }
            },
            "type": "scatterternary"
           }
          ],
          "surface": [
           {
            "colorbar": {
             "outlinewidth": 0,
             "ticks": ""
            },
            "colorscale": [
             [
              0,
              "#0d0887"
             ],
             [
              0.1111111111111111,
              "#46039f"
             ],
             [
              0.2222222222222222,
              "#7201a8"
             ],
             [
              0.3333333333333333,
              "#9c179e"
             ],
             [
              0.4444444444444444,
              "#bd3786"
             ],
             [
              0.5555555555555556,
              "#d8576b"
             ],
             [
              0.6666666666666666,
              "#ed7953"
             ],
             [
              0.7777777777777778,
              "#fb9f3a"
             ],
             [
              0.8888888888888888,
              "#fdca26"
             ],
             [
              1,
              "#f0f921"
             ]
            ],
            "type": "surface"
           }
          ],
          "table": [
           {
            "cells": {
             "fill": {
              "color": "#EBF0F8"
             },
             "line": {
              "color": "white"
             }
            },
            "header": {
             "fill": {
              "color": "#C8D4E3"
             },
             "line": {
              "color": "white"
             }
            },
            "type": "table"
           }
          ]
         },
         "layout": {
          "annotationdefaults": {
           "arrowcolor": "#2a3f5f",
           "arrowhead": 0,
           "arrowwidth": 1
          },
          "autotypenumbers": "strict",
          "coloraxis": {
           "colorbar": {
            "outlinewidth": 0,
            "ticks": ""
           }
          },
          "colorscale": {
           "diverging": [
            [
             0,
             "#8e0152"
            ],
            [
             0.1,
             "#c51b7d"
            ],
            [
             0.2,
             "#de77ae"
            ],
            [
             0.3,
             "#f1b6da"
            ],
            [
             0.4,
             "#fde0ef"
            ],
            [
             0.5,
             "#f7f7f7"
            ],
            [
             0.6,
             "#e6f5d0"
            ],
            [
             0.7,
             "#b8e186"
            ],
            [
             0.8,
             "#7fbc41"
            ],
            [
             0.9,
             "#4d9221"
            ],
            [
             1,
             "#276419"
            ]
           ],
           "sequential": [
            [
             0,
             "#0d0887"
            ],
            [
             0.1111111111111111,
             "#46039f"
            ],
            [
             0.2222222222222222,
             "#7201a8"
            ],
            [
             0.3333333333333333,
             "#9c179e"
            ],
            [
             0.4444444444444444,
             "#bd3786"
            ],
            [
             0.5555555555555556,
             "#d8576b"
            ],
            [
             0.6666666666666666,
             "#ed7953"
            ],
            [
             0.7777777777777778,
             "#fb9f3a"
            ],
            [
             0.8888888888888888,
             "#fdca26"
            ],
            [
             1,
             "#f0f921"
            ]
           ],
           "sequentialminus": [
            [
             0,
             "#0d0887"
            ],
            [
             0.1111111111111111,
             "#46039f"
            ],
            [
             0.2222222222222222,
             "#7201a8"
            ],
            [
             0.3333333333333333,
             "#9c179e"
            ],
            [
             0.4444444444444444,
             "#bd3786"
            ],
            [
             0.5555555555555556,
             "#d8576b"
            ],
            [
             0.6666666666666666,
             "#ed7953"
            ],
            [
             0.7777777777777778,
             "#fb9f3a"
            ],
            [
             0.8888888888888888,
             "#fdca26"
            ],
            [
             1,
             "#f0f921"
            ]
           ]
          },
          "colorway": [
           "#636efa",
           "#EF553B",
           "#00cc96",
           "#ab63fa",
           "#FFA15A",
           "#19d3f3",
           "#FF6692",
           "#B6E880",
           "#FF97FF",
           "#FECB52"
          ],
          "font": {
           "color": "#2a3f5f"
          },
          "geo": {
           "bgcolor": "white",
           "lakecolor": "white",
           "landcolor": "#E5ECF6",
           "showlakes": true,
           "showland": true,
           "subunitcolor": "white"
          },
          "hoverlabel": {
           "align": "left"
          },
          "hovermode": "closest",
          "mapbox": {
           "style": "light"
          },
          "paper_bgcolor": "white",
          "plot_bgcolor": "#E5ECF6",
          "polar": {
           "angularaxis": {
            "gridcolor": "white",
            "linecolor": "white",
            "ticks": ""
           },
           "bgcolor": "#E5ECF6",
           "radialaxis": {
            "gridcolor": "white",
            "linecolor": "white",
            "ticks": ""
           }
          },
          "scene": {
           "xaxis": {
            "backgroundcolor": "#E5ECF6",
            "gridcolor": "white",
            "gridwidth": 2,
            "linecolor": "white",
            "showbackground": true,
            "ticks": "",
            "zerolinecolor": "white"
           },
           "yaxis": {
            "backgroundcolor": "#E5ECF6",
            "gridcolor": "white",
            "gridwidth": 2,
            "linecolor": "white",
            "showbackground": true,
            "ticks": "",
            "zerolinecolor": "white"
           },
           "zaxis": {
            "backgroundcolor": "#E5ECF6",
            "gridcolor": "white",
            "gridwidth": 2,
            "linecolor": "white",
            "showbackground": true,
            "ticks": "",
            "zerolinecolor": "white"
           }
          },
          "shapedefaults": {
           "line": {
            "color": "#2a3f5f"
           }
          },
          "ternary": {
           "aaxis": {
            "gridcolor": "white",
            "linecolor": "white",
            "ticks": ""
           },
           "baxis": {
            "gridcolor": "white",
            "linecolor": "white",
            "ticks": ""
           },
           "bgcolor": "#E5ECF6",
           "caxis": {
            "gridcolor": "white",
            "linecolor": "white",
            "ticks": ""
           }
          },
          "title": {
           "x": 0.05
          },
          "xaxis": {
           "automargin": true,
           "gridcolor": "white",
           "linecolor": "white",
           "ticks": "",
           "title": {
            "standoff": 15
           },
           "zerolinecolor": "white",
           "zerolinewidth": 2
          },
          "yaxis": {
           "automargin": true,
           "gridcolor": "white",
           "linecolor": "white",
           "ticks": "",
           "title": {
            "standoff": 15
           },
           "zerolinecolor": "white",
           "zerolinewidth": 2
          }
         }
        }
       }
      },
      "text/html": [
       "<div>                            <div id=\"98d6ff40-5ef5-48c7-89bd-47697e6a5f5a\" class=\"plotly-graph-div\" style=\"height:525px; width:100%;\"></div>            <script type=\"text/javascript\">                require([\"plotly\"], function(Plotly) {                    window.PLOTLYENV=window.PLOTLYENV || {};                                    if (document.getElementById(\"98d6ff40-5ef5-48c7-89bd-47697e6a5f5a\")) {                    Plotly.newPlot(                        \"98d6ff40-5ef5-48c7-89bd-47697e6a5f5a\",                        [{\"coloraxis\":\"coloraxis\",\"geo\":\"geo\",\"geojson\":{\"type\":\"FeatureCollection\",\"features\":[{\"id\":\"0\",\"type\":\"Feature\",\"properties\":{},\"geometry\":{\"type\":\"Polygon\",\"coordinates\":[[[182.0,7.0],[190.0,7.0],[190.0,17.0],[182.0,17.0],[182.0,7.0]]]},\"bbox\":[182.0,7.0,190.0,17.0]},{\"id\":\"1\",\"type\":\"Feature\",\"properties\":{},\"geometry\":{\"type\":\"Polygon\",\"coordinates\":[[[271.0,7.0],[279.0,7.0],[279.0,17.0],[271.0,17.0],[271.0,7.0]]]},\"bbox\":[271.0,7.0,279.0,17.0]},{\"id\":\"2\",\"type\":\"Feature\",\"properties\":{},\"geometry\":{\"type\":\"Polygon\",\"coordinates\":[[[313.0,2.0],[442.0,2.0],[442.0,22.0],[313.0,22.0],[313.0,2.0]]]},\"bbox\":[313.0,2.0,442.0,22.0]}],\"bbox\":[182.0,2.0,442.0,22.0]},\"hovertemplate\":\"index=%{z}<extra></extra>\",\"locations\":[0,1,2],\"name\":\"\",\"z\":[0,1,2],\"type\":\"choropleth\"}],                        {\"template\":{\"data\":{\"histogram2dcontour\":[{\"type\":\"histogram2dcontour\",\"colorbar\":{\"outlinewidth\":0,\"ticks\":\"\"},\"colorscale\":[[0.0,\"#0d0887\"],[0.1111111111111111,\"#46039f\"],[0.2222222222222222,\"#7201a8\"],[0.3333333333333333,\"#9c179e\"],[0.4444444444444444,\"#bd3786\"],[0.5555555555555556,\"#d8576b\"],[0.6666666666666666,\"#ed7953\"],[0.7777777777777778,\"#fb9f3a\"],[0.8888888888888888,\"#fdca26\"],[1.0,\"#f0f921\"]]}],\"choropleth\":[{\"type\":\"choropleth\",\"colorbar\":{\"outlinewidth\":0,\"ticks\":\"\"}}],\"histogram2d\":[{\"type\":\"histogram2d\",\"colorbar\":{\"outlinewidth\":0,\"ticks\":\"\"},\"colorscale\":[[0.0,\"#0d0887\"],[0.1111111111111111,\"#46039f\"],[0.2222222222222222,\"#7201a8\"],[0.3333333333333333,\"#9c179e\"],[0.4444444444444444,\"#bd3786\"],[0.5555555555555556,\"#d8576b\"],[0.6666666666666666,\"#ed7953\"],[0.7777777777777778,\"#fb9f3a\"],[0.8888888888888888,\"#fdca26\"],[1.0,\"#f0f921\"]]}],\"heatmap\":[{\"type\":\"heatmap\",\"colorbar\":{\"outlinewidth\":0,\"ticks\":\"\"},\"colorscale\":[[0.0,\"#0d0887\"],[0.1111111111111111,\"#46039f\"],[0.2222222222222222,\"#7201a8\"],[0.3333333333333333,\"#9c179e\"],[0.4444444444444444,\"#bd3786\"],[0.5555555555555556,\"#d8576b\"],[0.6666666666666666,\"#ed7953\"],[0.7777777777777778,\"#fb9f3a\"],[0.8888888888888888,\"#fdca26\"],[1.0,\"#f0f921\"]]}],\"heatmapgl\":[{\"type\":\"heatmapgl\",\"colorbar\":{\"outlinewidth\":0,\"ticks\":\"\"},\"colorscale\":[[0.0,\"#0d0887\"],[0.1111111111111111,\"#46039f\"],[0.2222222222222222,\"#7201a8\"],[0.3333333333333333,\"#9c179e\"],[0.4444444444444444,\"#bd3786\"],[0.5555555555555556,\"#d8576b\"],[0.6666666666666666,\"#ed7953\"],[0.7777777777777778,\"#fb9f3a\"],[0.8888888888888888,\"#fdca26\"],[1.0,\"#f0f921\"]]}],\"contourcarpet\":[{\"type\":\"contourcarpet\",\"colorbar\":{\"outlinewidth\":0,\"ticks\":\"\"}}],\"contour\":[{\"type\":\"contour\",\"colorbar\":{\"outlinewidth\":0,\"ticks\":\"\"},\"colorscale\":[[0.0,\"#0d0887\"],[0.1111111111111111,\"#46039f\"],[0.2222222222222222,\"#7201a8\"],[0.3333333333333333,\"#9c179e\"],[0.4444444444444444,\"#bd3786\"],[0.5555555555555556,\"#d8576b\"],[0.6666666666666666,\"#ed7953\"],[0.7777777777777778,\"#fb9f3a\"],[0.8888888888888888,\"#fdca26\"],[1.0,\"#f0f921\"]]}],\"surface\":[{\"type\":\"surface\",\"colorbar\":{\"outlinewidth\":0,\"ticks\":\"\"},\"colorscale\":[[0.0,\"#0d0887\"],[0.1111111111111111,\"#46039f\"],[0.2222222222222222,\"#7201a8\"],[0.3333333333333333,\"#9c179e\"],[0.4444444444444444,\"#bd3786\"],[0.5555555555555556,\"#d8576b\"],[0.6666666666666666,\"#ed7953\"],[0.7777777777777778,\"#fb9f3a\"],[0.8888888888888888,\"#fdca26\"],[1.0,\"#f0f921\"]]}],\"mesh3d\":[{\"type\":\"mesh3d\",\"colorbar\":{\"outlinewidth\":0,\"ticks\":\"\"}}],\"scatter\":[{\"fillpattern\":{\"fillmode\":\"overlay\",\"size\":10,\"solidity\":0.2},\"type\":\"scatter\"}],\"parcoords\":[{\"type\":\"parcoords\",\"line\":{\"colorbar\":{\"outlinewidth\":0,\"ticks\":\"\"}}}],\"scatterpolargl\":[{\"type\":\"scatterpolargl\",\"marker\":{\"colorbar\":{\"outlinewidth\":0,\"ticks\":\"\"}}}],\"bar\":[{\"error_x\":{\"color\":\"#2a3f5f\"},\"error_y\":{\"color\":\"#2a3f5f\"},\"marker\":{\"line\":{\"color\":\"#E5ECF6\",\"width\":0.5},\"pattern\":{\"fillmode\":\"overlay\",\"size\":10,\"solidity\":0.2}},\"type\":\"bar\"}],\"scattergeo\":[{\"type\":\"scattergeo\",\"marker\":{\"colorbar\":{\"outlinewidth\":0,\"ticks\":\"\"}}}],\"scatterpolar\":[{\"type\":\"scatterpolar\",\"marker\":{\"colorbar\":{\"outlinewidth\":0,\"ticks\":\"\"}}}],\"histogram\":[{\"marker\":{\"pattern\":{\"fillmode\":\"overlay\",\"size\":10,\"solidity\":0.2}},\"type\":\"histogram\"}],\"scattergl\":[{\"type\":\"scattergl\",\"marker\":{\"colorbar\":{\"outlinewidth\":0,\"ticks\":\"\"}}}],\"scatter3d\":[{\"type\":\"scatter3d\",\"line\":{\"colorbar\":{\"outlinewidth\":0,\"ticks\":\"\"}},\"marker\":{\"colorbar\":{\"outlinewidth\":0,\"ticks\":\"\"}}}],\"scattermapbox\":[{\"type\":\"scattermapbox\",\"marker\":{\"colorbar\":{\"outlinewidth\":0,\"ticks\":\"\"}}}],\"scatterternary\":[{\"type\":\"scatterternary\",\"marker\":{\"colorbar\":{\"outlinewidth\":0,\"ticks\":\"\"}}}],\"scattercarpet\":[{\"type\":\"scattercarpet\",\"marker\":{\"colorbar\":{\"outlinewidth\":0,\"ticks\":\"\"}}}],\"carpet\":[{\"aaxis\":{\"endlinecolor\":\"#2a3f5f\",\"gridcolor\":\"white\",\"linecolor\":\"white\",\"minorgridcolor\":\"white\",\"startlinecolor\":\"#2a3f5f\"},\"baxis\":{\"endlinecolor\":\"#2a3f5f\",\"gridcolor\":\"white\",\"linecolor\":\"white\",\"minorgridcolor\":\"white\",\"startlinecolor\":\"#2a3f5f\"},\"type\":\"carpet\"}],\"table\":[{\"cells\":{\"fill\":{\"color\":\"#EBF0F8\"},\"line\":{\"color\":\"white\"}},\"header\":{\"fill\":{\"color\":\"#C8D4E3\"},\"line\":{\"color\":\"white\"}},\"type\":\"table\"}],\"barpolar\":[{\"marker\":{\"line\":{\"color\":\"#E5ECF6\",\"width\":0.5},\"pattern\":{\"fillmode\":\"overlay\",\"size\":10,\"solidity\":0.2}},\"type\":\"barpolar\"}],\"pie\":[{\"automargin\":true,\"type\":\"pie\"}]},\"layout\":{\"autotypenumbers\":\"strict\",\"colorway\":[\"#636efa\",\"#EF553B\",\"#00cc96\",\"#ab63fa\",\"#FFA15A\",\"#19d3f3\",\"#FF6692\",\"#B6E880\",\"#FF97FF\",\"#FECB52\"],\"font\":{\"color\":\"#2a3f5f\"},\"hovermode\":\"closest\",\"hoverlabel\":{\"align\":\"left\"},\"paper_bgcolor\":\"white\",\"plot_bgcolor\":\"#E5ECF6\",\"polar\":{\"bgcolor\":\"#E5ECF6\",\"angularaxis\":{\"gridcolor\":\"white\",\"linecolor\":\"white\",\"ticks\":\"\"},\"radialaxis\":{\"gridcolor\":\"white\",\"linecolor\":\"white\",\"ticks\":\"\"}},\"ternary\":{\"bgcolor\":\"#E5ECF6\",\"aaxis\":{\"gridcolor\":\"white\",\"linecolor\":\"white\",\"ticks\":\"\"},\"baxis\":{\"gridcolor\":\"white\",\"linecolor\":\"white\",\"ticks\":\"\"},\"caxis\":{\"gridcolor\":\"white\",\"linecolor\":\"white\",\"ticks\":\"\"}},\"coloraxis\":{\"colorbar\":{\"outlinewidth\":0,\"ticks\":\"\"}},\"colorscale\":{\"sequential\":[[0.0,\"#0d0887\"],[0.1111111111111111,\"#46039f\"],[0.2222222222222222,\"#7201a8\"],[0.3333333333333333,\"#9c179e\"],[0.4444444444444444,\"#bd3786\"],[0.5555555555555556,\"#d8576b\"],[0.6666666666666666,\"#ed7953\"],[0.7777777777777778,\"#fb9f3a\"],[0.8888888888888888,\"#fdca26\"],[1.0,\"#f0f921\"]],\"sequentialminus\":[[0.0,\"#0d0887\"],[0.1111111111111111,\"#46039f\"],[0.2222222222222222,\"#7201a8\"],[0.3333333333333333,\"#9c179e\"],[0.4444444444444444,\"#bd3786\"],[0.5555555555555556,\"#d8576b\"],[0.6666666666666666,\"#ed7953\"],[0.7777777777777778,\"#fb9f3a\"],[0.8888888888888888,\"#fdca26\"],[1.0,\"#f0f921\"]],\"diverging\":[[0,\"#8e0152\"],[0.1,\"#c51b7d\"],[0.2,\"#de77ae\"],[0.3,\"#f1b6da\"],[0.4,\"#fde0ef\"],[0.5,\"#f7f7f7\"],[0.6,\"#e6f5d0\"],[0.7,\"#b8e186\"],[0.8,\"#7fbc41\"],[0.9,\"#4d9221\"],[1,\"#276419\"]]},\"xaxis\":{\"gridcolor\":\"white\",\"linecolor\":\"white\",\"ticks\":\"\",\"title\":{\"standoff\":15},\"zerolinecolor\":\"white\",\"automargin\":true,\"zerolinewidth\":2},\"yaxis\":{\"gridcolor\":\"white\",\"linecolor\":\"white\",\"ticks\":\"\",\"title\":{\"standoff\":15},\"zerolinecolor\":\"white\",\"automargin\":true,\"zerolinewidth\":2},\"scene\":{\"xaxis\":{\"backgroundcolor\":\"#E5ECF6\",\"gridcolor\":\"white\",\"linecolor\":\"white\",\"showbackground\":true,\"ticks\":\"\",\"zerolinecolor\":\"white\",\"gridwidth\":2},\"yaxis\":{\"backgroundcolor\":\"#E5ECF6\",\"gridcolor\":\"white\",\"linecolor\":\"white\",\"showbackground\":true,\"ticks\":\"\",\"zerolinecolor\":\"white\",\"gridwidth\":2},\"zaxis\":{\"backgroundcolor\":\"#E5ECF6\",\"gridcolor\":\"white\",\"linecolor\":\"white\",\"showbackground\":true,\"ticks\":\"\",\"zerolinecolor\":\"white\",\"gridwidth\":2}},\"shapedefaults\":{\"line\":{\"color\":\"#2a3f5f\"}},\"annotationdefaults\":{\"arrowcolor\":\"#2a3f5f\",\"arrowhead\":0,\"arrowwidth\":1},\"geo\":{\"bgcolor\":\"white\",\"landcolor\":\"#E5ECF6\",\"subunitcolor\":\"white\",\"showland\":true,\"showlakes\":true,\"lakecolor\":\"white\"},\"title\":{\"x\":0.05},\"mapbox\":{\"style\":\"light\"}}},\"geo\":{\"domain\":{\"x\":[0.0,1.0],\"y\":[0.0,1.0]},\"center\":{},\"fitbounds\":\"locations\",\"visible\":false},\"coloraxis\":{\"colorbar\":{\"title\":{\"text\":\"index\"}},\"colorscale\":[[0.0,\"#0d0887\"],[0.1111111111111111,\"#46039f\"],[0.2222222222222222,\"#7201a8\"],[0.3333333333333333,\"#9c179e\"],[0.4444444444444444,\"#bd3786\"],[0.5555555555555556,\"#d8576b\"],[0.6666666666666666,\"#ed7953\"],[0.7777777777777778,\"#fb9f3a\"],[0.8888888888888888,\"#fdca26\"],[1.0,\"#f0f921\"]]},\"legend\":{\"tracegroupgap\":0},\"margin\":{\"t\":60}},                        {\"responsive\": true}                    ).then(function(){\n",
       "                            \n",
       "var gd = document.getElementById('98d6ff40-5ef5-48c7-89bd-47697e6a5f5a');\n",
       "var x = new MutationObserver(function (mutations, observer) {{\n",
       "        var display = window.getComputedStyle(gd).display;\n",
       "        if (!display || display === 'none') {{\n",
       "            console.log([gd, 'removed!']);\n",
       "            Plotly.purge(gd);\n",
       "            observer.disconnect();\n",
       "        }}\n",
       "}});\n",
       "\n",
       "// Listen for the removal of the full notebook cells\n",
       "var notebookContainer = gd.closest('#notebook-container');\n",
       "if (notebookContainer) {{\n",
       "    x.observe(notebookContainer, {childList: true});\n",
       "}}\n",
       "\n",
       "// Listen for the clearing of the current output cell\n",
       "var outputEl = gd.closest('.output');\n",
       "if (outputEl) {{\n",
       "    x.observe(outputEl, {childList: true});\n",
       "}}\n",
       "\n",
       "                        })                };                });            </script>        </div>"
      ]
     },
     "metadata": {},
     "output_type": "display_data"
    }
   ],
   "source": [
    "fig = px.choropleth(all_poly_gdf,\n",
    "                   geojson=all_poly_gdf['geometry'],\n",
    "                   locations=all_poly_gdf.index,\n",
    "                   color=all_poly_gdf.index,\n",
    "                   #projection=\"equirectangular\"\n",
    "                   )\n",
    "fig.update_geos(fitbounds=\"locations\", visible=False)\n",
    "fig.show()"
   ]
  },
  {
   "cell_type": "code",
   "execution_count": 13,
   "id": "922ac456",
   "metadata": {},
   "outputs": [
    {
     "data": {
      "application/vnd.plotly.v1+json": {
       "config": {
        "plotlyServerURL": "https://plot.ly"
       },
       "data": [
        {
         "autocolorscale": false,
         "colorbar": {
          "title": {
           "text": "Millions USD"
          }
         },
         "colorscale": [
          [
           0,
           "rgb(255,245,240)"
          ],
          [
           0.125,
           "rgb(254,224,210)"
          ],
          [
           0.25,
           "rgb(252,187,161)"
          ],
          [
           0.375,
           "rgb(252,146,114)"
          ],
          [
           0.5,
           "rgb(251,106,74)"
          ],
          [
           0.625,
           "rgb(239,59,44)"
          ],
          [
           0.75,
           "rgb(203,24,29)"
          ],
          [
           0.875,
           "rgb(165,15,21)"
          ],
          [
           1,
           "rgb(103,0,13)"
          ]
         ],
         "locationmode": "USA-states",
         "locations": [
          "AL",
          "AK",
          "AZ",
          "AR",
          "CA",
          "CO",
          "CT",
          "DE",
          "FL",
          "GA",
          "HI",
          "ID",
          "IL",
          "IN",
          "IA",
          "KS",
          "KY",
          "LA",
          "ME",
          "MD",
          "MA",
          "MI",
          "MN",
          "MS",
          "MO",
          "MT",
          "NE",
          "NV",
          "NH",
          "NJ",
          "NM",
          "NY",
          "NC",
          "ND",
          "OH",
          "OK",
          "OR",
          "PA",
          "RI",
          "SC",
          "SD",
          "TN",
          "TX",
          "UT",
          "VT",
          "VA",
          "WA",
          "WV",
          "WI",
          "WY"
         ],
         "marker": {
          "line": {
           "color": "white"
          }
         },
         "text": [
          "Alabama<br>Beef 34.4 Dairy 4.06<br>Fruits 25.11 Veggies 14.33<br>Wheat 70.0 Corn 34.9",
          "Alaska<br>Beef 0.2 Dairy 0.19<br>Fruits 0.0 Veggies 1.56<br>Wheat 0.0 Corn 0.0",
          "Arizona<br>Beef 71.3 Dairy 105.48<br>Fruits 60.27 Veggies 386.91<br>Wheat 48.7 Corn 7.3",
          "Arkansas<br>Beef 53.2 Dairy 3.53<br>Fruits 6.88 Veggies 11.45<br>Wheat 114.5 Corn 69.5",
          "California<br>Beef 228.7 Dairy 929.95<br>Fruits 8736.4 Veggies 2106.79<br>Wheat 249.3 Corn 34.6",
          "Colorado<br>Beef 261.4 Dairy 71.94<br>Fruits 17.99 Veggies 118.27<br>Wheat 400.5 Corn 183.2",
          "Connecticut<br>Beef 1.1 Dairy 9.49<br>Fruits 13.1 Veggies 11.16<br>Wheat 0.0 Corn 0.0",
          "Delaware<br>Beef 0.4 Dairy 2.3<br>Fruits 1.53 Veggies 20.03<br>Wheat 22.9 Corn 26.9",
          "Florida<br>Beef 42.6 Dairy 66.31<br>Fruits 1371.36 Veggies 450.86<br>Wheat 1.8 Corn 3.5",
          "Georgia<br>Beef 31.0 Dairy 38.38<br>Fruits 233.51 Veggies 154.77<br>Wheat 65.4 Corn 57.8",
          "Hawaii<br>Beef 4.0 Dairy 1.16<br>Fruits 55.51 Veggies 24.83<br>Wheat 0.0 Corn 0.0",
          "Idaho<br>Beef 119.8 Dairy 294.6<br>Fruits 21.64 Veggies 319.19<br>Wheat 568.2 Corn 24.0",
          "Illinois<br>Beef 53.7 Dairy 45.82<br>Fruits 12.53 Veggies 39.95<br>Wheat 223.8 Corn 2228.5",
          "Indiana<br>Beef 21.9 Dairy 89.7<br>Fruits 12.98 Veggies 37.89<br>Wheat 114.0 Corn 1123.2",
          "Iowa<br>Beef 289.8 Dairy 107.0<br>Fruits 3.24 Veggies 7.1<br>Wheat 3.1 Corn 2529.8",
          "Kansas<br>Beef 659.3 Dairy 65.45<br>Fruits 3.11 Veggies 9.32<br>Wheat 1426.5 Corn 457.3",
          "Kentucky<br>Beef 54.8 Dairy 28.27<br>Fruits 6.6 Veggies 0.0<br>Wheat 149.3 Corn 179.1",
          "Louisiana<br>Beef 19.8 Dairy 6.02<br>Fruits 17.83 Veggies 17.25<br>Wheat 78.7 Corn 91.4",
          "Maine<br>Beef 1.4 Dairy 16.18<br>Fruits 52.01 Veggies 62.9<br>Wheat 0.0 Corn 0.0",
          "Maryland<br>Beef 5.6 Dairy 24.81<br>Fruits 12.9 Veggies 20.43<br>Wheat 55.8 Corn 54.1",
          "Massachusetts<br>Beef 0.6 Dairy 5.81<br>Fruits 80.83 Veggies 21.13<br>Wheat 0.0 Corn 0.0",
          "Michigan<br>Beef 37.7 Dairy 214.82<br>Fruits 257.69 Veggies 189.96<br>Wheat 247.0 Corn 381.5",
          "Minnesota<br>Beef 112.3 Dairy 218.05<br>Fruits 7.91 Veggies 120.37<br>Wheat 538.1 Corn 1264.3",
          "Mississippi<br>Beef 12.8 Dairy 5.45<br>Fruits 17.04 Veggies 27.87<br>Wheat 102.2 Corn 110.0",
          "Missouri<br>Beef 137.2 Dairy 34.26<br>Fruits 13.18 Veggies 17.9<br>Wheat 161.7 Corn 428.8",
          "Montana<br>Beef 105.0 Dairy 6.82<br>Fruits 3.3 Veggies 45.27<br>Wheat 1198.1 Corn 5.4",
          "Nebraska<br>Beef 762.2 Dairy 30.07<br>Fruits 2.16 Veggies 53.5<br>Wheat 292.3 Corn 1735.9",
          "Nevada<br>Beef 21.8 Dairy 16.57<br>Fruits 1.19 Veggies 27.93<br>Wheat 5.4 Corn 0.0",
          "New Hampshire<br>Beef 0.6 Dairy 7.46<br>Fruits 7.98 Veggies 4.5<br>Wheat 0.0 Corn 0.0",
          "New Jersey<br>Beef 0.8 Dairy 3.37<br>Fruits 109.45 Veggies 56.54<br>Wheat 6.7 Corn 10.1",
          "New Mexico<br>Beef 117.2 Dairy 191.01<br>Fruits 101.9 Veggies 43.88<br>Wheat 13.9 Corn 11.2",
          "New York<br>Beef 22.2 Dairy 331.8<br>Fruits 202.56 Veggies 143.37<br>Wheat 29.9 Corn 106.1",
          "North Carolina<br>Beef 24.8 Dairy 24.9<br>Fruits 74.47 Veggies 150.45<br>Wheat 200.3 Corn 92.2",
          "North Dakota<br>Beef 78.5 Dairy 8.14<br>Fruits 0.25 Veggies 130.79<br>Wheat 1664.5 Corn 236.1",
          "Ohio<br>Beef 36.2 Dairy 134.57<br>Fruits 27.21 Veggies 53.53<br>Wheat 207.4 Corn 535.1",
          "Oklahoma<br>Beef 337.6 Dairy 24.35<br>Fruits 9.24 Veggies 8.9<br>Wheat 324.8 Corn 27.5",
          "Oregon<br>Beef 58.8 Dairy 63.66<br>Fruits 315.04 Veggies 126.5<br>Wheat 320.3 Corn 11.7",
          "Pennsylvania<br>Beef 50.9 Dairy 280.87<br>Fruits 89.48 Veggies 38.26<br>Wheat 41.0 Corn 112.1",
          "Rhode Island<br>Beef 0.1 Dairy 0.52<br>Fruits 2.83 Veggies 3.02<br>Wheat 0.0 Corn 0.0",
          "South Carolina<br>Beef 15.2 Dairy 7.62<br>Fruits 53.45 Veggies 42.66<br>Wheat 55.3 Corn 32.1",
          "South Dakota<br>Beef 193.5 Dairy 46.77<br>Fruits 0.8 Veggies 4.06<br>Wheat 704.5 Corn 643.6",
          "Tennessee<br>Beef 51.1 Dairy 21.18<br>Fruits 6.23 Veggies 24.67<br>Wheat 100.0 Corn 88.8",
          "Texas<br>Beef 961.0 Dairy 240.55<br>Fruits 99.9 Veggies 115.23<br>Wheat 309.7 Corn 167.2",
          "Utah<br>Beef 27.9 Dairy 48.6<br>Fruits 12.34 Veggies 6.6<br>Wheat 42.8 Corn 5.3",
          "Vermont<br>Beef 6.2 Dairy 65.98<br>Fruits 8.01 Veggies 4.05<br>Wheat 0.0 Corn 0.0",
          "Virginia<br>Beef 39.5 Dairy 47.85<br>Fruits 36.48 Veggies 27.25<br>Wheat 77.5 Corn 39.5",
          "Washington<br>Beef 59.2 Dairy 154.18<br>Fruits 1738.57 Veggies 363.79<br>Wheat 786.3 Corn 29.5",
          "West Virginia<br>Beef 12.0 Dairy 3.9<br>Fruits 11.54 Veggies 0.0<br>Wheat 1.6 Corn 3.5",
          "Wisconsin<br>Beef 107.3 Dairy 633.6<br>Fruits 133.8 Veggies 148.99<br>Wheat 96.7 Corn 460.5",
          "Wyoming<br>Beef 75.1 Dairy 2.89<br>Fruits 0.17 Veggies 10.23<br>Wheat 20.7 Corn 9.0"
         ],
         "type": "choropleth",
         "z": [
          1390.63,
          13.31,
          1463.17,
          3586.02,
          16472.88,
          1851.33,
          259.62,
          282.19,
          3764.09,
          2860.84,
          401.84,
          2078.89,
          8709.48,
          5050.23,
          11273.76,
          4589.01,
          1889.15,
          1914.23,
          278.37,
          692.75,
          248.65,
          3164.16,
          7192.33,
          2170.8,
          3933.42,
          1718,
          7114.13,
          139.89,
          73.06,
          500.4,
          751.58,
          1488.9,
          3806.05,
          3761.96,
          3979.79,
          1646.41,
          1794.57,
          1969.87,
          31.59,
          929.93,
          3770.19,
          1535.13,
          6648.22,
          453.39,
          180.14,
          1146.48,
          3894.81,
          138.89,
          3090.23,
          349.69
         ]
        }
       ],
       "layout": {
        "geo": {
         "lakecolor": "rgb(255, 255, 255)",
         "projection": {
          "type": "albers usa"
         },
         "scope": "usa",
         "showlakes": true
        },
        "template": {
         "data": {
          "bar": [
           {
            "error_x": {
             "color": "#2a3f5f"
            },
            "error_y": {
             "color": "#2a3f5f"
            },
            "marker": {
             "line": {
              "color": "#E5ECF6",
              "width": 0.5
             },
             "pattern": {
              "fillmode": "overlay",
              "size": 10,
              "solidity": 0.2
             }
            },
            "type": "bar"
           }
          ],
          "barpolar": [
           {
            "marker": {
             "line": {
              "color": "#E5ECF6",
              "width": 0.5
             },
             "pattern": {
              "fillmode": "overlay",
              "size": 10,
              "solidity": 0.2
             }
            },
            "type": "barpolar"
           }
          ],
          "carpet": [
           {
            "aaxis": {
             "endlinecolor": "#2a3f5f",
             "gridcolor": "white",
             "linecolor": "white",
             "minorgridcolor": "white",
             "startlinecolor": "#2a3f5f"
            },
            "baxis": {
             "endlinecolor": "#2a3f5f",
             "gridcolor": "white",
             "linecolor": "white",
             "minorgridcolor": "white",
             "startlinecolor": "#2a3f5f"
            },
            "type": "carpet"
           }
          ],
          "choropleth": [
           {
            "colorbar": {
             "outlinewidth": 0,
             "ticks": ""
            },
            "type": "choropleth"
           }
          ],
          "contour": [
           {
            "colorbar": {
             "outlinewidth": 0,
             "ticks": ""
            },
            "colorscale": [
             [
              0,
              "#0d0887"
             ],
             [
              0.1111111111111111,
              "#46039f"
             ],
             [
              0.2222222222222222,
              "#7201a8"
             ],
             [
              0.3333333333333333,
              "#9c179e"
             ],
             [
              0.4444444444444444,
              "#bd3786"
             ],
             [
              0.5555555555555556,
              "#d8576b"
             ],
             [
              0.6666666666666666,
              "#ed7953"
             ],
             [
              0.7777777777777778,
              "#fb9f3a"
             ],
             [
              0.8888888888888888,
              "#fdca26"
             ],
             [
              1,
              "#f0f921"
             ]
            ],
            "type": "contour"
           }
          ],
          "contourcarpet": [
           {
            "colorbar": {
             "outlinewidth": 0,
             "ticks": ""
            },
            "type": "contourcarpet"
           }
          ],
          "heatmap": [
           {
            "colorbar": {
             "outlinewidth": 0,
             "ticks": ""
            },
            "colorscale": [
             [
              0,
              "#0d0887"
             ],
             [
              0.1111111111111111,
              "#46039f"
             ],
             [
              0.2222222222222222,
              "#7201a8"
             ],
             [
              0.3333333333333333,
              "#9c179e"
             ],
             [
              0.4444444444444444,
              "#bd3786"
             ],
             [
              0.5555555555555556,
              "#d8576b"
             ],
             [
              0.6666666666666666,
              "#ed7953"
             ],
             [
              0.7777777777777778,
              "#fb9f3a"
             ],
             [
              0.8888888888888888,
              "#fdca26"
             ],
             [
              1,
              "#f0f921"
             ]
            ],
            "type": "heatmap"
           }
          ],
          "heatmapgl": [
           {
            "colorbar": {
             "outlinewidth": 0,
             "ticks": ""
            },
            "colorscale": [
             [
              0,
              "#0d0887"
             ],
             [
              0.1111111111111111,
              "#46039f"
             ],
             [
              0.2222222222222222,
              "#7201a8"
             ],
             [
              0.3333333333333333,
              "#9c179e"
             ],
             [
              0.4444444444444444,
              "#bd3786"
             ],
             [
              0.5555555555555556,
              "#d8576b"
             ],
             [
              0.6666666666666666,
              "#ed7953"
             ],
             [
              0.7777777777777778,
              "#fb9f3a"
             ],
             [
              0.8888888888888888,
              "#fdca26"
             ],
             [
              1,
              "#f0f921"
             ]
            ],
            "type": "heatmapgl"
           }
          ],
          "histogram": [
           {
            "marker": {
             "pattern": {
              "fillmode": "overlay",
              "size": 10,
              "solidity": 0.2
             }
            },
            "type": "histogram"
           }
          ],
          "histogram2d": [
           {
            "colorbar": {
             "outlinewidth": 0,
             "ticks": ""
            },
            "colorscale": [
             [
              0,
              "#0d0887"
             ],
             [
              0.1111111111111111,
              "#46039f"
             ],
             [
              0.2222222222222222,
              "#7201a8"
             ],
             [
              0.3333333333333333,
              "#9c179e"
             ],
             [
              0.4444444444444444,
              "#bd3786"
             ],
             [
              0.5555555555555556,
              "#d8576b"
             ],
             [
              0.6666666666666666,
              "#ed7953"
             ],
             [
              0.7777777777777778,
              "#fb9f3a"
             ],
             [
              0.8888888888888888,
              "#fdca26"
             ],
             [
              1,
              "#f0f921"
             ]
            ],
            "type": "histogram2d"
           }
          ],
          "histogram2dcontour": [
           {
            "colorbar": {
             "outlinewidth": 0,
             "ticks": ""
            },
            "colorscale": [
             [
              0,
              "#0d0887"
             ],
             [
              0.1111111111111111,
              "#46039f"
             ],
             [
              0.2222222222222222,
              "#7201a8"
             ],
             [
              0.3333333333333333,
              "#9c179e"
             ],
             [
              0.4444444444444444,
              "#bd3786"
             ],
             [
              0.5555555555555556,
              "#d8576b"
             ],
             [
              0.6666666666666666,
              "#ed7953"
             ],
             [
              0.7777777777777778,
              "#fb9f3a"
             ],
             [
              0.8888888888888888,
              "#fdca26"
             ],
             [
              1,
              "#f0f921"
             ]
            ],
            "type": "histogram2dcontour"
           }
          ],
          "mesh3d": [
           {
            "colorbar": {
             "outlinewidth": 0,
             "ticks": ""
            },
            "type": "mesh3d"
           }
          ],
          "parcoords": [
           {
            "line": {
             "colorbar": {
              "outlinewidth": 0,
              "ticks": ""
             }
            },
            "type": "parcoords"
           }
          ],
          "pie": [
           {
            "automargin": true,
            "type": "pie"
           }
          ],
          "scatter": [
           {
            "fillpattern": {
             "fillmode": "overlay",
             "size": 10,
             "solidity": 0.2
            },
            "type": "scatter"
           }
          ],
          "scatter3d": [
           {
            "line": {
             "colorbar": {
              "outlinewidth": 0,
              "ticks": ""
             }
            },
            "marker": {
             "colorbar": {
              "outlinewidth": 0,
              "ticks": ""
             }
            },
            "type": "scatter3d"
           }
          ],
          "scattercarpet": [
           {
            "marker": {
             "colorbar": {
              "outlinewidth": 0,
              "ticks": ""
             }
            },
            "type": "scattercarpet"
           }
          ],
          "scattergeo": [
           {
            "marker": {
             "colorbar": {
              "outlinewidth": 0,
              "ticks": ""
             }
            },
            "type": "scattergeo"
           }
          ],
          "scattergl": [
           {
            "marker": {
             "colorbar": {
              "outlinewidth": 0,
              "ticks": ""
             }
            },
            "type": "scattergl"
           }
          ],
          "scattermapbox": [
           {
            "marker": {
             "colorbar": {
              "outlinewidth": 0,
              "ticks": ""
             }
            },
            "type": "scattermapbox"
           }
          ],
          "scatterpolar": [
           {
            "marker": {
             "colorbar": {
              "outlinewidth": 0,
              "ticks": ""
             }
            },
            "type": "scatterpolar"
           }
          ],
          "scatterpolargl": [
           {
            "marker": {
             "colorbar": {
              "outlinewidth": 0,
              "ticks": ""
             }
            },
            "type": "scatterpolargl"
           }
          ],
          "scatterternary": [
           {
            "marker": {
             "colorbar": {
              "outlinewidth": 0,
              "ticks": ""
             }
            },
            "type": "scatterternary"
           }
          ],
          "surface": [
           {
            "colorbar": {
             "outlinewidth": 0,
             "ticks": ""
            },
            "colorscale": [
             [
              0,
              "#0d0887"
             ],
             [
              0.1111111111111111,
              "#46039f"
             ],
             [
              0.2222222222222222,
              "#7201a8"
             ],
             [
              0.3333333333333333,
              "#9c179e"
             ],
             [
              0.4444444444444444,
              "#bd3786"
             ],
             [
              0.5555555555555556,
              "#d8576b"
             ],
             [
              0.6666666666666666,
              "#ed7953"
             ],
             [
              0.7777777777777778,
              "#fb9f3a"
             ],
             [
              0.8888888888888888,
              "#fdca26"
             ],
             [
              1,
              "#f0f921"
             ]
            ],
            "type": "surface"
           }
          ],
          "table": [
           {
            "cells": {
             "fill": {
              "color": "#EBF0F8"
             },
             "line": {
              "color": "white"
             }
            },
            "header": {
             "fill": {
              "color": "#C8D4E3"
             },
             "line": {
              "color": "white"
             }
            },
            "type": "table"
           }
          ]
         },
         "layout": {
          "annotationdefaults": {
           "arrowcolor": "#2a3f5f",
           "arrowhead": 0,
           "arrowwidth": 1
          },
          "autotypenumbers": "strict",
          "coloraxis": {
           "colorbar": {
            "outlinewidth": 0,
            "ticks": ""
           }
          },
          "colorscale": {
           "diverging": [
            [
             0,
             "#8e0152"
            ],
            [
             0.1,
             "#c51b7d"
            ],
            [
             0.2,
             "#de77ae"
            ],
            [
             0.3,
             "#f1b6da"
            ],
            [
             0.4,
             "#fde0ef"
            ],
            [
             0.5,
             "#f7f7f7"
            ],
            [
             0.6,
             "#e6f5d0"
            ],
            [
             0.7,
             "#b8e186"
            ],
            [
             0.8,
             "#7fbc41"
            ],
            [
             0.9,
             "#4d9221"
            ],
            [
             1,
             "#276419"
            ]
           ],
           "sequential": [
            [
             0,
             "#0d0887"
            ],
            [
             0.1111111111111111,
             "#46039f"
            ],
            [
             0.2222222222222222,
             "#7201a8"
            ],
            [
             0.3333333333333333,
             "#9c179e"
            ],
            [
             0.4444444444444444,
             "#bd3786"
            ],
            [
             0.5555555555555556,
             "#d8576b"
            ],
            [
             0.6666666666666666,
             "#ed7953"
            ],
            [
             0.7777777777777778,
             "#fb9f3a"
            ],
            [
             0.8888888888888888,
             "#fdca26"
            ],
            [
             1,
             "#f0f921"
            ]
           ],
           "sequentialminus": [
            [
             0,
             "#0d0887"
            ],
            [
             0.1111111111111111,
             "#46039f"
            ],
            [
             0.2222222222222222,
             "#7201a8"
            ],
            [
             0.3333333333333333,
             "#9c179e"
            ],
            [
             0.4444444444444444,
             "#bd3786"
            ],
            [
             0.5555555555555556,
             "#d8576b"
            ],
            [
             0.6666666666666666,
             "#ed7953"
            ],
            [
             0.7777777777777778,
             "#fb9f3a"
            ],
            [
             0.8888888888888888,
             "#fdca26"
            ],
            [
             1,
             "#f0f921"
            ]
           ]
          },
          "colorway": [
           "#636efa",
           "#EF553B",
           "#00cc96",
           "#ab63fa",
           "#FFA15A",
           "#19d3f3",
           "#FF6692",
           "#B6E880",
           "#FF97FF",
           "#FECB52"
          ],
          "font": {
           "color": "#2a3f5f"
          },
          "geo": {
           "bgcolor": "white",
           "lakecolor": "white",
           "landcolor": "#E5ECF6",
           "showlakes": true,
           "showland": true,
           "subunitcolor": "white"
          },
          "hoverlabel": {
           "align": "left"
          },
          "hovermode": "closest",
          "mapbox": {
           "style": "light"
          },
          "paper_bgcolor": "white",
          "plot_bgcolor": "#E5ECF6",
          "polar": {
           "angularaxis": {
            "gridcolor": "white",
            "linecolor": "white",
            "ticks": ""
           },
           "bgcolor": "#E5ECF6",
           "radialaxis": {
            "gridcolor": "white",
            "linecolor": "white",
            "ticks": ""
           }
          },
          "scene": {
           "xaxis": {
            "backgroundcolor": "#E5ECF6",
            "gridcolor": "white",
            "gridwidth": 2,
            "linecolor": "white",
            "showbackground": true,
            "ticks": "",
            "zerolinecolor": "white"
           },
           "yaxis": {
            "backgroundcolor": "#E5ECF6",
            "gridcolor": "white",
            "gridwidth": 2,
            "linecolor": "white",
            "showbackground": true,
            "ticks": "",
            "zerolinecolor": "white"
           },
           "zaxis": {
            "backgroundcolor": "#E5ECF6",
            "gridcolor": "white",
            "gridwidth": 2,
            "linecolor": "white",
            "showbackground": true,
            "ticks": "",
            "zerolinecolor": "white"
           }
          },
          "shapedefaults": {
           "line": {
            "color": "#2a3f5f"
           }
          },
          "ternary": {
           "aaxis": {
            "gridcolor": "white",
            "linecolor": "white",
            "ticks": ""
           },
           "baxis": {
            "gridcolor": "white",
            "linecolor": "white",
            "ticks": ""
           },
           "bgcolor": "#E5ECF6",
           "caxis": {
            "gridcolor": "white",
            "linecolor": "white",
            "ticks": ""
           }
          },
          "title": {
           "x": 0.05
          },
          "xaxis": {
           "automargin": true,
           "gridcolor": "white",
           "linecolor": "white",
           "ticks": "",
           "title": {
            "standoff": 15
           },
           "zerolinecolor": "white",
           "zerolinewidth": 2
          },
          "yaxis": {
           "automargin": true,
           "gridcolor": "white",
           "linecolor": "white",
           "ticks": "",
           "title": {
            "standoff": 15
           },
           "zerolinecolor": "white",
           "zerolinewidth": 2
          }
         }
        },
        "title": {
         "text": "2011 US Agriculture Exports by State<br>(Hover for breakdown)"
        }
       }
      },
      "text/html": [
       "<div>                            <div id=\"4d32cb39-5e5b-4ffc-a21b-c5d2def02bd3\" class=\"plotly-graph-div\" style=\"height:525px; width:100%;\"></div>            <script type=\"text/javascript\">                require([\"plotly\"], function(Plotly) {                    window.PLOTLYENV=window.PLOTLYENV || {};                                    if (document.getElementById(\"4d32cb39-5e5b-4ffc-a21b-c5d2def02bd3\")) {                    Plotly.newPlot(                        \"4d32cb39-5e5b-4ffc-a21b-c5d2def02bd3\",                        [{\"autocolorscale\":false,\"colorbar\":{\"title\":{\"text\":\"Millions USD\"}},\"colorscale\":[[0.0,\"rgb(255,245,240)\"],[0.125,\"rgb(254,224,210)\"],[0.25,\"rgb(252,187,161)\"],[0.375,\"rgb(252,146,114)\"],[0.5,\"rgb(251,106,74)\"],[0.625,\"rgb(239,59,44)\"],[0.75,\"rgb(203,24,29)\"],[0.875,\"rgb(165,15,21)\"],[1.0,\"rgb(103,0,13)\"]],\"locationmode\":\"USA-states\",\"locations\":[\"AL\",\"AK\",\"AZ\",\"AR\",\"CA\",\"CO\",\"CT\",\"DE\",\"FL\",\"GA\",\"HI\",\"ID\",\"IL\",\"IN\",\"IA\",\"KS\",\"KY\",\"LA\",\"ME\",\"MD\",\"MA\",\"MI\",\"MN\",\"MS\",\"MO\",\"MT\",\"NE\",\"NV\",\"NH\",\"NJ\",\"NM\",\"NY\",\"NC\",\"ND\",\"OH\",\"OK\",\"OR\",\"PA\",\"RI\",\"SC\",\"SD\",\"TN\",\"TX\",\"UT\",\"VT\",\"VA\",\"WA\",\"WV\",\"WI\",\"WY\"],\"marker\":{\"line\":{\"color\":\"white\"}},\"text\":[\"Alabama<br>Beef 34.4 Dairy 4.06<br>Fruits 25.11 Veggies 14.33<br>Wheat 70.0 Corn 34.9\",\"Alaska<br>Beef 0.2 Dairy 0.19<br>Fruits 0.0 Veggies 1.56<br>Wheat 0.0 Corn 0.0\",\"Arizona<br>Beef 71.3 Dairy 105.48<br>Fruits 60.27 Veggies 386.91<br>Wheat 48.7 Corn 7.3\",\"Arkansas<br>Beef 53.2 Dairy 3.53<br>Fruits 6.88 Veggies 11.45<br>Wheat 114.5 Corn 69.5\",\"California<br>Beef 228.7 Dairy 929.95<br>Fruits 8736.4 Veggies 2106.79<br>Wheat 249.3 Corn 34.6\",\"Colorado<br>Beef 261.4 Dairy 71.94<br>Fruits 17.99 Veggies 118.27<br>Wheat 400.5 Corn 183.2\",\"Connecticut<br>Beef 1.1 Dairy 9.49<br>Fruits 13.1 Veggies 11.16<br>Wheat 0.0 Corn 0.0\",\"Delaware<br>Beef 0.4 Dairy 2.3<br>Fruits 1.53 Veggies 20.03<br>Wheat 22.9 Corn 26.9\",\"Florida<br>Beef 42.6 Dairy 66.31<br>Fruits 1371.36 Veggies 450.86<br>Wheat 1.8 Corn 3.5\",\"Georgia<br>Beef 31.0 Dairy 38.38<br>Fruits 233.51 Veggies 154.77<br>Wheat 65.4 Corn 57.8\",\"Hawaii<br>Beef 4.0 Dairy 1.16<br>Fruits 55.51 Veggies 24.83<br>Wheat 0.0 Corn 0.0\",\"Idaho<br>Beef 119.8 Dairy 294.6<br>Fruits 21.64 Veggies 319.19<br>Wheat 568.2 Corn 24.0\",\"Illinois<br>Beef 53.7 Dairy 45.82<br>Fruits 12.53 Veggies 39.95<br>Wheat 223.8 Corn 2228.5\",\"Indiana<br>Beef 21.9 Dairy 89.7<br>Fruits 12.98 Veggies 37.89<br>Wheat 114.0 Corn 1123.2\",\"Iowa<br>Beef 289.8 Dairy 107.0<br>Fruits 3.24 Veggies 7.1<br>Wheat 3.1 Corn 2529.8\",\"Kansas<br>Beef 659.3 Dairy 65.45<br>Fruits 3.11 Veggies 9.32<br>Wheat 1426.5 Corn 457.3\",\"Kentucky<br>Beef 54.8 Dairy 28.27<br>Fruits 6.6 Veggies 0.0<br>Wheat 149.3 Corn 179.1\",\"Louisiana<br>Beef 19.8 Dairy 6.02<br>Fruits 17.83 Veggies 17.25<br>Wheat 78.7 Corn 91.4\",\"Maine<br>Beef 1.4 Dairy 16.18<br>Fruits 52.01 Veggies 62.9<br>Wheat 0.0 Corn 0.0\",\"Maryland<br>Beef 5.6 Dairy 24.81<br>Fruits 12.9 Veggies 20.43<br>Wheat 55.8 Corn 54.1\",\"Massachusetts<br>Beef 0.6 Dairy 5.81<br>Fruits 80.83 Veggies 21.13<br>Wheat 0.0 Corn 0.0\",\"Michigan<br>Beef 37.7 Dairy 214.82<br>Fruits 257.69 Veggies 189.96<br>Wheat 247.0 Corn 381.5\",\"Minnesota<br>Beef 112.3 Dairy 218.05<br>Fruits 7.91 Veggies 120.37<br>Wheat 538.1 Corn 1264.3\",\"Mississippi<br>Beef 12.8 Dairy 5.45<br>Fruits 17.04 Veggies 27.87<br>Wheat 102.2 Corn 110.0\",\"Missouri<br>Beef 137.2 Dairy 34.26<br>Fruits 13.18 Veggies 17.9<br>Wheat 161.7 Corn 428.8\",\"Montana<br>Beef 105.0 Dairy 6.82<br>Fruits 3.3 Veggies 45.27<br>Wheat 1198.1 Corn 5.4\",\"Nebraska<br>Beef 762.2 Dairy 30.07<br>Fruits 2.16 Veggies 53.5<br>Wheat 292.3 Corn 1735.9\",\"Nevada<br>Beef 21.8 Dairy 16.57<br>Fruits 1.19 Veggies 27.93<br>Wheat 5.4 Corn 0.0\",\"New Hampshire<br>Beef 0.6 Dairy 7.46<br>Fruits 7.98 Veggies 4.5<br>Wheat 0.0 Corn 0.0\",\"New Jersey<br>Beef 0.8 Dairy 3.37<br>Fruits 109.45 Veggies 56.54<br>Wheat 6.7 Corn 10.1\",\"New Mexico<br>Beef 117.2 Dairy 191.01<br>Fruits 101.9 Veggies 43.88<br>Wheat 13.9 Corn 11.2\",\"New York<br>Beef 22.2 Dairy 331.8<br>Fruits 202.56 Veggies 143.37<br>Wheat 29.9 Corn 106.1\",\"North Carolina<br>Beef 24.8 Dairy 24.9<br>Fruits 74.47 Veggies 150.45<br>Wheat 200.3 Corn 92.2\",\"North Dakota<br>Beef 78.5 Dairy 8.14<br>Fruits 0.25 Veggies 130.79<br>Wheat 1664.5 Corn 236.1\",\"Ohio<br>Beef 36.2 Dairy 134.57<br>Fruits 27.21 Veggies 53.53<br>Wheat 207.4 Corn 535.1\",\"Oklahoma<br>Beef 337.6 Dairy 24.35<br>Fruits 9.24 Veggies 8.9<br>Wheat 324.8 Corn 27.5\",\"Oregon<br>Beef 58.8 Dairy 63.66<br>Fruits 315.04 Veggies 126.5<br>Wheat 320.3 Corn 11.7\",\"Pennsylvania<br>Beef 50.9 Dairy 280.87<br>Fruits 89.48 Veggies 38.26<br>Wheat 41.0 Corn 112.1\",\"Rhode Island<br>Beef 0.1 Dairy 0.52<br>Fruits 2.83 Veggies 3.02<br>Wheat 0.0 Corn 0.0\",\"South Carolina<br>Beef 15.2 Dairy 7.62<br>Fruits 53.45 Veggies 42.66<br>Wheat 55.3 Corn 32.1\",\"South Dakota<br>Beef 193.5 Dairy 46.77<br>Fruits 0.8 Veggies 4.06<br>Wheat 704.5 Corn 643.6\",\"Tennessee<br>Beef 51.1 Dairy 21.18<br>Fruits 6.23 Veggies 24.67<br>Wheat 100.0 Corn 88.8\",\"Texas<br>Beef 961.0 Dairy 240.55<br>Fruits 99.9 Veggies 115.23<br>Wheat 309.7 Corn 167.2\",\"Utah<br>Beef 27.9 Dairy 48.6<br>Fruits 12.34 Veggies 6.6<br>Wheat 42.8 Corn 5.3\",\"Vermont<br>Beef 6.2 Dairy 65.98<br>Fruits 8.01 Veggies 4.05<br>Wheat 0.0 Corn 0.0\",\"Virginia<br>Beef 39.5 Dairy 47.85<br>Fruits 36.48 Veggies 27.25<br>Wheat 77.5 Corn 39.5\",\"Washington<br>Beef 59.2 Dairy 154.18<br>Fruits 1738.57 Veggies 363.79<br>Wheat 786.3 Corn 29.5\",\"West Virginia<br>Beef 12.0 Dairy 3.9<br>Fruits 11.54 Veggies 0.0<br>Wheat 1.6 Corn 3.5\",\"Wisconsin<br>Beef 107.3 Dairy 633.6<br>Fruits 133.8 Veggies 148.99<br>Wheat 96.7 Corn 460.5\",\"Wyoming<br>Beef 75.1 Dairy 2.89<br>Fruits 0.17 Veggies 10.23<br>Wheat 20.7 Corn 9.0\"],\"z\":[1390.63,13.31,1463.17,3586.02,16472.88,1851.33,259.62,282.19,3764.09,2860.84,401.84,2078.89,8709.48,5050.23,11273.76,4589.01,1889.15,1914.23,278.37,692.75,248.65,3164.16,7192.33,2170.8,3933.42,1718.0,7114.13,139.89,73.06,500.4,751.58,1488.9,3806.05,3761.96,3979.79,1646.41,1794.57,1969.87,31.59,929.93,3770.19,1535.13,6648.22,453.39,180.14,1146.48,3894.81,138.89,3090.23,349.69],\"type\":\"choropleth\"}],                        {\"template\":{\"data\":{\"histogram2dcontour\":[{\"type\":\"histogram2dcontour\",\"colorbar\":{\"outlinewidth\":0,\"ticks\":\"\"},\"colorscale\":[[0.0,\"#0d0887\"],[0.1111111111111111,\"#46039f\"],[0.2222222222222222,\"#7201a8\"],[0.3333333333333333,\"#9c179e\"],[0.4444444444444444,\"#bd3786\"],[0.5555555555555556,\"#d8576b\"],[0.6666666666666666,\"#ed7953\"],[0.7777777777777778,\"#fb9f3a\"],[0.8888888888888888,\"#fdca26\"],[1.0,\"#f0f921\"]]}],\"choropleth\":[{\"type\":\"choropleth\",\"colorbar\":{\"outlinewidth\":0,\"ticks\":\"\"}}],\"histogram2d\":[{\"type\":\"histogram2d\",\"colorbar\":{\"outlinewidth\":0,\"ticks\":\"\"},\"colorscale\":[[0.0,\"#0d0887\"],[0.1111111111111111,\"#46039f\"],[0.2222222222222222,\"#7201a8\"],[0.3333333333333333,\"#9c179e\"],[0.4444444444444444,\"#bd3786\"],[0.5555555555555556,\"#d8576b\"],[0.6666666666666666,\"#ed7953\"],[0.7777777777777778,\"#fb9f3a\"],[0.8888888888888888,\"#fdca26\"],[1.0,\"#f0f921\"]]}],\"heatmap\":[{\"type\":\"heatmap\",\"colorbar\":{\"outlinewidth\":0,\"ticks\":\"\"},\"colorscale\":[[0.0,\"#0d0887\"],[0.1111111111111111,\"#46039f\"],[0.2222222222222222,\"#7201a8\"],[0.3333333333333333,\"#9c179e\"],[0.4444444444444444,\"#bd3786\"],[0.5555555555555556,\"#d8576b\"],[0.6666666666666666,\"#ed7953\"],[0.7777777777777778,\"#fb9f3a\"],[0.8888888888888888,\"#fdca26\"],[1.0,\"#f0f921\"]]}],\"heatmapgl\":[{\"type\":\"heatmapgl\",\"colorbar\":{\"outlinewidth\":0,\"ticks\":\"\"},\"colorscale\":[[0.0,\"#0d0887\"],[0.1111111111111111,\"#46039f\"],[0.2222222222222222,\"#7201a8\"],[0.3333333333333333,\"#9c179e\"],[0.4444444444444444,\"#bd3786\"],[0.5555555555555556,\"#d8576b\"],[0.6666666666666666,\"#ed7953\"],[0.7777777777777778,\"#fb9f3a\"],[0.8888888888888888,\"#fdca26\"],[1.0,\"#f0f921\"]]}],\"contourcarpet\":[{\"type\":\"contourcarpet\",\"colorbar\":{\"outlinewidth\":0,\"ticks\":\"\"}}],\"contour\":[{\"type\":\"contour\",\"colorbar\":{\"outlinewidth\":0,\"ticks\":\"\"},\"colorscale\":[[0.0,\"#0d0887\"],[0.1111111111111111,\"#46039f\"],[0.2222222222222222,\"#7201a8\"],[0.3333333333333333,\"#9c179e\"],[0.4444444444444444,\"#bd3786\"],[0.5555555555555556,\"#d8576b\"],[0.6666666666666666,\"#ed7953\"],[0.7777777777777778,\"#fb9f3a\"],[0.8888888888888888,\"#fdca26\"],[1.0,\"#f0f921\"]]}],\"surface\":[{\"type\":\"surface\",\"colorbar\":{\"outlinewidth\":0,\"ticks\":\"\"},\"colorscale\":[[0.0,\"#0d0887\"],[0.1111111111111111,\"#46039f\"],[0.2222222222222222,\"#7201a8\"],[0.3333333333333333,\"#9c179e\"],[0.4444444444444444,\"#bd3786\"],[0.5555555555555556,\"#d8576b\"],[0.6666666666666666,\"#ed7953\"],[0.7777777777777778,\"#fb9f3a\"],[0.8888888888888888,\"#fdca26\"],[1.0,\"#f0f921\"]]}],\"mesh3d\":[{\"type\":\"mesh3d\",\"colorbar\":{\"outlinewidth\":0,\"ticks\":\"\"}}],\"scatter\":[{\"fillpattern\":{\"fillmode\":\"overlay\",\"size\":10,\"solidity\":0.2},\"type\":\"scatter\"}],\"parcoords\":[{\"type\":\"parcoords\",\"line\":{\"colorbar\":{\"outlinewidth\":0,\"ticks\":\"\"}}}],\"scatterpolargl\":[{\"type\":\"scatterpolargl\",\"marker\":{\"colorbar\":{\"outlinewidth\":0,\"ticks\":\"\"}}}],\"bar\":[{\"error_x\":{\"color\":\"#2a3f5f\"},\"error_y\":{\"color\":\"#2a3f5f\"},\"marker\":{\"line\":{\"color\":\"#E5ECF6\",\"width\":0.5},\"pattern\":{\"fillmode\":\"overlay\",\"size\":10,\"solidity\":0.2}},\"type\":\"bar\"}],\"scattergeo\":[{\"type\":\"scattergeo\",\"marker\":{\"colorbar\":{\"outlinewidth\":0,\"ticks\":\"\"}}}],\"scatterpolar\":[{\"type\":\"scatterpolar\",\"marker\":{\"colorbar\":{\"outlinewidth\":0,\"ticks\":\"\"}}}],\"histogram\":[{\"marker\":{\"pattern\":{\"fillmode\":\"overlay\",\"size\":10,\"solidity\":0.2}},\"type\":\"histogram\"}],\"scattergl\":[{\"type\":\"scattergl\",\"marker\":{\"colorbar\":{\"outlinewidth\":0,\"ticks\":\"\"}}}],\"scatter3d\":[{\"type\":\"scatter3d\",\"line\":{\"colorbar\":{\"outlinewidth\":0,\"ticks\":\"\"}},\"marker\":{\"colorbar\":{\"outlinewidth\":0,\"ticks\":\"\"}}}],\"scattermapbox\":[{\"type\":\"scattermapbox\",\"marker\":{\"colorbar\":{\"outlinewidth\":0,\"ticks\":\"\"}}}],\"scatterternary\":[{\"type\":\"scatterternary\",\"marker\":{\"colorbar\":{\"outlinewidth\":0,\"ticks\":\"\"}}}],\"scattercarpet\":[{\"type\":\"scattercarpet\",\"marker\":{\"colorbar\":{\"outlinewidth\":0,\"ticks\":\"\"}}}],\"carpet\":[{\"aaxis\":{\"endlinecolor\":\"#2a3f5f\",\"gridcolor\":\"white\",\"linecolor\":\"white\",\"minorgridcolor\":\"white\",\"startlinecolor\":\"#2a3f5f\"},\"baxis\":{\"endlinecolor\":\"#2a3f5f\",\"gridcolor\":\"white\",\"linecolor\":\"white\",\"minorgridcolor\":\"white\",\"startlinecolor\":\"#2a3f5f\"},\"type\":\"carpet\"}],\"table\":[{\"cells\":{\"fill\":{\"color\":\"#EBF0F8\"},\"line\":{\"color\":\"white\"}},\"header\":{\"fill\":{\"color\":\"#C8D4E3\"},\"line\":{\"color\":\"white\"}},\"type\":\"table\"}],\"barpolar\":[{\"marker\":{\"line\":{\"color\":\"#E5ECF6\",\"width\":0.5},\"pattern\":{\"fillmode\":\"overlay\",\"size\":10,\"solidity\":0.2}},\"type\":\"barpolar\"}],\"pie\":[{\"automargin\":true,\"type\":\"pie\"}]},\"layout\":{\"autotypenumbers\":\"strict\",\"colorway\":[\"#636efa\",\"#EF553B\",\"#00cc96\",\"#ab63fa\",\"#FFA15A\",\"#19d3f3\",\"#FF6692\",\"#B6E880\",\"#FF97FF\",\"#FECB52\"],\"font\":{\"color\":\"#2a3f5f\"},\"hovermode\":\"closest\",\"hoverlabel\":{\"align\":\"left\"},\"paper_bgcolor\":\"white\",\"plot_bgcolor\":\"#E5ECF6\",\"polar\":{\"bgcolor\":\"#E5ECF6\",\"angularaxis\":{\"gridcolor\":\"white\",\"linecolor\":\"white\",\"ticks\":\"\"},\"radialaxis\":{\"gridcolor\":\"white\",\"linecolor\":\"white\",\"ticks\":\"\"}},\"ternary\":{\"bgcolor\":\"#E5ECF6\",\"aaxis\":{\"gridcolor\":\"white\",\"linecolor\":\"white\",\"ticks\":\"\"},\"baxis\":{\"gridcolor\":\"white\",\"linecolor\":\"white\",\"ticks\":\"\"},\"caxis\":{\"gridcolor\":\"white\",\"linecolor\":\"white\",\"ticks\":\"\"}},\"coloraxis\":{\"colorbar\":{\"outlinewidth\":0,\"ticks\":\"\"}},\"colorscale\":{\"sequential\":[[0.0,\"#0d0887\"],[0.1111111111111111,\"#46039f\"],[0.2222222222222222,\"#7201a8\"],[0.3333333333333333,\"#9c179e\"],[0.4444444444444444,\"#bd3786\"],[0.5555555555555556,\"#d8576b\"],[0.6666666666666666,\"#ed7953\"],[0.7777777777777778,\"#fb9f3a\"],[0.8888888888888888,\"#fdca26\"],[1.0,\"#f0f921\"]],\"sequentialminus\":[[0.0,\"#0d0887\"],[0.1111111111111111,\"#46039f\"],[0.2222222222222222,\"#7201a8\"],[0.3333333333333333,\"#9c179e\"],[0.4444444444444444,\"#bd3786\"],[0.5555555555555556,\"#d8576b\"],[0.6666666666666666,\"#ed7953\"],[0.7777777777777778,\"#fb9f3a\"],[0.8888888888888888,\"#fdca26\"],[1.0,\"#f0f921\"]],\"diverging\":[[0,\"#8e0152\"],[0.1,\"#c51b7d\"],[0.2,\"#de77ae\"],[0.3,\"#f1b6da\"],[0.4,\"#fde0ef\"],[0.5,\"#f7f7f7\"],[0.6,\"#e6f5d0\"],[0.7,\"#b8e186\"],[0.8,\"#7fbc41\"],[0.9,\"#4d9221\"],[1,\"#276419\"]]},\"xaxis\":{\"gridcolor\":\"white\",\"linecolor\":\"white\",\"ticks\":\"\",\"title\":{\"standoff\":15},\"zerolinecolor\":\"white\",\"automargin\":true,\"zerolinewidth\":2},\"yaxis\":{\"gridcolor\":\"white\",\"linecolor\":\"white\",\"ticks\":\"\",\"title\":{\"standoff\":15},\"zerolinecolor\":\"white\",\"automargin\":true,\"zerolinewidth\":2},\"scene\":{\"xaxis\":{\"backgroundcolor\":\"#E5ECF6\",\"gridcolor\":\"white\",\"linecolor\":\"white\",\"showbackground\":true,\"ticks\":\"\",\"zerolinecolor\":\"white\",\"gridwidth\":2},\"yaxis\":{\"backgroundcolor\":\"#E5ECF6\",\"gridcolor\":\"white\",\"linecolor\":\"white\",\"showbackground\":true,\"ticks\":\"\",\"zerolinecolor\":\"white\",\"gridwidth\":2},\"zaxis\":{\"backgroundcolor\":\"#E5ECF6\",\"gridcolor\":\"white\",\"linecolor\":\"white\",\"showbackground\":true,\"ticks\":\"\",\"zerolinecolor\":\"white\",\"gridwidth\":2}},\"shapedefaults\":{\"line\":{\"color\":\"#2a3f5f\"}},\"annotationdefaults\":{\"arrowcolor\":\"#2a3f5f\",\"arrowhead\":0,\"arrowwidth\":1},\"geo\":{\"bgcolor\":\"white\",\"landcolor\":\"#E5ECF6\",\"subunitcolor\":\"white\",\"showland\":true,\"showlakes\":true,\"lakecolor\":\"white\"},\"title\":{\"x\":0.05},\"mapbox\":{\"style\":\"light\"}}},\"title\":{\"text\":\"2011 US Agriculture Exports by State<br>(Hover for breakdown)\"},\"geo\":{\"scope\":\"usa\",\"projection\":{\"type\":\"albers usa\"},\"showlakes\":true,\"lakecolor\":\"rgb(255, 255, 255)\"}},                        {\"responsive\": true}                    ).then(function(){\n",
       "                            \n",
       "var gd = document.getElementById('4d32cb39-5e5b-4ffc-a21b-c5d2def02bd3');\n",
       "var x = new MutationObserver(function (mutations, observer) {{\n",
       "        var display = window.getComputedStyle(gd).display;\n",
       "        if (!display || display === 'none') {{\n",
       "            console.log([gd, 'removed!']);\n",
       "            Plotly.purge(gd);\n",
       "            observer.disconnect();\n",
       "        }}\n",
       "}});\n",
       "\n",
       "// Listen for the removal of the full notebook cells\n",
       "var notebookContainer = gd.closest('#notebook-container');\n",
       "if (notebookContainer) {{\n",
       "    x.observe(notebookContainer, {childList: true});\n",
       "}}\n",
       "\n",
       "// Listen for the clearing of the current output cell\n",
       "var outputEl = gd.closest('.output');\n",
       "if (outputEl) {{\n",
       "    x.observe(outputEl, {childList: true});\n",
       "}}\n",
       "\n",
       "                        })                };                });            </script>        </div>"
      ]
     },
     "metadata": {},
     "output_type": "display_data"
    }
   ],
   "source": [
    "import plotly.graph_objects as go\n",
    "\n",
    "import pandas as pd\n",
    "df = pd.read_csv('https://raw.githubusercontent.com/plotly/datasets/master/2011_us_ag_exports.csv')\n",
    "\n",
    "for col in df.columns:\n",
    "    df[col] = df[col].astype(str)\n",
    "\n",
    "df['text'] = df['state'] + '<br>' + \\\n",
    "    'Beef ' + df['beef'] + ' Dairy ' + df['dairy'] + '<br>' + \\\n",
    "    'Fruits ' + df['total fruits'] + ' Veggies ' + df['total veggies'] + '<br>' + \\\n",
    "    'Wheat ' + df['wheat'] + ' Corn ' + df['corn']\n",
    "\n",
    "fig = go.Figure(data=go.Choropleth(\n",
    "    locations=df['code'],\n",
    "    z=df['total exports'].astype(float),\n",
    "    locationmode='USA-states',\n",
    "    colorscale='Reds',\n",
    "    autocolorscale=False,\n",
    "    text=df['text'], # hover text\n",
    "    marker_line_color='white', # line markers between states\n",
    "    colorbar_title=\"Millions USD\"\n",
    "))\n",
    "\n",
    "fig.update_layout(\n",
    "    title_text='2011 US Agriculture Exports by State<br>(Hover for breakdown)',\n",
    "    geo = dict(\n",
    "        scope='usa',\n",
    "        projection=go.layout.geo.Projection(type = 'albers usa'),\n",
    "        showlakes=True, # lakes\n",
    "        lakecolor='rgb(255, 255, 255)'),\n",
    ")\n",
    "\n",
    "fig.show()\n"
   ]
  },
  {
   "cell_type": "code",
   "execution_count": null,
   "id": "03012c7f",
   "metadata": {},
   "outputs": [],
   "source": []
  },
  {
   "cell_type": "code",
   "execution_count": null,
   "id": "4a632cb2",
   "metadata": {},
   "outputs": [],
   "source": []
  },
  {
   "cell_type": "code",
   "execution_count": null,
   "id": "44601a12",
   "metadata": {},
   "outputs": [],
   "source": []
  },
  {
   "cell_type": "code",
   "execution_count": 14,
   "id": "a9a0df1f",
   "metadata": {},
   "outputs": [
    {
     "ename": "TypeError",
     "evalue": "plot() missing 1 required positional argument: 'kind'",
     "output_type": "error",
     "traceback": [
      "\u001b[0;31m---------------------------------------------------------------------------\u001b[0m",
      "\u001b[0;31mTypeError\u001b[0m                                 Traceback (most recent call last)",
      "Input \u001b[0;32mIn [14]\u001b[0m, in \u001b[0;36m<cell line: 3>\u001b[0;34m()\u001b[0m\n\u001b[1;32m      1\u001b[0m layout \u001b[38;5;241m=\u001b[39m \u001b[38;5;28mdict\u001b[39m(title\u001b[38;5;241m=\u001b[39m\u001b[38;5;124m'\u001b[39m\u001b[38;5;124mtitle\u001b[39m\u001b[38;5;124m'\u001b[39m)\n\u001b[1;32m      2\u001b[0m fig\u001b[38;5;241m=\u001b[39m\u001b[38;5;28mdict\u001b[39m(data\u001b[38;5;241m=\u001b[39mpolygon,layout\u001b[38;5;241m=\u001b[39mlayout)\n\u001b[0;32m----> 3\u001b[0m \u001b[43mplt\u001b[49m\u001b[38;5;241;43m.\u001b[39;49m\u001b[43mplot\u001b[49m\u001b[43m(\u001b[49m\u001b[43mfig\u001b[49m\u001b[43m)\u001b[49m\n",
      "\u001b[0;31mTypeError\u001b[0m: plot() missing 1 required positional argument: 'kind'"
     ]
    }
   ],
   "source": [
    "layout = dict(title='title')\n",
    "fig=dict(data=polygon,layout=layout)\n",
    "plt.plot(fig)"
   ]
  },
  {
   "cell_type": "code",
   "execution_count": null,
   "id": "60316ba4",
   "metadata": {},
   "outputs": [],
   "source": [
    "fig, ax = plt.subplots(1, 1)\n",
    "\n",
    "polygon.plot(ax=ax)\n",
    "ax.imshow(img)\n"
   ]
  },
  {
   "cell_type": "code",
   "execution_count": null,
   "id": "40c1871f",
   "metadata": {},
   "outputs": [],
   "source": [
    "import matplotlib.pyplot as plt\n",
    "img = plt.imread(\"AgeGenderDoB.png\")\n",
    "#fig, ax = plt.subplots()\n",
    "plt.figure(10) # creates new figure if doesn't exist yet\n",
    "plt.plot(polygon) # plots in figure 10\n",
    "\n",
    "#p = gpd.GeoSeries(polygon_geom)\n",
    "#p.plot()\n",
    "plt.imshow(img)\n",
    "plt.show()\n",
    "\n"
   ]
  },
  {
   "cell_type": "code",
   "execution_count": null,
   "id": "c88d6f66",
   "metadata": {},
   "outputs": [],
   "source": [
    "import contextily as ctx\n",
    "\n",
    "def add_basemap(ax, zoom):\n",
    "    url='AgeGenderDoB.png'\n",
    "    xmin, xmax, ymin, ymax = ax.axis()\n",
    "    basemap, extent = ctx.bounds2img(xmin, ymin, xmax, ymax, zoom=zoom, url=url)\n",
    "    ax.imshow(basemap, extent=extent, interpolation='bilinear')\n",
    "    # restore original x/y limits\n",
    "    ax.axis((xmin, xmax, ymin, ymax))"
   ]
  },
  {
   "cell_type": "code",
   "execution_count": null,
   "id": "a3aa4ecb",
   "metadata": {},
   "outputs": [],
   "source": [
    "import matplotlib.pyplot as plt\n",
    "from shapely.geometry import Point\n",
    "import geopandas as gpd\n",
    "import pandas as pd\n",
    "\n",
    "# Let's define our raw data, whose epsg is 4326\n",
    "df = pd.DataFrame({\n",
    "    'LAT'  :[1,2],\n",
    "    'LONG' :[3,4],\n",
    "})\n",
    "df['coords'] = list(zip(df.LONG, df.LAT))\n",
    "\n",
    "# ... turn them into geodataframe, and convert our\n",
    "# epsg into 3857, since web map tiles are typically\n",
    "# provided as such.\n",
    "geo_df = gpd.GeoDataFrame(\n",
    "    df,\n",
    "    geometry = df['coords'].apply(Point)\n",
    ")\n",
    "\n",
    "# ... and make the plot\n",
    "ax = geo_df.plot(\n",
    "    figsize= (5, 5),\n",
    "    alpha  = 1\n",
    ")\n",
    "add_basemap(ax, zoom=10)\n",
    "ax.set_axis_off()\n",
    "plt.show()"
   ]
  },
  {
   "cell_type": "code",
   "execution_count": null,
   "id": "709a559b",
   "metadata": {},
   "outputs": [],
   "source": []
  }
 ],
 "metadata": {
  "kernelspec": {
   "display_name": "Python 3",
   "language": "python",
   "name": "python3"
  },
  "language_info": {
   "codemirror_mode": {
    "name": "ipython",
    "version": 3
   },
   "file_extension": ".py",
   "mimetype": "text/x-python",
   "name": "python",
   "nbconvert_exporter": "python",
   "pygments_lexer": "ipython3",
   "version": "3.8.10"
  }
 },
 "nbformat": 4,
 "nbformat_minor": 5
}
